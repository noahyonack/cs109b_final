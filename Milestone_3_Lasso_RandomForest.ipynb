{
 "cells": [
  {
   "cell_type": "code",
   "execution_count": 108,
   "metadata": {
    "collapsed": false,
    "deletable": true,
    "editable": true
   },
   "outputs": [],
   "source": [
    "import pandas as pd\n",
    "import numpy as np\n",
    "import re\n",
    "import scipy.sparse as sp\n",
    "from sklearn.feature_extraction.text import CountVectorizer\n",
    "from sklearn.metrics import hamming_loss\n",
    "from sklearn.metrics import accuracy_score\n",
    "from sklearn.multiclass import OneVsRestClassifier\n",
    "from sklearn.multioutput import MultiOutputClassifier\n",
    "from sklearn.ensemble import RandomForestClassifier\n",
    "from sklearn.feature_extraction.text import TfidfVectorizer\n",
    "from sklearn.model_selection import KFold\n",
    "from sklearn import svm\n",
    "from sklearn.decomposition import TruncatedSVD\n",
    "from sklearn.model_selection import train_test_split as sk_split\n",
    "import matplotlib.pyplot as plt\n",
    "from sklearn.svm import SVC\n",
    "from sklearn.linear_model import LinearRegression, Lasso, Ridge, SGDRegressor\n",
    "%matplotlib inline"
   ]
  },
  {
   "cell_type": "markdown",
   "metadata": {
    "deletable": true,
    "editable": true
   },
   "source": [
    "# Milestone 3: Traditional statistical and machine learning methods, due Wednesday, April 19, 2017\n",
    "\n",
    "Think about how you would address the genre prediction problem with traditional statistical or machine learning methods. This includes everything you learned about modeling in this course before the deep learning part. Implement your ideas and compare different classifiers. Report your results and discuss what challenges you faced and how you overcame them. What works and what does not? If there are parts that do not work as expected, make sure to discuss briefly what you think is the cause and how you would address this if you would have more time and resources. \n",
    "\n",
    "You do not necessarily need to use the movie posters for this step, but even without a background in computer vision, there are very simple features you can extract from the posters to help guide a traditional machine learning model. Think about the PCA lecture for example, or how to use clustering to extract color information. In addition to considering the movie posters it would be worthwhile to have a look at the metadata that IMDb provides. \n",
    "\n",
    "You could use Spark and the [ML library](https://spark.apache.org/docs/latest/ml-features.html#word2vec) to build your model features from the data. This may be especially beneficial if you use additional data, e.g., in text form.\n",
    "\n",
    "You also need to think about how you are going to evaluate your classifier. Which metrics or scores will you report to show how good the performance is?\n",
    "\n",
    "The notebook to submit this week should at least include:\n",
    "\n",
    "- Detailed description and implementation of two different models\n",
    "- Description of your performance metrics\n",
    "- Careful performance evaluations for both models\n",
    "- Visualizations of the metrics for performance evaluation\n",
    "- Discussion of the differences between the models, their strengths, weaknesses, etc. \n",
    "- Discussion of the performances you achieved, and how you might be able to improve them in the future"
   ]
  },
  {
   "cell_type": "markdown",
   "metadata": {
    "deletable": true,
    "editable": true
   },
   "source": [
    "## Questions to answer: \n",
    "\n",
    "### Our Approach: Two Main Models: \n",
    "For our approach, we use two main models a random forest and a LASSO.  IN particular, we decided to focus on 10 main predictos about the movies (from who directed, the rating, and popularity) to an analysis of the textual response in the overview. However, before we could use our textual data for prediction we changed our textual response to become a count vectorizer.\n",
    "\n",
    "### Going from text to TFIDF\n",
    "For all of our models, we changed our overview to become a count vectorizer. A count vectorizer takes all of the words that from all of the different overviews and then makes a column for each unique word. Then we create a matrix called a document word matrix. This matrix holds the number of times each unique word is discovered in the document. We also got rid of any stop words that are common in the english language (e.g. \"the\" \"but\" \"and\" because we believed that these would not provide much information but would dominate our results.) \n",
    "\n",
    "- **What are we predicting exactly?**\n",
    "\n",
    "So, we are trying to predict movie genres. However, we have that each movie has multiple genres. This leads to the question of how we can predict multiple classifiers for the same object. This more general question is called a multilabel clasification problem. We will explore some of our specifications for this problem below. \n",
    "\n",
    "One of the best and most standard solution to do multilable classification is called \"one vs. rest\" classifiers. These classifiers create n models for each of the n labels. One of the advantages of this model is its interpretability and, for our cases, its ease. We can easily create a pipeline that then does these predictions for us. For an implementation of one vs. all, look at scikit learn: http://scikit-learn.org/dev/modules/generated/sklearn.multiclass.OneVsRestClassifier.html#sklearn.multiclass.OneVsRestClassifier\n",
    "\n",
    "We will likely be using this in our early attempts at classification. \n",
    "\n",
    "- **What does it means to be succesful? What is our metric for success?**\n",
    "\n",
    "*adapted from http://people.oregonstate.edu/~sorowerm/pdf/Qual-Multilabel-Shahed-CompleteVersion.pdf*\n",
    "\n",
    "Here are a few options for our measure of accuracy:\n",
    "\n",
    "#### Exact Match Ratio\n",
    "The exact match ratio only considers a correct answer for our multilabel data if it is exactly correct (e.g. if there are three classes, we only classify this as correct if we correctly identify all three classes.) \n",
    "\n",
    "#### Accuracy \n",
    "Accuracy is a simple way of \"goodness of prediction.\" It is defined as follows \n",
    "\n",
    "$$ \\frac{1}{n} \\sum_i^{n}  \\frac{|Y_i\\cap Z_i|}{|Y_i \\cup Z_i|}$$\n",
    "\n",
    "Where $$Y_i\\cap Z_i $$ refers to the total number of correctly predicted labels over the total number of labels for that instance. So, if for example we predicted [romance, action]  and the true labels were [romance, comedy, horror], this would receive an accuracy of 1/4 because there was one correct prediction and 4 unique labels. \n",
    "\n",
    "\n",
    "#### Hamming Loss \n",
    "The final and most common form of error for multilable predictions is hamming loss. Hamming loss takes into account both the prediction error (an incorrect error is predicted) and the missing error (a relevant lable is NOT predicted.) this is defined as follows below \n",
    "\n",
    "$$ \\text{HammingLoss, HL} = \\frac{1}{kn} \\sum_{i}^{n} \\sum_l^k [l \\in  Z_i \\wedge l \\notin Y_i)  + I(l \\notin Z_i \\wedge  l \\in Y_i)]$$\n",
    "\n",
    "*For this project, we will use the hamming loss, which is defined above.* There is a convenient function in `sklearn` to calculate hamming loss: `sklearn.metrics.hamming_loss`\n",
    "\n",
    "- What is our first modeling approach? Why? \n",
    "Our first modeling approach was to use a random forest classifier use one vs all classifier. One VS all classifier essentially make a binary prediction for every one of the different genres. It predicts whether or not we should classify this movie within this genre or not. This allows us to make predictions for each of the individual genres. HOwever, it does suffer from the assumption that each of these genres are independent (we're essentially throwing away information with this assumption.) \n",
    "- What is our second modeling approach? Why? \n",
    "The second approach we used was a LASSO model. We chose a LASSO model becaue we knew that with our bag of words model we would have a significant number of predictors ~10,000. Unfortunatley, this could lead us to compltely overfitting in our model. One way of avoiding this is to use a model that regularizes. The LASSO, in particular, does a good job of this because it shrinks down our predictors to zero. We ultimately found, however, that this LASSO model did not do as well as our random forest \n",
    "\n",
    "\n",
    "- Our extension\n",
    "Beyond the basic unigram model, we also compared our model with other bag of n words. In this case, we find that our unigram model does slightly better than a bigram, trigram, or 4-gram model. "
   ]
  },
  {
   "cell_type": "code",
   "execution_count": 4,
   "metadata": {
    "collapsed": false,
    "deletable": true,
    "editable": true
   },
   "outputs": [
    {
     "data": {
      "text/plain": [
       "0.75"
      ]
     },
     "execution_count": 4,
     "metadata": {},
     "output_type": "execute_result"
    }
   ],
   "source": [
    "'''\n",
    "An example of hamming loss. We have true labels:\n",
    "\n",
    "[0, 1]\n",
    "[1, 1]\n",
    "\n",
    "And predicted labels:\n",
    "\n",
    "[0, 0]\n",
    "[0, 0]\n",
    "\n",
    "Hamming loss is .75\n",
    "'''\n",
    "hamming_loss(np.array([[0, 1], [1, 1]]), np.zeros((2, 2)))"
   ]
  },
  {
   "cell_type": "markdown",
   "metadata": {
    "deletable": true,
    "editable": true
   },
   "source": [
    "### Data Collection & Cleaning"
   ]
  },
  {
   "cell_type": "markdown",
   "metadata": {
    "deletable": true,
    "editable": true
   },
   "source": [
    "## Decision for dropping\n",
    "Here we choose to drop the missing data instead of imputing because it is non numerical and avereraging or finding means does not make sense in this scencario"
   ]
  },
  {
   "cell_type": "code",
   "execution_count": 204,
   "metadata": {
    "collapsed": false,
    "deletable": true,
    "editable": true
   },
   "outputs": [
    {
     "name": "stdout",
     "output_type": "stream",
     "text": [
      "Dataframe shape: (7143, 32)\n"
     ]
    },
    {
     "data": {
      "text/html": [
       "<div>\n",
       "<table border=\"1\" class=\"dataframe\">\n",
       "  <thead>\n",
       "    <tr style=\"text-align: right;\">\n",
       "      <th></th>\n",
       "      <th>10402</th>\n",
       "      <th>10749</th>\n",
       "      <th>10751</th>\n",
       "      <th>10752</th>\n",
       "      <th>10769</th>\n",
       "      <th>10770</th>\n",
       "      <th>12</th>\n",
       "      <th>14</th>\n",
       "      <th>16</th>\n",
       "      <th>18</th>\n",
       "      <th>...</th>\n",
       "      <th>actors</th>\n",
       "      <th>movie_id</th>\n",
       "      <th>overview</th>\n",
       "      <th>popularity</th>\n",
       "      <th>poster_path</th>\n",
       "      <th>release_date</th>\n",
       "      <th>title</th>\n",
       "      <th>video</th>\n",
       "      <th>vote_average</th>\n",
       "      <th>vote_count</th>\n",
       "    </tr>\n",
       "  </thead>\n",
       "  <tbody>\n",
       "    <tr>\n",
       "      <th>0</th>\n",
       "      <td>0</td>\n",
       "      <td>0</td>\n",
       "      <td>0</td>\n",
       "      <td>0</td>\n",
       "      <td>0</td>\n",
       "      <td>0</td>\n",
       "      <td>0</td>\n",
       "      <td>0</td>\n",
       "      <td>0</td>\n",
       "      <td>1</td>\n",
       "      <td>...</td>\n",
       "      <td>[u'Amy Adams', u'Jeremy Renner', u'Forest Whit...</td>\n",
       "      <td>329865</td>\n",
       "      <td>Taking place after alien crafts land around th...</td>\n",
       "      <td>25.66195</td>\n",
       "      <td>/hLudzvGfpi6JlwUnsNhXwKKg4j.jpg</td>\n",
       "      <td>2016-11-10</td>\n",
       "      <td>Arrival</td>\n",
       "      <td>False</td>\n",
       "      <td>6.9</td>\n",
       "      <td>3510</td>\n",
       "    </tr>\n",
       "  </tbody>\n",
       "</table>\n",
       "<p>1 rows × 32 columns</p>\n",
       "</div>"
      ],
      "text/plain": [
       "   10402  10749  10751  10752  10769  10770  12  14  16  18     ...      \\\n",
       "0      0      0      0      0      0      0   0   0   0   1     ...       \n",
       "\n",
       "                                              actors  movie_id  \\\n",
       "0  [u'Amy Adams', u'Jeremy Renner', u'Forest Whit...    329865   \n",
       "\n",
       "                                            overview  popularity  \\\n",
       "0  Taking place after alien crafts land around th...    25.66195   \n",
       "\n",
       "                       poster_path  release_date    title  video  \\\n",
       "0  /hLudzvGfpi6JlwUnsNhXwKKg4j.jpg    2016-11-10  Arrival  False   \n",
       "\n",
       "   vote_average  vote_count  \n",
       "0           6.9        3510  \n",
       "\n",
       "[1 rows x 32 columns]"
      ]
     },
     "execution_count": 204,
     "metadata": {},
     "output_type": "execute_result"
    }
   ],
   "source": [
    "# read in the data\n",
    "train = pd.read_csv(\"train_full.csv\")\n",
    "train = train.rename(columns={'lead actors': 'actors'})\n",
    "\n",
    "# drop a rogue column\n",
    "train.drop(\"Unnamed: 0\", axis = 1, inplace = True)\n",
    "\n",
    "# drop the handful of columns containing na\n",
    "train = train.dropna(axis=0).copy()\n",
    "\n",
    "print \"Dataframe shape:\", train.shape\n",
    "train.head(1)"
   ]
  },
  {
   "cell_type": "code",
   "execution_count": null,
   "metadata": {
    "collapsed": true
   },
   "outputs": [],
   "source": []
  },
  {
   "cell_type": "markdown",
   "metadata": {},
   "source": [
    "## Converting Summaries Into Text Feature Documents Counts "
   ]
  },
  {
   "cell_type": "code",
   "execution_count": 210,
   "metadata": {
    "collapsed": false
   },
   "outputs": [],
   "source": [
    "y = features[features.columns[:20]]"
   ]
  },
  {
   "cell_type": "code",
   "execution_count": 23,
   "metadata": {
    "collapsed": false,
    "deletable": true,
    "editable": true
   },
   "outputs": [],
   "source": [
    "# Let's add some text features!\n",
    "string_matrix = train[[\"overview\"]].values\n",
    "\n",
    "### We need to get rid of the list within a list format, \n",
    "## Convert to simply be a list of strings \n",
    "string_matrix= [string_matrix[i][0] for i in range(0,len(string_matrix))]"
   ]
  },
  {
   "cell_type": "code",
   "execution_count": 25,
   "metadata": {
    "collapsed": false,
    "deletable": true,
    "editable": true
   },
   "outputs": [],
   "source": [
    "#### This TFIDF allows us to get rid of stop words from the english language that would otherwise dominate \n",
    "## our analysis \n",
    "def get_TFIDF(n_grams=1):\n",
    "    '''\n",
    "    Returns a TFIDF matrix for the essay_df matrix given a certain number of n_grams.\n",
    "    '''\n",
    "    vectorizer = TfidfVectorizer(stop_words=\"english\", min_df=4, decode_error=\"ignore\", ngram_range=(1, n_grams))\n",
    "    corpus = string_matrix\n",
    "    return vectorizer.fit_transform(corpus)"
   ]
  },
  {
   "cell_type": "code",
   "execution_count": 26,
   "metadata": {
    "collapsed": false,
    "deletable": true,
    "editable": true
   },
   "outputs": [],
   "source": [
    "X = get_TFIDF()"
   ]
  },
  {
   "cell_type": "markdown",
   "metadata": {},
   "source": [
    "## Using Random Forest on TFIDF Summary Data To Predict Genre\n",
    "For our models, we decided to only use the summary data to make predictions. We did this, in part, because it gave us a ready comparison to our other models using movie posters. Can we make more accurate predictions using the summary data or the movie poster data? \n",
    "\n",
    "In our random forest, we tune the number of features per a split. This essentially allows us to find out at every point in the tree, how many of the different predictors we randomly consider at each point. "
   ]
  },
  {
   "cell_type": "code",
   "execution_count": 73,
   "metadata": {
    "collapsed": false,
    "deletable": true,
    "editable": true
   },
   "outputs": [
    {
     "name": "stdout",
     "output_type": "stream",
     "text": [
      "2\n",
      "4\n",
      "8\n",
      "10\n",
      "40\n",
      "100\n",
      "500\n",
      "1000\n",
      "2000\n"
     ]
    }
   ],
   "source": [
    "features_list = [2,4, 6, 8,10,40,100,500]\n",
    "\n",
    "hamming_loss_list = [] \n",
    "accuracy_list = [] \n",
    "for num_features in features_list: \n",
    "    print num_features \n",
    "    temp_hamming_loss = [] \n",
    "    temp_accuracy = [] \n",
    "    for train_ind, test_ind in KFold(n_splits = NUM_FOLDS).split(X):\n",
    "        indices = train_ind\n",
    "        X_train, X_test = X[train_ind], X[test_ind]\n",
    "        y_train = y.iloc[train_ind]\n",
    "        y_test = y.iloc[test_ind]\n",
    "    \n",
    "    \n",
    "        text_classifier = OneVsRestClassifier(RandomForestClassifier(max_features = num_features))\n",
    "    \n",
    "        y_hat = text_classifier.fit(X_train, y_train).predict(X_test)\n",
    "\n",
    "        temp_hamming_loss.append(hamming_loss(y_hat, y_test))\n",
    "        ### make into numpy array for below function \n",
    "        y_test = np.array(y_test)\n",
    "        ### Our accuracy_score function does not work on matrices, this allows us to \n",
    "        ## Take these predictions by row \n",
    "        accuracy = [accuracy_score(y_hat[i], y_test[i]) for i in range(0, len(y_test))]\n",
    "        temp_accuracy.append(np.mean(accuracy))\n",
    "    hamming_loss_list.append(np.mean(temp_hamming_loss))\n",
    "    accuracy_list.append(np.mean(temp_accuracy))"
   ]
  },
  {
   "cell_type": "code",
   "execution_count": 74,
   "metadata": {
    "collapsed": false
   },
   "outputs": [
    {
     "data": {
      "text/plain": [
       "[0.92855242895142087,\n",
       " 0.92899342013159736,\n",
       " 0.92888142237155258,\n",
       " 0.92897242055158902,\n",
       " 0.92969340613187734,\n",
       " 0.92926641467170656,\n",
       " 0.92463250734985303,\n",
       " 0.92472350552988936,\n",
       " 0.92379252414951696]"
      ]
     },
     "execution_count": 74,
     "metadata": {},
     "output_type": "execute_result"
    }
   ],
   "source": [
    "accuracy_list"
   ]
  },
  {
   "cell_type": "code",
   "execution_count": 88,
   "metadata": {
    "collapsed": false,
    "deletable": true,
    "editable": true
   },
   "outputs": [
    {
     "name": "stdout",
     "output_type": "stream",
     "text": [
      "4\n"
     ]
    },
    {
     "data": {
      "text/plain": [
       "<matplotlib.text.Text at 0x7f736d6c2850>"
      ]
     },
     "execution_count": 88,
     "metadata": {},
     "output_type": "execute_result"
    },
    {
     "data": {
      "image/png": "[encoded data removed]",
      "text/plain": [
       "<matplotlib.figure.Figure at 0x7f736d9aeb50>"
      ]
     },
     "metadata": {},
     "output_type": "display_data"
    }
   ],
   "source": [
    "print np.argmax(accuracy_list)\n",
    "\n",
    "plt.plot(features_list, hamming_loss_list)\n",
    "best_index = np.argmin(hamming_loss_list)\n",
    "plt.axvline(features_list[best_index], c='r', label= str(best_index))\n",
    "plt.ylabel(\"Hamming Loss\")\n",
    "plt.xlabel(\"Number of Features\")\n",
    "plt.title(\"Random Forest: Number of Features on Hamming Loss\")"
   ]
  },
  {
   "cell_type": "code",
   "execution_count": 89,
   "metadata": {
    "collapsed": false
   },
   "outputs": [
    {
     "data": {
      "text/plain": [
       "<matplotlib.text.Text at 0x7f736d5f6990>"
      ]
     },
     "execution_count": 89,
     "metadata": {},
     "output_type": "execute_result"
    },
    {
     "data": {
      "image/png": "[encoded data removed]",
      "text/plain": [
       "<matplotlib.figure.Figure at 0x7f736d6bb610>"
      ]
     },
     "metadata": {},
     "output_type": "display_data"
    }
   ],
   "source": [
    "plt.plot(features_list, accuracy_list)\n",
    "best_index = np.argmax(accuracy_list)\n",
    "plt.axvline(features_list[best_index], c='r', label= str(best_index))\n",
    "plt.ylabel(\"Accuracy\")\n",
    "plt.xlabel(\"Number of Features \")\n",
    "plt.title(\"Random Forest: Number of Features Effect on Accuracy\")"
   ]
  },
  {
   "cell_type": "markdown",
   "metadata": {},
   "source": []
  },
  {
   "cell_type": "markdown",
   "metadata": {},
   "source": [
    "## Agreement between accuracy and Hamming Loss\n",
    "It appears that both our accuracy and hamming loss seem to be in agreement. They are giving us very good predictions ~93%. As we will see later on, these predictions are even better than the predictions we receive using neural networks and poster data. Perhaps there is more information coded into the summary's than there are in the movie posters! "
   ]
  },
  {
   "cell_type": "markdown",
   "metadata": {
    "collapsed": true,
    "deletable": true,
    "editable": true
   },
   "source": [
    "# Model 2: LASSO \n",
    "For our second model, we will be using a LASSO. We chose to use a LASSO because it naturally does dimensionality reduction. With our bag of words model, we have the number of predictions in the 10s of thousands. As a result, we need a method that can do some regularization or dimensionality reduction. \n",
    "\n",
    "To tune the lasso, we tune the alpha value. The alpha value controls how much regularization we apply to our model. The more regularization the more predictors that the LASSO will bring to zero. "
   ]
  },
  {
   "cell_type": "code",
   "execution_count": 168,
   "metadata": {
    "collapsed": false
   },
   "outputs": [
    {
     "name": "stdout",
     "output_type": "stream",
     "text": [
      "This is the current alpha: 0.9\n",
      "This is the current alpha: 0.6\n",
      "This is the current alpha: 0.1\n",
      "This is the current alpha: 0.01\n",
      "This is the current alpha: 0.001\n"
     ]
    }
   ],
   "source": [
    "NUM_FOLDS = 3\n",
    "alpha_list = [.9, .6, .1,.01,.001]\n",
    "\n",
    "hamming_loss_list = [] \n",
    "accuracy_list = [] \n",
    "# iterate through the different cost list and add in different potential costs \n",
    "for alpha in alpha_list: \n",
    "    \n",
    "    print \"This is the current alpha:\", alpha\n",
    "    temp_hamming_loss = [] \n",
    "    temp_accuracy = [] \n",
    "    \n",
    "    \n",
    "    for train_ind, test_ind in KFold(n_splits = NUM_FOLDS).split(X):\n",
    "        X_train, X_test = X[train_ind], X[test_ind]\n",
    "        y_train, t_test = y.iloc[train_ind], y.iloc[test_ind]\n",
    "    \n",
    "        \n",
    "\n",
    "        lasso = Lasso(alpha=alpha)\n",
    "\n",
    "\n",
    "        # instantiate the classifier (n_jobs = -1 tells it)\n",
    "        # to fit using all CPUs\n",
    "        lasso = OneVsRestClassifier(lasso, n_jobs=-1)\n",
    "        \n",
    "        y_hat = lasso.fit(X_train, y_train).predict(X_test)\n",
    "        \n",
    "        \n",
    "        temp_hamming_loss.append(hamming_loss(y_hat, y_test)) \n",
    "        \n",
    "        ## conver this to array for iterations\n",
    "        y_test = np.array(y_test)\n",
    "        \n",
    "        ### Our accuracy_score function does not work on matrices, this allows us to \n",
    "        ## Take these predictions by row \n",
    "        accuracy = [accuracy_score(y_hat[i], y_test[i]) for i in range(0, len(y_test))]\n",
    "        temp_accuracy.append(np.mean(accuracy))\n",
    "        \n",
    "\n",
    "    hamming_loss_list.append(np.mean(temp_hamming_loss))\n",
    "    accuracy_list.append(np.mean(temp_accuracy))\n",
    "\n",
    "\n",
    "\n",
    "\n",
    "\n",
    "\n",
    "\n",
    "\n",
    "\n"
   ]
  },
  {
   "cell_type": "code",
   "execution_count": 169,
   "metadata": {
    "collapsed": false
   },
   "outputs": [
    {
     "data": {
      "text/plain": [
       "array([[0, 0, 0, 0, 0, 0, 0, 0, 0, 0, 0, 0, 0, 0, 0, 0, 0, 0, 0, 0],\n",
       "       [0, 0, 0, 0, 0, 0, 0, 0, 0, 0, 0, 0, 0, 0, 0, 0, 0, 0, 0, 0],\n",
       "       [0, 0, 0, 0, 0, 0, 0, 0, 0, 0, 0, 0, 0, 0, 0, 0, 0, 0, 0, 0],\n",
       "       [0, 0, 0, 0, 0, 0, 0, 0, 0, 0, 0, 0, 0, 0, 0, 0, 0, 0, 0, 0],\n",
       "       [0, 0, 0, 0, 0, 0, 0, 0, 0, 0, 0, 0, 0, 0, 0, 0, 0, 0, 0, 0]])"
      ]
     },
     "execution_count": 169,
     "metadata": {},
     "output_type": "execute_result"
    }
   ],
   "source": [
    "y_hat[0:5]"
   ]
  },
  {
   "cell_type": "code",
   "execution_count": 170,
   "metadata": {
    "collapsed": false
   },
   "outputs": [
    {
     "data": {
      "text/plain": [
       "[0.85283494330113407,\n",
       " 0.85283494330113407,\n",
       " 0.85283494330113407,\n",
       " 0.85283494330113407,\n",
       " 0.85135797284054304]"
      ]
     },
     "execution_count": 170,
     "metadata": {},
     "output_type": "execute_result"
    }
   ],
   "source": [
    "accuracy_list"
   ]
  },
  {
   "cell_type": "markdown",
   "metadata": {},
   "source": [
    "## We are predicting all zeros \n",
    "   Unfortunately, using the lasso predictions. We are only predicting zeros. This means that we likely have too many parameters or that our bias is not large enough to do meaningful predictions. We'll try to amerliorate this by using Latent Semantic Analysis (LSA) which similar to PCA gives us a lower dimensional representation of our data. "
   ]
  },
  {
   "cell_type": "markdown",
   "metadata": {},
   "source": [
    "## Using Latent Semantic Analysis \n",
    "In this section, we convert our data into a lower dimensional representation using LSA. As we'll find, this improves our predictions slightly. "
   ]
  },
  {
   "cell_type": "code",
   "execution_count": 154,
   "metadata": {
    "collapsed": true
   },
   "outputs": [],
   "source": [
    "## Common to set to having 100 components \n",
    "n_components = 100 \n",
    "lsa = TruncatedSVD(n_components=n_components)\n",
    "\n",
    "## For now just use one gram \n",
    "X_lsa = lsa.fit_transform(get_TFIDF(n_grams=1))"
   ]
  },
  {
   "cell_type": "code",
   "execution_count": 121,
   "metadata": {
    "collapsed": false
   },
   "outputs": [
    {
     "data": {
      "text/plain": [
       "(7143, 100)"
      ]
     },
     "execution_count": 121,
     "metadata": {},
     "output_type": "execute_result"
    }
   ],
   "source": []
  },
  {
   "cell_type": "code",
   "execution_count": 172,
   "metadata": {
    "collapsed": false
   },
   "outputs": [
    {
     "name": "stdout",
     "output_type": "stream",
     "text": [
      "This is the current alpha: 0.3\n",
      "This is the current alpha: 0.1\n",
      "This is the current alpha: 0.01\n",
      "This is the current alpha: 0.001\n",
      "This is the current alpha: 1e-05\n",
      "This is the current alpha: 1e-06\n",
      "This is the current alpha: 1e-07\n"
     ]
    }
   ],
   "source": [
    "NUM_FOLDS = 3\n",
    "alpha_list = [.3, .1, .01, .001, .00001, .000001,.0000001]\n",
    "\n",
    "hamming_loss_list = [] \n",
    "accuracy_list = [] \n",
    "# iterate through the different cost list and add in different potential costs \n",
    "for alpha in alpha_list: \n",
    "    \n",
    "    print \"This is the current alpha:\", alpha\n",
    "    temp_hamming_loss = [] \n",
    "    temp_accuracy = [] \n",
    "    \n",
    "    \n",
    "    for train_ind, test_ind in KFold(n_splits = NUM_FOLDS).split(X):\n",
    "        X_train, X_test = X_lsa[train_ind], X_lsa[test_ind]\n",
    "        y_train, t_test = y.iloc[train_ind], y.iloc[test_ind]\n",
    "    \n",
    "        \n",
    "\n",
    "        lasso = Lasso(alpha=alpha)\n",
    "\n",
    "\n",
    "        # instantiate the classifier (n_jobs = -1 tells it)\n",
    "        # to fit using all CPUs\n",
    "        lasso = OneVsRestClassifier(lasso, n_jobs=-1)\n",
    "        \n",
    "        y_hat = lasso.fit(X_train, y_train).predict(X_test)\n",
    "        \n",
    "        \n",
    "        temp_hamming_loss.append(hamming_loss(y_hat, y_test)) \n",
    "        \n",
    "        ## conver this to array for iterations\n",
    "        y_test = np.array(y_test)\n",
    "        \n",
    "        ### Our accuracy_score function does not work on matrices, this allows us to \n",
    "        ## Take these predictions by row \n",
    "        accuracy = [accuracy_score(y_hat[i], y_test[i]) for i in range(0, len(y_test))]\n",
    "        temp_accuracy.append(np.mean(accuracy))\n",
    "        \n",
    "\n",
    "    hamming_loss_list.append(np.mean(temp_hamming_loss))\n",
    "    accuracy_list.append(np.mean(temp_accuracy))\n",
    "\n",
    "\n",
    "\n"
   ]
  },
  {
   "cell_type": "code",
   "execution_count": 173,
   "metadata": {
    "collapsed": false
   },
   "outputs": [
    {
     "data": {
      "text/plain": [
       "<matplotlib.text.Text at 0x7f735efc1650>"
      ]
     },
     "execution_count": 173,
     "metadata": {},
     "output_type": "execute_result"
    },
    {
     "data": {
      "image/png": "[encoded data removed]",
      "text/plain": [
       "<matplotlib.figure.Figure at 0x7f735f4d4e50>"
      ]
     },
     "metadata": {},
     "output_type": "display_data"
    }
   ],
   "source": [
    "plt.plot(alpha_list, hamming_loss_list)\n",
    "best_index = np.argmin(hamming_loss_list)\n",
    "plt.axvline(features_list[best_index], c='r', label= str(best_index))\n",
    "plt.xlim([0,.3])\n",
    "plt.ylabel(\"Hamming Loss\")\n",
    "plt.xlabel(\"Alpha Values\")\n",
    "plt.title(\"Alpha Value on LASSO\")"
   ]
  },
  {
   "cell_type": "markdown",
   "metadata": {},
   "source": [
    "## LASSO Predicting Poorly \n",
    "It appears that our LASSO continues to do a poor job of predictions even after using LDA to only use 100 of the features. This implies that the LASSO is not able to do enough regularization in order to make reasonable predictions in this smart matrix. This is also an indication that we should likely not use this model. Instead, for the remainder of this section, I will focus on how we might be able to improve our Random Forest model. "
   ]
  },
  {
   "cell_type": "markdown",
   "metadata": {},
   "source": [
    "# Extension: Using Different N-Gram for Prediction (Random Forest)\n",
    "One of the important extensions of using a n-gram model is that we are able to analyze more than individual words. IN a unigram model, we are making predictions purely from individual words and their respective counts. (e.g. \"The\", \"Hello\", \"War\", etc.) From there we make predictions about these movies. \n",
    "\n",
    "It's possible, however, that in only using a unigram approach we are losing information. Instead, we might want to analyze our data using more than one grame, likea bigram. An example of a bigram would be two words such as \"Not violent\",  \"Very much\" or \"no laughs.\" It's possible that using the second "
   ]
  },
  {
   "cell_type": "code",
   "execution_count": 180,
   "metadata": {
    "collapsed": false,
    "deletable": true,
    "editable": true
   },
   "outputs": [
    {
     "name": "stdout",
     "output_type": "stream",
     "text": [
      "These are the number of grams 1\n",
      "These are the number of features test 2\n",
      "These are the number of features test 4\n",
      "These are the number of features test 6\n",
      "These are the number of features test 8\n",
      "These are the number of features test 10\n",
      "These are the number of features test 40\n",
      "These are the number of grams 2\n",
      "These are the number of features test 2\n",
      "These are the number of features test 4\n",
      "These are the number of features test 6\n",
      "These are the number of features test 8\n",
      "These are the number of features test 10\n",
      "These are the number of features test 40\n",
      "These are the number of grams 3\n",
      "These are the number of features test 2\n",
      "These are the number of features test 4\n",
      "These are the number of features test 6\n",
      "These are the number of features test 8\n",
      "These are the number of features test 10\n",
      "These are the number of features test 40\n",
      "These are the number of grams 4\n",
      "These are the number of features test 2\n",
      "These are the number of features test 4\n",
      "These are the number of features test 6\n",
      "These are the number of features test 8\n",
      "These are the number of features test 10\n",
      "These are the number of features test 40\n"
     ]
    }
   ],
   "source": [
    "hamming_loss_grams = [] \n",
    "accuracy_grams = [] \n",
    "features_list = [2,4, 6, 8,10,40]\n",
    "n_grams_list = [1,2,3,4]\n",
    "\n",
    "for n_grams in n_grams_list:  \n",
    "    X = get_TFIDF(n_grams = n_grams)\n",
    "    print \"These are the number of grams\", n_grams \n",
    "    hamming_loss_list = [] \n",
    "    accuracy_list = [] \n",
    "    for num_features in features_list: \n",
    "        print \"These are the number of features test\", num_features \n",
    "        temp_hamming_loss = [] \n",
    "        temp_accuracy = [] \n",
    "        for train_ind, test_ind in KFold(n_splits = NUM_FOLDS).split(X):\n",
    "            indices = train_ind\n",
    "            X_train, X_test = X[train_ind], X[test_ind]\n",
    "            y_train = y.iloc[train_ind]\n",
    "            y_test = y.iloc[test_ind]\n",
    "\n",
    "\n",
    "            text_classifier = OneVsRestClassifier(RandomForestClassifier(max_features = num_features))\n",
    "\n",
    "            y_hat = text_classifier.fit(X_train, y_train).predict(X_test)\n",
    "\n",
    "            temp_hamming_loss.append(hamming_loss(y_hat, y_test))\n",
    "            ### make into numpy array for below function \n",
    "            y_test = np.array(y_test)\n",
    "            ### Our accuracy_score function does not work on matrices, this allows us to \n",
    "            ## Take these predictions by row \n",
    "            accuracy = [accuracy_score(y_hat[i], y_test[i]) for i in range(0, len(y_test))]\n",
    "            temp_accuracy.append(np.mean(accuracy))\n",
    "        hamming_loss_list.append(np.mean(temp_hamming_loss))\n",
    "        accuracy_list.append(np.mean(temp_accuracy))\n",
    "    \n",
    "    hamming_loss_grams.append(hamming_loss_list)\n",
    "    accuracy_grams.append(accuracy_list)\n"
   ]
  },
  {
   "cell_type": "code",
   "execution_count": 202,
   "metadata": {
    "collapsed": false
   },
   "outputs": [
    {
     "data": {
      "text/plain": [
       "<matplotlib.text.Text at 0x7f735f0ce690>"
      ]
     },
     "execution_count": 202,
     "metadata": {},
     "output_type": "execute_result"
    },
    {
     "data": {
      "image/png": "[encoded data removed]",
      "text/plain": [
       "<matplotlib.figure.Figure at 0x7f735f36c0d0>"
      ]
     },
     "metadata": {},
     "output_type": "display_data"
    }
   ],
   "source": [
    "for i, n_gram in enumerate(n_grams_list):\n",
    "    number_of_grams = \"Number of grams: \" + str(n_gram)\n",
    "    plt.plot(features_list,accuracy_grams[i], label = number_of_grams)\n",
    "plt.legend()\n",
    "plt.xlabel(\"Number of Features Per Split\")\n",
    "plt.ylabel(\"Accuracy\")\n",
    "plt.title(\"Effect of N-grams & Num Features on RF accuracy\")"
   ]
  },
  {
   "cell_type": "markdown",
   "metadata": {},
   "source": [
    "## Unigram with 10 Features Per Split Does Best \n",
    "It appears that our unigram model with 10 features per a split does the best (but only slightly). This might be because in our movie reviews we rarely have a contradicting statement within the summary (i.e. John is NOT in love with Kate\") or this movie is \"not scary.\" Instead, the simple word counts seems to do best in our model. The result is that we end up with a model with unigram features that does better than any of our other models. "
   ]
  },
  {
   "cell_type": "markdown",
   "metadata": {},
   "source": [
    "## Our Best Predictions\n",
    "Interestingly, our random forest unigram model does the best of any of our models (We're writing this from the very end, which is why we know this.) It predicts roughly 93% accurately which is roughly 8 points above the baseline. Our other models using neural networks and posters barely reach 86-87%. This indicates that either we are not giving enough data to our neural networks, neural networks do not always beat random forest in performance, or that movie posters provide less information than movie summaries. "
   ]
  },
  {
   "cell_type": "code",
   "execution_count": null,
   "metadata": {
    "collapsed": true
   },
   "outputs": [],
   "source": []
  }
 ],
 "metadata": {
  "anaconda-cloud": {},
  "kernelspec": {
   "display_name": "Python 2",
   "language": "python",
   "name": "python2"
  },
  "language_info": {
   "codemirror_mode": {
    "name": "ipython",
    "version": 2
   },
   "file_extension": ".py",
   "mimetype": "text/x-python",
   "name": "python",
   "nbconvert_exporter": "python",
   "pygments_lexer": "ipython2",
   "version": "2.7.12"
  }
 },
 "nbformat": 4,
 "nbformat_minor": 1
}
