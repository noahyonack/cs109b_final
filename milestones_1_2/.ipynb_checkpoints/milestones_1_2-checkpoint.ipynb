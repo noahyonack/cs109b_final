{
 "cells": [
  {
   "cell_type": "markdown",
   "metadata": {
    "deletable": true,
    "editable": true
   },
   "source": [
    "# Final Project - Predicting Movie Genres!\n",
    "\n",
    "![Movie genre header](genre_header.jpg)\n",
    "\n",
    "Welcome to the final project of CS109b. \n",
    "\n",
    "The overall theme of the final project is movie data with a focus on movie genre prediction, because it is an area where we are all more or less application domain experts. First, you will explore your data and the challenges of the problem by exploratory data analysis. Use visualizations to find features that correlate with movie genres. These can be extracted from the movie posters, or meta data, or other data you gather, for example plot summaries or even movie transcripts. You will then compare traditional statistical or machine learning methods like generalized additive models, random forest, Bayesian prediction methods, boosting, and SVM, to deep learning models for movie genre prediction. \n",
    "\n",
    "For this project you will work in teams of 3-4 people and there are weekly milestones to guide you along the way. Even though the milestones are graded, they are mainly in place to make sure you stay in contact with your TF and make progress with the project. Throughout the project you also have room for creativity and to pursue your own ideas. While you need to hand in the milestones at the appropriate due date, there is nothing preventing you from working on a later milestone ahead of time. We suggest that you read through the whole project and all milestones in the beginning to be able to plan ahead. The project is pretty open-ended, so you can be creative and let your data science knowledge shine! \n",
    "\n",
    "For each milestone you will submit a notebook, in raw (`.ipynb`) and PDF formats, containing the deliverables of that week and the extra work you did so far. The notebooks need to contain your code, comments, explanations, thoughts, and visualizations. The final deliverables are a two-minute screencast, a report in paper style for a general data science audience, and all your data and code that you developed throughout the project. \n",
    "\n",
    "Below is a description of the data and the milestones with their due dates. All work is due by 11:59PM on the due date unless otherwise specified. We expect you to have the mandatory parts finished by the milestone due dates, and there will be no extensions. However, we strongly encourage you to plan ahead. For example, you need to think about the classification task early on to plan how you want to assemble your training data, and it is beneficial to start the deep learning work as early as possible. There is nothing hindering you to already train a model in the EDA phase to get a better feel for what challenges might lie ahead with the data. You should also see the milestone requirements as a basis for your own creativity, and we expect that most of you will go beyond the mandatory deliverables. For example, if you have a great idea about an interesting question that has to do with movie genre, but cannot be answered with the data from TMDb or IMDb, feel free to gather more data from somewhere else. \n",
    "\n",
    "We provide a data interface in Python, because it is convenient for IMDb, and we will use Python for the deep learning part. Specifically we will use Keras, a deep learning library that provides a high level interface to Google's Tensorflow framework for deep learning. However, if you feel that you prefer to do some of the work, e.g., visualizations or data cleanup, in R then feel free to use it. You can also use Spark to preprocess your data, especially if you collect large amounts of it from other sources. \n",
    "\n",
    "*Important:* Your grade for a milestone will depend on the required deliverables you submit at the due date for that milestone. But every milestone, especially the final project submission, can contain additional cool work you did that goes beyond the deliverables spelled out below. \n"
   ]
  },
  {
   "cell_type": "markdown",
   "metadata": {
    "collapsed": true,
    "deletable": true,
    "editable": true
   },
   "source": [
    "### Logistics \n",
    "\n",
    "Please adhere to the following guidelines for all submissions:\n",
    "- one submission per team\n",
    "- notebooks should be submitted as PDF and as raw (`.ipynb`) version\n",
    "- all notebooks should be executed so they contain relevant visualizations, and other results\n",
    "- try to make it as easy as possible for the TFs to get all relevant information about your work\n",
    "- do not submit big data sets, please provide a readme file with a link instead\n",
    "- the final report should also be submitted as pdf"
   ]
  },
  {
   "cell_type": "markdown",
   "metadata": {
    "deletable": true,
    "editable": true
   },
   "source": [
    "### Movie Data:\n",
    "\n",
    "The project is based on two different sources of movie data: [IMDb](http://www.imdb.com/) and [TMDb](https://www.themoviedb.org/). TMDb is great, because it provides the movie posters in addition to the metadata. This is crucial for the deep learning part, in which you will try to predict movie genres from posters. IMDb has more metadata available and will supplement the TMDb data you have. \n",
    "\n",
    "TMDb provides an easy to use [API](https://www.themoviedb.org/documentation/api) that allows you to download the data selectively. IMDb does not provide an API, but there is a Python interface available to access the metadata. We will use [IMDbPY](http://imdbpy.sourceforge.net/), which is already installed on the AMI and virtual box images for your convenience.\n",
    "\n",
    "*Important*: Please remember to limit your data rate when obtaining the data. Play nicely and do not just spam servers as fast as you can. This will prevent your IP from getting banned. The easiest way to do this is to use the [sleep](http://stackoverflow.com/questions/510348/how-can-i-make-a-time-delay-in-python) function in Python.\n"
   ]
  },
  {
   "cell_type": "markdown",
   "metadata": {
    "deletable": true,
    "editable": true
   },
   "source": [
    "### Milestone 1: Getting to know your data, due Wednesday, April 5, 2017\n",
    "\n",
    "In the beginning you should get acquainted with the data sources and do some EDA. Sign up for the TMDb [API](https://www.themoviedb.org/documentation/api), and try to download the poster of your favorite movie from within your notebook. Compare the genre entries of IMDb and TMDb for this movie and see if they are the same. Think about and write down some questions that you would like to answer in the following weeks. Keep the storytelling aspect of your final report in mind and do some pen and paper sketches about the visualizations you would like to produce. Include photographs of those sketches in your notebook. \n",
    "\n",
    "Most of the time a data scientist spends on a project is spent on cleaning the data. We are lucky that the data we have is already pretty clean. The Python interface to the IMDb ftp files does a lot of the additional work of cleaning as well. However, you will notice that the genre list for each movie from both databases can have different lengths. This needs to be changed in order to train a model to predict the movie genre. It is up to you to think about possible ways to address this problem and to implement one of them. There is no absolute right answer here. It depends on your interests and which questions you have in mind for the project. \n",
    "\n",
    "Optionally, you could also scrape additional data sources, such as Wikipedia, to obtain plot summaries. That data may give you additional useful features for genre classification. \n",
    "\n",
    "To guide your decision process, provide at least one visualization of how often genres are mentioned together in pairs. Your visualization should clearly show if a horror romance is more likely to occur in the data than a drama romance.\n",
    "\n",
    "The notebook to submit for this milestone needs to at least include:\n",
    "\n",
    "- API code to access the genre and movie poster path of your favorite movie\n",
    "- Genre for this movie listed by TMDb and IMDb\n",
    "- A list of the 10 most popular movies of 2016 from TMDb and their genre obtained via the API\n",
    "- Comments on what challenges you see for predicting movie genre based on the data you have, and how to address them \n",
    "- Code to generate the movie genre pairs and a suitable visualization of the result\n",
    "- Additional visualization sketches and EDA with a focus on movie genres\n",
    "- A list of questions you could answer with this and related data. Get creative here!\n",
    "\n",
    "The EDA questions do not necessarily have to tie into the modeling part later on. Think freely about things that might be interesting, like which actors are very specific to a genre? Are action movies more prone to producing sequels than romances? However, as you keep the focus on movie genres, think also about correlations you might discover that can help build features from the metadata for prediction. Is the length of a movie title correlated with genre?\n"
   ]
  },
  {
   "cell_type": "code",
   "execution_count": 2,
   "metadata": {
    "collapsed": false
   },
   "outputs": [],
   "source": [
    "import time\n",
    "import seaborn as sns\n",
    "import numpy as np\n",
    "import pandas as pd\n",
    "from IPython.display import Image\n",
    "import matplotlib.pyplot as plt\n",
    "from collections import Counter\n",
    "%matplotlib inline\n",
    "\n",
    "## Installed by running this line in terminal: pip install IMDbPY\n",
    "## Tutorial found here http://imdbpy.sourceforge.net/support.html\n",
    "import imdb\n",
    "\n",
    "### Downloaded this via this line: pip install tmdbsimple\n",
    "## Tutorial found here https://pypi.python.org/pypi/tmdbsimple\n",
    "import tmdbsimple as tmdb "
   ]
  },
  {
   "cell_type": "code",
   "execution_count": 3,
   "metadata": {
    "collapsed": true
   },
   "outputs": [],
   "source": [
    "## Pass in our tmdb Key \n",
    "tmdb.API_KEY = '352e668a0df90032e0f1097459228131'\n",
    "\n",
    "# Create the object that will be used to access the IMDb's database.\n",
    "ia = imdb.IMDb()"
   ]
  },
  {
   "cell_type": "markdown",
   "metadata": {},
   "source": [
    "# #1: API code to access the genre and movie poster path of your favorite movie\n",
    "\n",
    "* Favorite movie: 300\n",
    "* Database: TMDB"
   ]
  },
  {
   "cell_type": "code",
   "execution_count": 4,
   "metadata": {
    "collapsed": false
   },
   "outputs": [
    {
     "name": "stdout",
     "output_type": "stream",
     "text": [
      "300 1271 2006-12-09 4.849377\n",
      "300: Rise of an Empire 53182 2014-03-05 5.246257\n",
      "Decameron '300 436902 1972-08-11 1.001188\n",
      "The 300 Spartans 19972 1962-08-01 1.825444\n",
      "300 Souls 332423 2015-03-25 1.003526\n",
      "United 300 204183 2007-04-30 1.000506\n",
      "300 Miles 409110 2016-08-11 1.014709\n",
      "300 Killers 54799 2011-01-18 1.002824\n",
      "300 Pounds 68690 2007-01-01 1.000492\n",
      "300 Worte Deutsch 309038 2015-02-05 1.289587\n",
      "Last Stand of the 300 37122 2007-05-27 1.138009\n",
      "300 Miles to Heaven 155325 1989-10-30 1.047258\n",
      "300 Miles to Freedom 329318 2011-01-01 1.00129\n",
      "4 Damas en 300 293965 2011-07-17 1.001\n",
      "Kamis Ke 300 406842  1.000003\n",
      "Planet Deutschland - 300 Millionen Jahre 295831 2014-10-02 1.018468\n",
      "Million Dollar Eel 285994 1971-05-06 1.015188\n",
      "Heart Like A Wheel 34599 1983-04-01 1.323166\n",
      "Fangio: Una vita a 300 all'ora 435791 1980-01-01 1.000002\n",
      "75 habitantes, 20 casas, 300 vacas 202434 2011-05-11 1.001244\n"
     ]
    }
   ],
   "source": [
    "# first need to get the tmdb id for 300\n",
    "search = tmdb.Search()\n",
    "response = search.movie(query=\"300\")\n",
    "\n",
    "for res in search.results:\n",
    "    print res['title'], res['id'], res['release_date'], res['popularity']\n",
    "\n",
    "## in this case I just took the top result\n",
    "fav_movie_tmdb = search.results[0]"
   ]
  },
  {
   "cell_type": "code",
   "execution_count": 5,
   "metadata": {
    "collapsed": false
   },
   "outputs": [
    {
     "name": "stdout",
     "output_type": "stream",
     "text": [
      "Movie ID for '300':  1271\n"
     ]
    }
   ],
   "source": [
    "fav_movie_id = search.results[0][\"id\"]\n",
    "print \"Movie ID for '300': \", fav_movie_id "
   ]
  },
  {
   "cell_type": "code",
   "execution_count": 6,
   "metadata": {
    "collapsed": false
   },
   "outputs": [
    {
     "name": "stdout",
     "output_type": "stream",
     "text": [
      "TMDB Genres for 300:  [u'Action', u'Adventure', u'War']\n",
      "TMDB Poster path for 300:  /bYR8O1H1ZlME7Dm9ysfTYZnRDpw.jpg\n"
     ]
    }
   ],
   "source": [
    "# get the movie\n",
    "movie = tmdb.Movies(1271)\n",
    "info = movie.info()\n",
    "print \"TMDB Genres for 300: \", [genre[\"name\"] for genre in info[\"genres\"]]\n",
    "print \"TMDB Poster path for 300: \", info[\"poster_path\"]"
   ]
  },
  {
   "cell_type": "code",
   "execution_count": 7,
   "metadata": {
    "collapsed": false
   },
   "outputs": [
    {
     "name": "stdout",
     "output_type": "stream",
     "text": [
      "300 (2006) 0416449\n",
      "\"300\" (2014) 4066210\n",
      "\"300 (2009) (TV Episode)  - Season 1 | Episode 73  - Merci Qui?\" (2008) 5274864\n",
      "300: Rise of an Empire (2014) 1253863\n",
      "Idiocracy (2006) 0387808\n",
      "300 the Resurgence (in development) (????) 4576032\n",
      "3000 Miles to Graceland (2001) 0233142\n",
      "Mystery Science Theater 3000: The Movie (1996) 0117128\n",
      "300 Spartans, The (1962) 0055719\n",
      "\"Mystery Science Theater 3000\" (1988) 0094517\n",
      "Last Stand of the 300 (2007) (TV) 0892737\n",
      "Gruz 300 (1990) 0309643\n",
      "300* (2010) 1683865\n",
      "\"300 (2005) (TV Episode)  - Season 21 | Episode 27  - The Bill\" (1984) 0524939\n",
      "Decameron '300 (1972) 0068460\n",
      "\"300 (2014) (TV Episode)  - Season 3 | Episode 5  - Honest Trailers\" (2012) 3614658\n",
      "\"300 (2012) (TV Episode)  - Season 3 | Episode 9  - Bath Bayakha\" (2011) (mini) 5152204\n",
      "\"300 (2012) (TV Episode)  - Season 2 | Episode 16  - Folding Ideas\" (2011) 3957878\n",
      "\"300 (2007) (TV Episode)  - Season 4 | Episode 2  - STC Previews, The\" (2003) 1084548\n",
      "\"300 (2014) (TV Episode)  - Season 1 | Episode 9  - Le Plectroscope\" (2011) (mini) 5785046\n"
     ]
    }
   ],
   "source": [
    "# Search for a movie (get a list of Movie objects).\n",
    "s_result = ia.search_movie('300')\n",
    "for item in s_result:\n",
    "    print item['long imdb canonical title'], item.movieID"
   ]
  },
  {
   "cell_type": "code",
   "execution_count": 8,
   "metadata": {
    "collapsed": false
   },
   "outputs": [
    {
     "name": "stdout",
     "output_type": "stream",
     "text": [
      "IMDB Genres for 300:  [u'Action', u'Fantasy']\n"
     ]
    }
   ],
   "source": [
    "fav_movie_imdb = s_result[0]\n",
    "ia.update(fav_movie_imdb)\n",
    "print \"IMDB Genres for 300: \", fav_movie_imdb['genre']"
   ]
  },
  {
   "cell_type": "markdown",
   "metadata": {},
   "source": [
    "# #2: Genre for this movie listed by TMDb and IMDb"
   ]
  },
  {
   "cell_type": "markdown",
   "metadata": {},
   "source": [
    "In summary:\n",
    "    * TMDB says the genres are Action, Adventure, and War\n",
    "    * IMDB says the genres are Action, and Fantasy\n",
    "    \n",
    "  This difference could lead to problems in the future when we are trying to compare similar movies but that come have different supposed \"genres.\" One way that we might avoid this is by doing a merge between the genres or selecting genres that appear in both (in this case that would be 'action')"
   ]
  },
  {
   "cell_type": "markdown",
   "metadata": {},
   "source": [
    "# #3: A list of the 10 most popular movies of 2016 from TMDb and their genre obtained via the API"
   ]
  },
  {
   "cell_type": "code",
   "execution_count": 9,
   "metadata": {
    "collapsed": false
   },
   "outputs": [],
   "source": [
    "# abdapted from http://programtalk.com/python-examples/tmdbsimple.Discover/\n",
    "discover = tmdb.Discover()\n",
    "movies_2016 = discover.movie(year=2016)"
   ]
  },
  {
   "cell_type": "code",
   "execution_count": 10,
   "metadata": {
    "collapsed": false
   },
   "outputs": [
    {
     "name": "stdout",
     "output_type": "stream",
     "text": [
      "Movie title: Sing\n",
      "Movie popularity: 76.930498\n",
      "Movie genre: [u'Animation', u'Comedy', u'Drama', u'Family', u'Music']\n",
      "\n",
      "\n",
      "Movie title: Split\n",
      "Movie popularity: 43.703317\n",
      "Movie genre: [u'Horror', u'Thriller']\n",
      "\n",
      "\n",
      "Movie title: Fantastic Beasts and Where to Find Them\n",
      "Movie popularity: 39.85248\n",
      "Movie genre: [u'Adventure', u'Action', u'Fantasy']\n",
      "\n",
      "\n",
      "Movie title: Rogue One: A Star Wars Story\n",
      "Movie popularity: 34.825923\n",
      "Movie genre: [u'Action', u'Drama', u'Science Fiction', u'War']\n",
      "\n",
      "\n",
      "Movie title: Arrival\n",
      "Movie popularity: 32.143512\n",
      "Movie genre: [u'Thriller', u'Drama', u'Science Fiction', u'Mystery']\n",
      "\n",
      "\n",
      "Movie title: John Wick\n",
      "Movie popularity: 28.733018\n",
      "Movie genre: [u'Action', u'Thriller']\n",
      "\n",
      "\n",
      "Movie title: Doctor Strange\n",
      "Movie popularity: 28.299614\n",
      "Movie genre: [u'Action', u'Adventure', u'Fantasy', u'Science Fiction']\n",
      "\n",
      "\n",
      "Movie title: Deadpool\n",
      "Movie popularity: 27.982701\n",
      "Movie genre: [u'Action', u'Adventure', u'Comedy', u'Romance']\n",
      "\n",
      "\n",
      "Movie title: Boyka: Undisputed IV\n",
      "Movie popularity: 26.659897\n",
      "Movie genre: [u'Action']\n",
      "\n",
      "\n",
      "Movie title: Finding Dory\n",
      "Movie popularity: 26.055389\n",
      "Movie genre: [u'Adventure', u'Animation', u'Comedy', u'Family']\n",
      "\n",
      "\n"
     ]
    }
   ],
   "source": [
    "for movie in discover.results[0:10]:\n",
    "    _id = movie[\"id\"]\n",
    "    movie = tmdb.Movies(_id)\n",
    "    response = movie.info()\n",
    "    print \"Movie title: {0}\".format(response[\"title\"])\n",
    "    print \"Movie popularity: {0}\".format(response[\"popularity\"])\n",
    "    print \"Movie genre: {0}\".format([info[\"name\"] for info in movie.genres])\n",
    "    print \"\\n\""
   ]
  },
  {
   "cell_type": "markdown",
   "metadata": {},
   "source": [
    "# #4: Comments on what challenges you see for predicting movie genre based on the data you have, and how to address them\n",
    "\n",
    "1) There are differences in the genres listed by TMDb vs. IMDb\n",
    "    - We could use a union of the genres so that only those genres in both databases are considered correct\n",
    "    This also leads to a bigger question of \"What does it mean to correctly select a movie genre?\" Does thie mean that we select the best genre from IMDb, TMDb? Does this mean we might select multiple genres? These are all questions that we will need to face. \n",
    "2) The data will take a long time to load from the APIs because we need to restrict the rate at which we pull large amounts of data - ethics\n",
    "    - We need to work ahead and use AWS. In particular, if we are using a large dataset, we might need to pull a significant amount of our data in advance. \n",
    "3) We need to figure out what the \"Correct\" Genre means \n",
    "    - As we can see from the print out above, many movies have more than one genre. In this case we have that doctor strangelove is considered action, adventure, fantasy, AND science fiction. However, we probably want to create a model that only predicts one of these genres and not all of them. One way that we can break this down and make this easier is by creating a subset of genres that we believe exist in the world. (e.g. taking the top 50 genres.) Then for each of our movies, we make a prediction that only exists within that realm of genres. Another option is for us to try and predict all genres that might be attached to a movie, though this data might be too sparse to be predictive. "
   ]
  },
  {
   "cell_type": "markdown",
   "metadata": {},
   "source": [
    "# #5: Code to generate the movie genre pairs and a suitable visualization of the result\n",
    "This section gives a brief look at the relationship between genres. We will then extend upon it to choose only one genre per a movie. "
   ]
  },
  {
   "cell_type": "code",
   "execution_count": 11,
   "metadata": {
    "collapsed": false
   },
   "outputs": [
    {
     "name": "stdout",
     "output_type": "stream",
     "text": [
      "Number of genres: 19\n"
     ]
    },
    {
     "data": {
      "text/plain": [
       "{u'Action': 28,\n",
       " u'Adventure': 12,\n",
       " u'Animation': 16,\n",
       " u'Comedy': 35,\n",
       " u'Crime': 80,\n",
       " u'Documentary': 99,\n",
       " u'Drama': 18,\n",
       " u'Family': 10751,\n",
       " u'Fantasy': 14,\n",
       " u'History': 36,\n",
       " u'Horror': 27,\n",
       " u'Music': 10402,\n",
       " u'Mystery': 9648,\n",
       " u'Romance': 10749,\n",
       " u'Science Fiction': 878,\n",
       " u'TV Movie': 10770,\n",
       " u'Thriller': 53,\n",
       " u'War': 10752,\n",
       " u'Western': 37}"
      ]
     },
     "execution_count": 11,
     "metadata": {},
     "output_type": "execute_result"
    }
   ],
   "source": [
    "genres_obj = tmdb.Genres()\n",
    "genre_ids = {genre[\"name\"]: genre[\"id\"] for genre in genres_obj.list()[\"genres\"]}\n",
    "\n",
    "print \"Number of genres: {0}\".format(len(genre_ids.keys()))\n",
    "genre_ids"
   ]
  },
  {
   "cell_type": "code",
   "execution_count": 12,
   "metadata": {
    "collapsed": false
   },
   "outputs": [
    {
     "data": {
      "text/plain": [
       "{12: u'Adventure',\n",
       " 14: u'Fantasy',\n",
       " 16: u'Animation',\n",
       " 18: u'Drama',\n",
       " 27: u'Horror',\n",
       " 28: u'Action',\n",
       " 35: u'Comedy',\n",
       " 36: u'History',\n",
       " 37: u'Western',\n",
       " 53: u'Thriller',\n",
       " 80: u'Crime',\n",
       " 99: u'Documentary',\n",
       " 878: u'Science Fiction',\n",
       " 9648: u'Mystery',\n",
       " 10402: u'Music',\n",
       " 10749: u'Romance',\n",
       " 10751: u'Family',\n",
       " 10752: u'War',\n",
       " 10770: u'TV Movie'}"
      ]
     },
     "execution_count": 12,
     "metadata": {},
     "output_type": "execute_result"
    }
   ],
   "source": [
    "reverse_genre_ids = {v: k for k, v in genre_ids.iteritems()}\n",
    "reverse_genre_ids"
   ]
  },
  {
   "cell_type": "code",
   "execution_count": 13,
   "metadata": {
    "collapsed": false
   },
   "outputs": [],
   "source": [
    "discover = tmdb.Discover()\n",
    "movie_dict = {genre: [] for genre in genre_ids.iterkeys()}\n",
    "\n",
    "# count how many results we get for each genre\n",
    "movie_cnts = {genre: 0 for genre in genre_ids.iterkeys()}\n",
    "\n",
    "# need ids for each genre\n",
    "for genre in genre_ids.keys():    \n",
    "    # scan 10 pages for movies\n",
    "    for p in range(1, 10):\n",
    "        # find all movies with a given id on a given page\n",
    "        discover.movie(with_genres = genre_ids[genre], page = p)\n",
    "        for page in discover.results:\n",
    "            # we found another movie\n",
    "            movie_cnts[genre] += 1\n",
    "            \n",
    "            # add the ids from this new movie to the list\n",
    "            movie_dict[genre].extend(page[\"genre_ids\"])\n",
    "            \n",
    "    # sleep so that we don't get kicked off the API\n",
    "    time.sleep(10)"
   ]
  },
  {
   "cell_type": "code",
   "execution_count": 14,
   "metadata": {
    "collapsed": false
   },
   "outputs": [],
   "source": [
    "# make a copy of the movie dict so that we don't have \n",
    "# to rerun the above cell if we mess up\n",
    "genre_percentages_mutable = movie_dict.copy()\n",
    "genre_percentages_immutable = genre_percentages_mutable.copy()\n",
    "\n",
    "for genre in genre_percentages_mutable:\n",
    "    # make a dictionary of frequencies instead of raw ids\n",
    "    genre_percentages_mutable[genre] = Counter(genre_percentages_mutable[genre])\n",
    "    genre_percentages_immutable[genre] = Counter(genre_percentages_immutable[genre])\n",
    "    \n",
    "# for each genre in the dictionary\n",
    "for genre in genre_percentages_mutable:\n",
    "    # normalize each raw number into a percentages\n",
    "    for genre_id in genre_percentages_mutable[genre]:\n",
    "        \n",
    "        if genre_id == 10769:\n",
    "            continue\n",
    "        \n",
    "        # this should represent the percent of the occurences in which `genre` is mentioned\n",
    "        # in tandem with `genre_id`\n",
    "        #\n",
    "        # i.e. the key is a genre (e.g. drama) and the id is a genre id\n",
    "        # that drama might be paired with (e.g. romance). So, to get the pairing occurence,\n",
    "        # we need to take the counter of [genre][genre_id] with [genre_id][genre] and then\n",
    "        # divide by the total counts (e.g. genre + genre_id)\n",
    "        total_cnts = movie_cnts[genre] + movie_cnts[reverse_genre_ids[genre_id]]\n",
    "        total_occ = genre_percentages_immutable[genre][genre_id] + genre_percentages_immutable[reverse_genre_ids[genre_id]][genre_ids[genre]]\n",
    "                    \n",
    "        genre_percentages_mutable[genre][genre_id] = total_occ * 1.0 / total_cnts"
   ]
  },
  {
   "cell_type": "code",
   "execution_count": 15,
   "metadata": {
    "collapsed": false
   },
   "outputs": [],
   "source": [
    "percent_df = pd.DataFrame([pd.Series(genre_percentages_mutable[genre]) for genre in genre_ids.keys()])\n",
    "percent_df = percent_df.T\n",
    "percent_df.rename(columns=dict(zip(range(0, 19), genre_ids.keys())), inplace = True)\n",
    "\n",
    "# drop this rogue ID\n",
    "percent_df.drop([10769], inplace = True)\n",
    "\n",
    "percent_df.rename(index=dict(zip(percent_df.index, [reverse_genre_ids[genre_id] for genre_id in percent_df.index])), inplace = True)\n",
    "\n",
    "# replace all nans with 0, indicating a 0 percent mention rate for that pair\n",
    "percent_df.fillna(0, inplace = True)\n",
    "\n",
    "# reorder the axes so that they match up on the diagonals\n",
    "percent_df = percent_df.reindex_axis(sorted(percent_df.columns), axis=1)\n",
    "percent_df = percent_df.reindex_axis(sorted(percent_df.columns), axis=0)"
   ]
  },
  {
   "cell_type": "code",
   "execution_count": 16,
   "metadata": {
    "collapsed": false
   },
   "outputs": [
    {
     "data": {
      "text/plain": [
       "<matplotlib.axes._subplots.AxesSubplot at 0x10f83f650>"
      ]
     },
     "execution_count": 16,
     "metadata": {},
     "output_type": "execute_result"
    },
    {
     "data": {
      "image/png": "[encoded data removed]",
      "text/plain": [
       "<matplotlib.figure.Figure at 0x10f583c50>"
      ]
     },
     "metadata": {},
     "output_type": "display_data"
    }
   ],
   "source": [
    "plt.figure(figsize=(12, 10))\n",
    "plt.title(\"Normalized Frequency of Genre Pairings (Pages 1-20)\", fontsize=16)\n",
    "sns.heatmap(percent_df)"
   ]
  },
  {
   "cell_type": "markdown",
   "metadata": {},
   "source": [
    "### Insights\n",
    "\n",
    "* Examining our heatmap for the first twenty page instances per genre, we see that the pairing are intuitive. \n",
    "* Here, we see overlap between history and drama films along with adventure and action. In addition, we see high crossover between family and animation along with crime and thriller.\n",
    "* Beyond seeing the tendancy for some genres to be listed together, we also see that some categories are vaguer than others. Here, for example, we see that Thriller and Drama serve as catch-alls whereas documentary has a relatively specific definition."
   ]
  },
  {
   "cell_type": "markdown",
   "metadata": {},
   "source": [
    "# #6: Additional visualization sketches and EDA with a focus on movie genres"
   ]
  },
  {
   "cell_type": "code",
   "execution_count": 17,
   "metadata": {
    "collapsed": false
   },
   "outputs": [
    {
     "data": {
      "text/plain": [
       "<matplotlib.axes._subplots.AxesSubplot at 0x10f76ef50>"
      ]
     },
     "execution_count": 17,
     "metadata": {},
     "output_type": "execute_result"
    },
    {
     "data": {
      "image/png": "[encoded data removed]",
      "text/plain": [
       "<matplotlib.figure.Figure at 0x110211810>"
      ]
     },
     "metadata": {},
     "output_type": "display_data"
    }
   ],
   "source": [
    "discover_ = tmdb.Discover()\n",
    "movie_dict = {genre: [] for genre in genre_ids.iterkeys()}\n",
    "\n",
    "# count how many results we get for each genre\n",
    "movie_cnts = {genre: 0 for genre in genre_ids.iterkeys()}\n",
    "\n",
    "# need ids for each genre\n",
    "for genre in genre_ids.keys():    \n",
    "    # scan 20 pages for movies\n",
    "    for p in range(30, 50):\n",
    "        # find all movies with a given id on a given page\n",
    "        discover.movie(with_genres = genre_ids[genre], page = p)\n",
    "        for page in discover.results:\n",
    "            # we found another movie\n",
    "            movie_cnts[genre] += 1\n",
    "            \n",
    "            # add the ids from this new movie to the list\n",
    "            movie_dict[genre].extend(page[\"genre_ids\"])\n",
    "            \n",
    "    # sleep so that we don't get kicked off the API\n",
    "    time.sleep(10)\n",
    "    \n",
    "# make a copy of the movie dict so that we don't have \n",
    "# to rerun the above cell if we mess up\n",
    "genre_percentages = movie_dict.copy()\n",
    "\n",
    "# for each genre in the dictionary\n",
    "for genre in genre_percentages:\n",
    "    \n",
    "    # make a dictionary of frequencies instead of raw ids\n",
    "    genre_percentages[genre] = Counter(genre_percentages[genre])\n",
    "    \n",
    "    # normalize each raw number into a percentage \n",
    "    for genre_id in genre_percentages[genre]:\n",
    "        genre_percentages[genre][genre_id] = genre_percentages[genre][genre_id] * 1.0 / movie_cnts[genre]\n",
    "\n",
    "percent_df = pd.DataFrame([pd.Series(genre_percentages[genre]) for genre in genre_ids.keys()])\n",
    "percent_df = percent_df.T\n",
    "percent_df.rename(columns=dict(zip(range(0, 19), genre_ids.keys())), inplace = True)\n",
    "\n",
    "# drop this rogue ID\n",
    "percent_df.drop([10769], inplace = True)\n",
    "\n",
    "percent_df.rename(index=dict(zip(percent_df.index, [reverse_genre_ids[genre_id] for genre_id in percent_df.index])), inplace = True)\n",
    "\n",
    "# replace all nans with 0, indicating a 0 percent mention rate for that pair\n",
    "percent_df.fillna(0, inplace = True)\n",
    "\n",
    "# reorder the axes so that they match up on the diagonals\n",
    "percent_df = percent_df.reindex_axis(sorted(percent_df.columns), axis=1)\n",
    "percent_df = percent_df.reindex_axis(sorted(percent_df.columns), axis=0)\n",
    "\n",
    "plt.figure(figsize=(12, 10))\n",
    "plt.title(\"Normalized Frequency of Genre Pairings: 30-50 page results\", fontsize=16)\n",
    "sns.heatmap(percent_df)"
   ]
  },
  {
   "cell_type": "markdown",
   "metadata": {},
   "source": [
    "## Checking Consistancy with Pages 30-50\n",
    "Comparing the results with the initial 1-20 pages, we see that our findings vary but remain consistant within a reasonable degree. This is to be expect as we have utilized large numbers to get a sample of a greater amount of data."
   ]
  },
  {
   "cell_type": "code",
   "execution_count": 18,
   "metadata": {
    "collapsed": true
   },
   "outputs": [],
   "source": [
    "### There are 19 general genres, so 19 choose 2 (171) pairs) \n",
    "### I Found these ideas by searching for movies that I knew that were romance/drama/horror, finding and then finding\n",
    "### That genre id \n",
    "DRAMA_ID = 18 \n",
    "HORROR_ID = 27\n",
    "ROMANCE_ID = 10749\n",
    "\n",
    "movie = tmdb.Movies(565)\n",
    "response = movie.info()\n",
    "movie.genres\n",
    "\n",
    "## initialize discover \n",
    "discover = tmdb.Discover()\n",
    "\n",
    "## create a list of romance movies \n",
    "romance_list = [] \n",
    "\n",
    "## iterate through 20 pages collecting movies\n",
    "for p in range(1,20):\n",
    "    discover.movie(with_genres = ROMANCE_ID, page = p)\n",
    "    romance_list.append(discover.results)"
   ]
  },
  {
   "cell_type": "code",
   "execution_count": 19,
   "metadata": {
    "collapsed": false
   },
   "outputs": [],
   "source": [
    "## iterate through the pages and then the movies \n",
    "### this will give us back a list of lists of pairings \n",
    "genre_pairings = []\n",
    "for page in romance_list:\n",
    "    for movie in page: \n",
    "        genre_pairings.append(movie[\"genre_ids\"])"
   ]
  },
  {
   "cell_type": "code",
   "execution_count": 20,
   "metadata": {
    "collapsed": false
   },
   "outputs": [],
   "source": [
    "### This will give \n",
    "horror_count = 0 \n",
    "drama_count = 0 \n",
    "## iterate through the genre pairings for each movie\n",
    "## add a count if horror appears or drama appears\n",
    "\n",
    "for pairing in genre_pairings:\n",
    "    if HORROR_ID in pairing: \n",
    "        horror_count += 1 \n",
    "    if DRAMA_ID in pairing:\n",
    "        drama_count += 1    "
   ]
  },
  {
   "cell_type": "code",
   "execution_count": 21,
   "metadata": {
    "collapsed": false
   },
   "outputs": [
    {
     "name": "stdout",
     "output_type": "stream",
     "text": [
      "We test on this many movies classified as Romance: 380\n",
      "Percentage of Romance Movies Paired with Drama: 0.639473684211\n",
      "Percentage of Romance Movies Paired with Horror: 0.0210526315789\n"
     ]
    }
   ],
   "source": [
    "num_movies = len(genre_pairings)\n",
    "print \"We test on this many movies classified as Romance:\", num_movies\n",
    "\n",
    "drama_romance_perc = drama_count / float(num_movies)\n",
    "horror_romance_perc= horror_count / float(num_movies)\n",
    "print \"Percentage of Romance Movies Paired with Drama:\", drama_romance_perc\n",
    "print \"Percentage of Romance Movies Paired with Horror:\", horror_romance_perc"
   ]
  },
  {
   "cell_type": "code",
   "execution_count": 22,
   "metadata": {
    "collapsed": false
   },
   "outputs": [
    {
     "data": {
      "text/plain": [
       "<matplotlib.text.Text at 0x110d57f50>"
      ]
     },
     "execution_count": 22,
     "metadata": {},
     "output_type": "execute_result"
    },
    {
     "data": {
      "image/png": "[encoded data removed]",
      "text/plain": [
       "<matplotlib.figure.Figure at 0x10f6a2f50>"
      ]
     },
     "metadata": {},
     "output_type": "display_data"
    }
   ],
   "source": [
    "## initialize X and Y for plotting \n",
    "Y = np.array([drama_romance_perc, horror_romance_perc])\n",
    "LABELS = np.array([\"Drama\", \"Horror\"])\n",
    "X = [1,2]\n",
    "\n",
    "plt.figure(figsize=(10, 7))\n",
    "plt.bar(X, Y,  color=\"blue\")\n",
    "plt.xticks(X, LABELS)\n",
    "plt.title(\"Percentage of Films in Romance Genre In Other Genre\", fontsize=14)\n",
    "plt.xlabel(\"Genre paired with Romance Films\")\n",
    "plt.ylabel(\"Percentage of Genre Associated with Romance Genre\")"
   ]
  },
  {
   "cell_type": "markdown",
   "metadata": {},
   "source": [
    "### Explanation of Romance and Other Dramas\n",
    "The takeaway from the above bar graph is that more romance fils are paired with drama than they are by horror. (BY A LOT.) However, let's explain how we received our results. \n",
    "\n",
    "We decided to compare the percentage of romance films that were ALSO associated with other genres. To do this, we selected a random subset of our romance films. We used roughly 380 romance films randomly selected from all films with the genre \"romance\" tag. Of these 380 films, we then looked at the percentage of these films that also shared the genre tag \"horror\" or \"drama\" or both. We divided by the total number of films with the horror/drama tag by all romance films used. This gave us are above percentages. "
   ]
  },
  {
   "cell_type": "markdown",
   "metadata": {},
   "source": [
    "### Sketches and Future EDA\n",
    "\n",
    "Here are sketches of other visualizations we plan to complete."
   ]
  },
  {
   "cell_type": "code",
   "execution_count": 25,
   "metadata": {
    "collapsed": false
   },
   "outputs": [
    {
     "data": {
      "image/jpeg": "[encoded data removed]",
      "text/plain": [
       "<IPython.core.display.Image object>"
      ]
     },
     "execution_count": 25,
     "metadata": {},
     "output_type": "execute_result"
    }
   ],
   "source": [
    "Image(filename='../eda_sketches/sketch1.jpg') "
   ]
  },
  {
   "cell_type": "markdown",
   "metadata": {},
   "source": [
    "This is a normalized revenue graph, displaying the amount of revenue that genres have made over time."
   ]
  },
  {
   "cell_type": "code",
   "execution_count": 26,
   "metadata": {
    "collapsed": false
   },
   "outputs": [
    {
     "data": {
      "image/jpeg": "[encoded data removed]",
      "text/plain": [
       "<IPython.core.display.Image object>"
      ]
     },
     "execution_count": 26,
     "metadata": {},
     "output_type": "execute_result"
    }
   ],
   "source": [
    "Image(filename='../eda_sketches/sketch2.jpg') "
   ]
  },
  {
   "cell_type": "markdown",
   "metadata": {},
   "source": [
    "This graph is a color-coded line chart. This shows the distribution of secondary genres by main genres in comparison to each other genre."
   ]
  },
  {
   "cell_type": "code",
   "execution_count": 27,
   "metadata": {
    "collapsed": false
   },
   "outputs": [
    {
     "data": {
      "image/jpeg": "[encoded data removed]",
      "text/plain": [
       "<IPython.core.display.Image object>"
      ]
     },
     "execution_count": 27,
     "metadata": {},
     "output_type": "execute_result"
    }
   ],
   "source": [
    "Image(filename='../eda_sketches/sketch3.jpg') "
   ]
  },
  {
   "cell_type": "markdown",
   "metadata": {},
   "source": [
    "This graph is a bar graph that shows the frequency of other genres within a defined genre. For example, here we have the genre of “Adventure” along with all the subcategories that also exist within it."
   ]
  },
  {
   "cell_type": "code",
   "execution_count": 28,
   "metadata": {
    "collapsed": false
   },
   "outputs": [
    {
     "data": {
      "image/jpeg": "[encoded data removed]",
      "text/plain": [
       "<IPython.core.display.Image object>"
      ]
     },
     "execution_count": 28,
     "metadata": {},
     "output_type": "execute_result"
    }
   ],
   "source": [
    "Image(filename='../eda_sketches/sketch4.jpg') "
   ]
  },
  {
   "cell_type": "markdown",
   "metadata": {},
   "source": [
    "Finally, we have a treemap to show the relative amount of revenue by genre for a subset year."
   ]
  },
  {
   "cell_type": "markdown",
   "metadata": {},
   "source": [
    "# #7: A list of questions you could answer with this and related data. Get creative here!"
   ]
  },
  {
   "cell_type": "markdown",
   "metadata": {},
   "source": [
    "* Which movies are the most fluid across genres?\n",
    "* Which genres are most constrictive (i.e. does having genre X mean you're less likely to be paired with another genre?)\n",
    "* What pairing of movies genres are most likely to go together?\n",
    "* Do certain genre pairings result in higher amounts of revenue (e.g. \"action romance\" doing better than \"action\")?\n",
    "* Are there statistically significant differences in movie length by genre? For example, are comedies consistently lower?\n",
    "* Are there statistically significant differences in movie rating by movie length? Do people tend to like shorter movies more or longer movies more? How does this difference interact with genre?\n",
    "* What is the highest revenue per minute by genre (we could answer this by dividing average revenue by average movie length)?\n",
    "* Are adult films frequently labelled other genres? For example, are there such things as \"adult fantasy\" films and \"adult comedy\" films?\n",
    "* How do these english genre distributions compare versus a similar analysis done on a different language’s database? Are french movies, for instance, more likely to have different genre pairings than english movies?\n",
    "* How does genre density differ as a function of time? Are some genres more popular now vs. long ago? What about pairing of genres?\n",
    "* Does having an unoriginal movie title (e.g. \"300\") help revenue or hurt?\n",
    "* How has (normalized) revenue changed over time as a function of genre? What about popularity?"
   ]
  },
  {
   "cell_type": "markdown",
   "metadata": {},
   "source": [
    "# Milestone 2: Assembling training data, due Wednesday, April 12, 2017\n",
    "\n",
    "We are aware that you have little time this week, due to the midterm. So this milestone is a bit easier to achieve than the others. The goal for this week is to prepare the data for the modeling phase of the project. You should end up with a typical data setup of training data X and data labels Y.\n",
    "\n",
    "The exact form of X and Y depends on the ideas you had previously. In general though Y should involve the genre of a movie, and X the features you want to include to predict the genre. Remember from the lecture that more features does not necessarily equal better prediction performance. Use your application knowledge and the insight you gathered from your genre pair analysis and additional EDA to design Y. Do you want to include all genres? Are there genres that you assume to be easier to separate than others? Are there genres that could be grouped together? There is no one right answer here. We are looking for your insight, so be sure to describe your decision process in your notebook. \n",
    "\n",
    "In preparation for the deep learning part we strongly encourage you to have two sets of training data X, one with the metadata and one with the movie posters. Make sure to have a common key, like the movie ID, to be able to link the two sets together. Also be mindful of the data rate when you obtain the posters. Time your requests and choose which poster resolution you need. In most cases w500 should be sufficient, and probably a lower resolution will be fine.\n",
    "\n",
    "The notebook to submit this week should at least include:\n",
    "\n",
    "- **Discussion about the imbalanced nature of the data and how you want to address it**\n",
    "There is natural imabalance in our data because not every genre is represented in the same frequency on the TMDB 'discover' page. This is potentially because some genres (like action/adventure) are more popular with viewers and thus with producers than other genres (like documentaries). We discuss our choices in building our dataset with regard to this popularity imbalance in the following section. \n",
    "\n",
    "    We decided to perform a stratified sampling of our data because otherwise our poster dataframe would be too massive (700Gb). We want to downsize (scale) our dataset without changing the proportions of each of the genres in the original (large) dataset. To do this, we found the relative frequency of each movie genre in the entire dataset and then sampled according to these proportions. We ended up with a dataframe with 100 rows that has the same genre proportions as the big dataset.\n",
    "\n",
    "    We chose 100 because some genres appear only 1% or 2% in the dataset, so using any size lower than 50 would mean that we wouldn't sample any of these genres, thus teaching our model not to predict these genres in the first place.\n",
    "\n",
    "    Because of the imbalances we have in our data, we may want to explore combining some of the less-common genres such as Documentary and History into combined genres renamed as \"Informative\" for example (or Thriller and Horror into \"Scary\"). This will decrease the number of labels that we are predicting over and it makes our data less imbalanced by making sparse columns more populated. \n",
    "    \n",
    "- **Description of your data **\n",
    "As shown in our summary table of the first 28 pages, adventure, action, and drama are the most represented within the database whereas documentary, western, and TV Movie are the least represented among sample, again, as shown in our summary table later in the notebook. Because the imbalance, we will need to take special precautions when sampling.\n",
    "\n",
    "    It is important to note that the 28 pages of TMDB movies are the most popular movies on TMDB as determined by the website's 'popularity' metric. While we found that the 'discover' function was the most convenient way we could quickly scrape together the data of many different movies, it seems worthwhile to note that this may exacerbate imbalances in our data. For example, if documentaries are by some measure less entertaining and thus less popular (as determined by TMDB) than \"mainstream\" movies like action-dramas, then our data aggregation technique would naturally have a lower representation of documentaries. In this case, genre proportion would be driven by the overall popularity of the genre instead of the overal number of documentaries created relative to other genres. \n",
    "    \n",
    "    We don't believe that this is necessarily a bad thing for our data. It would simply mean that our universe of movies would be those that are most watched as opposed to those that are most made. This scheme has the added benefit that those movies that are more watched likely have fewer missing data. \n",
    "    \n",
    "    Furthermore, there is a technical constraint on shifting our universe to those that are most made. Because we believe (uncontroversially) that most movies are flops that few people have ever watched, we would need to scrape the movie data of a significantly higher number of movies in order to achieve a workable dataset. Furthremore, the 'discover' function in the API may not be enough, and we might need to slowly crawl through the alphabet to pick up those movies which don't appear on any of the pre-made pages by TMDB. While this may be an interesting problem to tackle, we think that the potential marginal benefit to this approach is not enough to greatly change the scope of the project. Thus, we will choose to continue to use a popularity-based approach. "
   ]
  },
  {
   "cell_type": "markdown",
   "metadata": {},
   "source": [
    "- **How do you sample your data, how many samples, and why?**\n",
    "Here, for our test sample, we selected the first 28 pages of data. Beyond this amount, certain catagories ran out of data to then fairly sample from all genres and get a unified sample set. We took 100 samples from our original data of 500+ movies. \n",
    "\n",
    "    We then calculated and stored the genre proportions in our complete 28-page data. We then performed simple random sampling where we sampled each of the genres individually according to the previously calculated proportions. For instance, if 15% of our movies were \"Action\" in our 28-page dataset, we would sample 15 movies from our action movies in the original dataset. This would preserve the genre proportions in our new dataset while scaling down the size of our training data, thereby making it more tractable to train our models for our images. "
   ]
  },
  {
   "cell_type": "markdown",
   "metadata": {},
   "source": [
    "- **What does your choice of Y look like?**\n",
    "We decided for our Y that we would keep all of the genres that were labeled in TMDB. We decided to keep 18 of our 19 original genres (1 genre had extremely low occurence - just 1 data point). This means that when we make predictions, we will need to predict multiple lables (likely multiple bernoulli decisions, i.e. we will give a probability for all of the different genres. Because movie can have more than one genres, these selections are not mutually exclusive.) We will then predict the movie genres that are over 50% or we will take the top 2,3,4 or 5 genres as predictions. We might also take in our model the number of genres that the movie truly has. This will then make us only predict that number of genres (so we will take the four genres that are most likely). \n",
    "\n",
    "\n",
    " - **Which features do you choose for X and why?**\n",
    "For our X, we wanted to take in features that we believed would be predictive of our response variable. \n",
    "\n",
    "    For our metadata, we chose to use variables such as the movie description, popularity, title, and vote average. We believe that each of These would have some predictive power in our model. In addition, we expanded our feature set beyond the suggested features by finding the director of each movie and the leading 3 actors. We did this by crawling  through the credits of each movie and then crawling through the list of cast members and crew members. We think that the leading actors and directors should give us improved predictive ability because most actors work on similar-type movies that would have similar genres, and many directors have specialties in movie production that would lead them to make more or less of certain genres (e.g. Michael Bay loves explosions - action). \n",
    "\n",
    "    Similarly, we took data from the poster path and the backdrop. This allows us to access the individual posters themselves and then use them in our machine learning analysis. We can also augment our poster image data with our metadata features, but this is something that we can continue to explore going forward. \n",
    "\n",
    "- **Next Steps** In the next milestone, we hope to incorporate priors into our models which indicate a priori prevalence of genre pairings. This is particularly important because when we are performing stratified sampling, we are using the genre proportions that are from only 28 pages of data. Thus, for more uncommon genres, there is high variance in simply applying a frequentist estimate of genre likelihood (e.g. the true proportion of documentaries could be 5% of movies, but in a sample of 500 movies it's very plausible that we could have only seen 10 documentaries (2% of sample). "
   ]
  },
  {
   "cell_type": "code",
   "execution_count": 29,
   "metadata": {
    "collapsed": false
   },
   "outputs": [],
   "source": [
    "# scrape the data\n",
    "discover = tmdb.Discover()\n",
    "base_url  = \"https://image.tmdb.org/t/p/w500\"\n",
    "\n",
    "d_metadata = []\n",
    "d_poster = [] \n",
    "\n",
    "# set to 20 to get more data\n",
    "NUM_PAGES = 28\n",
    "\n",
    "for p in range(1, NUM_PAGES):\n",
    "    # find all movies on a given page\n",
    "    discover.movie(page = p)\n",
    "    \n",
    "    ## note that discover results is a list of dicts\n",
    "    ## we are iterating through a page and getting each individual movie's information \n",
    "    for movie in discover.results:\n",
    "        \n",
    "        # get list of cast and crew (contains directors)\n",
    "        credits = tmdb.Movies(movie['id']).credits()\n",
    "        \n",
    "        # cycle through cast to extract 3 lead actors\n",
    "        cast = credits['cast']\n",
    "        actor_lst = []\n",
    "        count = 0\n",
    "        for actor in cast:\n",
    "            actor_lst.append(actor['name'])\n",
    "            count = count + 1\n",
    "            if count >= 3:\n",
    "                break\n",
    "        \n",
    "        # cycle through crew to extract director\n",
    "        crew = credits['crew']\n",
    "        for person in crew:\n",
    "            if person['job'] == 'Director':\n",
    "                director = person['name']\n",
    "                break\n",
    "            \n",
    "        d_metadata.append({\"movie_id\": movie[\"id\"],\n",
    "                           \"title\": movie[\"title\"], \n",
    "                           \"overview\": movie[\"overview\"],\n",
    "                           \"poster_path\": movie[\"poster_path\"],\n",
    "                           \"release_date\": movie[\"release_date\"],\n",
    "                           \"vote_count\": movie[\"vote_count\"],\n",
    "                           \"popularity\": movie[\"popularity\"],\n",
    "                           \"video\": movie[\"video\"],\n",
    "                           \"adult\": movie[\"adult\"],\n",
    "                           \"vote_average\": movie[\"vote_average\"],\n",
    "                           \"genre_ids\": movie[\"genre_ids\"], \n",
    "                           \"lead actors\": actor_lst, \n",
    "                           \"director\": director\n",
    "                          })\n",
    "                \n",
    "        d_poster.append({\"movie_id\": movie[\"id\"],\n",
    "                         \"title\": movie[\"title\"], \n",
    "                         \"genre_ids\": movie[\"genre_ids\"], \n",
    "                         \"poster_url\": base_url + str(movie[\"poster_path\"])\n",
    "                        })\n",
    "        \n",
    "        # uncomment when extracting large amounts of data \n",
    "        time.sleep(2)\n",
    "\n",
    "# metaframe df\n",
    "df_metadata = pd.DataFrame(d_metadata)\n",
    "\n",
    "# poster df for neural nets\n",
    "df_poster = pd.DataFrame(d_poster)"
   ]
  },
  {
   "cell_type": "code",
   "execution_count": 51,
   "metadata": {
    "collapsed": false
   },
   "outputs": [
    {
     "name": "stdout",
     "output_type": "stream",
     "text": [
      "(540, 13)\n"
     ]
    },
    {
     "data": {
      "text/html": [
       "<div>\n",
       "<table border=\"1\" class=\"dataframe\">\n",
       "  <thead>\n",
       "    <tr style=\"text-align: right;\">\n",
       "      <th></th>\n",
       "      <th>adult</th>\n",
       "      <th>director</th>\n",
       "      <th>genre_ids</th>\n",
       "      <th>lead actors</th>\n",
       "      <th>movie_id</th>\n",
       "      <th>overview</th>\n",
       "      <th>popularity</th>\n",
       "      <th>poster_path</th>\n",
       "      <th>release_date</th>\n",
       "      <th>title</th>\n",
       "      <th>video</th>\n",
       "      <th>vote_average</th>\n",
       "      <th>vote_count</th>\n",
       "    </tr>\n",
       "  </thead>\n",
       "  <tbody>\n",
       "    <tr>\n",
       "      <th>0</th>\n",
       "      <td>False</td>\n",
       "      <td>Tom McGrath</td>\n",
       "      <td>[16, 35, 10751]</td>\n",
       "      <td>[Alec Baldwin, Miles Bakshi, Jimmy Kimmel]</td>\n",
       "      <td>295693</td>\n",
       "      <td>A story about how a new baby's arrival impacts...</td>\n",
       "      <td>305.881041</td>\n",
       "      <td>/unPB1iyEeTBcKiLg8W083rlViFH.jpg</td>\n",
       "      <td>2017-03-23</td>\n",
       "      <td>The Boss Baby</td>\n",
       "      <td>False</td>\n",
       "      <td>5.7</td>\n",
       "      <td>510</td>\n",
       "    </tr>\n",
       "  </tbody>\n",
       "</table>\n",
       "</div>"
      ],
      "text/plain": [
       "   adult     director        genre_ids  \\\n",
       "0  False  Tom McGrath  [16, 35, 10751]   \n",
       "\n",
       "                                  lead actors  movie_id  \\\n",
       "0  [Alec Baldwin, Miles Bakshi, Jimmy Kimmel]    295693   \n",
       "\n",
       "                                            overview  popularity  \\\n",
       "0  A story about how a new baby's arrival impacts...  305.881041   \n",
       "\n",
       "                        poster_path release_date          title  video  \\\n",
       "0  /unPB1iyEeTBcKiLg8W083rlViFH.jpg   2017-03-23  The Boss Baby  False   \n",
       "\n",
       "   vote_average  vote_count  \n",
       "0           5.7         510  "
      ]
     },
     "execution_count": 51,
     "metadata": {},
     "output_type": "execute_result"
    }
   ],
   "source": [
    "print df_metadata.shape\n",
    "df_metadata.head(1)\n",
    "# df_metadata.to_csv(\"../data/df_metadata.csv\")"
   ]
  },
  {
   "cell_type": "code",
   "execution_count": 57,
   "metadata": {
    "collapsed": false
   },
   "outputs": [],
   "source": [
    "df_metadata.poster_path = map(lambda path: path.encode(\"utf-8\"), df_metadata.poster_path)\n",
    "df_metadata.overview = map(lambda overview: overview.encode(\"utf-8\"), df_metadata.overview)"
   ]
  },
  {
   "cell_type": "code",
   "execution_count": 61,
   "metadata": {
    "collapsed": false
   },
   "outputs": [
    {
     "data": {
      "text/plain": [
       "Index([u'adult', u'director', u'genre_ids', u'lead actors', u'movie_id',\n",
       "       u'overview', u'popularity', u'poster_path', u'release_date', u'title',\n",
       "       u'video', u'vote_average', u'vote_count'],\n",
       "      dtype='object')"
      ]
     },
     "execution_count": 61,
     "metadata": {},
     "output_type": "execute_result"
    }
   ],
   "source": [
    "df_metadata.columns"
   ]
  },
  {
   "cell_type": "code",
   "execution_count": 72,
   "metadata": {
    "collapsed": false
   },
   "outputs": [],
   "source": [
    "# fix a weird ascii encoding issue\n",
    "for col in [\"director\", \"overview\"]:\n",
    "    df_metadata[col] = map(lambda x: str(x), df_metadata[col])"
   ]
  },
  {
   "cell_type": "code",
   "execution_count": 74,
   "metadata": {
    "collapsed": true
   },
   "outputs": [],
   "source": [
    "df_metadata_dummies = df_metadata.genre_ids.astype(str).str.strip('[]').str.get_dummies(', ')\n",
    "df_metadata_dummies.columns = df_metadata_dummies.columns.str.strip(\"'\")\n",
    "\n",
    "df_meta_movie_instance = df_metadata_dummies.apply(pd.value_counts).fillna(0)\n",
    "df_meta_movie_instance = df_meta_movie_instance.drop(df_meta_movie_instance.index[0])\n",
    "\n",
    "colnames = list(df_metadata_dummies.columns) + list(df_metadata.columns)\n",
    "combined_df = pd.DataFrame(pd.concat([df_metadata_dummies, df_metadata], axis = 1),\n",
    "                      columns = colnames)"
   ]
  },
  {
   "cell_type": "code",
   "execution_count": 76,
   "metadata": {
    "collapsed": false
   },
   "outputs": [
    {
     "data": {
      "text/html": [
       "<div>\n",
       "<table border=\"1\" class=\"dataframe\">\n",
       "  <thead>\n",
       "    <tr style=\"text-align: right;\">\n",
       "      <th></th>\n",
       "      <th>10402</th>\n",
       "      <th>10749</th>\n",
       "      <th>10751</th>\n",
       "      <th>10752</th>\n",
       "      <th>12</th>\n",
       "      <th>14</th>\n",
       "      <th>16</th>\n",
       "      <th>18</th>\n",
       "      <th>27</th>\n",
       "      <th>28</th>\n",
       "      <th>...</th>\n",
       "      <th>lead actors</th>\n",
       "      <th>movie_id</th>\n",
       "      <th>overview</th>\n",
       "      <th>popularity</th>\n",
       "      <th>poster_path</th>\n",
       "      <th>release_date</th>\n",
       "      <th>title</th>\n",
       "      <th>video</th>\n",
       "      <th>vote_average</th>\n",
       "      <th>vote_count</th>\n",
       "    </tr>\n",
       "  </thead>\n",
       "  <tbody>\n",
       "    <tr>\n",
       "      <th>0</th>\n",
       "      <td>0</td>\n",
       "      <td>0</td>\n",
       "      <td>1</td>\n",
       "      <td>0</td>\n",
       "      <td>0</td>\n",
       "      <td>0</td>\n",
       "      <td>1</td>\n",
       "      <td>0</td>\n",
       "      <td>0</td>\n",
       "      <td>0</td>\n",
       "      <td>...</td>\n",
       "      <td>[Alec Baldwin, Miles Bakshi, Jimmy Kimmel]</td>\n",
       "      <td>295693</td>\n",
       "      <td>A story about how a new baby's arrival impacts...</td>\n",
       "      <td>305.881041</td>\n",
       "      <td>/unPB1iyEeTBcKiLg8W083rlViFH.jpg</td>\n",
       "      <td>2017-03-23</td>\n",
       "      <td>The Boss Baby</td>\n",
       "      <td>False</td>\n",
       "      <td>5.7</td>\n",
       "      <td>510</td>\n",
       "    </tr>\n",
       "  </tbody>\n",
       "</table>\n",
       "<p>1 rows × 30 columns</p>\n",
       "</div>"
      ],
      "text/plain": [
       "   10402  10749  10751  10752  12  14  16  18  27  28    ...      \\\n",
       "0      0      0      1      0   0   0   1   0   0   0    ...       \n",
       "\n",
       "                                  lead actors  movie_id  \\\n",
       "0  [Alec Baldwin, Miles Bakshi, Jimmy Kimmel]    295693   \n",
       "\n",
       "                                            overview  popularity  \\\n",
       "0  A story about how a new baby's arrival impacts...  305.881041   \n",
       "\n",
       "                        poster_path  release_date          title  video  \\\n",
       "0  /unPB1iyEeTBcKiLg8W083rlViFH.jpg    2017-03-23  The Boss Baby  False   \n",
       "\n",
       "  vote_average vote_count  \n",
       "0          5.7        510  \n",
       "\n",
       "[1 rows x 30 columns]"
      ]
     },
     "execution_count": 76,
     "metadata": {},
     "output_type": "execute_result"
    }
   ],
   "source": [
    "combined_df.head(1)"
   ]
  },
  {
   "cell_type": "code",
   "execution_count": 78,
   "metadata": {
    "collapsed": false
   },
   "outputs": [
    {
     "data": {
      "text/plain": [
       "Index([u'10402', u'10749', u'10751', u'10752', u'12', u'14', u'16', u'18',\n",
       "       u'27', u'28', u'35', u'36', u'37', u'53', u'80', u'878', u'9648',\n",
       "       u'adult', u'director', u'genre_ids', u'lead actors', u'movie_id',\n",
       "       u'overview', u'popularity', u'poster_path', u'release_date', u'title',\n",
       "       u'video', u'vote_average', u'vote_count'],\n",
       "      dtype='object')"
      ]
     },
     "execution_count": 78,
     "metadata": {},
     "output_type": "execute_result"
    }
   ],
   "source": [
    "combined_df.columns"
   ]
  },
  {
   "cell_type": "code",
   "execution_count": 79,
   "metadata": {
    "collapsed": true
   },
   "outputs": [],
   "source": [
    "combined_df.drop(\"genre_ids\", axis = 1, inplace = True)"
   ]
  },
  {
   "cell_type": "code",
   "execution_count": 80,
   "metadata": {
    "collapsed": true
   },
   "outputs": [],
   "source": [
    "combined_df.to_csv(\"../data/train.csv\")"
   ]
  },
  {
   "cell_type": "code",
   "execution_count": 31,
   "metadata": {
    "collapsed": false
   },
   "outputs": [
    {
     "data": {
      "text/html": [
       "<div>\n",
       "<table border=\"1\" class=\"dataframe\">\n",
       "  <thead>\n",
       "    <tr style=\"text-align: right;\">\n",
       "      <th></th>\n",
       "      <th>genre_ids</th>\n",
       "      <th>movie_id</th>\n",
       "      <th>poster_url</th>\n",
       "      <th>title</th>\n",
       "    </tr>\n",
       "  </thead>\n",
       "  <tbody>\n",
       "    <tr>\n",
       "      <th>0</th>\n",
       "      <td>[16, 35, 10751]</td>\n",
       "      <td>295693</td>\n",
       "      <td>https://image.tmdb.org/t/p/w500/unPB1iyEeTBcKi...</td>\n",
       "      <td>The Boss Baby</td>\n",
       "    </tr>\n",
       "  </tbody>\n",
       "</table>\n",
       "</div>"
      ],
      "text/plain": [
       "         genre_ids  movie_id  \\\n",
       "0  [16, 35, 10751]    295693   \n",
       "\n",
       "                                          poster_url          title  \n",
       "0  https://image.tmdb.org/t/p/w500/unPB1iyEeTBcKi...  The Boss Baby  "
      ]
     },
     "execution_count": 31,
     "metadata": {},
     "output_type": "execute_result"
    }
   ],
   "source": [
    "# inspect data\n",
    "df_poster.head(1)"
   ]
  },
  {
   "cell_type": "code",
   "execution_count": 32,
   "metadata": {
    "collapsed": false
   },
   "outputs": [],
   "source": [
    "# dummifies list of genres, placing genres in new columns\n",
    "df_dummies = df_poster.genre_ids.astype(str).str.strip('[]').str.get_dummies(', ')\n",
    "df_dummies.columns = df_dummies.columns.str.strip(\"'\")"
   ]
  },
  {
   "cell_type": "code",
   "execution_count": 33,
   "metadata": {
    "collapsed": true
   },
   "outputs": [],
   "source": [
    "# get number of occurences in dataset and remove nulls\n",
    "df_movie_instance = df_dummies.apply(pd.value_counts).fillna(0)\n",
    "df_movie_instance = df_movie_instance.drop(df_movie_instance.index[0])"
   ]
  },
  {
   "cell_type": "code",
   "execution_count": 34,
   "metadata": {
    "collapsed": false
   },
   "outputs": [
    {
     "data": {
      "text/html": [
       "<div>\n",
       "<table border=\"1\" class=\"dataframe\">\n",
       "  <thead>\n",
       "    <tr style=\"text-align: right;\">\n",
       "      <th></th>\n",
       "      <th>10402</th>\n",
       "      <th>10749</th>\n",
       "      <th>10751</th>\n",
       "      <th>10752</th>\n",
       "      <th>12</th>\n",
       "      <th>14</th>\n",
       "      <th>16</th>\n",
       "      <th>18</th>\n",
       "      <th>27</th>\n",
       "      <th>28</th>\n",
       "      <th>35</th>\n",
       "      <th>36</th>\n",
       "      <th>37</th>\n",
       "      <th>53</th>\n",
       "      <th>80</th>\n",
       "      <th>878</th>\n",
       "      <th>9648</th>\n",
       "    </tr>\n",
       "  </thead>\n",
       "  <tbody>\n",
       "    <tr>\n",
       "      <th>1</th>\n",
       "      <td>8</td>\n",
       "      <td>57</td>\n",
       "      <td>85</td>\n",
       "      <td>21</td>\n",
       "      <td>214</td>\n",
       "      <td>116</td>\n",
       "      <td>63</td>\n",
       "      <td>187</td>\n",
       "      <td>36</td>\n",
       "      <td>233</td>\n",
       "      <td>113</td>\n",
       "      <td>15</td>\n",
       "      <td>8</td>\n",
       "      <td>176</td>\n",
       "      <td>73</td>\n",
       "      <td>131</td>\n",
       "      <td>49</td>\n",
       "    </tr>\n",
       "  </tbody>\n",
       "</table>\n",
       "</div>"
      ],
      "text/plain": [
       "   10402  10749  10751  10752   12   14  16   18  27   28   35  36  37   53  \\\n",
       "1      8     57     85     21  214  116  63  187  36  233  113  15   8  176   \n",
       "\n",
       "   80  878  9648  \n",
       "1  73  131    49  "
      ]
     },
     "execution_count": 34,
     "metadata": {},
     "output_type": "execute_result"
    }
   ],
   "source": [
    "df_movie_instance"
   ]
  },
  {
   "cell_type": "code",
   "execution_count": 35,
   "metadata": {
    "collapsed": false
   },
   "outputs": [
    {
     "data": {
      "text/html": [
       "<div>\n",
       "<table border=\"1\" class=\"dataframe\">\n",
       "  <thead>\n",
       "    <tr style=\"text-align: right;\">\n",
       "      <th></th>\n",
       "      <th>10402</th>\n",
       "      <th>10749</th>\n",
       "      <th>10751</th>\n",
       "      <th>10752</th>\n",
       "      <th>12</th>\n",
       "      <th>14</th>\n",
       "      <th>16</th>\n",
       "      <th>18</th>\n",
       "      <th>27</th>\n",
       "      <th>28</th>\n",
       "      <th>35</th>\n",
       "      <th>36</th>\n",
       "      <th>37</th>\n",
       "      <th>53</th>\n",
       "      <th>80</th>\n",
       "      <th>878</th>\n",
       "      <th>9648</th>\n",
       "    </tr>\n",
       "  </thead>\n",
       "  <tbody>\n",
       "    <tr>\n",
       "      <th>0</th>\n",
       "      <td>0</td>\n",
       "      <td>0</td>\n",
       "      <td>1</td>\n",
       "      <td>0</td>\n",
       "      <td>0</td>\n",
       "      <td>0</td>\n",
       "      <td>1</td>\n",
       "      <td>0</td>\n",
       "      <td>0</td>\n",
       "      <td>0</td>\n",
       "      <td>1</td>\n",
       "      <td>0</td>\n",
       "      <td>0</td>\n",
       "      <td>0</td>\n",
       "      <td>0</td>\n",
       "      <td>0</td>\n",
       "      <td>0</td>\n",
       "    </tr>\n",
       "    <tr>\n",
       "      <th>1</th>\n",
       "      <td>1</td>\n",
       "      <td>1</td>\n",
       "      <td>0</td>\n",
       "      <td>0</td>\n",
       "      <td>0</td>\n",
       "      <td>1</td>\n",
       "      <td>0</td>\n",
       "      <td>0</td>\n",
       "      <td>0</td>\n",
       "      <td>0</td>\n",
       "      <td>0</td>\n",
       "      <td>0</td>\n",
       "      <td>0</td>\n",
       "      <td>0</td>\n",
       "      <td>0</td>\n",
       "      <td>0</td>\n",
       "      <td>0</td>\n",
       "    </tr>\n",
       "  </tbody>\n",
       "</table>\n",
       "</div>"
      ],
      "text/plain": [
       "   10402  10749  10751  10752  12  14  16  18  27  28  35  36  37  53  80  \\\n",
       "0      0      0      1      0   0   0   1   0   0   0   1   0   0   0   0   \n",
       "1      1      1      0      0   0   1   0   0   0   0   0   0   0   0   0   \n",
       "\n",
       "   878  9648  \n",
       "0    0     0  \n",
       "1    0     0  "
      ]
     },
     "execution_count": 35,
     "metadata": {},
     "output_type": "execute_result"
    }
   ],
   "source": [
    "df_dummies.head(2)"
   ]
  },
  {
   "cell_type": "code",
   "execution_count": 36,
   "metadata": {
    "collapsed": false
   },
   "outputs": [
    {
     "data": {
      "text/html": [
       "<div>\n",
       "<table border=\"1\" class=\"dataframe\">\n",
       "  <thead>\n",
       "    <tr style=\"text-align: right;\">\n",
       "      <th></th>\n",
       "      <th>10402</th>\n",
       "      <th>10749</th>\n",
       "      <th>10751</th>\n",
       "      <th>10752</th>\n",
       "      <th>12</th>\n",
       "      <th>14</th>\n",
       "      <th>16</th>\n",
       "      <th>18</th>\n",
       "      <th>27</th>\n",
       "      <th>28</th>\n",
       "      <th>...</th>\n",
       "      <th>36</th>\n",
       "      <th>37</th>\n",
       "      <th>53</th>\n",
       "      <th>80</th>\n",
       "      <th>878</th>\n",
       "      <th>9648</th>\n",
       "      <th>genre_ids</th>\n",
       "      <th>movie_id</th>\n",
       "      <th>poster_url</th>\n",
       "      <th>title</th>\n",
       "    </tr>\n",
       "  </thead>\n",
       "  <tbody>\n",
       "    <tr>\n",
       "      <th>0</th>\n",
       "      <td>0</td>\n",
       "      <td>0</td>\n",
       "      <td>1</td>\n",
       "      <td>0</td>\n",
       "      <td>0</td>\n",
       "      <td>0</td>\n",
       "      <td>1</td>\n",
       "      <td>0</td>\n",
       "      <td>0</td>\n",
       "      <td>0</td>\n",
       "      <td>...</td>\n",
       "      <td>0</td>\n",
       "      <td>0</td>\n",
       "      <td>0</td>\n",
       "      <td>0</td>\n",
       "      <td>0</td>\n",
       "      <td>0</td>\n",
       "      <td>[16, 35, 10751]</td>\n",
       "      <td>295693</td>\n",
       "      <td>https://image.tmdb.org/t/p/w500/unPB1iyEeTBcKi...</td>\n",
       "      <td>The Boss Baby</td>\n",
       "    </tr>\n",
       "    <tr>\n",
       "      <th>1</th>\n",
       "      <td>1</td>\n",
       "      <td>1</td>\n",
       "      <td>0</td>\n",
       "      <td>0</td>\n",
       "      <td>0</td>\n",
       "      <td>1</td>\n",
       "      <td>0</td>\n",
       "      <td>0</td>\n",
       "      <td>0</td>\n",
       "      <td>0</td>\n",
       "      <td>...</td>\n",
       "      <td>0</td>\n",
       "      <td>0</td>\n",
       "      <td>0</td>\n",
       "      <td>0</td>\n",
       "      <td>0</td>\n",
       "      <td>0</td>\n",
       "      <td>[14, 10402, 10749]</td>\n",
       "      <td>321612</td>\n",
       "      <td>https://image.tmdb.org/t/p/w500/tWqifoYuwLETmm...</td>\n",
       "      <td>Beauty and the Beast</td>\n",
       "    </tr>\n",
       "  </tbody>\n",
       "</table>\n",
       "<p>2 rows × 21 columns</p>\n",
       "</div>"
      ],
      "text/plain": [
       "   10402  10749  10751  10752  12  14  16  18  27  28          ...           \\\n",
       "0      0      0      1      0   0   0   1   0   0   0          ...            \n",
       "1      1      1      0      0   0   1   0   0   0   0          ...            \n",
       "\n",
       "   36  37  53  80  878  9648           genre_ids movie_id  \\\n",
       "0   0   0   0   0    0     0     [16, 35, 10751]   295693   \n",
       "1   0   0   0   0    0     0  [14, 10402, 10749]   321612   \n",
       "\n",
       "                                          poster_url                 title  \n",
       "0  https://image.tmdb.org/t/p/w500/unPB1iyEeTBcKi...         The Boss Baby  \n",
       "1  https://image.tmdb.org/t/p/w500/tWqifoYuwLETmm...  Beauty and the Beast  \n",
       "\n",
       "[2 rows x 21 columns]"
      ]
     },
     "execution_count": 36,
     "metadata": {},
     "output_type": "execute_result"
    }
   ],
   "source": [
    "# create the dataframe that will be sampled\n",
    "colnames = list(df_dummies.columns) + list(df_poster.columns)\n",
    "\n",
    "to_sample = pd.DataFrame(pd.concat([df_dummies, df_poster], axis = 1),\n",
    "                      columns = colnames)\n",
    "to_sample.head(2)"
   ]
  },
  {
   "cell_type": "code",
   "execution_count": 37,
   "metadata": {
    "collapsed": false
   },
   "outputs": [],
   "source": [
    "# relative freq for each movie genre\n",
    "total_cnt = df_movie_instance.sum(axis = 1).iloc[0]\n",
    "movie_percentages = df_movie_instance.divide(total_cnt).round(2)"
   ]
  },
  {
   "cell_type": "code",
   "execution_count": 38,
   "metadata": {
    "collapsed": false
   },
   "outputs": [],
   "source": [
    "# perform stratified sampling\n",
    "# rename columns\n",
    "SAMPLE_SIZE = 100\n",
    "sampled_df = pd.DataFrame({})\n",
    "\n",
    "available_genres = map(int, df_dummies.columns)\n",
    "\n",
    "while available_genres:\n",
    "    key = available_genres.pop(0)\n",
    "    n_rows = SAMPLE_SIZE * movie_percentages[str(key)].iloc[0]\n",
    "    relevant_rows = to_sample[to_sample[str(key)] == 1]\n",
    "    sampled_rows = relevant_rows.sample(n = int(n_rows))\n",
    "    \n",
    "    # redo sampling\n",
    "    if len(sampled_df) > 0 and len(pd.merge(sampled_df, sampled_rows, on=\"movie_id\")) > 0:\n",
    "        available_genres.append(key)\n",
    "        continue\n",
    "    \n",
    "    sampled_df = sampled_df.append(sampled_rows)"
   ]
  },
  {
   "cell_type": "code",
   "execution_count": 39,
   "metadata": {
    "collapsed": false
   },
   "outputs": [
    {
     "data": {
      "text/html": [
       "<div>\n",
       "<table border=\"1\" class=\"dataframe\">\n",
       "  <thead>\n",
       "    <tr style=\"text-align: right;\">\n",
       "      <th></th>\n",
       "      <th>index</th>\n",
       "      <th>10402</th>\n",
       "      <th>10749</th>\n",
       "      <th>10751</th>\n",
       "      <th>10752</th>\n",
       "      <th>12</th>\n",
       "      <th>14</th>\n",
       "      <th>16</th>\n",
       "      <th>18</th>\n",
       "      <th>27</th>\n",
       "      <th>...</th>\n",
       "      <th>36</th>\n",
       "      <th>37</th>\n",
       "      <th>53</th>\n",
       "      <th>80</th>\n",
       "      <th>878</th>\n",
       "      <th>9648</th>\n",
       "      <th>genre_ids</th>\n",
       "      <th>movie_id</th>\n",
       "      <th>poster_url</th>\n",
       "      <th>title</th>\n",
       "    </tr>\n",
       "  </thead>\n",
       "  <tbody>\n",
       "    <tr>\n",
       "      <th>0</th>\n",
       "      <td>20</td>\n",
       "      <td>1</td>\n",
       "      <td>1</td>\n",
       "      <td>0</td>\n",
       "      <td>0</td>\n",
       "      <td>0</td>\n",
       "      <td>0</td>\n",
       "      <td>0</td>\n",
       "      <td>1</td>\n",
       "      <td>0</td>\n",
       "      <td>...</td>\n",
       "      <td>0</td>\n",
       "      <td>0</td>\n",
       "      <td>0</td>\n",
       "      <td>0</td>\n",
       "      <td>0</td>\n",
       "      <td>0</td>\n",
       "      <td>[35, 18, 10402, 10749]</td>\n",
       "      <td>313369</td>\n",
       "      <td>https://image.tmdb.org/t/p/w500/ylXCdC106IKiar...</td>\n",
       "      <td>La La Land</td>\n",
       "    </tr>\n",
       "    <tr>\n",
       "      <th>1</th>\n",
       "      <td>441</td>\n",
       "      <td>0</td>\n",
       "      <td>1</td>\n",
       "      <td>0</td>\n",
       "      <td>0</td>\n",
       "      <td>0</td>\n",
       "      <td>0</td>\n",
       "      <td>0</td>\n",
       "      <td>1</td>\n",
       "      <td>0</td>\n",
       "      <td>...</td>\n",
       "      <td>0</td>\n",
       "      <td>0</td>\n",
       "      <td>0</td>\n",
       "      <td>0</td>\n",
       "      <td>0</td>\n",
       "      <td>0</td>\n",
       "      <td>[18, 10749]</td>\n",
       "      <td>453</td>\n",
       "      <td>https://image.tmdb.org/t/p/w500/4SFqHDZ1NvWdys...</td>\n",
       "      <td>A Beautiful Mind</td>\n",
       "    </tr>\n",
       "  </tbody>\n",
       "</table>\n",
       "<p>2 rows × 22 columns</p>\n",
       "</div>"
      ],
      "text/plain": [
       "   index  10402  10749  10751  10752  12  14  16  18  27        ...         \\\n",
       "0     20      1      1      0      0   0   0   0   1   0        ...          \n",
       "1    441      0      1      0      0   0   0   0   1   0        ...          \n",
       "\n",
       "   36  37  53  80  878  9648               genre_ids  movie_id  \\\n",
       "0   0   0   0   0    0     0  [35, 18, 10402, 10749]    313369   \n",
       "1   0   0   0   0    0     0             [18, 10749]       453   \n",
       "\n",
       "                                          poster_url             title  \n",
       "0  https://image.tmdb.org/t/p/w500/ylXCdC106IKiar...        La La Land  \n",
       "1  https://image.tmdb.org/t/p/w500/4SFqHDZ1NvWdys...  A Beautiful Mind  \n",
       "\n",
       "[2 rows x 22 columns]"
      ]
     },
     "execution_count": 39,
     "metadata": {},
     "output_type": "execute_result"
    }
   ],
   "source": [
    "# look at sampled df\n",
    "sampled_df = sampled_df.reset_index()\n",
    "sampled_df.head(2)"
   ]
  },
  {
   "cell_type": "code",
   "execution_count": 40,
   "metadata": {
    "collapsed": true
   },
   "outputs": [],
   "source": [
    "# renaming ids to genre names\n",
    "column_names = {'12': 'Adventure',\n",
    " '14': 'Fantasy',\n",
    " '16': 'Animation',\n",
    " '18': 'Drama',\n",
    " '27': 'Horror',\n",
    " '28': 'Action',\n",
    " '35': 'Comedy',\n",
    " '36': 'History',\n",
    " '37': 'Western',\n",
    " '53': 'Thriller',\n",
    " '80': 'Crime',\n",
    " '99': 'Documentary',\n",
    " '878': 'Science Fiction',\n",
    " '9648': 'Mystery',\n",
    " '10402': 'Music',\n",
    " '10749': 'Romance',\n",
    " '10751': 'Family',\n",
    " '10752': 'War',\n",
    " '10770': 'TV Movie'}\n",
    "\n",
    "# format\n",
    "movie_percentages = movie_percentages.rename(columns=column_names).T.rename(columns={1: 'Percentage'})"
   ]
  },
  {
   "cell_type": "code",
   "execution_count": 41,
   "metadata": {
    "collapsed": false
   },
   "outputs": [
    {
     "data": {
      "text/html": [
       "<div>\n",
       "<table border=\"1\" class=\"dataframe\">\n",
       "  <thead>\n",
       "    <tr style=\"text-align: right;\">\n",
       "      <th></th>\n",
       "      <th>Percentage</th>\n",
       "    </tr>\n",
       "  </thead>\n",
       "  <tbody>\n",
       "    <tr>\n",
       "      <th>count</th>\n",
       "      <td>17.000000</td>\n",
       "    </tr>\n",
       "    <tr>\n",
       "      <th>mean</th>\n",
       "      <td>0.059412</td>\n",
       "    </tr>\n",
       "    <tr>\n",
       "      <th>std</th>\n",
       "      <td>0.046566</td>\n",
       "    </tr>\n",
       "    <tr>\n",
       "      <th>min</th>\n",
       "      <td>0.010000</td>\n",
       "    </tr>\n",
       "    <tr>\n",
       "      <th>25%</th>\n",
       "      <td>0.020000</td>\n",
       "    </tr>\n",
       "    <tr>\n",
       "      <th>50%</th>\n",
       "      <td>0.050000</td>\n",
       "    </tr>\n",
       "    <tr>\n",
       "      <th>75%</th>\n",
       "      <td>0.080000</td>\n",
       "    </tr>\n",
       "    <tr>\n",
       "      <th>max</th>\n",
       "      <td>0.150000</td>\n",
       "    </tr>\n",
       "  </tbody>\n",
       "</table>\n",
       "</div>"
      ],
      "text/plain": [
       "       Percentage\n",
       "count   17.000000\n",
       "mean     0.059412\n",
       "std      0.046566\n",
       "min      0.010000\n",
       "25%      0.020000\n",
       "50%      0.050000\n",
       "75%      0.080000\n",
       "max      0.150000"
      ]
     },
     "execution_count": 41,
     "metadata": {},
     "output_type": "execute_result"
    }
   ],
   "source": [
    "movie_percentages.describe()"
   ]
  },
  {
   "cell_type": "code",
   "execution_count": 42,
   "metadata": {
    "collapsed": false
   },
   "outputs": [
    {
     "data": {
      "text/plain": [
       "Music              0.01\n",
       "Western            0.01\n",
       "History            0.01\n",
       "War                0.01\n",
       "Horror             0.02\n",
       "Mystery            0.03\n",
       "Animation          0.04\n",
       "Romance            0.04\n",
       "Family             0.05\n",
       "Crime              0.05\n",
       "Fantasy            0.07\n",
       "Comedy             0.07\n",
       "Science Fiction    0.08\n",
       "Thriller           0.11\n",
       "Drama              0.12\n",
       "Adventure          0.14\n",
       "Action             0.15\n",
       "Name: Percentage, dtype: float64"
      ]
     },
     "execution_count": 42,
     "metadata": {},
     "output_type": "execute_result"
    }
   ],
   "source": [
    "movie_percentages['Percentage'].sort_values()"
   ]
  },
  {
   "cell_type": "markdown",
   "metadata": {},
   "source": [
    "Here, we see within our sample we see that the most represented movie is action, adventure, and drama. Looking at our data, we that out least represented movies are Documentary and TV Movie."
   ]
  },
  {
   "cell_type": "markdown",
   "metadata": {},
   "source": [
    "# Milestone 3: Traditional statistical and machine learning methods, due Wednesday, April 19, 2017\n",
    "\n",
    "Think about how you would address the genre prediction problem with traditional statistical or machine learning methods. This includes everything you learned about modeling in this course before the deep learning part. Implement your ideas and compare different classifiers. Report your results and discuss what challenges you faced and how you overcame them. What works and what does not? If there are parts that do not work as expected, make sure to discuss briefly what you think is the cause and how you would address this if you would have more time and resources. \n",
    "\n",
    "You do not necessarily need to use the movie posters for this step, but even without a background in computer vision, there are very simple features you can extract from the posters to help guide a traditional machine learning model. Think about the PCA lecture for example, or how to use clustering to extract color information. In addition to considering the movie posters it would be worthwhile to have a look at the metadata that IMDb provides. \n",
    "\n",
    "You could use Spark and the [ML library](https://spark.apache.org/docs/latest/ml-features.html#word2vec) to build your model features from the data. This may be especially beneficial if you use additional data, e.g., in text form.\n",
    "\n",
    "You also need to think about how you are going to evaluate your classifier. Which metrics or scores will you report to show how good the performance is?\n",
    "\n",
    "The notebook to submit this week should at least include:\n",
    "\n",
    "- Detailed description and implementation of two different models\n",
    "- Description of your performance metrics\n",
    "- Careful performance evaluations for both models\n",
    "- Visualizations of the metrics for performance evaluation\n",
    "- Discussion of the differences between the models, their strengths, weaknesses, etc. \n",
    "- Discussion of the performances you achieved, and how you might be able to improve them in the future\n",
    "\n",
    "#### Preliminary Peer Assessment\n",
    "\n",
    "It is important to provide positive feedback to people who truly worked hard for the good of the team and to also make suggestions to those you perceived not to be working as effectively on team tasks. We ask you to provide an honest assessment of the contributions of the members of your team, including yourself. The feedback you provide should reflect your judgment of each team member’s:\n",
    "\n",
    "- Preparation – were they prepared during team meetings?\n",
    "- Contribution – did they contribute productively to the team discussion and work?\n",
    "- Respect for others’ ideas – did they encourage others to contribute their ideas?\n",
    "- Flexibility – were they flexible when disagreements occurred?\n",
    "\n",
    "Your teammate’s assessment of your contributions and the accuracy of your self-assessment will be considered as part of your overall project score.\n",
    "\n",
    "Preliminary Peer Assessment: [https://goo.gl/forms/WOYC7pwRCSU0yV3l1](https://goo.gl/forms/WOYC7pwRCSU0yV3l1)"
   ]
  },
  {
   "cell_type": "markdown",
   "metadata": {},
   "source": [
    "## Questions to answer: \n",
    "\n",
    "- What are we predicting exactly?\n",
    "So, we are trying to predict movie genres. However, we have that each movie has multiple genres. This leads to the question of how we can predict multiple classifiers for the same object. This more general question is called a multilabel clasification problem. We will explore some of our specifications for this problem below. \n",
    "\n",
    "One of the best and most standard solution to do multilable classification is called \"one vs. rest' classifiers. These classifiers create a n number of models for each of the differnet classifiers. One of the advantages of this model is its interpretability and, for our cases, its ease. We can easily create a pipeline that then does these predictions for us. For an implementation of onevsall, look at scikit learn http://scikit-learn.org/dev/modules/generated/sklearn.multiclass.OneVsRestClassifier.html#sklearn.multiclass.OneVsRestClassifier\n",
    "\n",
    "We will likely be using this in our early attempts at classification. \n",
    "\n",
    "- What does it means to be succesful? What is our metric for success? \n",
    "\n",
    "*adapted from http://people.oregonstate.edu/~sorowerm/pdf/Qual-Multilabel-Shahed-CompleteVersion.pdf*\n",
    "\n",
    "A few options for our measure of accuracy.\n",
    "\n",
    "#### Exact Match Ratio\n",
    "The exact match ratio only considers a correct answer for our multilabel data if it is exactly correct (e.g. if there are three classes, we only classify this as correct if we correctly identify all three classes.) \n",
    "\n",
    "#### Accuracy \n",
    "Accuracy is a simple way of \"goodness of prediction.\" It is defined as follows \n",
    "\n",
    "$$ \\frac{1}{n} \\sum_i^{n}  \\frac{|Y_i\\cap Z_i|}{|Y_i \\cup Z_i|}$$\n",
    "\n",
    "Where $$Y_i\\cap Z_i $$ refers to the total number of correctly predicted labels over the total number of labels for that instance. So, if for example we predicted [romance, action]  and the true labels were [romance, comedy, horror], this would receive an accuracy of 1/4 because there was one correct prediction and 4 unique labels. \n",
    "\n",
    "\n",
    "#### Hamming Loss \n",
    "The final and most common form of error for multilable predictions is hamming loss. Hamming loss takes into account both the prediction error (an incorrect error is predicted) and the missing error (a relevant lable is NOT predicted.) this is defined as follows below \n",
    "\n",
    "$$ HammingLoss, HL = \\frac{1}{kn} \\sum_{i}^{n} \\sum_l^k [l \\in  Z_i \\wedge l \\notin Y_i)  + I(l \\notin Z_i \\wedge  l \\in Y_i)]$$\n",
    "\n",
    "For this project, we will use the hamming loss which is defined above. There is a convenient function in python to calculate hamming loss, this is shown below. \n",
    "\n",
    "- What is our first modeling approach? Why? \n",
    "\n",
    "- What is our second modeling approach? Why? "
   ]
  },
  {
   "cell_type": "code",
   "execution_count": 43,
   "metadata": {
    "collapsed": false
   },
   "outputs": [
    {
     "data": {
      "text/plain": [
       "(array([[0, 1],\n",
       "        [1, 1]]), array([[ 0.,  0.],\n",
       "        [ 0.,  0.]]))"
      ]
     },
     "execution_count": 43,
     "metadata": {},
     "output_type": "execute_result"
    }
   ],
   "source": [
    "## Showing hamming loss in action (delete this when submitting report)\n",
    "from sklearn.metrics import hamming_loss\n",
    "np.array([[0, 1], [1, 1]]), np.zeros((2, 2))"
   ]
  },
  {
   "cell_type": "code",
   "execution_count": 44,
   "metadata": {
    "collapsed": false
   },
   "outputs": [
    {
     "ename": "IOError",
     "evalue": "File df_metadata.csv does not exist",
     "output_type": "error",
     "traceback": [
      "\u001b[0;31m---------------------------------------------------------------------------\u001b[0m",
      "\u001b[0;31mIOError\u001b[0m                                   Traceback (most recent call last)",
      "\u001b[0;32m<ipython-input-44-1d0fa8f9a798>\u001b[0m in \u001b[0;36m<module>\u001b[0;34m()\u001b[0m\n\u001b[0;32m----> 1\u001b[0;31m \u001b[0mdf_metadata\u001b[0m \u001b[0;34m=\u001b[0m \u001b[0mpd\u001b[0m\u001b[0;34m.\u001b[0m\u001b[0mread_csv\u001b[0m\u001b[0;34m(\u001b[0m\u001b[0;34m\"df_metadata.csv\"\u001b[0m\u001b[0;34m,\u001b[0m \u001b[0msep\u001b[0m\u001b[0;34m=\u001b[0m\u001b[0;34m'\\t'\u001b[0m\u001b[0;34m)\u001b[0m\u001b[0;34m\u001b[0m\u001b[0m\n\u001b[0m",
      "\u001b[0;32m/Library/Python/2.7/site-packages/pandas/io/parsers.pyc\u001b[0m in \u001b[0;36mparser_f\u001b[0;34m(filepath_or_buffer, sep, delimiter, header, names, index_col, usecols, squeeze, prefix, mangle_dupe_cols, dtype, engine, converters, true_values, false_values, skipinitialspace, skiprows, skipfooter, nrows, na_values, keep_default_na, na_filter, verbose, skip_blank_lines, parse_dates, infer_datetime_format, keep_date_col, date_parser, dayfirst, iterator, chunksize, compression, thousands, decimal, lineterminator, quotechar, quoting, escapechar, comment, encoding, dialect, tupleize_cols, error_bad_lines, warn_bad_lines, skip_footer, doublequote, delim_whitespace, as_recarray, compact_ints, use_unsigned, low_memory, buffer_lines, memory_map, float_precision)\u001b[0m\n\u001b[1;32m    560\u001b[0m                     skip_blank_lines=skip_blank_lines)\n\u001b[1;32m    561\u001b[0m \u001b[0;34m\u001b[0m\u001b[0m\n\u001b[0;32m--> 562\u001b[0;31m         \u001b[0;32mreturn\u001b[0m \u001b[0m_read\u001b[0m\u001b[0;34m(\u001b[0m\u001b[0mfilepath_or_buffer\u001b[0m\u001b[0;34m,\u001b[0m \u001b[0mkwds\u001b[0m\u001b[0;34m)\u001b[0m\u001b[0;34m\u001b[0m\u001b[0m\n\u001b[0m\u001b[1;32m    563\u001b[0m \u001b[0;34m\u001b[0m\u001b[0m\n\u001b[1;32m    564\u001b[0m     \u001b[0mparser_f\u001b[0m\u001b[0;34m.\u001b[0m\u001b[0m__name__\u001b[0m \u001b[0;34m=\u001b[0m \u001b[0mname\u001b[0m\u001b[0;34m\u001b[0m\u001b[0m\n",
      "\u001b[0;32m/Library/Python/2.7/site-packages/pandas/io/parsers.pyc\u001b[0m in \u001b[0;36m_read\u001b[0;34m(filepath_or_buffer, kwds)\u001b[0m\n\u001b[1;32m    313\u001b[0m \u001b[0;34m\u001b[0m\u001b[0m\n\u001b[1;32m    314\u001b[0m     \u001b[0;31m# Create the parser.\u001b[0m\u001b[0;34m\u001b[0m\u001b[0;34m\u001b[0m\u001b[0m\n\u001b[0;32m--> 315\u001b[0;31m     \u001b[0mparser\u001b[0m \u001b[0;34m=\u001b[0m \u001b[0mTextFileReader\u001b[0m\u001b[0;34m(\u001b[0m\u001b[0mfilepath_or_buffer\u001b[0m\u001b[0;34m,\u001b[0m \u001b[0;34m**\u001b[0m\u001b[0mkwds\u001b[0m\u001b[0;34m)\u001b[0m\u001b[0;34m\u001b[0m\u001b[0m\n\u001b[0m\u001b[1;32m    316\u001b[0m \u001b[0;34m\u001b[0m\u001b[0m\n\u001b[1;32m    317\u001b[0m     \u001b[0;32mif\u001b[0m \u001b[0;34m(\u001b[0m\u001b[0mnrows\u001b[0m \u001b[0;32mis\u001b[0m \u001b[0;32mnot\u001b[0m \u001b[0mNone\u001b[0m\u001b[0;34m)\u001b[0m \u001b[0;32mand\u001b[0m \u001b[0;34m(\u001b[0m\u001b[0mchunksize\u001b[0m \u001b[0;32mis\u001b[0m \u001b[0;32mnot\u001b[0m \u001b[0mNone\u001b[0m\u001b[0;34m)\u001b[0m\u001b[0;34m:\u001b[0m\u001b[0;34m\u001b[0m\u001b[0m\n",
      "\u001b[0;32m/Library/Python/2.7/site-packages/pandas/io/parsers.pyc\u001b[0m in \u001b[0;36m__init__\u001b[0;34m(self, f, engine, **kwds)\u001b[0m\n\u001b[1;32m    643\u001b[0m             \u001b[0mself\u001b[0m\u001b[0;34m.\u001b[0m\u001b[0moptions\u001b[0m\u001b[0;34m[\u001b[0m\u001b[0;34m'has_index_names'\u001b[0m\u001b[0;34m]\u001b[0m \u001b[0;34m=\u001b[0m \u001b[0mkwds\u001b[0m\u001b[0;34m[\u001b[0m\u001b[0;34m'has_index_names'\u001b[0m\u001b[0;34m]\u001b[0m\u001b[0;34m\u001b[0m\u001b[0m\n\u001b[1;32m    644\u001b[0m \u001b[0;34m\u001b[0m\u001b[0m\n\u001b[0;32m--> 645\u001b[0;31m         \u001b[0mself\u001b[0m\u001b[0;34m.\u001b[0m\u001b[0m_make_engine\u001b[0m\u001b[0;34m(\u001b[0m\u001b[0mself\u001b[0m\u001b[0;34m.\u001b[0m\u001b[0mengine\u001b[0m\u001b[0;34m)\u001b[0m\u001b[0;34m\u001b[0m\u001b[0m\n\u001b[0m\u001b[1;32m    646\u001b[0m \u001b[0;34m\u001b[0m\u001b[0m\n\u001b[1;32m    647\u001b[0m     \u001b[0;32mdef\u001b[0m \u001b[0mclose\u001b[0m\u001b[0;34m(\u001b[0m\u001b[0mself\u001b[0m\u001b[0;34m)\u001b[0m\u001b[0;34m:\u001b[0m\u001b[0;34m\u001b[0m\u001b[0m\n",
      "\u001b[0;32m/Library/Python/2.7/site-packages/pandas/io/parsers.pyc\u001b[0m in \u001b[0;36m_make_engine\u001b[0;34m(self, engine)\u001b[0m\n\u001b[1;32m    797\u001b[0m     \u001b[0;32mdef\u001b[0m \u001b[0m_make_engine\u001b[0m\u001b[0;34m(\u001b[0m\u001b[0mself\u001b[0m\u001b[0;34m,\u001b[0m \u001b[0mengine\u001b[0m\u001b[0;34m=\u001b[0m\u001b[0;34m'c'\u001b[0m\u001b[0;34m)\u001b[0m\u001b[0;34m:\u001b[0m\u001b[0;34m\u001b[0m\u001b[0m\n\u001b[1;32m    798\u001b[0m         \u001b[0;32mif\u001b[0m \u001b[0mengine\u001b[0m \u001b[0;34m==\u001b[0m \u001b[0;34m'c'\u001b[0m\u001b[0;34m:\u001b[0m\u001b[0;34m\u001b[0m\u001b[0m\n\u001b[0;32m--> 799\u001b[0;31m             \u001b[0mself\u001b[0m\u001b[0;34m.\u001b[0m\u001b[0m_engine\u001b[0m \u001b[0;34m=\u001b[0m \u001b[0mCParserWrapper\u001b[0m\u001b[0;34m(\u001b[0m\u001b[0mself\u001b[0m\u001b[0;34m.\u001b[0m\u001b[0mf\u001b[0m\u001b[0;34m,\u001b[0m \u001b[0;34m**\u001b[0m\u001b[0mself\u001b[0m\u001b[0;34m.\u001b[0m\u001b[0moptions\u001b[0m\u001b[0;34m)\u001b[0m\u001b[0;34m\u001b[0m\u001b[0m\n\u001b[0m\u001b[1;32m    800\u001b[0m         \u001b[0;32melse\u001b[0m\u001b[0;34m:\u001b[0m\u001b[0;34m\u001b[0m\u001b[0m\n\u001b[1;32m    801\u001b[0m             \u001b[0;32mif\u001b[0m \u001b[0mengine\u001b[0m \u001b[0;34m==\u001b[0m \u001b[0;34m'python'\u001b[0m\u001b[0;34m:\u001b[0m\u001b[0;34m\u001b[0m\u001b[0m\n",
      "\u001b[0;32m/Library/Python/2.7/site-packages/pandas/io/parsers.pyc\u001b[0m in \u001b[0;36m__init__\u001b[0;34m(self, src, **kwds)\u001b[0m\n\u001b[1;32m   1211\u001b[0m         \u001b[0mkwds\u001b[0m\u001b[0;34m[\u001b[0m\u001b[0;34m'allow_leading_cols'\u001b[0m\u001b[0;34m]\u001b[0m \u001b[0;34m=\u001b[0m \u001b[0mself\u001b[0m\u001b[0;34m.\u001b[0m\u001b[0mindex_col\u001b[0m \u001b[0;32mis\u001b[0m \u001b[0;32mnot\u001b[0m \u001b[0mFalse\u001b[0m\u001b[0;34m\u001b[0m\u001b[0m\n\u001b[1;32m   1212\u001b[0m \u001b[0;34m\u001b[0m\u001b[0m\n\u001b[0;32m-> 1213\u001b[0;31m         \u001b[0mself\u001b[0m\u001b[0;34m.\u001b[0m\u001b[0m_reader\u001b[0m \u001b[0;34m=\u001b[0m \u001b[0m_parser\u001b[0m\u001b[0;34m.\u001b[0m\u001b[0mTextReader\u001b[0m\u001b[0;34m(\u001b[0m\u001b[0msrc\u001b[0m\u001b[0;34m,\u001b[0m \u001b[0;34m**\u001b[0m\u001b[0mkwds\u001b[0m\u001b[0;34m)\u001b[0m\u001b[0;34m\u001b[0m\u001b[0m\n\u001b[0m\u001b[1;32m   1214\u001b[0m \u001b[0;34m\u001b[0m\u001b[0m\n\u001b[1;32m   1215\u001b[0m         \u001b[0;31m# XXX\u001b[0m\u001b[0;34m\u001b[0m\u001b[0;34m\u001b[0m\u001b[0m\n",
      "\u001b[0;32mpandas/parser.pyx\u001b[0m in \u001b[0;36mpandas.parser.TextReader.__cinit__ (pandas/parser.c:3427)\u001b[0;34m()\u001b[0m\n",
      "\u001b[0;32mpandas/parser.pyx\u001b[0m in \u001b[0;36mpandas.parser.TextReader._setup_parser_source (pandas/parser.c:6861)\u001b[0;34m()\u001b[0m\n",
      "\u001b[0;31mIOError\u001b[0m: File df_metadata.csv does not exist"
     ]
    }
   ],
   "source": [
    "df_metadata = pd.read_csv(\"df_metadata.csv\", sep='\\t')"
   ]
  }
 ],
 "metadata": {
  "anaconda-cloud": {},
  "kernelspec": {
   "display_name": "Python 2",
   "language": "python",
   "name": "python2"
  },
  "language_info": {
   "codemirror_mode": {
    "name": "ipython",
    "version": 2
   },
   "file_extension": ".py",
   "mimetype": "text/x-python",
   "name": "python",
   "nbconvert_exporter": "python",
   "pygments_lexer": "ipython2",
   "version": "2.7.10"
  }
 },
 "nbformat": 4,
 "nbformat_minor": 0
}
