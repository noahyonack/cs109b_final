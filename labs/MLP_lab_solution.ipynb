{
 "cells": [
  {
   "cell_type": "code",
   "execution_count": 1,
   "metadata": {},
   "outputs": [
    {
     "name": "stderr",
     "output_type": "stream",
     "text": [
      "Using TensorFlow backend.\n"
     ]
    }
   ],
   "source": [
    "from __future__ import print_function\n",
    "\n",
    "import keras\n",
    "from keras.datasets import mnist\n",
    "from keras.models import Sequential\n",
    "from keras.layers import Dense, Dropout\n",
    "from keras.optimizers import SGD, Adam\n",
    "from keras import regularizers\n",
    "\n",
    "import matplotlib\n",
    "%matplotlib inline\n",
    "import matplotlib.pyplot as plt\n",
    "import seaborn as sns\n",
    "sns.set_style('white')\n",
    "\n",
    "import numpy as np\n",
    "import scipy.misc\n",
    "from keras.models import load_model"
   ]
  },
  {
   "cell_type": "code",
   "execution_count": 2,
   "metadata": {
    "collapsed": true
   },
   "outputs": [],
   "source": [
    "def generate_line_patch(label):\n",
    "    patch = np.zeros((3,3))\n",
    "    if label == 0:\n",
    "        patch[:,1] = 1\n",
    "    else:\n",
    "        patch[1,:] = 1\n",
    "        \n",
    "    return patch"
   ]
  },
  {
   "cell_type": "code",
   "execution_count": 3,
   "metadata": {},
   "outputs": [],
   "source": [
    "# generate training data\n",
    "\n",
    "def generate_data(n_samples):\n",
    "    data_x = []\n",
    "    data_y = []\n",
    "    for i in range(n_samples):\n",
    "        y = (np.random.random(1)>0.5) * 1.0\n",
    "        x = generate_line_patch(y)\n",
    "        \n",
    "        data_x.append(x.flatten())\n",
    "        data_y.append(y)\n",
    "        \n",
    "    data_x = np.array(data_x)\n",
    "    data_y = np.array(data_y)\n",
    "    \n",
    "    return data_x, data_y"
   ]
  },
  {
   "cell_type": "code",
   "execution_count": 4,
   "metadata": {
    "collapsed": true
   },
   "outputs": [],
   "source": [
    "data_x_train, data_y_train = generate_data(100)\n",
    "data_x_test, data_y_test = generate_data(100)"
   ]
  },
  {
   "cell_type": "code",
   "execution_count": 5,
   "metadata": {},
   "outputs": [
    {
     "name": "stdout",
     "output_type": "stream",
     "text": [
      "_________________________________________________________________\n",
      "Layer (type)                 Output Shape              Param #   \n",
      "=================================================================\n",
      "dense_1 (Dense)              (None, 10)                100       \n",
      "_________________________________________________________________\n",
      "dense_2 (Dense)              (None, 1)                 11        \n",
      "=================================================================\n",
      "Total params: 111\n",
      "Trainable params: 111\n",
      "Non-trainable params: 0\n",
      "_________________________________________________________________\n"
     ]
    }
   ],
   "source": [
    "model = Sequential()\n",
    "model.add(Dense(10, activation='relu', kernel_regularizer=regularizers.l2(0.001), input_shape=(9,)))\n",
    "model.add(Dense(1, activation='sigmoid'))\n",
    "model.summary()"
   ]
  },
  {
   "cell_type": "code",
   "execution_count": 6,
   "metadata": {
    "collapsed": true
   },
   "outputs": [],
   "source": [
    "adam = Adam(lr=0.01)\n",
    "model.compile(loss='binary_crossentropy',\n",
    "              optimizer=adam,\n",
    "              metrics=['accuracy'])"
   ]
  },
  {
   "cell_type": "code",
   "execution_count": 7,
   "metadata": {},
   "outputs": [
    {
     "name": "stdout",
     "output_type": "stream",
     "text": [
      "Train on 100 samples, validate on 100 samples\n",
      "Epoch 1/50\n",
      "100/100 [==============================] - 0s - loss: 0.5020 - acc: 0.8200 - val_loss: 0.3601 - val_acc: 1.0000\n",
      "Epoch 2/50\n",
      "100/100 [==============================] - 0s - loss: 0.2894 - acc: 1.0000 - val_loss: 0.2067 - val_acc: 1.0000\n",
      "Epoch 3/50\n",
      "100/100 [==============================] - 0s - loss: 0.1645 - acc: 1.0000 - val_loss: 0.1154 - val_acc: 1.0000\n",
      "Epoch 4/50\n",
      "100/100 [==============================] - 0s - loss: 0.0924 - acc: 1.0000 - val_loss: 0.0690 - val_acc: 1.0000\n",
      "Epoch 5/50\n",
      "100/100 [==============================] - 0s - loss: 0.0571 - acc: 1.0000 - val_loss: 0.0452 - val_acc: 1.0000\n",
      "Epoch 6/50\n",
      "100/100 [==============================] - 0s - loss: 0.0384 - acc: 1.0000 - val_loss: 0.0307 - val_acc: 1.0000\n",
      "Epoch 7/50\n",
      "100/100 [==============================] - 0s - loss: 0.0265 - acc: 1.0000 - val_loss: 0.0220 - val_acc: 1.0000\n",
      "Epoch 8/50\n",
      "100/100 [==============================] - 0s - loss: 0.0194 - acc: 1.0000 - val_loss: 0.0164 - val_acc: 1.0000\n",
      "Epoch 9/50\n",
      "100/100 [==============================] - 0s - loss: 0.0148 - acc: 1.0000 - val_loss: 0.0132 - val_acc: 1.0000\n",
      "Epoch 10/50\n",
      "100/100 [==============================] - 0s - loss: 0.0125 - acc: 1.0000 - val_loss: 0.0119 - val_acc: 1.0000\n",
      "Epoch 11/50\n",
      "100/100 [==============================] - 0s - loss: 0.0116 - acc: 1.0000 - val_loss: 0.0113 - val_acc: 1.0000\n",
      "Epoch 12/50\n",
      "100/100 [==============================] - 0s - loss: 0.0112 - acc: 1.0000 - val_loss: 0.0110 - val_acc: 1.0000\n",
      "Epoch 13/50\n",
      "100/100 [==============================] - 0s - loss: 0.0109 - acc: 1.0000 - val_loss: 0.0107 - val_acc: 1.0000\n",
      "Epoch 14/50\n",
      "100/100 [==============================] - 0s - loss: 0.0106 - acc: 1.0000 - val_loss: 0.0104 - val_acc: 1.0000\n",
      "Epoch 15/50\n",
      "100/100 [==============================] - 0s - loss: 0.0103 - acc: 1.0000 - val_loss: 0.0102 - val_acc: 1.0000\n",
      "Epoch 16/50\n",
      "100/100 [==============================] - 0s - loss: 0.0101 - acc: 1.0000 - val_loss: 0.0099 - val_acc: 1.0000\n",
      "Epoch 17/50\n",
      "100/100 [==============================] - 0s - loss: 0.0098 - acc: 1.0000 - val_loss: 0.0097 - val_acc: 1.0000\n",
      "Epoch 18/50\n",
      "100/100 [==============================] - 0s - loss: 0.0096 - acc: 1.0000 - val_loss: 0.0095 - val_acc: 1.0000\n",
      "Epoch 19/50\n",
      "100/100 [==============================] - 0s - loss: 0.0094 - acc: 1.0000 - val_loss: 0.0093 - val_acc: 1.0000\n",
      "Epoch 20/50\n",
      "100/100 [==============================] - 0s - loss: 0.0092 - acc: 1.0000 - val_loss: 0.0091 - val_acc: 1.0000\n",
      "Epoch 21/50\n",
      "100/100 [==============================] - 0s - loss: 0.0090 - acc: 1.0000 - val_loss: 0.0089 - val_acc: 1.0000\n",
      "Epoch 22/50\n",
      "100/100 [==============================] - 0s - loss: 0.0088 - acc: 1.0000 - val_loss: 0.0087 - val_acc: 1.0000\n",
      "Epoch 23/50\n",
      "100/100 [==============================] - ETA: 0s - loss: 0.0089 - acc: 1.000 - 0s - loss: 0.0086 - acc: 1.0000 - val_loss: 0.0085 - val_acc: 1.0000\n",
      "Epoch 24/50\n",
      "100/100 [==============================] - 0s - loss: 0.0085 - acc: 1.0000 - val_loss: 0.0084 - val_acc: 1.0000\n",
      "Epoch 25/50\n",
      "100/100 [==============================] - 0s - loss: 0.0083 - acc: 1.0000 - val_loss: 0.0082 - val_acc: 1.0000\n",
      "Epoch 26/50\n",
      "100/100 [==============================] - 0s - loss: 0.0081 - acc: 1.0000 - val_loss: 0.0080 - val_acc: 1.0000\n",
      "Epoch 27/50\n",
      "100/100 [==============================] - 0s - loss: 0.0080 - acc: 1.0000 - val_loss: 0.0079 - val_acc: 1.0000\n",
      "Epoch 28/50\n",
      "100/100 [==============================] - 0s - loss: 0.0078 - acc: 1.0000 - val_loss: 0.0077 - val_acc: 1.0000\n",
      "Epoch 29/50\n",
      "100/100 [==============================] - 0s - loss: 0.0076 - acc: 1.0000 - val_loss: 0.0075 - val_acc: 1.0000\n",
      "Epoch 30/50\n",
      "100/100 [==============================] - 0s - loss: 0.0075 - acc: 1.0000 - val_loss: 0.0074 - val_acc: 1.0000\n",
      "Epoch 31/50\n",
      "100/100 [==============================] - 0s - loss: 0.0073 - acc: 1.0000 - val_loss: 0.0072 - val_acc: 1.0000\n",
      "Epoch 32/50\n",
      "100/100 [==============================] - 0s - loss: 0.0072 - acc: 1.0000 - val_loss: 0.0071 - val_acc: 1.0000\n",
      "Epoch 33/50\n",
      "100/100 [==============================] - 0s - loss: 0.0070 - acc: 1.0000 - val_loss: 0.0069 - val_acc: 1.0000\n",
      "Epoch 34/50\n",
      "100/100 [==============================] - 0s - loss: 0.0069 - acc: 1.0000 - val_loss: 0.0068 - val_acc: 1.0000\n",
      "Epoch 35/50\n",
      "100/100 [==============================] - 0s - loss: 0.0067 - acc: 1.0000 - val_loss: 0.0067 - val_acc: 1.0000\n",
      "Epoch 36/50\n",
      "100/100 [==============================] - 0s - loss: 0.0066 - acc: 1.0000 - val_loss: 0.0065 - val_acc: 1.0000\n",
      "Epoch 37/50\n",
      "100/100 [==============================] - 0s - loss: 0.0065 - acc: 1.0000 - val_loss: 0.0064 - val_acc: 1.0000\n",
      "Epoch 38/50\n",
      "100/100 [==============================] - 0s - loss: 0.0064 - acc: 1.0000 - val_loss: 0.0063 - val_acc: 1.0000\n",
      "Epoch 39/50\n",
      "100/100 [==============================] - 0s - loss: 0.0062 - acc: 1.0000 - val_loss: 0.0062 - val_acc: 1.0000\n",
      "Epoch 40/50\n",
      "100/100 [==============================] - 0s - loss: 0.0061 - acc: 1.0000 - val_loss: 0.0060 - val_acc: 1.0000\n",
      "Epoch 41/50\n",
      "100/100 [==============================] - 0s - loss: 0.0060 - acc: 1.0000 - val_loss: 0.0059 - val_acc: 1.0000\n",
      "Epoch 42/50\n",
      "100/100 [==============================] - 0s - loss: 0.0059 - acc: 1.0000 - val_loss: 0.0058 - val_acc: 1.0000\n",
      "Epoch 43/50\n",
      "100/100 [==============================] - 0s - loss: 0.0057 - acc: 1.0000 - val_loss: 0.0057 - val_acc: 1.0000\n",
      "Epoch 44/50\n",
      "100/100 [==============================] - 0s - loss: 0.0056 - acc: 1.0000 - val_loss: 0.0055 - val_acc: 1.0000\n",
      "Epoch 45/50\n",
      "100/100 [==============================] - 0s - loss: 0.0055 - acc: 1.0000 - val_loss: 0.0054 - val_acc: 1.0000\n",
      "Epoch 46/50\n",
      "100/100 [==============================] - 0s - loss: 0.0054 - acc: 1.0000 - val_loss: 0.0053 - val_acc: 1.0000\n",
      "Epoch 47/50\n",
      "100/100 [==============================] - 0s - loss: 0.0053 - acc: 1.0000 - val_loss: 0.0052 - val_acc: 1.0000\n",
      "Epoch 48/50\n",
      "100/100 [==============================] - 0s - loss: 0.0052 - acc: 1.0000 - val_loss: 0.0051 - val_acc: 1.0000\n",
      "Epoch 49/50\n",
      "100/100 [==============================] - 0s - loss: 0.0051 - acc: 1.0000 - val_loss: 0.0050 - val_acc: 1.0000\n",
      "Epoch 50/50\n",
      "100/100 [==============================] - 0s - loss: 0.0050 - acc: 1.0000 - val_loss: 0.0049 - val_acc: 1.0000\n"
     ]
    }
   ],
   "source": [
    "history = model.fit(data_x_train, data_y_train,\n",
    "                    batch_size=10,\n",
    "                    epochs=50,\n",
    "                    verbose=1,\n",
    "                    validation_data=(data_x_test, data_y_test))"
   ]
  },
  {
   "cell_type": "code",
   "execution_count": 8,
   "metadata": {},
   "outputs": [
    {
     "data": {
      "image/png": "[encoded data removed]",
      "text/plain": [
       "<matplotlib.figure.Figure at 0x2220a9c5b70>"
      ]
     },
     "metadata": {},
     "output_type": "display_data"
    }
   ],
   "source": [
    "layer = model.layers[0]\n",
    "weights = layer.get_weights()\n",
    "\n",
    "filterTiles = np.array([])\n",
    "index = 0\n",
    "for i in range(5):\n",
    "    filterRow = []\n",
    "    for j in range(2):\n",
    "        w = weights[0][:,index]\n",
    "        w = w.reshape(3,3)\n",
    "        filterRow.extend(w)\n",
    "        index+=1\n",
    "    filterRow = np.array(filterRow)\n",
    "    if not filterTiles.shape[0] == 0:\n",
    "        filterTiles = np.hstack([filterTiles, filterRow])\n",
    "    else:\n",
    "        filterTiles = filterRow\n",
    "\n",
    "plt.imshow(filterTiles, cmap='gray')    \n",
    "plt.show()\n"
   ]
  },
  {
   "cell_type": "code",
   "execution_count": 9,
   "metadata": {},
   "outputs": [],
   "source": [
    "model.save('my_model.h5')  # creates a HDF5 file 'my_model.h5'\n",
    "del model  # deletes the existing model\n",
    "\n",
    "# returns a compiled model\n",
    "# identical to the previous one\n",
    "model = load_model('my_model.h5')"
   ]
  },
  {
   "cell_type": "code",
   "execution_count": null,
   "metadata": {
    "collapsed": true
   },
   "outputs": [],
   "source": []
  }
 ],
 "metadata": {
  "kernelspec": {
   "display_name": "Python 3",
   "language": "python",
   "name": "python3"
  },
  "language_info": {
   "codemirror_mode": {
    "name": "ipython",
    "version": 3
   },
   "file_extension": ".py",
   "mimetype": "text/x-python",
   "name": "python",
   "nbconvert_exporter": "python",
   "pygments_lexer": "ipython3",
   "version": "3.5.2"
  }
 },
 "nbformat": 4,
 "nbformat_minor": 2
}
