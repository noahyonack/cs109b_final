{
 "cells": [
  {
   "cell_type": "code",
   "execution_count": 1,
   "metadata": {
    "collapsed": false,
    "deletable": true,
    "editable": true
   },
   "outputs": [
    {
     "name": "stderr",
     "output_type": "stream",
     "text": [
      "Using TensorFlow backend.\n"
     ]
    }
   ],
   "source": [
    "'''\n",
    "very simple CNN for MNIST \n",
    "based on\n",
    "https://github.com/fchollet/keras/blob/master/examples/mnist_mlp.py\n",
    "'''\n",
    "\n",
    "from __future__ import print_function\n",
    "\n",
    "import keras\n",
    "from keras.datasets import mnist\n",
    "from keras.models import Sequential\n",
    "from keras.layers import Dense, Activation, Conv2D, MaxPooling2D, Flatten\n",
    "\n",
    "from keras.optimizers import SGD\n",
    "\n",
    "from keras import backend as K\n",
    "\n",
    "\n",
    "import matplotlib\n",
    "%matplotlib inline\n",
    "import matplotlib.pyplot as plt\n",
    "import seaborn as sns\n",
    "sns.set_style('white')\n",
    "\n",
    "import numpy as np"
   ]
  },
  {
   "cell_type": "code",
   "execution_count": 2,
   "metadata": {
    "collapsed": false,
    "deletable": true,
    "editable": true
   },
   "outputs": [
    {
     "name": "stdout",
     "output_type": "stream",
     "text": [
      "x_train shape: (60000, 28, 28, 1)\n",
      "60000 train samples\n",
      "10000 test samples\n"
     ]
    }
   ],
   "source": [
    "# input image dimensions\n",
    "img_rows, img_cols = 28, 28\n",
    "\n",
    "# smaller batch size means noisier gradient, but more updates per epoch\n",
    "batch_size = 512\n",
    "# this is fixed, we have 10 digits in our data set\n",
    "num_classes = 10\n",
    "# number of iterations over the complete training data\n",
    "epochs = 20\n",
    "\n",
    "# the data, shuffled and split between train and test sets\n",
    "(x_train, y_train), (x_test, y_test) = mnist.load_data()\n",
    "\n",
    "## X_train is of shape n_samples x 28 x 28\n",
    "## for a CNN we want to keep the image shape\n",
    "## need to explicitly tell keras that it is a gray value image\n",
    "## so each image is 28x28x1 not 28x28x3\n",
    "if K.image_data_format() == 'channels_first':\n",
    "    x_train = x_train.reshape(x_train.shape[0], 1, img_rows, img_cols)\n",
    "    x_test = x_test.reshape(x_test.shape[0], 1, img_rows, img_cols)\n",
    "    input_shape = (1, img_rows, img_cols)\n",
    "else:\n",
    "    x_train = x_train.reshape(x_train.shape[0], img_rows, img_cols, 1)\n",
    "    x_test = x_test.reshape(x_test.shape[0], img_rows, img_cols, 1)\n",
    "    input_shape = (img_rows, img_cols, 1)\n",
    "\n",
    "# normalize image values to [0,1]\n",
    "# interestingly the keras example code does not center the data\n",
    "x_train = x_train.astype('float32')\n",
    "x_test = x_test.astype('float32')\n",
    "x_train /= 255\n",
    "x_test /= 255\n",
    "print('x_train shape:', x_train.shape)\n",
    "print(x_train.shape[0], 'train samples')\n",
    "print(x_test.shape[0], 'test samples')"
   ]
  },
  {
   "cell_type": "code",
   "execution_count": 3,
   "metadata": {
    "collapsed": true,
    "deletable": true,
    "editable": true
   },
   "outputs": [],
   "source": [
    "# convert class vectors to binary class matrices\n",
    "# keras likes one hot encoding instead of class names\n",
    "y_train = keras.utils.to_categorical(y_train, num_classes)\n",
    "y_test = keras.utils.to_categorical(y_test, num_classes)"
   ]
  },
  {
   "cell_type": "code",
   "execution_count": 4,
   "metadata": {
    "collapsed": false,
    "deletable": true,
    "editable": true
   },
   "outputs": [
    {
     "name": "stdout",
     "output_type": "stream",
     "text": [
      "_________________________________________________________________\n",
      "Layer (type)                 Output Shape              Param #   \n",
      "=================================================================\n",
      "conv2d_1 (Conv2D)            (None, 24, 24, 16)        416       \n",
      "_________________________________________________________________\n",
      "max_pooling2d_1 (MaxPooling2 (None, 12, 12, 16)        0         \n",
      "_________________________________________________________________\n",
      "conv2d_2 (Conv2D)            (None, 10, 10, 32)        4640      \n",
      "_________________________________________________________________\n",
      "max_pooling2d_2 (MaxPooling2 (None, 5, 5, 32)          0         \n",
      "_________________________________________________________________\n",
      "flatten_1 (Flatten)          (None, 800)               0         \n",
      "_________________________________________________________________\n",
      "dense_1 (Dense)              (None, 64)                51264     \n",
      "_________________________________________________________________\n",
      "dense_2 (Dense)              (None, 10)                650       \n",
      "=================================================================\n",
      "Total params: 56,970\n",
      "Trainable params: 56,970\n",
      "Non-trainable params: 0\n",
      "_________________________________________________________________\n"
     ]
    }
   ],
   "source": [
    "# create an empty network model\n",
    "model = Sequential()\n",
    "\n",
    "# --- input layer ---\n",
    "model.add(Conv2D(16, kernel_size=(5, 5), activation='relu', input_shape=input_shape))\n",
    "# --- max pool ---\n",
    "model.add(MaxPooling2D(pool_size=(2, 2)))\n",
    "\n",
    "# --- next layer ---\n",
    "# we could double the number of filters as max pool made the \n",
    "# feature maps much smaller \n",
    "# just not doing this to improve runtime\n",
    "model.add(Conv2D(32, kernel_size=(3, 3), activation='relu'))\n",
    "# --- max pool ---\n",
    "model.add(MaxPooling2D(pool_size=(2, 2)))\n",
    "\n",
    "# flatten for fully connected classification layer\n",
    "model.add(Flatten())\n",
    "# note that the 10 is the number of classes we have\n",
    "# the classes are mutually exclusive so softmax is a good choice\n",
    "# --- fully connected layer ---\n",
    "model.add(Dense(64, activation='relu'))\n",
    "# --- classification ---\n",
    "model.add(Dense(10, activation='softmax'))\n",
    "\n",
    "# prints out a summary of the model architecture\n",
    "model.summary()"
   ]
  },
  {
   "cell_type": "code",
   "execution_count": 5,
   "metadata": {
    "collapsed": true,
    "deletable": true,
    "editable": true
   },
   "outputs": [],
   "source": [
    "# this does all necessary compiling. In tensorflow this is much quicker than in theano\n",
    "# the setup is our basic categorical crossentropy with stochastic gradient decent\n",
    "# we also specify that we want to evaluate our model in terms of accuracy\n",
    "sgd = SGD(lr=0.1, momentum=0.9)\n",
    "model.compile(loss='categorical_crossentropy',\n",
    "              optimizer=sgd,\n",
    "              metrics=['accuracy'])"
   ]
  },
  {
   "cell_type": "code",
   "execution_count": 6,
   "metadata": {
    "collapsed": false,
    "deletable": true,
    "editable": true,
    "scrolled": true
   },
   "outputs": [
    {
     "name": "stdout",
     "output_type": "stream",
     "text": [
      "Train on 60000 samples, validate on 10000 samples\n",
      "Epoch 1/20\n",
      "60000/60000 [==============================] - 22s - loss: 0.7446 - acc: 0.7734 - val_loss: 0.1020 - val_acc: 0.9674\n",
      "Epoch 2/20\n",
      "60000/60000 [==============================] - 22s - loss: 0.0874 - acc: 0.9728 - val_loss: 0.0688 - val_acc: 0.9772\n",
      "Epoch 3/20\n",
      "60000/60000 [==============================] - 22s - loss: 0.0671 - acc: 0.9793 - val_loss: 0.0465 - val_acc: 0.9853\n",
      "Epoch 4/20\n",
      "60000/60000 [==============================] - 31s - loss: 0.0484 - acc: 0.9847 - val_loss: 0.0487 - val_acc: 0.9855\n",
      "Epoch 5/20\n",
      "60000/60000 [==============================] - 24s - loss: 0.0412 - acc: 0.9871 - val_loss: 0.0468 - val_acc: 0.9843\n",
      "Epoch 6/20\n",
      "60000/60000 [==============================] - 23s - loss: 0.0398 - acc: 0.9876 - val_loss: 0.0400 - val_acc: 0.9864\n",
      "Epoch 7/20\n",
      "60000/60000 [==============================] - 23s - loss: 0.0332 - acc: 0.9895 - val_loss: 0.0382 - val_acc: 0.9872\n",
      "Epoch 8/20\n",
      "60000/60000 [==============================] - 22s - loss: 0.0285 - acc: 0.9910 - val_loss: 0.0410 - val_acc: 0.9880\n",
      "Epoch 9/20\n",
      "60000/60000 [==============================] - 42113s - loss: 0.0253 - acc: 0.9925 - val_loss: 0.0470 - val_acc: 0.9852\n",
      "Epoch 10/20\n",
      "60000/60000 [==============================] - 23s - loss: 0.0252 - acc: 0.9919 - val_loss: 0.0358 - val_acc: 0.9879\n",
      "Epoch 11/20\n",
      "60000/60000 [==============================] - 23s - loss: 0.0221 - acc: 0.9932 - val_loss: 0.0375 - val_acc: 0.9875\n",
      "Epoch 12/20\n",
      "60000/60000 [==============================] - 24s - loss: 0.0215 - acc: 0.9934 - val_loss: 0.0363 - val_acc: 0.9886\n",
      "Epoch 13/20\n",
      "60000/60000 [==============================] - 26s - loss: 0.0186 - acc: 0.9941 - val_loss: 0.0371 - val_acc: 0.9883\n",
      "Epoch 14/20\n",
      "60000/60000 [==============================] - 22s - loss: 0.0204 - acc: 0.9938 - val_loss: 0.0388 - val_acc: 0.9883\n",
      "Epoch 15/20\n",
      "60000/60000 [==============================] - 22s - loss: 0.0151 - acc: 0.9948 - val_loss: 0.0337 - val_acc: 0.9898\n",
      "Epoch 16/20\n",
      "60000/60000 [==============================] - 23s - loss: 0.0162 - acc: 0.9948 - val_loss: 0.0414 - val_acc: 0.9885\n",
      "Epoch 17/20\n",
      "60000/60000 [==============================] - 24s - loss: 0.0164 - acc: 0.9946 - val_loss: 0.0418 - val_acc: 0.9883\n",
      "Epoch 18/20\n",
      "60000/60000 [==============================] - 26s - loss: 0.0118 - acc: 0.9962 - val_loss: 0.0459 - val_acc: 0.9877\n",
      "Epoch 19/20\n",
      "60000/60000 [==============================] - 23s - loss: 0.0097 - acc: 0.9969 - val_loss: 0.0474 - val_acc: 0.9883\n",
      "Epoch 20/20\n",
      "60000/60000 [==============================] - 24s - loss: 0.0108 - acc: 0.9963 - val_loss: 0.0454 - val_acc: 0.9885\n",
      "Test loss: 0.04535328253\n",
      "Test accuracy: 0.9885\n"
     ]
    }
   ],
   "source": [
    "# this is now the actual training\n",
    "# in addition to the training data we provide validation data\n",
    "# this data is used to calculate the performance of the model over all the epochs\n",
    "# this is useful to determine when training should stop\n",
    "# in our case we just use it to monitor the evolution of the model over the training epochs\n",
    "# if we use the validation data to determine when to stop the training or which model to save, we \n",
    "# should not use the test data, but a separate validation set. \n",
    "history = model.fit(x_train, y_train,\n",
    "                    batch_size=batch_size,\n",
    "                    epochs=epochs,\n",
    "                    verbose=1,\n",
    "                    validation_data=(x_test, y_test))\n",
    "\n",
    "# once training is complete, let's see how well we have done\n",
    "score = model.evaluate(x_test, y_test, verbose=0)\n",
    "print('Test loss:', score[0])\n",
    "print('Test accuracy:', score[1])"
   ]
  },
  {
   "cell_type": "code",
   "execution_count": 7,
   "metadata": {
    "collapsed": false,
    "deletable": true,
    "editable": true
   },
   "outputs": [
    {
     "data": {
      "text/plain": [
       "<matplotlib.text.Text at 0x1f1e775e3c8>"
      ]
     },
     "execution_count": 7,
     "metadata": {},
     "output_type": "execute_result"
    },
    {
     "data": {
      "image/png": "[encoded data removed]",
      "text/plain": [
       "<matplotlib.figure.Figure at 0x1f1e7228ef0>"
      ]
     },
     "metadata": {},
     "output_type": "display_data"
    }
   ],
   "source": [
    "# here is a visualization of the training process\n",
    "# typically we gain a lot in the beginning and then\n",
    "# training slows down\n",
    "plt.plot(history.history['acc'])\n",
    "plt.xlabel(\"epoch\")\n",
    "plt.ylabel(\"accuracy\")\n"
   ]
  },
  {
   "cell_type": "code",
   "execution_count": 8,
   "metadata": {
    "collapsed": false,
    "deletable": true,
    "editable": true
   },
   "outputs": [
    {
     "name": "stdout",
     "output_type": "stream",
     "text": [
      "Shape of W\n",
      "(5, 5, 1, 16)\n"
     ]
    }
   ],
   "source": [
    "# Look at the weights of the first layer\n",
    "layer = model.layers[0]\n",
    "# this actually returns a list \n",
    "# first element is W\n",
    "# second element are all the biases b\n",
    "weights = layer.get_weights()\n",
    "# the weights are the number of pixels times the number of filters (hidden units)\n",
    "print(\"Shape of W\")\n",
    "print(weights[0].shape)"
   ]
  },
  {
   "cell_type": "code",
   "execution_count": 9,
   "metadata": {
    "collapsed": false,
    "deletable": true,
    "editable": true
   },
   "outputs": [
    {
     "data": {
      "text/plain": [
       "<matplotlib.image.AxesImage at 0x1f1e76a1278>"
      ]
     },
     "execution_count": 9,
     "metadata": {},
     "output_type": "execute_result"
    },
    {
     "data": {
      "image/png": "[encoded data removed]",
      "text/plain": [
       "<matplotlib.figure.Figure at 0x1f1e7737b38>"
      ]
     },
     "metadata": {},
     "output_type": "display_data"
    }
   ],
   "source": [
    "# look at just the first filter\n",
    "w = weights[0][:,:,0,0]\n",
    "w = w.reshape((5,5))\n",
    "plt.imshow(w, cmap='gray')"
   ]
  },
  {
   "cell_type": "code",
   "execution_count": 10,
   "metadata": {
    "collapsed": false,
    "deletable": true,
    "editable": true
   },
   "outputs": [
    {
     "data": {
      "image/png": "[encoded data removed]",
      "text/plain": [
       "<matplotlib.figure.Figure at 0x1f1e7730dd8>"
      ]
     },
     "metadata": {},
     "output_type": "display_data"
    }
   ],
   "source": [
    "# make a figure for the first 25 filters\n",
    "filterTiles = np.array([])\n",
    "index = 0\n",
    "for i in range(4):\n",
    "    filterRow = []\n",
    "    for j in range(4):\n",
    "        w = weights[0][:,:,0,index]\n",
    "        w = w.reshape(5,5)\n",
    "        w = w-np.min(w)\n",
    "        w = w / np.max(w)\n",
    "        filterRow.extend(w)\n",
    "        index+=1\n",
    "    filterRow = np.array(filterRow)\n",
    "    if not filterTiles.shape[0] == 0:\n",
    "        filterTiles = np.hstack([filterTiles, filterRow])\n",
    "    else:\n",
    "        filterTiles = filterRow\n",
    "\n",
    "plt.imshow(filterTiles, cmap='gray')    \n",
    "plt.show()"
   ]
  },
  {
   "cell_type": "code",
   "execution_count": 12,
   "metadata": {
    "collapsed": false,
    "deletable": true,
    "editable": true
   },
   "outputs": [
    {
     "data": {
      "image/png": "[encoded data removed]",
      "text/plain": [
       "<matplotlib.figure.Figure at 0x1f1e8025320>"
      ]
     },
     "metadata": {},
     "output_type": "display_data"
    }
   ],
   "source": [
    "# make a figure for the first 25 filters\n",
    "index = 0\n",
    "for i in range(4):\n",
    "    for j in range(4):\n",
    "        w = weights[0][:,:,0,index]\n",
    "        w = w.reshape(5,5)\n",
    "        index+=1\n",
    "        plt.subplot(4,4,index)\n",
    "        plt.imshow(w, cmap='gray')    \n",
    "\n",
    "plt.show()"
   ]
  },
  {
   "cell_type": "code",
   "execution_count": null,
   "metadata": {
    "collapsed": true,
    "deletable": true,
    "editable": true
   },
   "outputs": [],
   "source": []
  }
 ],
 "metadata": {
  "kernelspec": {
   "display_name": "Python 3",
   "language": "python",
   "name": "python3"
  },
  "language_info": {
   "codemirror_mode": {
    "name": "ipython",
    "version": 3
   },
   "file_extension": ".py",
   "mimetype": "text/x-python",
   "name": "python",
   "nbconvert_exporter": "python",
   "pygments_lexer": "ipython3",
   "version": "3.5.2"
  }
 },
 "nbformat": 4,
 "nbformat_minor": 2
}
