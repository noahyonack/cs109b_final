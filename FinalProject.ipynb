{
 "cells": [
  {
   "cell_type": "markdown",
   "metadata": {
    "deletable": true,
    "editable": true
   },
   "source": [
    "# Final Project - Predicting Movie Genres!\n",
    "\n",
    "![Movie genre header](genre_header.jpg)\n",
    "\n",
    "Welcome to the final project of CS109b. \n",
    "\n",
    "The overall theme of the final project is movie data with a focus on movie genre prediction, because it is an area where we are all more or less application domain experts. First, you will explore your data and the challenges of the problem by exploratory data analysis. Use visualizations to find features that correlate with movie genres. These can be extracted from the movie posters, or meta data, or other data you gather, for example plot summaries or even movie transcripts. You will then compare traditional statistical or machine learning methods like generalized additive models, random forest, Bayesian prediction methods, boosting, and SVM, to deep learning models for movie genre prediction. \n",
    "\n",
    "For this project you will work in teams of 3-4 people and there are weekly milestones to guide you along the way. Even though the milestones are graded, they are mainly in place to make sure you stay in contact with your TF and make progress with the project. Throughout the project you also have room for creativity and to pursue your own ideas. While you need to hand in the milestones at the appropriate due date, there is nothing preventing you from working on a later milestone ahead of time. We suggest that you read through the whole project and all milestones in the beginning to be able to plan ahead. The project is pretty open-ended, so you can be creative and let your data science knowledge shine! \n",
    "\n",
    "For each milestone you will submit a notebook, in raw (`.ipynb`) and PDF formats, containing the deliverables of that week and the extra work you did so far. The notebooks need to contain your code, comments, explanations, thoughts, and visualizations. The final deliverables are a two-minute screencast, a report in paper style for a general data science audience, and all your data and code that you developed throughout the project. \n",
    "\n",
    "Below is a description of the data and the milestones with their due dates. All work is due by 11:59PM on the due date unless otherwise specified. We expect you to have the mandatory parts finished by the milestone due dates, and there will be no extensions. However, we strongly encourage you to plan ahead. For example, you need to think about the classification task early on to plan how you want to assemble your training data, and it is beneficial to start the deep learning work as early as possible. There is nothing hindering you to already train a model in the EDA phase to get a better feel for what challenges might lie ahead with the data. You should also see the milestone requirements as a basis for your own creativity, and we expect that most of you will go beyond the mandatory deliverables. For example, if you have a great idea about an interesting question that has to do with movie genre, but cannot be answered with the data from TMDb or IMDb, feel free to gather more data from somewhere else. \n",
    "\n",
    "We provide a data interface in Python, because it is convenient for IMDb, and we will use Python for the deep learning part. Specifically we will use Keras, a deep learning library that provides a high level interface to Google's Tensorflow framework for deep learning. However, if you feel that you prefer to do some of the work, e.g., visualizations or data cleanup, in R then feel free to use it. You can also use Spark to preprocess your data, especially if you collect large amounts of it from other sources. \n",
    "\n",
    "*Important:* Your grade for a milestone will depend on the required deliverables you submit at the due date for that milestone. But every milestone, especially the final project submission, can contain additional cool work you did that goes beyond the deliverables spelled out below. \n"
   ]
  },
  {
   "cell_type": "markdown",
   "metadata": {
    "collapsed": true,
    "deletable": true,
    "editable": true
   },
   "source": [
    "### Logistics \n",
    "\n",
    "Please adhere to the following guidelines for all submissions:\n",
    "- one submission per team\n",
    "- notebooks should be submitted as PDF and as raw (`.ipynb`) version\n",
    "- all notebooks should be executed so they contain relevant visualizations, and other results\n",
    "- try to make it as easy as possible for the TFs to get all relevant information about your work\n",
    "- do not submit big data sets, please provide a readme file with a link instead\n",
    "- the final report should also be submitted as pdf"
   ]
  },
  {
   "cell_type": "markdown",
   "metadata": {
    "deletable": true,
    "editable": true
   },
   "source": [
    "### Movie Data:\n",
    "\n",
    "The project is based on two different sources of movie data: [IMDb](http://www.imdb.com/) and [TMDb](https://www.themoviedb.org/). TMDb is great, because it provides the movie posters in addition to the metadata. This is crucial for the deep learning part, in which you will try to predict movie genres from posters. IMDb has more metadata available and will supplement the TMDb data you have. \n",
    "\n",
    "TMDb provides an easy to use [API](https://www.themoviedb.org/documentation/api) that allows you to download the data selectively. IMDb does not provide an API, but there is a Python interface available to access the metadata. We will use [IMDbPY](http://imdbpy.sourceforge.net/), which is already installed on the AMI and virtual box images for your convenience.\n",
    "\n",
    "*Important*: Please remember to limit your data rate when obtaining the data. Play nicely and do not just spam servers as fast as you can. This will prevent your IP from getting banned. The easiest way to do this is to use the [sleep](http://stackoverflow.com/questions/510348/how-can-i-make-a-time-delay-in-python) function in Python.\n"
   ]
  },
  {
   "cell_type": "markdown",
   "metadata": {
    "deletable": true,
    "editable": true
   },
   "source": [
    "### Milestone 1: Getting to know your data, due Wednesday, April 5, 2017\n",
    "\n",
    "In the beginning you should get acquainted with the data sources and do some EDA. Sign up for the TMDb [API](https://www.themoviedb.org/documentation/api), and try to download the poster of your favorite movie from within your notebook. Compare the genre entries of IMDb and TMDb for this movie and see if they are the same. Think about and write down some questions that you would like to answer in the following weeks. Keep the storytelling aspect of your final report in mind and do some pen and paper sketches about the visualizations you would like to produce. Include photographs of those sketches in your notebook. \n",
    "\n",
    "Most of the time a data scientist spends on a project is spent on cleaning the data. We are lucky that the data we have is already pretty clean. The Python interface to the IMDb ftp files does a lot of the additional work of cleaning as well. However, you will notice that the genre list for each movie from both databases can have different lengths. This needs to be changed in order to train a model to predict the movie genre. It is up to you to think about possible ways to address this problem and to implement one of them. There is no absolute right answer here. It depends on your interests and which questions you have in mind for the project. \n",
    "\n",
    "Optionally, you could also scrape additional data sources, such as Wikipedia, to obtain plot summaries. That data may give you additional useful features for genre classification. \n",
    "\n",
    "To guide your decision process, provide at least one visualization of how often genres are mentioned together in pairs. Your visualization should clearly show if a horror romance is more likely to occur in the data than a drama romance.\n",
    "\n",
    "The notebook to submit for this milestone needs to at least include:\n",
    "\n",
    "- API code to access the genre and movie poster path of your favorite movie\n",
    "- Genre for this movie listed by TMDb and IMDb\n",
    "- A list of the 10 most popular movies of 2016 from TMDb and their genre obtained via the API\n",
    "- Comments on what challenges you see for predicting movie genre based on the data you have, and how to address them \n",
    "- Code to generate the movie genre pairs and a suitable visualization of the result\n",
    "- Additional visualization sketches and EDA with a focus on movie genres\n",
    "- A list of questions you could answer with this and related data. Get creative here!\n",
    "\n",
    "The EDA questions do not necessarily have to tie into the modeling part later on. Think freely about things that might be interesting, like which actors are very specific to a genre? Are action movies more prone to producing sequels than romances? However, as you keep the focus on movie genres, think also about correlations you might discover that can help build features from the metadata for prediction. Is the length of a movie title correlated with genre?\n"
   ]
  },
  {
   "cell_type": "markdown",
   "metadata": {},
   "source": [
    "# TMDb API code to access the genre and movie poster path of your favorite movie ('300')"
   ]
  },
  {
   "cell_type": "code",
   "execution_count": 6,
   "metadata": {
    "collapsed": false
   },
   "outputs": [
    {
     "name": "stdout",
     "output_type": "stream",
     "text": [
      "Downloaded 73 posters.\n",
      "[u'w92', u'w154', u'w185', u'w342', u'w500', u'w780', u'original']\n",
      "In TMDB movie database, the movie has the following genres:\n",
      "[u'Action', u'Adventure', u'War']\n"
     ]
    }
   ],
   "source": [
    "import os\n",
    "import requests\n",
    "\n",
    "CONFIG_PATTERN = 'http://api.themoviedb.org/3/configuration?api_key=352e668a0df90032e0f1097459228131'\n",
    "IMG_PATTERN = 'http://api.themoviedb.org/3/movie/{imdbid}/images?api_key=352e668a0df90032e0f1097459228131' \n",
    "DETAILS_PATTERN = 'https://api.themoviedb.org/3/movie/{imdbid}?api_key=352e668a0df90032e0f1097459228131'\n",
    "KEY = '352e668a0df90032e0f1097459228131'\n",
    "            \n",
    "def _get_json(url):\n",
    "    r = requests.get(url)\n",
    "    return r.json()\n",
    "    \n",
    "def _download_images(urls, path='.'):\n",
    "    \"\"\"download all images in list 'urls' to 'path' \"\"\"\n",
    "\n",
    "    for nr, url in enumerate(urls):\n",
    "        r = requests.get(url)\n",
    "        filetype = r.headers['content-type'].split('/')[-1]\n",
    "        filename = 'poster_{0}.{1}'.format(nr+1,filetype)\n",
    "        filepath = os.path.join(path, filename)\n",
    "        with open(filepath,'wb') as w:\n",
    "            w.write(r.content)\n",
    "\n",
    "def get_poster_images(imdbid):\n",
    "    \"\"\" return image urls of posters and movie genres for IMDB id\n",
    "        returns all poster images from 'themoviedb.org'. Uses the\n",
    "        maximum available size. \n",
    "        Args:\n",
    "            imdbid (str): IMDB id of the movie\n",
    "        Returns:\n",
    "            list: list of urls to the images\n",
    "    \"\"\"\n",
    "    config = _get_json(CONFIG_PATTERN.format(key=KEY))\n",
    "    #print config\n",
    "    base_url = config['images']['base_url']\n",
    "    #print base_url\n",
    "    sizes = config['images']['poster_sizes']\n",
    "    #print sizes\n",
    "    \"\"\"\n",
    "        'sizes' should be sorted in ascending order, so\n",
    "            max_size = sizes[-1]\n",
    "        should get the largest size as well.        \n",
    "    \"\"\"\n",
    "    def size_str_to_int(x):\n",
    "        return float(\"inf\") if x == 'original' else int(x[1:])\n",
    "    max_size = max(sizes, key=size_str_to_int)\n",
    "    #print sizes\n",
    "    #print max_size\n",
    "    \n",
    "    # get posters (images)\n",
    "    posters = _get_json(IMG_PATTERN.format(key=KEY,imdbid=imdbid))['posters']\n",
    "    \n",
    "    poster_urls = []\n",
    "    count = 0\n",
    "    for poster in posters:\n",
    "        rel_path = poster['file_path']\n",
    "        url = \"{0}{1}{2}\".format(base_url, max_size, rel_path)\n",
    "        #print url\n",
    "        poster_urls.append(url)\n",
    "        count = count + 1\n",
    "    \n",
    "    print 'Downloaded ' + str(count) + ' posters.'\n",
    "\n",
    "    return poster_urls\n",
    "\n",
    "def get_movie_genres(imdbid):\n",
    "    \"\"\" return image urls of posters and movie genres for IMDB id\n",
    "        returns all poster images from 'themoviedb.org'. Uses the\n",
    "        maximum available size. \n",
    "        Args:\n",
    "            imdbid (str): IMDB id of the movie\n",
    "        Returns:\n",
    "            list: list of urls to the images\n",
    "    \"\"\"\n",
    "    config = _get_json(CONFIG_PATTERN.format(key=KEY))\n",
    "    #print config\n",
    "    base_url = config['images']['base_url']\n",
    "    #print base_url\n",
    "    sizes = config['images']['poster_sizes']\n",
    "    #print sizes\n",
    "    \"\"\"\n",
    "        'sizes' should be sorted in ascending order, so\n",
    "            max_size = sizes[-1]\n",
    "        should get the largest size as well.        \n",
    "    \"\"\"\n",
    "    def size_str_to_int(x):\n",
    "        return float(\"inf\") if x == 'original' else int(x[1:])\n",
    "    max_size = max(sizes, key=size_str_to_int)\n",
    "    #print sizes\n",
    "    #print max_size\n",
    "       \n",
    "    # get details (includes genres)\n",
    "    genres = _get_json(DETAILS_PATTERN.format(key=KEY,imdbid=imdbid))['genres']\n",
    "    \n",
    "    genres_lst = []\n",
    "    count = 0\n",
    "    for gen in genres:\n",
    "        g = gen['name']\n",
    "        genres_lst.append(g)\n",
    "        count = count + 1\n",
    "    \n",
    "    return genres_lst\n",
    "\n",
    "def tmdb_posters(imdbid, count=None, outpath='.'):    \n",
    "    urls = get_poster_images(imdbid)\n",
    "\n",
    "    \n",
    "    # get and print genres\n",
    "    genres = get_movie_genres(imdbid)\n",
    "    print 'In TMDB movie database, the movie has the following genres:'\n",
    "    print genres\n",
    "    \n",
    "    if count is not None:\n",
    "        urls = urls[:count]\n",
    "    _download_images(urls, outpath)\n",
    "\n",
    "#print __name__\n",
    "if __name__==\"__main__\":\n",
    "    #tmdb_posters('tt0095016')\n",
    "    tmdb_posters('tt0416449')"
   ]
  },
  {
   "cell_type": "code",
   "execution_count": 18,
   "metadata": {
    "collapsed": false
   },
   "outputs": [
    {
     "name": "stdout",
     "output_type": "stream",
     "text": [
      "title_popular\n"
     ]
    },
    {
     "data": {
      "text/plain": [
       "u'tt0416449'"
      ]
     },
     "execution_count": 18,
     "metadata": {},
     "output_type": "execute_result"
    }
   ],
   "source": [
    "import urllib\n",
    "\n",
    "def imdb_id_from_title(title):\n",
    "    \"\"\" return IMDB id for search string\n",
    "\n",
    "        Args::\n",
    "            title (str): the movie title search string\n",
    "\n",
    "        Returns: \n",
    "            str. IMDB id, e.g., 'tt0095016' \n",
    "            None. If no match was found\n",
    "\n",
    "    \"\"\"\n",
    "    pattern = 'http://www.imdb.com/xml/find?json=1&nr=1&tt=on&q={movie_title}'\n",
    "    url = pattern.format(movie_title=urllib.quote(title))\n",
    "    r = requests.get(url)\n",
    "    res = r.json()\n",
    "    # sections in descending order of preference\n",
    "    for section in ['popular','exact','substring']:\n",
    "        key = 'title_' + section \n",
    "        if key in res:\n",
    "            return res[key][0]['id']\n",
    "        \n",
    "imdb_id_from_title('300')"
   ]
  },
  {
   "cell_type": "markdown",
   "metadata": {},
   "source": [
    "# Genre entries of IMDb"
   ]
  },
  {
   "cell_type": "code",
   "execution_count": 45,
   "metadata": {
    "collapsed": false
   },
   "outputs": [],
   "source": [
    "## Installed by running this line in terminal: pip install IMDbPY\n",
    "## Tutorial found here http://imdbpy.sourceforge.net/support.html\n",
    "import imdb\n",
    "\n",
    "# Create the object that will be used to access the IMDb's database.\n",
    "ia = imdb.IMDb() # by default access the web."
   ]
  },
  {
   "cell_type": "code",
   "execution_count": 46,
   "metadata": {
    "collapsed": false
   },
   "outputs": [],
   "source": [
    "# Search for a movie (get a list of Movie objects).\n",
    "s_result = ia.search_movie('300')"
   ]
  },
  {
   "cell_type": "code",
   "execution_count": 47,
   "metadata": {
    "collapsed": false
   },
   "outputs": [
    {
     "name": "stdout",
     "output_type": "stream",
     "text": [
      "300 (2006) 0416449\n",
      "\"300\" (2014) 4066210\n",
      "\"300 (2005) (TV Episode)  - Season 21 | Episode 27  - The Bill\" (1984) 0524939\n",
      "300: Rise of an Empire (2014) 1253863\n",
      "Idiocracy (2006) 0387808\n",
      "3000 Miles to Graceland (2001) 0233142\n",
      "Mystery Science Theater 3000: The Movie (1996) 0117128\n",
      "300 the Resurgence (in development) (????) 4576032\n",
      "300 Spartans, The (1962) 0055719\n",
      "\"Mystery Science Theater 3000\" (1988) 0094517\n",
      "Last Stand of the 300 (2007) (TV) 0892737\n",
      "Decameron '300 (1972) 0068460\n",
      "Gruz 300 (1990) 0309643\n",
      "300 Worte Deutsch (2013) 2288044\n",
      "\"300 (2014) (TV Episode)  - Season 3 | Episode 5  - Honest Trailers\" (2012) 3614658\n",
      "\"300 (1973) (TV Episode)  - Season 3 | Episode 40  - The Electric Company\" (1971) 0904372\n",
      "\"300 (2007) (TV Episode)  - Season 4 | Episode 2  - STC Previews, The\" (2003) 1084548\n",
      "\"300 (2012) (TV Episode)  - Season 2 | Episode 16  - Folding Ideas\" (2011) 3957878\n",
      "\"300 (2009) (TV Episode)  - Season 1 | Episode 73  - Merci Qui?\" (2008) 5274864\n",
      "\"300 (2007) (TV Episode)  - Season 1 | Episode 5  - History in Focus\" (2006) 1142331\n"
     ]
    }
   ],
   "source": [
    "# Print the long imdb canonical title and movieID of the results.\n",
    "for item in s_result:\n",
    "   print item['long imdb canonical title'], item.movieID"
   ]
  },
  {
   "cell_type": "code",
   "execution_count": 50,
   "metadata": {
    "collapsed": false
   },
   "outputs": [],
   "source": [
    "# Retrieves default information for the first result (a Movie object).\n",
    "## This gives us the first 300 which is the one that we want \n",
    "fav_movie = s_result[0]\n",
    "ia.update(the_unt)"
   ]
  },
  {
   "cell_type": "code",
   "execution_count": 51,
   "metadata": {
    "collapsed": false
   },
   "outputs": [
    {
     "name": "stdout",
     "output_type": "stream",
     "text": [
      "[u'117']\n",
      "7.7\n"
     ]
    }
   ],
   "source": [
    "# Other example information that we could get (just to give the group an idea of IMDbPY's power)\n",
    "print fav_movie['runtime']\n",
    "print fav_movie['rating']\n",
    "director = fav_movie['director'] # get a list of Person objects."
   ]
  },
  {
   "cell_type": "code",
   "execution_count": 52,
   "metadata": {
    "collapsed": false
   },
   "outputs": [
    {
     "name": "stdout",
     "output_type": "stream",
     "text": [
      "This is the Genre of 300 for IMDB' [u'Action', u'Fantasy']\n"
     ]
    }
   ],
   "source": [
    "## So this is how we get the genre \n",
    "print \"This is the Genre of 300 for IMDB:'\",  fav_movie['genre']"
   ]
  },
  {
   "cell_type": "markdown",
   "metadata": {},
   "source": [
    "## Differences in Genre Between IMDB and TMDB \n",
    "Note that we have a few different genres between our favorite movie for IMDB's API and for TMDB's API. In particular, we found that for our favorite move \"300\" the genre given by TMDB was \"[u'Action', u'Adventure', u'War'].\" However the Genre's given for IMDB are \" [u'Action', u'Fantasy']\" This could lead to problems in the future when we are trying to compare similar movies but that come have different supposed \"genres.\" One way that we might avoid this is by doing a merge between the genres or selecting genres that appear in both (in this case that would be 'action') "
   ]
  },
  {
   "cell_type": "markdown",
   "metadata": {},
   "source": [
    "# 10 most popular movies on TMDb from 2016 with their genres"
   ]
  },
  {
   "cell_type": "code",
   "execution_count": 26,
   "metadata": {
    "collapsed": false,
    "scrolled": false
   },
   "outputs": [
    {
     "data": {
      "text/plain": [
       "{u'Arrival': [u'Drama', u'Science Fiction'],\n",
       " u'Captain America: Civil War': [u'Action', u'Science Fiction'],\n",
       " u'Deadpool': [u'Action', u'Adventure', u'Comedy', u'Romance'],\n",
       " u'Doctor Strange': [u'Action', u'Adventure', u'Fantasy', u'Science Fiction'],\n",
       " u'Fantastic Beasts and Where to Find Them': [u'Adventure',\n",
       "  u'Action',\n",
       "  u'Fantasy'],\n",
       " u'Finding Dory': [u'Adventure', u'Animation', u'Comedy', u'Family'],\n",
       " u'Lion': [u'Drama'],\n",
       " u'Rogue One: A Star Wars Story': [u'Action',\n",
       "  u'Drama',\n",
       "  u'Science Fiction',\n",
       "  u'War'],\n",
       " u'Sing': [u'Animation', u'Comedy', u'Drama', u'Family', u'Music'],\n",
       " u'Underworld: Blood Wars': [u'Action', u'Horror']}"
      ]
     },
     "execution_count": 26,
     "metadata": {},
     "output_type": "execute_result"
    }
   ],
   "source": [
    "MOST_POPULAR = 'https://api.themoviedb.org/3/movie/popular?api_key=352e668a0df90032e0f1097459228131&language=en-US&page={page_num}'\n",
    "\n",
    "# page number\n",
    "pg_n = 1\n",
    "\n",
    "# number of movies we want\n",
    "max_num = 10\n",
    "\n",
    "# dict (key: movie, value: genre)\n",
    "popular_movies = {}\n",
    "\n",
    "done = False\n",
    "count = 0\n",
    "# find 10 movies, keep going through pages until found\n",
    "while not done:\n",
    "    # access API\n",
    "    popular = _get_json(MOST_POPULAR.format(page_num=pg_n))\n",
    "    \n",
    "    # cycle through movies in the page of most popular movies\n",
    "    for movie in popular['results']:\n",
    "        # get year movie was released\n",
    "        year = movie['release_date'].split(\"-\")[0]\n",
    "        \n",
    "        # if year was 2016, add entry to dict\n",
    "        if year == '2016' and count < max_num:\n",
    "            # get movie title and associated imdbid\n",
    "            title = movie['title']\n",
    "            imdbid = imdb_id_from_title(title)\n",
    "            \n",
    "            # get movie genres\n",
    "            genres = get_movie_genres(imdbid)\n",
    "            \n",
    "            # add to dict\n",
    "            popular_movies[title] = genres\n",
    "            \n",
    "            # increment counter\n",
    "            count += 1\n",
    "    \n",
    "    # move onto next page\n",
    "    pg_n += 1\n",
    "    \n",
    "    # break when found 10 movies\n",
    "    if count >= max_num:\n",
    "        done = True\n",
    "\n",
    "popular_movies"
   ]
  },
  {
   "cell_type": "markdown",
   "metadata": {},
   "source": [
    "# Comments on what challenges you see for predicting movie genre based on the data you have, and how to address them\n",
    "\n",
    "1) There are differences in the genres listed by TMDb vs. IMDb\n",
    "    - We could use a union of the genres so that only those genres in both databases are considered correct\n",
    "    This also leads to a bigger question of \"What does it mean to correctly select a movie genre?\" Does thie mean that we select the best genre from IMDb, TMDb? Does this mean we might select multiple genres? These are all questions that we will need to face. \n",
    "2) The data will take a long time to load from the APIs because we need to restrict the rate at which we pull large amounts of data - ethics\n",
    "    - We need to work ahead and use AWS. In particular, if we are using a large dataset, we might need to pull a significant amount of our data in advance. \n",
    "3) We need to figure out what the \"Correct\" Genre means \n",
    "    - As we can see from the print out above, many movies have more than one genre. In this case we have that doctor strangelove is considered action, adventure, fantasy, AND science fiction. However, we probably want to create a model that only predicts one of these genres not all of them. One way that we can break this down and make this easier is by creating a subset of genres that we believe exist in the world. (e.g. taking the top 50 genres.) Then for each of our movies, we make a prediction that only exists within that realm of genres. Another option is for us to "
   ]
  },
  {
   "cell_type": "markdown",
   "metadata": {
    "collapsed": true
   },
   "source": [
    "## Playing with TMDB Simple API "
   ]
  },
  {
   "cell_type": "code",
   "execution_count": 90,
   "metadata": {
    "collapsed": true
   },
   "outputs": [],
   "source": [
    "### Downloaded this via this line: pip install tmdbsimple\n",
    "## Tutorial found here https://pypi.python.org/pypi/tmdbsimple\n",
    "import tmdbsimple as tmdb "
   ]
  },
  {
   "cell_type": "code",
   "execution_count": 183,
   "metadata": {
    "collapsed": false
   },
   "outputs": [],
   "source": [
    "## Pass in our API Key \n",
    "tmdb.API_KEY = '352e668a0df90032e0f1097459228131'\n"
   ]
  },
  {
   "cell_type": "code",
   "execution_count": 184,
   "metadata": {
    "collapsed": false
   },
   "outputs": [
    {
     "data": {
      "text/plain": [
       "{u'adult': False,\n",
       " u'backdrop_path': u'/oHOTQkTYgDuoCYMaBEzuB9DqguX.jpg',\n",
       " u'belongs_to_collection': {u'backdrop_path': u'/mLLztGKyxSLoWjgRSpmm9W12VsU.jpg',\n",
       "  u'id': 125570,\n",
       "  u'name': u'300 Collection',\n",
       "  u'poster_path': u'/nKQqh6kJvPdpOJD24enD3Bm1Hy5.jpg'},\n",
       " u'budget': 65000000,\n",
       " u'genres': [{u'id': 28, u'name': u'Action'},\n",
       "  {u'id': 12, u'name': u'Adventure'},\n",
       "  {u'id': 10752, u'name': u'War'}],\n",
       " u'homepage': u'http://300themovie.warnerbros.com',\n",
       " u'id': 1271,\n",
       " u'imdb_id': u'tt0416449',\n",
       " u'original_language': u'en',\n",
       " u'original_title': u'300',\n",
       " u'overview': u'Based on Frank Miller\\'s graphic novel, \"300\" is very loosely based the 480 B.C. Battle of Thermopylae, where the King of Sparta led his army against the advancing Persians; the battle is said to have inspired all of Greece to band together against the Persians, and helped usher in the world\\'s first democracy.',\n",
       " u'popularity': 2.745886,\n",
       " u'poster_path': u'/bYR8O1H1ZlME7Dm9ysfTYZnRDpw.jpg',\n",
       " u'production_companies': [{u'id': 449, u'name': u'Virtual Studios'},\n",
       "  {u'id': 923, u'name': u'Legendary Pictures'},\n",
       "  {u'id': 2994, u'name': u'Hollywood Gang Productions'},\n",
       "  {u'id': 2995, u'name': u'Atmosphere Entertainment MM'},\n",
       "  {u'id': 6194, u'name': u'Warner Bros.'},\n",
       "  {u'id': 7636, u'name': u'Nimar Studios'},\n",
       "  {u'id': 78685, u'name': u'Cruel and Unusual Films'}],\n",
       " u'production_countries': [{u'iso_3166_1': u'US',\n",
       "   u'name': u'United States of America'}],\n",
       " u'release_date': u'2006-12-09',\n",
       " u'revenue': 422610419,\n",
       " u'runtime': 117,\n",
       " u'spoken_languages': [{u'iso_639_1': u'en', u'name': u'English'}],\n",
       " u'status': u'Released',\n",
       " u'tagline': u'Spartans, prepare for glory!',\n",
       " u'title': u'300',\n",
       " u'video': False,\n",
       " u'vote_average': 7.0,\n",
       " u'vote_count': 4024}"
      ]
     },
     "execution_count": 184,
     "metadata": {},
     "output_type": "execute_result"
    }
   ],
   "source": [
    "## Example with 300, we'll show how to get the key of 300 farther down \n",
    "## 1271 is the key for the movie 300\n",
    "movie = tmdb.Movies(1271)\n",
    "response = movie.info()\n",
    "response"
   ]
  },
  {
   "cell_type": "code",
   "execution_count": 185,
   "metadata": {
    "collapsed": false
   },
   "outputs": [
    {
     "name": "stdout",
     "output_type": "stream",
     "text": [
      "300\n",
      "65000000\n",
      "These are the genres for '300' from tmdb: Action Adventure War\n",
      "Also note the key id pairing, this will be useful for us later: {u'id': 28, u'name': u'Action'}\n"
     ]
    }
   ],
   "source": [
    "print movie.title\n",
    "print movie.budget\n",
    "print \"These are the genres for '300' from tmdb:\", movie.genres[0][\"name\"], movie.genres[1][\"name\"], movie.genres[2][\"name\"]\n",
    "print \"Also note the key id pairing, this will be useful for us later:\", movie.genres[0]"
   ]
  },
  {
   "cell_type": "code",
   "execution_count": 186,
   "metadata": {
    "collapsed": false
   },
   "outputs": [
    {
     "name": "stdout",
     "output_type": "stream",
     "text": [
      "R\n",
      "R\n"
     ]
    }
   ],
   "source": [
    "## here's how we get the ratings\n",
    "response = movie.releases()\n",
    "for c in movie.countries:\n",
    "    if c['iso_3166_1'] == 'US':\n",
    "        print(c['certification'])"
   ]
  },
  {
   "cell_type": "code",
   "execution_count": 187,
   "metadata": {
    "collapsed": false
   },
   "outputs": [
    {
     "name": "stdout",
     "output_type": "stream",
     "text": [
      "(u'300', 1271, u'2006-12-09', 3.745886)\n",
      "(u'300: Rise of an Empire', 53182, u'2014-03-05', 3.863153)\n",
      "(u\"Decameron '300\", 436902, u'1972-08-11', 1.01302)\n",
      "(u'300 Souls', 332423, u'2015-03-25', 1.006227)\n",
      "(u'United 300', 204183, u'2007-04-30', 1.000996)\n",
      "(u'300 Miles', 409110, u'2016-08-11', 1.028247)\n",
      "(u'300 Killers', 54799, u'2011-01-18', 1.002222)\n",
      "(u'300 Pounds', 68690, u'2007-01-01', 1.000451)\n",
      "(u'Last Stand of the 300', 37122, u'2007-05-27', 1.249439)\n",
      "(u'The 300 Spartans', 19972, u'1962-08-01', 1.379025)\n",
      "(u'300 Worte Deutsch', 309038, u'2015-02-05', 1.144064)\n",
      "(u'300 Miles to Heaven', 155325, u'1989-10-30', 1.095081)\n",
      "(u'300 Miles to Freedom', 329318, u'2011-01-01', 1.002061)\n",
      "(u'4 Damas en 300', 293965, u'2011-07-17', 1.00101)\n",
      "(u'Kamis Ke 300', 406842, u'', 1.000911)\n",
      "(u'Planet Deutschland - 300 Millionen Jahre', 295831, u'2014-10-02', 1.00244)\n",
      "(u'Million Dollar Eel', 285994, u'1971-05-06', 1)\n",
      "(u\"Fangio: Una vita a 300 all'ora\", 435791, u'1980-01-01', 1.000024)\n",
      "(u'Kenau', 251619, u'2014-03-06', 1.254309)\n",
      "(u'75 habitantes, 20 casas, 300 vacas', 202434, u'2011-05-11', 1.004443)\n"
     ]
    }
   ],
   "source": [
    "#### example of how to find the id for movies \n",
    "search = tmdb.Search()\n",
    "response = search.movie(query='300')\n",
    "for s in search.results:\n",
    "    print(s['title'], s['id'], s['release_date'], s['popularity'])\n",
    "\n",
    "## in this case I just took the top result\n",
    "fav_movie_tmdb = search.results[0]"
   ]
  },
  {
   "cell_type": "code",
   "execution_count": 117,
   "metadata": {
    "collapsed": false
   },
   "outputs": [
    {
     "name": "stdout",
     "output_type": "stream",
     "text": [
      "This is the id for '300': 1271\n"
     ]
    },
    {
     "data": {
      "text/plain": [
       "<tmdbsimple.movies.Movies at 0x107870950>"
      ]
     },
     "execution_count": 117,
     "metadata": {},
     "output_type": "execute_result"
    }
   ],
   "source": [
    "fav_movie_id = fav_movie_tmdb['id']\n",
    "print \"This is the id for '300':\", fav_movie_id \n",
    "\n"
   ]
  },
  {
   "cell_type": "markdown",
   "metadata": {},
   "source": [
    "## Getting Poster Path from TMDB "
   ]
  },
  {
   "cell_type": "code",
   "execution_count": 123,
   "metadata": {
    "collapsed": false
   },
   "outputs": [
    {
     "name": "stdout",
     "output_type": "stream",
     "text": [
      "This is the poster path, /bYR8O1H1ZlME7Dm9ysfTYZnRDpw.jpg\n"
     ]
    }
   ],
   "source": [
    "print \"This is the poster path,\", movie.info()[\"poster_path\"]"
   ]
  },
  {
   "cell_type": "code",
   "execution_count": 158,
   "metadata": {
    "collapsed": false
   },
   "outputs": [],
   "source": [
    "## Abdapted from http://programtalk.com/python-examples/tmdbsimple.Discover/\n",
    "discover = tmdb.Discover()\n",
    "### this allows us to discover movies by looking at their primary release year \n",
    "movies_2016 = discover.movie(year=2016)"
   ]
  },
  {
   "cell_type": "markdown",
   "metadata": {},
   "source": [
    "## Top 10 Most Popular movies  from TMDB"
   ]
  },
  {
   "cell_type": "code",
   "execution_count": 198,
   "metadata": {
    "collapsed": false
   },
   "outputs": [
    {
     "name": "stdout",
     "output_type": "stream",
     "text": [
      "Sing 76.005907\n",
      "this is the Genre: [{u'id': 16, u'name': u'Animation'}, {u'id': 35, u'name': u'Comedy'}, {u'id': 18, u'name': u'Drama'}, {u'id': 10751, u'name': u'Family'}, {u'id': 10402, u'name': u'Music'}]\n",
      "Fantastic Beasts and Where to Find Them 39.239379\n",
      "this is the Genre: [{u'id': 12, u'name': u'Adventure'}, {u'id': 28, u'name': u'Action'}, {u'id': 14, u'name': u'Fantasy'}]\n",
      "Split 34.606082\n",
      "this is the Genre: [{u'id': 27, u'name': u'Horror'}, {u'id': 53, u'name': u'Thriller'}]\n",
      "Finding Dory 31.769363\n",
      "this is the Genre: [{u'id': 12, u'name': u'Adventure'}, {u'id': 16, u'name': u'Animation'}, {u'id': 35, u'name': u'Comedy'}, {u'id': 10751, u'name': u'Family'}]\n",
      "Deadpool 26.382598\n",
      "this is the Genre: [{u'id': 28, u'name': u'Action'}, {u'id': 12, u'name': u'Adventure'}, {u'id': 35, u'name': u'Comedy'}, {u'id': 10749, u'name': u'Romance'}]\n",
      "Rogue One: A Star Wars Story 25.082126\n",
      "this is the Genre: [{u'id': 28, u'name': u'Action'}, {u'id': 18, u'name': u'Drama'}, {u'id': 878, u'name': u'Science Fiction'}, {u'id': 10752, u'name': u'War'}]\n",
      "Doctor Strange 23.441433\n",
      "this is the Genre: [{u'id': 28, u'name': u'Action'}, {u'id': 12, u'name': u'Adventure'}, {u'id': 14, u'name': u'Fantasy'}, {u'id': 878, u'name': u'Science Fiction'}]\n",
      "Arrival 22.476241\n",
      "this is the Genre: [{u'id': 18, u'name': u'Drama'}, {u'id': 878, u'name': u'Science Fiction'}]\n",
      "Captain America: Civil War 21.467025\n",
      "this is the Genre: [{u'id': 28, u'name': u'Action'}, {u'id': 878, u'name': u'Science Fiction'}]\n",
      "John Wick 20.206953\n",
      "this is the Genre: [{u'id': 28, u'name': u'Action'}, {u'id': 53, u'name': u'Thriller'}]\n"
     ]
    },
    {
     "data": {
      "text/plain": [
       "245891"
      ]
     },
     "execution_count": 198,
     "metadata": {},
     "output_type": "execute_result"
    }
   ],
   "source": [
    "## iterate through the dictionary \n",
    "### Interesting, this is giving us different results than Danny's function above. \n",
    "for m in discover.results[0:10]:\n",
    "    ids = m[\"id\"]\n",
    "    movie = tmdb.Movies(ids)\n",
    "    response = movie.info()\n",
    "    print m[\"title\"], m[\"popularity\"]\n",
    "    print \"this is the Genre:\", movie.genres\n",
    "\n"
   ]
  },
  {
   "cell_type": "markdown",
   "metadata": {
    "deletable": true,
    "editable": true
   },
   "source": [
    "### Milestone 2: Assembling training data, due Wednesday, April 12, 2017\n",
    "\n",
    "We are aware that you have little time this week, due to the midterm. So this milestone is a bit easier to achieve than the others. The goal for this week is to prepare the data for the modeling phase of the project. You should end up with a typical data setup of training data X and data labels Y.\n",
    "\n",
    "The exact form of X and Y depends on the ideas you had previously. In general though Y should involve the genre of a movie, and X the features you want to include to predict the genre. Remember from the lecture that more features does not necessarily equal better prediction performance. Use your application knowledge and the insight you gathered from your genre pair analysis and additional EDA to design Y. Do you want to include all genres? Are there genres that you assume to be easier to separate than others? Are there genres that could be grouped together? There is no one right answer here. We are looking for your insight, so be sure to describe your decision process in your notebook. \n",
    "\n",
    "In preparation for the deep learning part we strongly encourage you to have two sets of training data X, one with the metadata and one with the movie posters. Make sure to have a common key, like the movie ID, to be able to link the two sets together. Also be mindful of the data rate when you obtain the posters. Time your requests and choose which poster resolution you need. In most cases w500 should be sufficient, and probably a lower resolution will be fine.\n",
    "\n",
    "The notebook to submit this week should at least include:\n",
    "\n",
    "- Discussion about the imbalanced nature of the data and how you want to address it\n",
    "- Description of your data\n",
    "- What does your choice of Y look like?\n",
    "- Which features do you choose for X and why? \n",
    "- How do you sample your data, how many samples, and why?\n",
    "\n",
    "*Important*: You do not need to upload the data itself to Canvas."
   ]
  },
  {
   "cell_type": "markdown",
   "metadata": {
    "deletable": true,
    "editable": true
   },
   "source": [
    "### Milestone 3: Traditional statistical and machine learning methods, due Wednesday, April 19, 2017\n",
    "\n",
    "Think about how you would address the genre prediction problem with traditional statistical or machine learning methods. This includes everything you learned about modeling in this course before the deep learning part. Implement your ideas and compare different classifiers. Report your results and discuss what challenges you faced and how you overcame them. What works and what does not? If there are parts that do not work as expected, make sure to discuss briefly what you think is the cause and how you would address this if you would have more time and resources. \n",
    "\n",
    "You do not necessarily need to use the movie posters for this step, but even without a background in computer vision, there are very simple features you can extract from the posters to help guide a traditional machine learning model. Think about the PCA lecture for example, or how to use clustering to extract color information. In addition to considering the movie posters it would be worthwhile to have a look at the metadata that IMDb provides. \n",
    "\n",
    "You could use Spark and the [ML library](https://spark.apache.org/docs/latest/ml-features.html#word2vec) to build your model features from the data. This may be especially beneficial if you use additional data, e.g., in text form.\n",
    "\n",
    "You also need to think about how you are going to evaluate your classifier. Which metrics or scores will you report to show how good the performance is?\n",
    "\n",
    "The notebook to submit this week should at least include:\n",
    "\n",
    "- Detailed description and implementation of two different models\n",
    "- Description of your performance metrics\n",
    "- Careful performance evaluations for both models\n",
    "- Visualizations of the metrics for performance evaluation\n",
    "- Discussion of the differences between the models, their strengths, weaknesses, etc. \n",
    "- Discussion of the performances you achieved, and how you might be able to improve them in the future\n",
    "\n",
    "#### Preliminary Peer Assessment\n",
    "\n",
    "It is important to provide positive feedback to people who truly worked hard for the good of the team and to also make suggestions to those you perceived not to be working as effectively on team tasks. We ask you to provide an honest assessment of the contributions of the members of your team, including yourself. The feedback you provide should reflect your judgment of each team member’s:\n",
    "\n",
    "- Preparation – were they prepared during team meetings?\n",
    "- Contribution – did they contribute productively to the team discussion and work?\n",
    "- Respect for others’ ideas – did they encourage others to contribute their ideas?\n",
    "- Flexibility – were they flexible when disagreements occurred?\n",
    "\n",
    "Your teammate’s assessment of your contributions and the accuracy of your self-assessment will be considered as part of your overall project score.\n",
    "\n",
    "Preliminary Peer Assessment: [https://goo.gl/forms/WOYC7pwRCSU0yV3l1](https://goo.gl/forms/WOYC7pwRCSU0yV3l1)"
   ]
  },
  {
   "cell_type": "markdown",
   "metadata": {
    "deletable": true,
    "editable": true
   },
   "source": [
    "### Milestone 4: Deep learning, due Wednesday, April 26, 2017\n",
    "\n",
    "For this milestone you will (finally) use deep learning to predict movie genres. You will train one small network from scratch on the posters only, and compare this one to a pre-trained network that you fine tune. [Here](https://keras.io/getting-started/faq/#how-can-i-use-pre-trained-models-in-keras) is a description of how to use pretrained models in Keras.\n",
    "\n",
    "You can try different architectures, initializations, parameter settings, optimization methods, etc. Be adventurous and explore deep learning! It can be fun to combine the features learned by the deep learning model with a SVM, or incorporate meta data into your deep learning model. \n",
    "\n",
    "**Note:** Be mindful of the longer training times for deep models. Not only for training time, but also for the parameter tuning efforts. You need time to develop a feel for the different parameters and which settings work, which normalization you want to use, which model architecture you choose, etc. \n",
    "\n",
    "It is great that we have GPUs via AWS to speed up the actual computation time, but you need to be mindful of your AWS credits. The GPU instances are not cheap and can accumulate costs rather quickly. Think about your model first and do some quick dry runs with a larger learning rate or large batch size on your local machine. \n",
    "\n",
    "The notebook to submit this week should at least include:\n",
    "\n",
    "- Complete description of the deep network you trained from scratch, including parameter settings, performance, features learned, etc. \n",
    "- Complete description of the pre-trained network that you fine tuned, including parameter settings, performance, features learned, etc. \n",
    "- Discussion of the results, how much improvement you gained with fine tuning, etc. \n",
    "- Discussion of at least one additional exploratory idea you pursued"
   ]
  },
  {
   "cell_type": "markdown",
   "metadata": {
    "deletable": true,
    "editable": true
   },
   "source": [
    "### Milestone 5: Final submission, report and screencast, due Wednesday, May 3, 2017\n",
    "\n",
    "The grand finale! Gather all your experiences, ideas, results, and discussions into one coherent final report that tells a compelling story and produce a 2 minute screencast that summarizes it. \n",
    "\n",
    "Your report needs to be max. 6 pages long (no more!) and include text and visualizations. Your audience are data scientists who did not spend any time pondering movie genre classification problems. Those data scientists do have the same background as you (e.g., you do not need to explain what PCA means) but they are not familiar with your data and the specific problems and questions you faced. Make sure to use good storytelling principles to write your reports. \n",
    "\n",
    "The screencast is for the same audience and needs to be max. 2 minutes long (no longer!). Do not just scroll through your notebook while talking--that is boring and confusing. You can extract visualizations from your notebook or produce new visuals and slides for a narrated presentation. Please use a good microphone and test the sound quality. Do not underestimate the time it takes to do a good job on your screencast. Start early, write a script, and collect additional materials that you might want to show. \n",
    "\n",
    "[Upload](https://support.google.com/youtube/answer/57407?co=GENIE.Platform%3DDesktop&hl=en) your screenscast to YouTube.\n",
    "\n",
    "What to submit this week:\n",
    "\n",
    "- Up to date versions of all your notebooks\n",
    "- README to go with the notebooks that explains how much the notebooks changed since the milestone submissions. This is to guide your TF to find the relevant updates\n",
    "- The 6 page final report as a PDF\n",
    "- The link to your 2 minute screencast on YouTube\n",
    "- A link to a .zip file with all your cleaned data\n",
    "\n",
    "#### Final Peer Assessment\n",
    "\n",
    "It is important to provide positive feedback to people who truly worked hard for the good of the team and to also make suggestions to those you perceived not to be working as effectively on team tasks. We ask you to provide an honest assessment of the contributions of the members of your team, including yourself. The feedback you provide should reflect your judgment of each team member’s:\n",
    "\n",
    "- Preparation – were they prepared during team meetings?\n",
    "- Contribution – did they contribute productively to the team discussion and work?\n",
    "- Respect for others’ ideas – did they encourage others to contribute their ideas?\n",
    "- Flexibility – were they flexible when disagreements occurred?\n",
    "\n",
    "Your teammate’s assessment of your contributions and the accuracy of your self-assessment will be considered as part of your overall project score.\n",
    "\n",
    "Final Peer Assessment: [https://goo.gl/forms/YYFqGbDEfFWeNaSC2](https://goo.gl/forms/YYFqGbDEfFWeNaSC2)"
   ]
  },
  {
   "cell_type": "code",
   "execution_count": null,
   "metadata": {
    "collapsed": true,
    "deletable": true,
    "editable": true
   },
   "outputs": [],
   "source": []
  }
 ],
 "metadata": {
  "kernelspec": {
   "display_name": "Python 2",
   "language": "python",
   "name": "python2"
  },
  "language_info": {
   "codemirror_mode": {
    "name": "ipython",
    "version": 2
   },
   "file_extension": ".py",
   "mimetype": "text/x-python",
   "name": "python",
   "nbconvert_exporter": "python",
   "pygments_lexer": "ipython2",
   "version": "2.7.13"
  }
 },
 "nbformat": 4,
 "nbformat_minor": 0
}
