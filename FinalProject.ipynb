{
 "cells": [
  {
   "cell_type": "markdown",
   "metadata": {
    "deletable": true,
    "editable": true
   },
   "source": [
    "# Final Project - Predicting Movie Genres!\n",
    "\n",
    "![Movie genre header](genre_header.jpg)\n",
    "\n",
    "Welcome to the final project of CS109b. \n",
    "\n",
    "The overall theme of the final project is movie data with a focus on movie genre prediction, because it is an area where we are all more or less application domain experts. First, you will explore your data and the challenges of the problem by exploratory data analysis. Use visualizations to find features that correlate with movie genres. These can be extracted from the movie posters, or meta data, or other data you gather, for example plot summaries or even movie transcripts. You will then compare traditional statistical or machine learning methods like generalized additive models, random forest, Bayesian prediction methods, boosting, and SVM, to deep learning models for movie genre prediction. \n",
    "\n",
    "For this project you will work in teams of 3-4 people and there are weekly milestones to guide you along the way. Even though the milestones are graded, they are mainly in place to make sure you stay in contact with your TF and make progress with the project. Throughout the project you also have room for creativity and to pursue your own ideas. While you need to hand in the milestones at the appropriate due date, there is nothing preventing you from working on a later milestone ahead of time. We suggest that you read through the whole project and all milestones in the beginning to be able to plan ahead. The project is pretty open-ended, so you can be creative and let your data science knowledge shine! \n",
    "\n",
    "For each milestone you will submit a notebook, in raw (`.ipynb`) and PDF formats, containing the deliverables of that week and the extra work you did so far. The notebooks need to contain your code, comments, explanations, thoughts, and visualizations. The final deliverables are a two-minute screencast, a report in paper style for a general data science audience, and all your data and code that you developed throughout the project. \n",
    "\n",
    "Below is a description of the data and the milestones with their due dates. All work is due by 11:59PM on the due date unless otherwise specified. We expect you to have the mandatory parts finished by the milestone due dates, and there will be no extensions. However, we strongly encourage you to plan ahead. For example, you need to think about the classification task early on to plan how you want to assemble your training data, and it is beneficial to start the deep learning work as early as possible. There is nothing hindering you to already train a model in the EDA phase to get a better feel for what challenges might lie ahead with the data. You should also see the milestone requirements as a basis for your own creativity, and we expect that most of you will go beyond the mandatory deliverables. For example, if you have a great idea about an interesting question that has to do with movie genre, but cannot be answered with the data from TMDb or IMDb, feel free to gather more data from somewhere else. \n",
    "\n",
    "We provide a data interface in Python, because it is convenient for IMDb, and we will use Python for the deep learning part. Specifically we will use Keras, a deep learning library that provides a high level interface to Google's Tensorflow framework for deep learning. However, if you feel that you prefer to do some of the work, e.g., visualizations or data cleanup, in R then feel free to use it. You can also use Spark to preprocess your data, especially if you collect large amounts of it from other sources. \n",
    "\n",
    "*Important:* Your grade for a milestone will depend on the required deliverables you submit at the due date for that milestone. But every milestone, especially the final project submission, can contain additional cool work you did that goes beyond the deliverables spelled out below. \n"
   ]
  },
  {
   "cell_type": "markdown",
   "metadata": {
    "collapsed": true,
    "deletable": true,
    "editable": true
   },
   "source": [
    "### Logistics \n",
    "\n",
    "Please adhere to the following guidelines for all submissions:\n",
    "- one submission per team\n",
    "- notebooks should be submitted as PDF and as raw (`.ipynb`) version\n",
    "- all notebooks should be executed so they contain relevant visualizations, and other results\n",
    "- try to make it as easy as possible for the TFs to get all relevant information about your work\n",
    "- do not submit big data sets, please provide a readme file with a link instead\n",
    "- the final report should also be submitted as pdf"
   ]
  },
  {
   "cell_type": "markdown",
   "metadata": {
    "deletable": true,
    "editable": true
   },
   "source": [
    "### Movie Data:\n",
    "\n",
    "The project is based on two different sources of movie data: [IMDb](http://www.imdb.com/) and [TMDb](https://www.themoviedb.org/). TMDb is great, because it provides the movie posters in addition to the metadata. This is crucial for the deep learning part, in which you will try to predict movie genres from posters. IMDb has more metadata available and will supplement the TMDb data you have. \n",
    "\n",
    "TMDb provides an easy to use [API](https://www.themoviedb.org/documentation/api) that allows you to download the data selectively. IMDb does not provide an API, but there is a Python interface available to access the metadata. We will use [IMDbPY](http://imdbpy.sourceforge.net/), which is already installed on the AMI and virtual box images for your convenience.\n",
    "\n",
    "*Important*: Please remember to limit your data rate when obtaining the data. Play nicely and do not just spam servers as fast as you can. This will prevent your IP from getting banned. The easiest way to do this is to use the [sleep](http://stackoverflow.com/questions/510348/how-can-i-make-a-time-delay-in-python) function in Python.\n"
   ]
  },
  {
   "cell_type": "markdown",
   "metadata": {
    "deletable": true,
    "editable": true
   },
   "source": [
    "### Milestone 1: Getting to know your data, due Wednesday, April 5, 2017\n",
    "\n",
    "In the beginning you should get acquainted with the data sources and do some EDA. Sign up for the TMDb [API](https://www.themoviedb.org/documentation/api), and try to download the poster of your favorite movie from within your notebook. Compare the genre entries of IMDb and TMDb for this movie and see if they are the same. Think about and write down some questions that you would like to answer in the following weeks. Keep the storytelling aspect of your final report in mind and do some pen and paper sketches about the visualizations you would like to produce. Include photographs of those sketches in your notebook. \n",
    "\n",
    "Most of the time a data scientist spends on a project is spent on cleaning the data. We are lucky that the data we have is already pretty clean. The Python interface to the IMDb ftp files does a lot of the additional work of cleaning as well. However, you will notice that the genre list for each movie from both databases can have different lengths. This needs to be changed in order to train a model to predict the movie genre. It is up to you to think about possible ways to address this problem and to implement one of them. There is no absolute right answer here. It depends on your interests and which questions you have in mind for the project. \n",
    "\n",
    "Optionally, you could also scrape additional data sources, such as Wikipedia, to obtain plot summaries. That data may give you additional useful features for genre classification. \n",
    "\n",
    "To guide your decision process, provide at least one visualization of how often genres are mentioned together in pairs. Your visualization should clearly show if a horror romance is more likely to occur in the data than a drama romance.\n",
    "\n",
    "The notebook to submit for this milestone needs to at least include:\n",
    "\n",
    "- API code to access the genre and movie poster path of your favorite movie\n",
    "- Genre for this movie listed by TMDb and IMDb\n",
    "- A list of the 10 most popular movies of 2016 from TMDb and their genre obtained via the API\n",
    "- Comments on what challenges you see for predicting movie genre based on the data you have, and how to address them \n",
    "- Code to generate the movie genre pairs and a suitable visualization of the result\n",
    "- Additional visualization sketches and EDA with a focus on movie genres\n",
    "- A list of questions you could answer with this and related data. Get creative here!\n",
    "\n",
    "The EDA questions do not necessarily have to tie into the modeling part later on. Think freely about things that might be interesting, like which actors are very specific to a genre? Are action movies more prone to producing sequels than romances? However, as you keep the focus on movie genres, think also about correlations you might discover that can help build features from the metadata for prediction. Is the length of a movie title correlated with genre?\n"
   ]
  },
  {
   "cell_type": "code",
   "execution_count": 162,
   "metadata": {
    "collapsed": false
   },
   "outputs": [],
   "source": [
    "import time\n",
    "import seaborn as sns\n",
    "import numpy as np\n",
    "import pandas as pd\n",
    "import matplotlib.pyplot as plt\n",
    "from collections import Counter\n",
    "%matplotlib inline\n",
    "\n",
    "## Installed by running this line in terminal: pip install IMDbPY\n",
    "## Tutorial found here http://imdbpy.sourceforge.net/support.html\n",
    "import imdb\n",
    "\n",
    "### Downloaded this via this line: pip install tmdbsimple\n",
    "## Tutorial found here https://pypi.python.org/pypi/tmdbsimple\n",
    "import tmdbsimple as tmdb "
   ]
  },
  {
   "cell_type": "code",
   "execution_count": 35,
   "metadata": {
    "collapsed": true
   },
   "outputs": [],
   "source": [
    "## Pass in our tmdb Key \n",
    "tmdb.API_KEY = '352e668a0df90032e0f1097459228131'\n",
    "\n",
    "# Create the object that will be used to access the IMDb's database.\n",
    "ia = imdb.IMDb() # by default access the web."
   ]
  },
  {
   "cell_type": "markdown",
   "metadata": {},
   "source": [
    "# Genre entries from IMDb"
   ]
  },
  {
   "cell_type": "code",
   "execution_count": 3,
   "metadata": {
    "collapsed": false
   },
   "outputs": [
    {
     "data": {
      "text/plain": [
       "[<Movie id:0416449[http] title:_300 (2006)_>,\n",
       " <Movie id:4066210[http] title:_\"300\" (2014)_>,\n",
       " <Movie id:6291292[http] title:_\"300 (2000) (TV Episode)  - Season 10 | Episode 6  - The Infinite Power Workout\" (1997)_>,\n",
       " <Movie id:1253863[http] title:_300: Rise of an Empire (2014)_>,\n",
       " <Movie id:0387808[http] title:_Idiocracy (2006)_>,\n",
       " <Movie id:0233142[http] title:_3000 Miles to Graceland (2001)_>,\n",
       " <Movie id:0117128[http] title:_Mystery Science Theater 3000: The Movie (1996)_>,\n",
       " <Movie id:4576032[http] title:_300 the Resurgence (in development) (????)_>,\n",
       " <Movie id:0055719[http] title:_The 300 Spartans (1962)_>,\n",
       " <Movie id:0094517[http] title:_\"Mystery Science Theater 3000\" (1988)_>,\n",
       " <Movie id:0892737[http] title:_Last Stand of the 300 (2007) (TV)_>,\n",
       " <Movie id:0068460[http] title:_Decameron '300 (1972)_>,\n",
       " <Movie id:0524939[http] title:_\"300 (2005) (TV Episode)  - Season 21 | Episode 27  - The Bill\" (1984)_>,\n",
       " <Movie id:0309643[http] title:_Gruz 300 (1990)_>,\n",
       " <Movie id:2288044[http] title:_300 Worte Deutsch (2013)_>,\n",
       " <Movie id:3614658[http] title:_\"300 (2014) (TV Episode)  - Season 3 | Episode 5  - Honest Trailers\" (2012)_>,\n",
       " <Movie id:0904372[http] title:_\"300 (1973) (TV Episode)  - Season 3 | Episode 40  - The Electric Company\" (1971)_>,\n",
       " <Movie id:1084548[http] title:_\"The 300 (2007) (TV Episode)  - Season 4 | Episode 2  - STC Previews\" (2003)_>,\n",
       " <Movie id:3957878[http] title:_\"300 (2012) (TV Episode)  - Season 2 | Episode 16  - Folding Ideas\" (2011)_>,\n",
       " <Movie id:5152204[http] title:_\"300 (2012) (TV Episode)  - Season 3 | Episode 9  - Bath Bayakha\" (2011) (mini)_>]"
      ]
     },
     "execution_count": 3,
     "metadata": {},
     "output_type": "execute_result"
    }
   ],
   "source": [
    "# Search for a movie (get a list of Movie objects).\n",
    "s_result = ia.search_movie('300')\n",
    "s_result"
   ]
  },
  {
   "cell_type": "code",
   "execution_count": 4,
   "metadata": {
    "collapsed": false
   },
   "outputs": [
    {
     "name": "stdout",
     "output_type": "stream",
     "text": [
      "300 (2006) 0416449\n",
      "\"300\" (2014) 4066210\n",
      "\"300 (2000) (TV Episode)  - Season 10 | Episode 6  - The Infinite Power Workout\" (1997) 6291292\n",
      "300: Rise of an Empire (2014) 1253863\n",
      "Idiocracy (2006) 0387808\n",
      "3000 Miles to Graceland (2001) 0233142\n",
      "Mystery Science Theater 3000: The Movie (1996) 0117128\n",
      "300 the Resurgence (in development) (????) 4576032\n",
      "300 Spartans, The (1962) 0055719\n",
      "\"Mystery Science Theater 3000\" (1988) 0094517\n",
      "Last Stand of the 300 (2007) (TV) 0892737\n",
      "Decameron '300 (1972) 0068460\n",
      "\"300 (2005) (TV Episode)  - Season 21 | Episode 27  - The Bill\" (1984) 0524939\n",
      "Gruz 300 (1990) 0309643\n",
      "300 Worte Deutsch (2013) 2288044\n",
      "\"300 (2014) (TV Episode)  - Season 3 | Episode 5  - Honest Trailers\" (2012) 3614658\n",
      "\"300 (1973) (TV Episode)  - Season 3 | Episode 40  - The Electric Company\" (1971) 0904372\n",
      "\"300 (2007) (TV Episode)  - Season 4 | Episode 2  - STC Previews, The\" (2003) 1084548\n",
      "\"300 (2012) (TV Episode)  - Season 2 | Episode 16  - Folding Ideas\" (2011) 3957878\n",
      "\"300 (2012) (TV Episode)  - Season 3 | Episode 9  - Bath Bayakha\" (2011) (mini) 5152204\n"
     ]
    }
   ],
   "source": [
    "# Print the long imdb canonical title and movieID of the results.\n",
    "for item in s_result:\n",
    "   print item['long imdb canonical title'], item.movieID"
   ]
  },
  {
   "cell_type": "code",
   "execution_count": 5,
   "metadata": {
    "collapsed": false
   },
   "outputs": [],
   "source": [
    "# Retrieves default information for the first result (a Movie object).\n",
    "## This gives us the first 300 which is the one that we want \n",
    "fav_movie = s_result[0]\n",
    "ia.update(fav_movie)"
   ]
  },
  {
   "cell_type": "code",
   "execution_count": 6,
   "metadata": {
    "collapsed": false
   },
   "outputs": [
    {
     "name": "stdout",
     "output_type": "stream",
     "text": [
      "[u'117']\n",
      "7.7\n"
     ]
    }
   ],
   "source": [
    "# Other example information that we could get (just to give the group an idea of IMDbPY's power)\n",
    "print fav_movie['runtime']\n",
    "print fav_movie['rating']\n",
    "director = fav_movie['director'] # get a list of Person objects."
   ]
  },
  {
   "cell_type": "code",
   "execution_count": 7,
   "metadata": {
    "collapsed": false
   },
   "outputs": [
    {
     "name": "stdout",
     "output_type": "stream",
     "text": [
      "This is the Genre of 300 for IMDB:' [u'Action', u'Fantasy']\n"
     ]
    }
   ],
   "source": [
    "## So this is how we get the genre \n",
    "print \"This is the Genre of 300 for IMDB:'\",  fav_movie['genre']"
   ]
  },
  {
   "cell_type": "markdown",
   "metadata": {
    "collapsed": true
   },
   "source": [
    "## Info about our favorite movie: 300 FROM TMDB"
   ]
  },
  {
   "cell_type": "code",
   "execution_count": 13,
   "metadata": {
    "collapsed": false
   },
   "outputs": [],
   "source": [
    "## Example with 300, we'll show how to get the key of 300 farther down \n",
    "## 1271 is the key for the movie 300\n",
    "movie = tmdb.Movies(1271)\n",
    "response = movie.info()"
   ]
  },
  {
   "cell_type": "code",
   "execution_count": 12,
   "metadata": {
    "collapsed": false
   },
   "outputs": [
    {
     "data": {
      "text/plain": [
       "{u'adult': False,\n",
       " u'backdrop_path': u'/oHOTQkTYgDuoCYMaBEzuB9DqguX.jpg',\n",
       " u'belongs_to_collection': {u'backdrop_path': u'/mLLztGKyxSLoWjgRSpmm9W12VsU.jpg',\n",
       "  u'id': 125570,\n",
       "  u'name': u'300 Collection',\n",
       "  u'poster_path': u'/nKQqh6kJvPdpOJD24enD3Bm1Hy5.jpg'},\n",
       " u'budget': 65000000,\n",
       " u'genres': [{u'id': 28, u'name': u'Action'},\n",
       "  {u'id': 12, u'name': u'Adventure'},\n",
       "  {u'id': 10752, u'name': u'War'}],\n",
       " u'homepage': u'http://300themovie.warnerbros.com',\n",
       " u'id': 1271,\n",
       " u'imdb_id': u'tt0416449',\n",
       " u'original_language': u'en',\n",
       " u'original_title': u'300',\n",
       " u'overview': u'Based on Frank Miller\\'s graphic novel, \"300\" is very loosely based the 480 B.C. Battle of Thermopylae, where the King of Sparta led his army against the advancing Persians; the battle is said to have inspired all of Greece to band together against the Persians, and helped usher in the world\\'s first democracy.',\n",
       " u'popularity': 2.745886,\n",
       " u'poster_path': u'/bYR8O1H1ZlME7Dm9ysfTYZnRDpw.jpg',\n",
       " u'production_companies': [{u'id': 449, u'name': u'Virtual Studios'},\n",
       "  {u'id': 923, u'name': u'Legendary Pictures'},\n",
       "  {u'id': 2994, u'name': u'Hollywood Gang Productions'},\n",
       "  {u'id': 2995, u'name': u'Atmosphere Entertainment MM'},\n",
       "  {u'id': 6194, u'name': u'Warner Bros.'},\n",
       "  {u'id': 7636, u'name': u'Nimar Studios'},\n",
       "  {u'id': 78685, u'name': u'Cruel and Unusual Films'}],\n",
       " u'production_countries': [{u'iso_3166_1': u'US',\n",
       "   u'name': u'United States of America'}],\n",
       " u'release_date': u'2006-12-09',\n",
       " u'revenue': 422610419,\n",
       " u'runtime': 117,\n",
       " u'spoken_languages': [{u'iso_639_1': u'en', u'name': u'English'}],\n",
       " u'status': u'Released',\n",
       " u'tagline': u'Spartans, prepare for glory!',\n",
       " u'title': u'300',\n",
       " u'video': False,\n",
       " u'vote_average': 7.0,\n",
       " u'vote_count': 4027}"
      ]
     },
     "execution_count": 12,
     "metadata": {},
     "output_type": "execute_result"
    }
   ],
   "source": [
    "response"
   ]
  },
  {
   "cell_type": "code",
   "execution_count": 14,
   "metadata": {
    "collapsed": false
   },
   "outputs": [
    {
     "name": "stdout",
     "output_type": "stream",
     "text": [
      "300\n",
      "65000000\n",
      "These are the genres for '300' from tmdb: Action Adventure War\n",
      "Also note the key id pairing for genre, this will be useful for us later: {u'id': 28, u'name': u'Action'}\n"
     ]
    }
   ],
   "source": [
    "print movie.title\n",
    "print movie.budget\n",
    "print \"These are the genres for '300' from tmdb:\", movie.genres[0][\"name\"], movie.genres[1][\"name\"], movie.genres[2][\"name\"]\n",
    "print \"Also note the key id pairing for genre, this will be useful for us later:\", movie.genres[0]"
   ]
  },
  {
   "cell_type": "code",
   "execution_count": 16,
   "metadata": {
    "collapsed": false
   },
   "outputs": [
    {
     "name": "stdout",
     "output_type": "stream",
     "text": [
      "R\n",
      "R\n"
     ]
    }
   ],
   "source": [
    "## here's how we get the ratings\n",
    "### This doesn't really matter, but kinda interesting\n",
    "response = movie.releases()\n",
    "for c in movie.countries:\n",
    "    if c['iso_3166_1'] == 'US':\n",
    "        print(c['certification'])"
   ]
  },
  {
   "cell_type": "code",
   "execution_count": 17,
   "metadata": {
    "collapsed": false
   },
   "outputs": [
    {
     "name": "stdout",
     "output_type": "stream",
     "text": [
      "(u'300', 1271, u'2006-12-09', 3.745886)\n",
      "(u'300: Rise of an Empire', 53182, u'2014-03-05', 3.863153)\n",
      "(u\"Decameron '300\", 436902, u'1972-08-11', 1.01302)\n",
      "(u'300 Souls', 332423, u'2015-03-25', 1.006227)\n",
      "(u'United 300', 204183, u'2007-04-30', 1.000996)\n",
      "(u'300 Miles', 409110, u'2016-08-11', 1.028247)\n",
      "(u'300 Killers', 54799, u'2011-01-18', 1.002222)\n",
      "(u'300 Pounds', 68690, u'2007-01-01', 1.000451)\n",
      "(u'Last Stand of the 300', 37122, u'2007-05-27', 1.249439)\n",
      "(u'The 300 Spartans', 19972, u'1962-08-01', 1.379025)\n",
      "(u'300 Worte Deutsch', 309038, u'2015-02-05', 1.144064)\n",
      "(u'300 Miles to Heaven', 155325, u'1989-10-30', 1.095081)\n",
      "(u'300 Miles to Freedom', 329318, u'2011-01-01', 1.002061)\n",
      "(u'4 Damas en 300', 293965, u'2011-07-17', 1.00101)\n",
      "(u'Kamis Ke 300', 406842, u'', 1.000911)\n",
      "(u'Planet Deutschland - 300 Millionen Jahre', 295831, u'2014-10-02', 1.00244)\n",
      "(u'Million Dollar Eel', 285994, u'1971-05-06', 1)\n",
      "(u\"Fangio: Una vita a 300 all'ora\", 435791, u'1980-01-01', 1.000024)\n",
      "(u'Kenau', 251619, u'2014-03-06', 1.254309)\n",
      "(u'75 habitantes, 20 casas, 300 vacas', 202434, u'2011-05-11', 1.004443)\n"
     ]
    }
   ],
   "source": [
    "#### example of how to find the id for movies \n",
    "search = tmdb.Search()\n",
    "response = search.movie(query='300')\n",
    "for s in search.results:\n",
    "    print(s['title'], s['id'], s['release_date'], s['popularity'])\n",
    "\n",
    "## in this case I just took the top result\n",
    "fav_movie_tmdb = search.results[0]"
   ]
  },
  {
   "cell_type": "code",
   "execution_count": 18,
   "metadata": {
    "collapsed": false
   },
   "outputs": [
    {
     "name": "stdout",
     "output_type": "stream",
     "text": [
      "This is the id for '300': 1271\n"
     ]
    }
   ],
   "source": [
    "fav_movie_id = fav_movie_tmdb['id']\n",
    "print \"This is the id for '300':\", fav_movie_id "
   ]
  },
  {
   "cell_type": "markdown",
   "metadata": {},
   "source": [
    "## Getting Poster Path  for 300 from TMDB "
   ]
  },
  {
   "cell_type": "code",
   "execution_count": 19,
   "metadata": {
    "collapsed": false
   },
   "outputs": [
    {
     "name": "stdout",
     "output_type": "stream",
     "text": [
      "This is the poster path, /bYR8O1H1ZlME7Dm9ysfTYZnRDpw.jpg\n"
     ]
    }
   ],
   "source": [
    "print \"This is the poster path,\", movie.info()[\"poster_path\"]"
   ]
  },
  {
   "cell_type": "code",
   "execution_count": 20,
   "metadata": {
    "collapsed": false
   },
   "outputs": [],
   "source": [
    "## Abdapted from http://programtalk.com/python-examples/tmdbsimple.Discover/\n",
    "discover = tmdb.Discover()\n",
    "### this allows us to discover movies by looking at their primary release year \n",
    "movies_2016 = discover.movie(year=2016)"
   ]
  },
  {
   "cell_type": "markdown",
   "metadata": {},
   "source": [
    "## Top 10 Most Popular movies  from TMDB with genre "
   ]
  },
  {
   "cell_type": "code",
   "execution_count": 23,
   "metadata": {
    "collapsed": false
   },
   "outputs": [
    {
     "name": "stdout",
     "output_type": "stream",
     "text": [
      "Sing 76.005907\n",
      "this is the Genre: [{u'id': 16, u'name': u'Animation'}, {u'id': 35, u'name': u'Comedy'}, {u'id': 18, u'name': u'Drama'}, {u'id': 10751, u'name': u'Family'}, {u'id': 10402, u'name': u'Music'}] \n",
      "\n",
      "Fantastic Beasts and Where to Find Them 39.239379\n",
      "this is the Genre: [{u'id': 12, u'name': u'Adventure'}, {u'id': 28, u'name': u'Action'}, {u'id': 14, u'name': u'Fantasy'}] \n",
      "\n",
      "Split 34.606082\n",
      "this is the Genre: [{u'id': 27, u'name': u'Horror'}, {u'id': 53, u'name': u'Thriller'}] \n",
      "\n",
      "Finding Dory 31.769363\n",
      "this is the Genre: [{u'id': 12, u'name': u'Adventure'}, {u'id': 16, u'name': u'Animation'}, {u'id': 35, u'name': u'Comedy'}, {u'id': 10751, u'name': u'Family'}] \n",
      "\n",
      "Deadpool 26.382598\n",
      "this is the Genre: [{u'id': 28, u'name': u'Action'}, {u'id': 12, u'name': u'Adventure'}, {u'id': 35, u'name': u'Comedy'}, {u'id': 10749, u'name': u'Romance'}] \n",
      "\n",
      "Rogue One: A Star Wars Story 25.082126\n",
      "this is the Genre: [{u'id': 28, u'name': u'Action'}, {u'id': 18, u'name': u'Drama'}, {u'id': 878, u'name': u'Science Fiction'}, {u'id': 10752, u'name': u'War'}] \n",
      "\n",
      "Doctor Strange 23.441433\n",
      "this is the Genre: [{u'id': 28, u'name': u'Action'}, {u'id': 12, u'name': u'Adventure'}, {u'id': 14, u'name': u'Fantasy'}, {u'id': 878, u'name': u'Science Fiction'}] \n",
      "\n",
      "Arrival 22.476241\n",
      "this is the Genre: [{u'id': 18, u'name': u'Drama'}, {u'id': 878, u'name': u'Science Fiction'}] \n",
      "\n",
      "Captain America: Civil War 21.467025\n",
      "this is the Genre: [{u'id': 28, u'name': u'Action'}, {u'id': 878, u'name': u'Science Fiction'}] \n",
      "\n",
      "John Wick 20.206953\n",
      "this is the Genre: [{u'id': 28, u'name': u'Action'}, {u'id': 53, u'name': u'Thriller'}] \n",
      "\n"
     ]
    }
   ],
   "source": [
    "## iterate through the dictionary \n",
    "### Interesting, this is giving us different results than Danny's function above. \n",
    "## This could also be cleaner if someone wants to clean it up \n",
    "for m in discover.results[0:10]:\n",
    "    ids = m[\"id\"]\n",
    "    movie = tmdb.Movies(ids)\n",
    "    response = movie.info()\n",
    "    print m[\"title\"], m[\"popularity\"]\n",
    "    print \"this is the Genre:\", movie.genres, \"\\n\""
   ]
  },
  {
   "cell_type": "markdown",
   "metadata": {},
   "source": [
    "## Differences in Genre Between IMDB and TMDB \n",
    "Note that we have a few different genres between our favorite movie for IMDB's API and for TMDB's API. In particular, we found that for our favorite move \"300\" the genre given by TMDB was \"[u'Action', u'Adventure', u'War'].\" However the Genre's given for IMDB are \" [u'Action', u'Fantasy']\" This could lead to problems in the future when we are trying to compare similar movies but that come have different supposed \"genres.\" One way that we might avoid this is by doing a merge between the genres or selecting genres that appear in both (in this case that would be 'action') "
   ]
  },
  {
   "cell_type": "markdown",
   "metadata": {},
   "source": [
    "# Comments on what challenges you see for predicting movie genre based on the data you have, and how to address them\n",
    "\n",
    "1) There are differences in the genres listed by TMDb vs. IMDb\n",
    "    - We could use a union of the genres so that only those genres in both databases are considered correct\n",
    "    This also leads to a bigger question of \"What does it mean to correctly select a movie genre?\" Does thie mean that we select the best genre from IMDb, TMDb? Does this mean we might select multiple genres? These are all questions that we will need to face. \n",
    "2) The data will take a long time to load from the APIs because we need to restrict the rate at which we pull large amounts of data - ethics\n",
    "    - We need to work ahead and use AWS. In particular, if we are using a large dataset, we might need to pull a significant amount of our data in advance. \n",
    "3) We need to figure out what the \"Correct\" Genre means \n",
    "    - As we can see from the print out above, many movies have more than one genre. In this case we have that doctor strangelove is considered action, adventure, fantasy, AND science fiction. However, we probably want to create a model that only predicts one of these genres not all of them. One way that we can break this down and make this easier is by creating a subset of genres that we believe exist in the world. (e.g. taking the top 50 genres.) Then for each of our movies, we make a prediction that only exists within that realm of genres. Another option is for us to..."
   ]
  },
  {
   "cell_type": "markdown",
   "metadata": {},
   "source": [
    "## Visualizing Genres In Pairs \n",
    "\n",
    "This section gives a brief look at the relationship between genres. We will then extend upon it to choose only one genre per a movie. "
   ]
  },
  {
   "cell_type": "code",
   "execution_count": 49,
   "metadata": {
    "collapsed": false
   },
   "outputs": [
    {
     "name": "stdout",
     "output_type": "stream",
     "text": [
      "Number of genres: 19\n"
     ]
    },
    {
     "data": {
      "text/plain": [
       "{u'Action': 28,\n",
       " u'Adventure': 12,\n",
       " u'Animation': 16,\n",
       " u'Comedy': 35,\n",
       " u'Crime': 80,\n",
       " u'Documentary': 99,\n",
       " u'Drama': 18,\n",
       " u'Family': 10751,\n",
       " u'Fantasy': 14,\n",
       " u'History': 36,\n",
       " u'Horror': 27,\n",
       " u'Music': 10402,\n",
       " u'Mystery': 9648,\n",
       " u'Romance': 10749,\n",
       " u'Science Fiction': 878,\n",
       " u'TV Movie': 10770,\n",
       " u'Thriller': 53,\n",
       " u'War': 10752,\n",
       " u'Western': 37}"
      ]
     },
     "execution_count": 49,
     "metadata": {},
     "output_type": "execute_result"
    }
   ],
   "source": [
    "genres_obj = tmdb.Genres()\n",
    "genre_ids = {genre[\"name\"]: genre[\"id\"] for genre in genres_obj.list()[\"genres\"]}\n",
    "\n",
    "print \"Number of genres: {0}\".format(len(genre_ids.keys()))\n",
    "genre_ids"
   ]
  },
  {
   "cell_type": "code",
   "execution_count": 140,
   "metadata": {
    "collapsed": false
   },
   "outputs": [
    {
     "data": {
      "text/plain": [
       "{12: u'Adventure',\n",
       " 14: u'Fantasy',\n",
       " 16: u'Animation',\n",
       " 18: u'Drama',\n",
       " 27: u'Horror',\n",
       " 28: u'Action',\n",
       " 35: u'Comedy',\n",
       " 36: u'History',\n",
       " 37: u'Western',\n",
       " 53: u'Thriller',\n",
       " 80: u'Crime',\n",
       " 99: u'Documentary',\n",
       " 878: u'Science Fiction',\n",
       " 9648: u'Mystery',\n",
       " 10402: u'Music',\n",
       " 10749: u'Romance',\n",
       " 10751: u'Family',\n",
       " 10752: u'War',\n",
       " 10770: u'TV Movie'}"
      ]
     },
     "execution_count": 140,
     "metadata": {},
     "output_type": "execute_result"
    }
   ],
   "source": [
    "reverse_genre_ids = {v: k for k, v in genre_ids.iteritems()}\n",
    "reverse_genre_ids"
   ]
  },
  {
   "cell_type": "code",
   "execution_count": 110,
   "metadata": {
    "collapsed": false
   },
   "outputs": [],
   "source": [
    "discover = tmdb.Discover()\n",
    "movie_dict = {genre: [] for genre in genre_ids.iterkeys()}\n",
    "\n",
    "# count how many results we get for each genre\n",
    "movie_cnts = {genre: 0 for genre in genre_ids.iterkeys()}\n",
    "\n",
    "# need ids for each genre\n",
    "for genre in genre_ids.keys():    \n",
    "    # scan 20 pages for movies\n",
    "    for p in range(1, 20):\n",
    "        # find all movies with a given id on a given page\n",
    "        discover.movie(with_genres = genre_ids[genre], page = p)\n",
    "        for page in discover.results:\n",
    "            # we found another movie\n",
    "            movie_cnts[genre] += 1\n",
    "            \n",
    "            # add the ids from this new movie to the list\n",
    "            movie_dict[genre].extend(page[\"genre_ids\"])\n",
    "            \n",
    "    # sleep so that we don't get kicked off the API\n",
    "    time.sleep(10)"
   ]
  },
  {
   "cell_type": "code",
   "execution_count": 115,
   "metadata": {
    "collapsed": false
   },
   "outputs": [],
   "source": [
    "# make a copy of the movie dict so that we don't have \n",
    "# to rerun the above cell if we mess up\n",
    "genre_percentages = movie_dict.copy()\n",
    "\n",
    "# for each genre in the dictionary\n",
    "for genre in genre_percentages:\n",
    "    \n",
    "    # make a dictionary of frequencies instead of raw ids\n",
    "    genre_percentages[genre] = Counter(genre_percentages[genre])\n",
    "    \n",
    "    # normalize each raw number into a percentage \n",
    "    for genre_id in genre_percentages[genre]:\n",
    "        genre_percentages[genre][genre_id] = genre_percentages[genre][genre_id] * 1.0 / movie_cnts[genre]"
   ]
  },
  {
   "cell_type": "code",
   "execution_count": 116,
   "metadata": {
    "collapsed": false
   },
   "outputs": [
    {
     "data": {
      "text/plain": [
       "{u'Action': Counter({12: 0.5026315789473684,\n",
       "          14: 0.20526315789473684,\n",
       "          16: 0.042105263157894736,\n",
       "          18: 0.19736842105263158,\n",
       "          27: 0.05789473684210526,\n",
       "          28: 1.0,\n",
       "          35: 0.14210526315789473,\n",
       "          36: 0.021052631578947368,\n",
       "          37: 0.010526315789473684,\n",
       "          53: 0.45,\n",
       "          80: 0.18421052631578946,\n",
       "          878: 0.37894736842105264,\n",
       "          9648: 0.07105263157894737,\n",
       "          10749: 0.015789473684210527,\n",
       "          10751: 0.05789473684210526,\n",
       "          10752: 0.04736842105263158}),\n",
       " u'Adventure': Counter({12: 1.0,\n",
       "          14: 0.3368421052631579,\n",
       "          16: 0.18947368421052632,\n",
       "          18: 0.1631578947368421,\n",
       "          27: 0.02368421052631579,\n",
       "          28: 0.5842105263157895,\n",
       "          35: 0.22631578947368422,\n",
       "          36: 0.021052631578947368,\n",
       "          37: 0.018421052631578946,\n",
       "          53: 0.24473684210526317,\n",
       "          80: 0.05,\n",
       "          878: 0.3368421052631579,\n",
       "          9648: 0.039473684210526314,\n",
       "          10402: 0.002631578947368421,\n",
       "          10749: 0.06578947368421052,\n",
       "          10751: 0.29210526315789476,\n",
       "          10752: 0.021052631578947368}),\n",
       " u'Animation': Counter({12: 0.44473684210526315,\n",
       "          14: 0.29473684210526313,\n",
       "          16: 1.0,\n",
       "          18: 0.11842105263157894,\n",
       "          27: 0.015789473684210527,\n",
       "          28: 0.1394736842105263,\n",
       "          35: 0.4105263157894737,\n",
       "          36: 0.002631578947368421,\n",
       "          37: 0.005263157894736842,\n",
       "          53: 0.021052631578947368,\n",
       "          80: 0.007894736842105263,\n",
       "          99: 0.005263157894736842,\n",
       "          878: 0.12368421052631579,\n",
       "          9648: 0.007894736842105263,\n",
       "          10402: 0.039473684210526314,\n",
       "          10749: 0.06578947368421052,\n",
       "          10751: 0.7289473684210527,\n",
       "          10752: 0.002631578947368421,\n",
       "          10770: 0.010526315789473684}),\n",
       " u'Comedy': Counter({12: 0.24736842105263157,\n",
       "          14: 0.16052631578947368,\n",
       "          16: 0.2,\n",
       "          18: 0.23421052631578948,\n",
       "          27: 0.031578947368421054,\n",
       "          28: 0.19473684210526315,\n",
       "          35: 1.0,\n",
       "          36: 0.005263157894736842,\n",
       "          37: 0.005263157894736842,\n",
       "          53: 0.05,\n",
       "          80: 0.11052631578947368,\n",
       "          878: 0.07894736842105263,\n",
       "          9648: 0.015789473684210527,\n",
       "          10402: 0.031578947368421054,\n",
       "          10749: 0.24210526315789474,\n",
       "          10751: 0.2631578947368421,\n",
       "          10752: 0.002631578947368421}),\n",
       " u'Crime': Counter({12: 0.0868421052631579,\n",
       "          14: 0.031578947368421054,\n",
       "          16: 0.005263157894736842,\n",
       "          18: 0.5368421052631579,\n",
       "          27: 0.03684210526315789,\n",
       "          28: 0.48157894736842105,\n",
       "          35: 0.19210526315789472,\n",
       "          36: 0.018421052631578946,\n",
       "          37: 0.010526315789473684,\n",
       "          53: 0.6078947368421053,\n",
       "          80: 1.0,\n",
       "          878: 0.04473684210526316,\n",
       "          9648: 0.15263157894736842,\n",
       "          10402: 0.015789473684210527,\n",
       "          10749: 0.04736842105263158,\n",
       "          10751: 0.007894736842105263}),\n",
       " u'Documentary': Counter({12: 0.015789473684210527,\n",
       "          14: 0.005263157894736842,\n",
       "          16: 0.015789473684210527,\n",
       "          18: 0.07105263157894737,\n",
       "          27: 0.015789473684210527,\n",
       "          28: 0.018421052631578946,\n",
       "          35: 0.05526315789473684,\n",
       "          36: 0.05526315789473684,\n",
       "          53: 0.002631578947368421,\n",
       "          80: 0.018421052631578946,\n",
       "          99: 1.0,\n",
       "          878: 0.010526315789473684,\n",
       "          9648: 0.002631578947368421,\n",
       "          10402: 0.1,\n",
       "          10751: 0.034210526315789476,\n",
       "          10752: 0.018421052631578946,\n",
       "          10769: 0.007894736842105263,\n",
       "          10770: 0.005263157894736842}),\n",
       " u'Drama': Counter({12: 0.13421052631578947,\n",
       "          14: 0.0868421052631579,\n",
       "          16: 0.015789473684210527,\n",
       "          18: 1.0,\n",
       "          27: 0.03684210526315789,\n",
       "          28: 0.2026315789473684,\n",
       "          35: 0.15526315789473685,\n",
       "          36: 0.07368421052631578,\n",
       "          37: 0.018421052631578946,\n",
       "          53: 0.2736842105263158,\n",
       "          80: 0.1868421052631579,\n",
       "          878: 0.10789473684210527,\n",
       "          9648: 0.09473684210526316,\n",
       "          10402: 0.02631578947368421,\n",
       "          10749: 0.24210526315789474,\n",
       "          10751: 0.02894736842105263,\n",
       "          10752: 0.07631578947368421}),\n",
       " u'Family': Counter({12: 0.49473684210526314,\n",
       "          14: 0.39210526315789473,\n",
       "          16: 0.5736842105263158,\n",
       "          18: 0.16052631578947368,\n",
       "          28: 0.10263157894736842,\n",
       "          35: 0.5552631578947368,\n",
       "          36: 0.002631578947368421,\n",
       "          37: 0.005263157894736842,\n",
       "          53: 0.002631578947368421,\n",
       "          80: 0.013157894736842105,\n",
       "          99: 0.002631578947368421,\n",
       "          878: 0.10263157894736842,\n",
       "          9648: 0.010526315789473684,\n",
       "          10402: 0.060526315789473685,\n",
       "          10749: 0.09210526315789473,\n",
       "          10751: 1.0,\n",
       "          10770: 0.013157894736842105}),\n",
       " u'Fantasy': Counter({12: 0.5184210526315789,\n",
       "          14: 1.0,\n",
       "          16: 0.23421052631578948,\n",
       "          18: 0.2236842105263158,\n",
       "          27: 0.07631578947368421,\n",
       "          28: 0.3605263157894737,\n",
       "          35: 0.29473684210526313,\n",
       "          36: 0.002631578947368421,\n",
       "          37: 0.002631578947368421,\n",
       "          53: 0.11842105263157894,\n",
       "          80: 0.031578947368421054,\n",
       "          99: 0.002631578947368421,\n",
       "          878: 0.2026315789473684,\n",
       "          9648: 0.03684210526315789,\n",
       "          10402: 0.034210526315789476,\n",
       "          10749: 0.16052631578947368,\n",
       "          10751: 0.3605263157894737,\n",
       "          10752: 0.007894736842105263,\n",
       "          10770: 0.002631578947368421}),\n",
       " u'History': Counter({12: 0.18157894736842106,\n",
       "          14: 0.007894736842105263,\n",
       "          16: 0.005263157894736842,\n",
       "          18: 0.8763157894736842,\n",
       "          27: 0.007894736842105263,\n",
       "          28: 0.29473684210526313,\n",
       "          35: 0.042105263157894736,\n",
       "          36: 1.0,\n",
       "          37: 0.013157894736842105,\n",
       "          53: 0.11842105263157894,\n",
       "          80: 0.04736842105263158,\n",
       "          99: 0.02368421052631579,\n",
       "          9648: 0.013157894736842105,\n",
       "          10402: 0.02368421052631579,\n",
       "          10749: 0.15263157894736842,\n",
       "          10751: 0.007894736842105263,\n",
       "          10752: 0.28157894736842104,\n",
       "          10769: 0.005263157894736842,\n",
       "          10770: 0.015789473684210527}),\n",
       " u'Horror': Counter({12: 0.05263157894736842,\n",
       "          14: 0.08947368421052632,\n",
       "          16: 0.007894736842105263,\n",
       "          18: 0.19736842105263158,\n",
       "          27: 1.0,\n",
       "          28: 0.16842105263157894,\n",
       "          35: 0.11315789473684211,\n",
       "          37: 0.007894736842105263,\n",
       "          53: 0.5710526315789474,\n",
       "          80: 0.05789473684210526,\n",
       "          878: 0.16578947368421051,\n",
       "          9648: 0.1868421052631579,\n",
       "          10402: 0.002631578947368421,\n",
       "          10749: 0.018421052631578946,\n",
       "          10752: 0.002631578947368421}),\n",
       " u'Music': Counter({12: 0.05,\n",
       "          14: 0.08421052631578947,\n",
       "          16: 0.10526315789473684,\n",
       "          18: 0.5026315789473684,\n",
       "          27: 0.021052631578947368,\n",
       "          28: 0.05,\n",
       "          35: 0.4236842105263158,\n",
       "          36: 0.02894736842105263,\n",
       "          37: 0.010526315789473684,\n",
       "          53: 0.021052631578947368,\n",
       "          80: 0.04473684210526316,\n",
       "          99: 0.06842105263157895,\n",
       "          878: 0.021052631578947368,\n",
       "          9648: 0.015789473684210527,\n",
       "          10402: 1.0,\n",
       "          10749: 0.3131578947368421,\n",
       "          10751: 0.16842105263157894,\n",
       "          10752: 0.007894736842105263,\n",
       "          10769: 0.002631578947368421,\n",
       "          10770: 0.02368421052631579}),\n",
       " u'Mystery': Counter({12: 0.09210526315789473,\n",
       "          14: 0.06315789473684211,\n",
       "          16: 0.007894736842105263,\n",
       "          18: 0.5157894736842106,\n",
       "          27: 0.2394736842105263,\n",
       "          28: 0.18421052631578946,\n",
       "          35: 0.06315789473684211,\n",
       "          36: 0.005263157894736842,\n",
       "          37: 0.010526315789473684,\n",
       "          53: 0.6631578947368421,\n",
       "          80: 0.28421052631578947,\n",
       "          878: 0.12368421052631579,\n",
       "          9648: 1.0,\n",
       "          10402: 0.005263157894736842,\n",
       "          10749: 0.06578947368421052,\n",
       "          10751: 0.018421052631578946,\n",
       "          10752: 0.007894736842105263,\n",
       "          10770: 0.02368421052631579}),\n",
       " u'Romance': Counter({12: 0.11578947368421053,\n",
       "          14: 0.14736842105263157,\n",
       "          16: 0.03684210526315789,\n",
       "          18: 0.6526315789473685,\n",
       "          27: 0.015789473684210527,\n",
       "          28: 0.07105263157894737,\n",
       "          35: 0.4473684210526316,\n",
       "          36: 0.039473684210526314,\n",
       "          37: 0.010526315789473684,\n",
       "          53: 0.10263157894736842,\n",
       "          80: 0.04473684210526316,\n",
       "          878: 0.06315789473684211,\n",
       "          9648: 0.02894736842105263,\n",
       "          10402: 0.05789473684210526,\n",
       "          10749: 1.0,\n",
       "          10751: 0.06315789473684211,\n",
       "          10752: 0.031578947368421054,\n",
       "          10770: 0.002631578947368421}),\n",
       " u'Science Fiction': Counter({12: 0.42894736842105263,\n",
       "          14: 0.1736842105263158,\n",
       "          16: 0.07894736842105263,\n",
       "          18: 0.21052631578947367,\n",
       "          27: 0.12631578947368421,\n",
       "          28: 0.618421052631579,\n",
       "          35: 0.14210526315789473,\n",
       "          37: 0.005263157894736842,\n",
       "          53: 0.4052631578947368,\n",
       "          80: 0.042105263157894736,\n",
       "          878: 1.0,\n",
       "          9648: 0.07894736842105263,\n",
       "          10749: 0.06315789473684211,\n",
       "          10751: 0.07368421052631578,\n",
       "          10752: 0.002631578947368421,\n",
       "          10770: 0.005263157894736842}),\n",
       " u'TV Movie': Counter({12: 0.12105263157894737,\n",
       "          14: 0.12631578947368421,\n",
       "          16: 0.07368421052631578,\n",
       "          18: 0.37105263157894736,\n",
       "          27: 0.07368421052631578,\n",
       "          28: 0.1394736842105263,\n",
       "          35: 0.24736842105263157,\n",
       "          36: 0.060526315789473685,\n",
       "          37: 0.007894736842105263,\n",
       "          53: 0.15263157894736842,\n",
       "          80: 0.05789473684210526,\n",
       "          99: 0.013157894736842105,\n",
       "          878: 0.12105263157894737,\n",
       "          9648: 0.11052631578947368,\n",
       "          10402: 0.031578947368421054,\n",
       "          10749: 0.1736842105263158,\n",
       "          10751: 0.21052631578947367,\n",
       "          10752: 0.015789473684210527,\n",
       "          10770: 1.0}),\n",
       " u'Thriller': Counter({12: 0.24473684210526317,\n",
       "          14: 0.060526315789473685,\n",
       "          16: 0.005263157894736842,\n",
       "          18: 0.3605263157894737,\n",
       "          27: 0.17894736842105263,\n",
       "          28: 0.5605263157894737,\n",
       "          35: 0.042105263157894736,\n",
       "          36: 0.021052631578947368,\n",
       "          37: 0.007894736842105263,\n",
       "          53: 1.0,\n",
       "          80: 0.28157894736842104,\n",
       "          878: 0.25526315789473686,\n",
       "          9648: 0.18947368421052632,\n",
       "          10749: 0.04473684210526316,\n",
       "          10752: 0.02894736842105263}),\n",
       " u'War': Counter({12: 0.16578947368421051,\n",
       "          14: 0.013157894736842105,\n",
       "          16: 0.010526315789473684,\n",
       "          18: 0.7947368421052632,\n",
       "          27: 0.013157894736842105,\n",
       "          28: 0.37105263157894736,\n",
       "          35: 0.09473684210526316,\n",
       "          36: 0.33421052631578946,\n",
       "          37: 0.015789473684210527,\n",
       "          53: 0.15526315789473685,\n",
       "          80: 0.021052631578947368,\n",
       "          99: 0.015789473684210527,\n",
       "          878: 0.013157894736842105,\n",
       "          9648: 0.018421052631578946,\n",
       "          10402: 0.007894736842105263,\n",
       "          10749: 0.15263157894736842,\n",
       "          10751: 0.005263157894736842,\n",
       "          10752: 1.0,\n",
       "          10769: 0.002631578947368421,\n",
       "          10770: 0.005263157894736842}),\n",
       " u'Western': Counter({12: 0.23684210526315788,\n",
       "          14: 0.018421052631578946,\n",
       "          16: 0.010526315789473684,\n",
       "          18: 0.36578947368421055,\n",
       "          27: 0.02894736842105263,\n",
       "          28: 0.4631578947368421,\n",
       "          35: 0.15,\n",
       "          36: 0.04736842105263158,\n",
       "          37: 1.0,\n",
       "          53: 0.09473684210526316,\n",
       "          80: 0.05263157894736842,\n",
       "          878: 0.018421052631578946,\n",
       "          9648: 0.02368421052631579,\n",
       "          10402: 0.018421052631578946,\n",
       "          10749: 0.11578947368421053,\n",
       "          10751: 0.015789473684210527,\n",
       "          10752: 0.034210526315789476,\n",
       "          10769: 0.007894736842105263,\n",
       "          10770: 0.002631578947368421})}"
      ]
     },
     "execution_count": 116,
     "metadata": {},
     "output_type": "execute_result"
    }
   ],
   "source": [
    "genre_percentages"
   ]
  },
  {
   "cell_type": "code",
   "execution_count": 156,
   "metadata": {
    "collapsed": false
   },
   "outputs": [
    {
     "data": {
      "text/html": [
       "<div>\n",
       "<table border=\"1\" class=\"dataframe\">\n",
       "  <thead>\n",
       "    <tr style=\"text-align: right;\">\n",
       "      <th></th>\n",
       "      <th>Mystery</th>\n",
       "      <th>Romance</th>\n",
       "      <th>Family</th>\n",
       "      <th>Science Fiction</th>\n",
       "      <th>Horror</th>\n",
       "      <th>Thriller</th>\n",
       "      <th>Crime</th>\n",
       "      <th>Drama</th>\n",
       "      <th>Fantasy</th>\n",
       "      <th>Western</th>\n",
       "      <th>Animation</th>\n",
       "      <th>Music</th>\n",
       "      <th>Adventure</th>\n",
       "      <th>Action</th>\n",
       "      <th>Comedy</th>\n",
       "      <th>Documentary</th>\n",
       "      <th>War</th>\n",
       "      <th>TV Movie</th>\n",
       "      <th>History</th>\n",
       "    </tr>\n",
       "  </thead>\n",
       "  <tbody>\n",
       "    <tr>\n",
       "      <th>Adventure</th>\n",
       "      <td>0.092105</td>\n",
       "      <td>0.115789</td>\n",
       "      <td>0.494737</td>\n",
       "      <td>0.428947</td>\n",
       "      <td>0.052632</td>\n",
       "      <td>0.244737</td>\n",
       "      <td>0.086842</td>\n",
       "      <td>0.134211</td>\n",
       "      <td>0.518421</td>\n",
       "      <td>0.236842</td>\n",
       "      <td>0.444737</td>\n",
       "      <td>0.050000</td>\n",
       "      <td>1.000000</td>\n",
       "      <td>0.502632</td>\n",
       "      <td>0.247368</td>\n",
       "      <td>0.015789</td>\n",
       "      <td>0.165789</td>\n",
       "      <td>0.121053</td>\n",
       "      <td>0.181579</td>\n",
       "    </tr>\n",
       "    <tr>\n",
       "      <th>Fantasy</th>\n",
       "      <td>0.063158</td>\n",
       "      <td>0.147368</td>\n",
       "      <td>0.392105</td>\n",
       "      <td>0.173684</td>\n",
       "      <td>0.089474</td>\n",
       "      <td>0.060526</td>\n",
       "      <td>0.031579</td>\n",
       "      <td>0.086842</td>\n",
       "      <td>1.000000</td>\n",
       "      <td>0.018421</td>\n",
       "      <td>0.294737</td>\n",
       "      <td>0.084211</td>\n",
       "      <td>0.336842</td>\n",
       "      <td>0.205263</td>\n",
       "      <td>0.160526</td>\n",
       "      <td>0.005263</td>\n",
       "      <td>0.013158</td>\n",
       "      <td>0.126316</td>\n",
       "      <td>0.007895</td>\n",
       "    </tr>\n",
       "    <tr>\n",
       "      <th>Animation</th>\n",
       "      <td>0.007895</td>\n",
       "      <td>0.036842</td>\n",
       "      <td>0.573684</td>\n",
       "      <td>0.078947</td>\n",
       "      <td>0.007895</td>\n",
       "      <td>0.005263</td>\n",
       "      <td>0.005263</td>\n",
       "      <td>0.015789</td>\n",
       "      <td>0.234211</td>\n",
       "      <td>0.010526</td>\n",
       "      <td>1.000000</td>\n",
       "      <td>0.105263</td>\n",
       "      <td>0.189474</td>\n",
       "      <td>0.042105</td>\n",
       "      <td>0.200000</td>\n",
       "      <td>0.015789</td>\n",
       "      <td>0.010526</td>\n",
       "      <td>0.073684</td>\n",
       "      <td>0.005263</td>\n",
       "    </tr>\n",
       "    <tr>\n",
       "      <th>Drama</th>\n",
       "      <td>0.515789</td>\n",
       "      <td>0.652632</td>\n",
       "      <td>0.160526</td>\n",
       "      <td>0.210526</td>\n",
       "      <td>0.197368</td>\n",
       "      <td>0.360526</td>\n",
       "      <td>0.536842</td>\n",
       "      <td>1.000000</td>\n",
       "      <td>0.223684</td>\n",
       "      <td>0.365789</td>\n",
       "      <td>0.118421</td>\n",
       "      <td>0.502632</td>\n",
       "      <td>0.163158</td>\n",
       "      <td>0.197368</td>\n",
       "      <td>0.234211</td>\n",
       "      <td>0.071053</td>\n",
       "      <td>0.794737</td>\n",
       "      <td>0.371053</td>\n",
       "      <td>0.876316</td>\n",
       "    </tr>\n",
       "    <tr>\n",
       "      <th>Horror</th>\n",
       "      <td>0.239474</td>\n",
       "      <td>0.015789</td>\n",
       "      <td>0.000000</td>\n",
       "      <td>0.126316</td>\n",
       "      <td>1.000000</td>\n",
       "      <td>0.178947</td>\n",
       "      <td>0.036842</td>\n",
       "      <td>0.036842</td>\n",
       "      <td>0.076316</td>\n",
       "      <td>0.028947</td>\n",
       "      <td>0.015789</td>\n",
       "      <td>0.021053</td>\n",
       "      <td>0.023684</td>\n",
       "      <td>0.057895</td>\n",
       "      <td>0.031579</td>\n",
       "      <td>0.015789</td>\n",
       "      <td>0.013158</td>\n",
       "      <td>0.073684</td>\n",
       "      <td>0.007895</td>\n",
       "    </tr>\n",
       "    <tr>\n",
       "      <th>Action</th>\n",
       "      <td>0.184211</td>\n",
       "      <td>0.071053</td>\n",
       "      <td>0.102632</td>\n",
       "      <td>0.618421</td>\n",
       "      <td>0.168421</td>\n",
       "      <td>0.560526</td>\n",
       "      <td>0.481579</td>\n",
       "      <td>0.202632</td>\n",
       "      <td>0.360526</td>\n",
       "      <td>0.463158</td>\n",
       "      <td>0.139474</td>\n",
       "      <td>0.050000</td>\n",
       "      <td>0.584211</td>\n",
       "      <td>1.000000</td>\n",
       "      <td>0.194737</td>\n",
       "      <td>0.018421</td>\n",
       "      <td>0.371053</td>\n",
       "      <td>0.139474</td>\n",
       "      <td>0.294737</td>\n",
       "    </tr>\n",
       "    <tr>\n",
       "      <th>Comedy</th>\n",
       "      <td>0.063158</td>\n",
       "      <td>0.447368</td>\n",
       "      <td>0.555263</td>\n",
       "      <td>0.142105</td>\n",
       "      <td>0.113158</td>\n",
       "      <td>0.042105</td>\n",
       "      <td>0.192105</td>\n",
       "      <td>0.155263</td>\n",
       "      <td>0.294737</td>\n",
       "      <td>0.150000</td>\n",
       "      <td>0.410526</td>\n",
       "      <td>0.423684</td>\n",
       "      <td>0.226316</td>\n",
       "      <td>0.142105</td>\n",
       "      <td>1.000000</td>\n",
       "      <td>0.055263</td>\n",
       "      <td>0.094737</td>\n",
       "      <td>0.247368</td>\n",
       "      <td>0.042105</td>\n",
       "    </tr>\n",
       "    <tr>\n",
       "      <th>History</th>\n",
       "      <td>0.005263</td>\n",
       "      <td>0.039474</td>\n",
       "      <td>0.002632</td>\n",
       "      <td>0.000000</td>\n",
       "      <td>0.000000</td>\n",
       "      <td>0.021053</td>\n",
       "      <td>0.018421</td>\n",
       "      <td>0.073684</td>\n",
       "      <td>0.002632</td>\n",
       "      <td>0.047368</td>\n",
       "      <td>0.002632</td>\n",
       "      <td>0.028947</td>\n",
       "      <td>0.021053</td>\n",
       "      <td>0.021053</td>\n",
       "      <td>0.005263</td>\n",
       "      <td>0.055263</td>\n",
       "      <td>0.334211</td>\n",
       "      <td>0.060526</td>\n",
       "      <td>1.000000</td>\n",
       "    </tr>\n",
       "    <tr>\n",
       "      <th>Western</th>\n",
       "      <td>0.010526</td>\n",
       "      <td>0.010526</td>\n",
       "      <td>0.005263</td>\n",
       "      <td>0.005263</td>\n",
       "      <td>0.007895</td>\n",
       "      <td>0.007895</td>\n",
       "      <td>0.010526</td>\n",
       "      <td>0.018421</td>\n",
       "      <td>0.002632</td>\n",
       "      <td>1.000000</td>\n",
       "      <td>0.005263</td>\n",
       "      <td>0.010526</td>\n",
       "      <td>0.018421</td>\n",
       "      <td>0.010526</td>\n",
       "      <td>0.005263</td>\n",
       "      <td>0.000000</td>\n",
       "      <td>0.015789</td>\n",
       "      <td>0.007895</td>\n",
       "      <td>0.013158</td>\n",
       "    </tr>\n",
       "    <tr>\n",
       "      <th>Thriller</th>\n",
       "      <td>0.663158</td>\n",
       "      <td>0.102632</td>\n",
       "      <td>0.002632</td>\n",
       "      <td>0.405263</td>\n",
       "      <td>0.571053</td>\n",
       "      <td>1.000000</td>\n",
       "      <td>0.607895</td>\n",
       "      <td>0.273684</td>\n",
       "      <td>0.118421</td>\n",
       "      <td>0.094737</td>\n",
       "      <td>0.021053</td>\n",
       "      <td>0.021053</td>\n",
       "      <td>0.244737</td>\n",
       "      <td>0.450000</td>\n",
       "      <td>0.050000</td>\n",
       "      <td>0.002632</td>\n",
       "      <td>0.155263</td>\n",
       "      <td>0.152632</td>\n",
       "      <td>0.118421</td>\n",
       "    </tr>\n",
       "    <tr>\n",
       "      <th>Crime</th>\n",
       "      <td>0.284211</td>\n",
       "      <td>0.044737</td>\n",
       "      <td>0.013158</td>\n",
       "      <td>0.042105</td>\n",
       "      <td>0.057895</td>\n",
       "      <td>0.281579</td>\n",
       "      <td>1.000000</td>\n",
       "      <td>0.186842</td>\n",
       "      <td>0.031579</td>\n",
       "      <td>0.052632</td>\n",
       "      <td>0.007895</td>\n",
       "      <td>0.044737</td>\n",
       "      <td>0.050000</td>\n",
       "      <td>0.184211</td>\n",
       "      <td>0.110526</td>\n",
       "      <td>0.018421</td>\n",
       "      <td>0.021053</td>\n",
       "      <td>0.057895</td>\n",
       "      <td>0.047368</td>\n",
       "    </tr>\n",
       "    <tr>\n",
       "      <th>Documentary</th>\n",
       "      <td>0.000000</td>\n",
       "      <td>0.000000</td>\n",
       "      <td>0.002632</td>\n",
       "      <td>0.000000</td>\n",
       "      <td>0.000000</td>\n",
       "      <td>0.000000</td>\n",
       "      <td>0.000000</td>\n",
       "      <td>0.000000</td>\n",
       "      <td>0.002632</td>\n",
       "      <td>0.000000</td>\n",
       "      <td>0.005263</td>\n",
       "      <td>0.068421</td>\n",
       "      <td>0.000000</td>\n",
       "      <td>0.000000</td>\n",
       "      <td>0.000000</td>\n",
       "      <td>1.000000</td>\n",
       "      <td>0.015789</td>\n",
       "      <td>0.013158</td>\n",
       "      <td>0.023684</td>\n",
       "    </tr>\n",
       "    <tr>\n",
       "      <th>Science Fiction</th>\n",
       "      <td>0.123684</td>\n",
       "      <td>0.063158</td>\n",
       "      <td>0.102632</td>\n",
       "      <td>1.000000</td>\n",
       "      <td>0.165789</td>\n",
       "      <td>0.255263</td>\n",
       "      <td>0.044737</td>\n",
       "      <td>0.107895</td>\n",
       "      <td>0.202632</td>\n",
       "      <td>0.018421</td>\n",
       "      <td>0.123684</td>\n",
       "      <td>0.021053</td>\n",
       "      <td>0.336842</td>\n",
       "      <td>0.378947</td>\n",
       "      <td>0.078947</td>\n",
       "      <td>0.010526</td>\n",
       "      <td>0.013158</td>\n",
       "      <td>0.121053</td>\n",
       "      <td>0.000000</td>\n",
       "    </tr>\n",
       "    <tr>\n",
       "      <th>Mystery</th>\n",
       "      <td>1.000000</td>\n",
       "      <td>0.028947</td>\n",
       "      <td>0.010526</td>\n",
       "      <td>0.078947</td>\n",
       "      <td>0.186842</td>\n",
       "      <td>0.189474</td>\n",
       "      <td>0.152632</td>\n",
       "      <td>0.094737</td>\n",
       "      <td>0.036842</td>\n",
       "      <td>0.023684</td>\n",
       "      <td>0.007895</td>\n",
       "      <td>0.015789</td>\n",
       "      <td>0.039474</td>\n",
       "      <td>0.071053</td>\n",
       "      <td>0.015789</td>\n",
       "      <td>0.002632</td>\n",
       "      <td>0.018421</td>\n",
       "      <td>0.110526</td>\n",
       "      <td>0.013158</td>\n",
       "    </tr>\n",
       "    <tr>\n",
       "      <th>Music</th>\n",
       "      <td>0.005263</td>\n",
       "      <td>0.057895</td>\n",
       "      <td>0.060526</td>\n",
       "      <td>0.000000</td>\n",
       "      <td>0.002632</td>\n",
       "      <td>0.000000</td>\n",
       "      <td>0.015789</td>\n",
       "      <td>0.026316</td>\n",
       "      <td>0.034211</td>\n",
       "      <td>0.018421</td>\n",
       "      <td>0.039474</td>\n",
       "      <td>1.000000</td>\n",
       "      <td>0.002632</td>\n",
       "      <td>0.000000</td>\n",
       "      <td>0.031579</td>\n",
       "      <td>0.100000</td>\n",
       "      <td>0.007895</td>\n",
       "      <td>0.031579</td>\n",
       "      <td>0.023684</td>\n",
       "    </tr>\n",
       "    <tr>\n",
       "      <th>Romance</th>\n",
       "      <td>0.065789</td>\n",
       "      <td>1.000000</td>\n",
       "      <td>0.092105</td>\n",
       "      <td>0.063158</td>\n",
       "      <td>0.018421</td>\n",
       "      <td>0.044737</td>\n",
       "      <td>0.047368</td>\n",
       "      <td>0.242105</td>\n",
       "      <td>0.160526</td>\n",
       "      <td>0.115789</td>\n",
       "      <td>0.065789</td>\n",
       "      <td>0.313158</td>\n",
       "      <td>0.065789</td>\n",
       "      <td>0.015789</td>\n",
       "      <td>0.242105</td>\n",
       "      <td>0.000000</td>\n",
       "      <td>0.152632</td>\n",
       "      <td>0.173684</td>\n",
       "      <td>0.152632</td>\n",
       "    </tr>\n",
       "    <tr>\n",
       "      <th>Family</th>\n",
       "      <td>0.018421</td>\n",
       "      <td>0.063158</td>\n",
       "      <td>1.000000</td>\n",
       "      <td>0.073684</td>\n",
       "      <td>0.000000</td>\n",
       "      <td>0.000000</td>\n",
       "      <td>0.007895</td>\n",
       "      <td>0.028947</td>\n",
       "      <td>0.360526</td>\n",
       "      <td>0.015789</td>\n",
       "      <td>0.728947</td>\n",
       "      <td>0.168421</td>\n",
       "      <td>0.292105</td>\n",
       "      <td>0.057895</td>\n",
       "      <td>0.263158</td>\n",
       "      <td>0.034211</td>\n",
       "      <td>0.005263</td>\n",
       "      <td>0.210526</td>\n",
       "      <td>0.007895</td>\n",
       "    </tr>\n",
       "    <tr>\n",
       "      <th>War</th>\n",
       "      <td>0.007895</td>\n",
       "      <td>0.031579</td>\n",
       "      <td>0.000000</td>\n",
       "      <td>0.002632</td>\n",
       "      <td>0.002632</td>\n",
       "      <td>0.028947</td>\n",
       "      <td>0.000000</td>\n",
       "      <td>0.076316</td>\n",
       "      <td>0.007895</td>\n",
       "      <td>0.034211</td>\n",
       "      <td>0.002632</td>\n",
       "      <td>0.007895</td>\n",
       "      <td>0.021053</td>\n",
       "      <td>0.047368</td>\n",
       "      <td>0.002632</td>\n",
       "      <td>0.018421</td>\n",
       "      <td>1.000000</td>\n",
       "      <td>0.015789</td>\n",
       "      <td>0.281579</td>\n",
       "    </tr>\n",
       "    <tr>\n",
       "      <th>TV Movie</th>\n",
       "      <td>0.023684</td>\n",
       "      <td>0.002632</td>\n",
       "      <td>0.013158</td>\n",
       "      <td>0.005263</td>\n",
       "      <td>0.000000</td>\n",
       "      <td>0.000000</td>\n",
       "      <td>0.000000</td>\n",
       "      <td>0.000000</td>\n",
       "      <td>0.002632</td>\n",
       "      <td>0.002632</td>\n",
       "      <td>0.010526</td>\n",
       "      <td>0.023684</td>\n",
       "      <td>0.000000</td>\n",
       "      <td>0.000000</td>\n",
       "      <td>0.000000</td>\n",
       "      <td>0.005263</td>\n",
       "      <td>0.005263</td>\n",
       "      <td>1.000000</td>\n",
       "      <td>0.015789</td>\n",
       "    </tr>\n",
       "  </tbody>\n",
       "</table>\n",
       "</div>"
      ],
      "text/plain": [
       "                  Mystery   Romance    Family  Science Fiction    Horror  \\\n",
       "Adventure        0.092105  0.115789  0.494737         0.428947  0.052632   \n",
       "Fantasy          0.063158  0.147368  0.392105         0.173684  0.089474   \n",
       "Animation        0.007895  0.036842  0.573684         0.078947  0.007895   \n",
       "Drama            0.515789  0.652632  0.160526         0.210526  0.197368   \n",
       "Horror           0.239474  0.015789  0.000000         0.126316  1.000000   \n",
       "Action           0.184211  0.071053  0.102632         0.618421  0.168421   \n",
       "Comedy           0.063158  0.447368  0.555263         0.142105  0.113158   \n",
       "History          0.005263  0.039474  0.002632         0.000000  0.000000   \n",
       "Western          0.010526  0.010526  0.005263         0.005263  0.007895   \n",
       "Thriller         0.663158  0.102632  0.002632         0.405263  0.571053   \n",
       "Crime            0.284211  0.044737  0.013158         0.042105  0.057895   \n",
       "Documentary      0.000000  0.000000  0.002632         0.000000  0.000000   \n",
       "Science Fiction  0.123684  0.063158  0.102632         1.000000  0.165789   \n",
       "Mystery          1.000000  0.028947  0.010526         0.078947  0.186842   \n",
       "Music            0.005263  0.057895  0.060526         0.000000  0.002632   \n",
       "Romance          0.065789  1.000000  0.092105         0.063158  0.018421   \n",
       "Family           0.018421  0.063158  1.000000         0.073684  0.000000   \n",
       "War              0.007895  0.031579  0.000000         0.002632  0.002632   \n",
       "TV Movie         0.023684  0.002632  0.013158         0.005263  0.000000   \n",
       "\n",
       "                 Thriller     Crime     Drama   Fantasy   Western  Animation  \\\n",
       "Adventure        0.244737  0.086842  0.134211  0.518421  0.236842   0.444737   \n",
       "Fantasy          0.060526  0.031579  0.086842  1.000000  0.018421   0.294737   \n",
       "Animation        0.005263  0.005263  0.015789  0.234211  0.010526   1.000000   \n",
       "Drama            0.360526  0.536842  1.000000  0.223684  0.365789   0.118421   \n",
       "Horror           0.178947  0.036842  0.036842  0.076316  0.028947   0.015789   \n",
       "Action           0.560526  0.481579  0.202632  0.360526  0.463158   0.139474   \n",
       "Comedy           0.042105  0.192105  0.155263  0.294737  0.150000   0.410526   \n",
       "History          0.021053  0.018421  0.073684  0.002632  0.047368   0.002632   \n",
       "Western          0.007895  0.010526  0.018421  0.002632  1.000000   0.005263   \n",
       "Thriller         1.000000  0.607895  0.273684  0.118421  0.094737   0.021053   \n",
       "Crime            0.281579  1.000000  0.186842  0.031579  0.052632   0.007895   \n",
       "Documentary      0.000000  0.000000  0.000000  0.002632  0.000000   0.005263   \n",
       "Science Fiction  0.255263  0.044737  0.107895  0.202632  0.018421   0.123684   \n",
       "Mystery          0.189474  0.152632  0.094737  0.036842  0.023684   0.007895   \n",
       "Music            0.000000  0.015789  0.026316  0.034211  0.018421   0.039474   \n",
       "Romance          0.044737  0.047368  0.242105  0.160526  0.115789   0.065789   \n",
       "Family           0.000000  0.007895  0.028947  0.360526  0.015789   0.728947   \n",
       "War              0.028947  0.000000  0.076316  0.007895  0.034211   0.002632   \n",
       "TV Movie         0.000000  0.000000  0.000000  0.002632  0.002632   0.010526   \n",
       "\n",
       "                    Music  Adventure    Action    Comedy  Documentary  \\\n",
       "Adventure        0.050000   1.000000  0.502632  0.247368     0.015789   \n",
       "Fantasy          0.084211   0.336842  0.205263  0.160526     0.005263   \n",
       "Animation        0.105263   0.189474  0.042105  0.200000     0.015789   \n",
       "Drama            0.502632   0.163158  0.197368  0.234211     0.071053   \n",
       "Horror           0.021053   0.023684  0.057895  0.031579     0.015789   \n",
       "Action           0.050000   0.584211  1.000000  0.194737     0.018421   \n",
       "Comedy           0.423684   0.226316  0.142105  1.000000     0.055263   \n",
       "History          0.028947   0.021053  0.021053  0.005263     0.055263   \n",
       "Western          0.010526   0.018421  0.010526  0.005263     0.000000   \n",
       "Thriller         0.021053   0.244737  0.450000  0.050000     0.002632   \n",
       "Crime            0.044737   0.050000  0.184211  0.110526     0.018421   \n",
       "Documentary      0.068421   0.000000  0.000000  0.000000     1.000000   \n",
       "Science Fiction  0.021053   0.336842  0.378947  0.078947     0.010526   \n",
       "Mystery          0.015789   0.039474  0.071053  0.015789     0.002632   \n",
       "Music            1.000000   0.002632  0.000000  0.031579     0.100000   \n",
       "Romance          0.313158   0.065789  0.015789  0.242105     0.000000   \n",
       "Family           0.168421   0.292105  0.057895  0.263158     0.034211   \n",
       "War              0.007895   0.021053  0.047368  0.002632     0.018421   \n",
       "TV Movie         0.023684   0.000000  0.000000  0.000000     0.005263   \n",
       "\n",
       "                      War  TV Movie   History  \n",
       "Adventure        0.165789  0.121053  0.181579  \n",
       "Fantasy          0.013158  0.126316  0.007895  \n",
       "Animation        0.010526  0.073684  0.005263  \n",
       "Drama            0.794737  0.371053  0.876316  \n",
       "Horror           0.013158  0.073684  0.007895  \n",
       "Action           0.371053  0.139474  0.294737  \n",
       "Comedy           0.094737  0.247368  0.042105  \n",
       "History          0.334211  0.060526  1.000000  \n",
       "Western          0.015789  0.007895  0.013158  \n",
       "Thriller         0.155263  0.152632  0.118421  \n",
       "Crime            0.021053  0.057895  0.047368  \n",
       "Documentary      0.015789  0.013158  0.023684  \n",
       "Science Fiction  0.013158  0.121053  0.000000  \n",
       "Mystery          0.018421  0.110526  0.013158  \n",
       "Music            0.007895  0.031579  0.023684  \n",
       "Romance          0.152632  0.173684  0.152632  \n",
       "Family           0.005263  0.210526  0.007895  \n",
       "War              1.000000  0.015789  0.281579  \n",
       "TV Movie         0.005263  1.000000  0.015789  "
      ]
     },
     "execution_count": 156,
     "metadata": {},
     "output_type": "execute_result"
    }
   ],
   "source": [
    "percent_df = pd.DataFrame([pd.Series(genre_percentages[genre]) for genre in genre_ids.keys()])\n",
    "percent_df = percent_df.T\n",
    "percent_df.rename(columns=dict(zip(range(0, 19), genre_ids.keys())), inplace = True)\n",
    "\n",
    "# drop this rogue ID\n",
    "percent_df.drop([10769], inplace = True)\n",
    "\n",
    "percent_df.rename(index=dict(zip(percent_df.index, [reverse_genre_ids[genre_id] for genre_id in percent_df.index])), inplace = True)\n",
    "\n",
    "# replace all nans with 0, indicating a 0 percent mention rate for that pair\n",
    "percent_df.fillna(0, inplace = True)\n",
    "\n",
    "percent_df"
   ]
  },
  {
   "cell_type": "code",
   "execution_count": 176,
   "metadata": {
    "collapsed": false
   },
   "outputs": [],
   "source": [
    "percent_df = percent_df.reindex_axis(sorted(percent_df.columns), axis=1)\n",
    "percent_df = percent_df.reindex_axis(sorted(percent_df.columns), axis=0)"
   ]
  },
  {
   "cell_type": "code",
   "execution_count": 180,
   "metadata": {
    "collapsed": false
   },
   "outputs": [
    {
     "data": {
      "text/plain": [
       "<matplotlib.axes._subplots.AxesSubplot at 0x111218790>"
      ]
     },
     "execution_count": 180,
     "metadata": {},
     "output_type": "execute_result"
    },
    {
     "data": {
      "image/png": "[encoded data removed]",
      "text/plain": [
       "<matplotlib.figure.Figure at 0x1113144d0>"
      ]
     },
     "metadata": {},
     "output_type": "display_data"
    }
   ],
   "source": [
    "plt.figure(figsize=(12, 10))\n",
    "sns.heatmap(percent_df)"
   ]
  },
  {
   "cell_type": "markdown",
   "metadata": {},
   "source": [
    "### Insights\n",
    "\n",
    "* The pairings with high percentages are very intuitive.\n",
    "* Family genre is often paired with Comedy "
   ]
  },
  {
   "cell_type": "code",
   "execution_count": 181,
   "metadata": {
    "collapsed": true
   },
   "outputs": [],
   "source": [
    "percent_df.to_csv(\"genre_pairings_percentage.csv\")"
   ]
  },
  {
   "cell_type": "code",
   "execution_count": 50,
   "metadata": {
    "collapsed": false
   },
   "outputs": [],
   "source": [
    "## iterate through the pages and then the movies \n",
    "### this will give us back a list of lists of pairings \n",
    "genre_pairings = []\n",
    "for page in romance_list:\n",
    "    for movie in page: \n",
    "        genre_pairings.append(movie[\"genre_ids\"])"
   ]
  },
  {
   "cell_type": "code",
   "execution_count": 30,
   "metadata": {
    "collapsed": false
   },
   "outputs": [],
   "source": [
    "### This will give \n",
    "horror_count = 0 \n",
    "drama_count = 0 \n",
    "## iterate through the genre pairings for each movie\n",
    "## add a count if horror appears or drama appears\n",
    "\n",
    "for pairing in genre_pairings:\n",
    "    \n",
    "    if HORROR_ID in pairing: \n",
    "        horror_count += 1 \n",
    "    \n",
    "    if DRAMA_ID in pairing:\n",
    "        drama_count += 1\n",
    "\n",
    "    "
   ]
  },
  {
   "cell_type": "code",
   "execution_count": 31,
   "metadata": {
    "collapsed": false
   },
   "outputs": [
    {
     "name": "stdout",
     "output_type": "stream",
     "text": [
      "We test on this many movies classified as Romance: 380\n",
      "Percentage of Romance Movies Paired with Drama: 0.652631578947\n",
      "Percentage of Romance Movies Paired with Horror: 0.0157894736842\n"
     ]
    }
   ],
   "source": [
    "num_movies = len(genre_pairings)\n",
    "print \"We test on this many movies classified as Romance:\", num_movies\n",
    "\n",
    "drama_romance_perc = drama_count / float(num_movies)\n",
    "horror_romance_perc= horror_count / float(num_movies)\n",
    "print \"Percentage of Romance Movies Paired with Drama:\", drama_romance_perc\n",
    "print \"Percentage of Romance Movies Paired with Horror:\", horror_romance_perc\n"
   ]
  },
  {
   "cell_type": "code",
   "execution_count": 33,
   "metadata": {
    "collapsed": false
   },
   "outputs": [
    {
     "data": {
      "text/plain": [
       "<matplotlib.text.Text at 0x10c2ff910>"
      ]
     },
     "execution_count": 33,
     "metadata": {},
     "output_type": "execute_result"
    },
    {
     "data": {
      "image/png": "[encoded data removed]",
      "text/plain": [
       "<matplotlib.figure.Figure at 0x10c27dc10>"
      ]
     },
     "metadata": {},
     "output_type": "display_data"
    }
   ],
   "source": [
    "## initialize X and Y for plotting \n",
    "Y = np.array([drama_romance_perc, horror_romance_perc])\n",
    "LABELS = np.array([\"Drama\", \"Horror\"])\n",
    "X = [1,2]\n",
    "\n",
    "plt.bar(X, Y,  color=\"blue\")\n",
    "plt.xticks(X, LABELS)\n",
    "plt.title(\"Percentage of Films in Romance Genre In Other Genre\")\n",
    "plt.xlabel(\"Genre paired with Romance Films\")\n",
    "plt.ylabel(\"Percentage of Genre Associated with Romance Genre\")"
   ]
  },
  {
   "cell_type": "markdown",
   "metadata": {},
   "source": [
    "### Explanation of Romance and Other Dramas\n",
    "The takeaway from the above bar graph is that more romance fils are paired with drama than they are by horror. (BY A LOT.) However, let's explain how we received our results. \n",
    "\n",
    "We decided to compare the percentage of romance films that were ALSO associated with other genres. To do this, we selected a random subset of our romance films. We used roughly 380 romance films randomly selected from all films with the genre \"romance\" tag. Of these 380 films, we then looked at the percentage of these films that also shared the genre tag \"horror\" or \"drama\" or both. We divided by the total number of films with the horror/drama tag by all romance films used. This gave us are above percentages. "
   ]
  },
  {
   "cell_type": "markdown",
   "metadata": {},
   "source": [
    "# A list of questions you could answer with this and related data. Get creative here!"
   ]
  },
  {
   "cell_type": "markdown",
   "metadata": {},
   "source": [
    "* Which movies are the most fluid across genres?\n",
    "* Which genres are most constrictive (i.e. does having genre X mean you're less likely to be paired with another genre?)\n",
    "* What pairing of movies genres are most likely to go together?\n",
    "* Do certain genre pairings result in higher amounts of revenue (e.g. \"action romance\" doing better than \"action\")?\n",
    "* Are there statistically significant differences in movie length by genre? For example, are comedies consistently lower?\n",
    "* Are there statistically significant differences in movie rating by movie length? Do people tend to like shorter movies more or longer movies more? How does this difference interact with genre?\n",
    "* What is the highest revenue per minute by genre (we could answer this by dividing average revenue by average movie length)?\n",
    "* Are adult films frequently labelled other genres? For example, are there such things as \"adult fantasy\" films and \"adult comedy\" films?\n",
    "* How do these english genre distributions compare versus a similar analysis done on a different language’s database? Are french movies, for instance, more likely to have different genre pairings than english movies?\n",
    "* How does genre density differ as a function of time? Are some genres more popular now vs. long ago? What about pairing of genres?\n",
    "* Does having an unoriginal movie title (e.g. \"300\") help revenue or hurt?\n",
    "* How has (normalized) revenue changed over time as a function of genre? What about popularity?"
   ]
  }
 ],
 "metadata": {
  "kernelspec": {
   "display_name": "Python 2",
   "language": "python",
   "name": "python2"
  },
  "language_info": {
   "codemirror_mode": {
    "name": "ipython",
    "version": 2
   },
   "file_extension": ".py",
   "mimetype": "text/x-python",
   "name": "python",
   "nbconvert_exporter": "python",
   "pygments_lexer": "ipython2",
   "version": "2.7.10"
  }
 },
 "nbformat": 4,
 "nbformat_minor": 0
}
