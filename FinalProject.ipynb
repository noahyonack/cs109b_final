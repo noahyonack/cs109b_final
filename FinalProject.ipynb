{
 "cells": [
  {
   "cell_type": "markdown",
   "metadata": {
    "deletable": true,
    "editable": true
   },
   "source": [
    "# Final Project - Predicting Movie Genres!\n",
    "\n",
    "![Movie genre header](genre_header.jpg)\n",
    "\n",
    "Welcome to the final project of CS109b. \n",
    "\n",
    "The overall theme of the final project is movie data with a focus on movie genre prediction, because it is an area where we are all more or less application domain experts. First, you will explore your data and the challenges of the problem by exploratory data analysis. Use visualizations to find features that correlate with movie genres. These can be extracted from the movie posters, or meta data, or other data you gather, for example plot summaries or even movie transcripts. You will then compare traditional statistical or machine learning methods like generalized additive models, random forest, Bayesian prediction methods, boosting, and SVM, to deep learning models for movie genre prediction. \n",
    "\n",
    "For this project you will work in teams of 3-4 people and there are weekly milestones to guide you along the way. Even though the milestones are graded, they are mainly in place to make sure you stay in contact with your TF and make progress with the project. Throughout the project you also have room for creativity and to pursue your own ideas. While you need to hand in the milestones at the appropriate due date, there is nothing preventing you from working on a later milestone ahead of time. We suggest that you read through the whole project and all milestones in the beginning to be able to plan ahead. The project is pretty open-ended, so you can be creative and let your data science knowledge shine! \n",
    "\n",
    "For each milestone you will submit a notebook, in raw (`.ipynb`) and PDF formats, containing the deliverables of that week and the extra work you did so far. The notebooks need to contain your code, comments, explanations, thoughts, and visualizations. The final deliverables are a two-minute screencast, a report in paper style for a general data science audience, and all your data and code that you developed throughout the project. \n",
    "\n",
    "Below is a description of the data and the milestones with their due dates. All work is due by 11:59PM on the due date unless otherwise specified. We expect you to have the mandatory parts finished by the milestone due dates, and there will be no extensions. However, we strongly encourage you to plan ahead. For example, you need to think about the classification task early on to plan how you want to assemble your training data, and it is beneficial to start the deep learning work as early as possible. There is nothing hindering you to already train a model in the EDA phase to get a better feel for what challenges might lie ahead with the data. You should also see the milestone requirements as a basis for your own creativity, and we expect that most of you will go beyond the mandatory deliverables. For example, if you have a great idea about an interesting question that has to do with movie genre, but cannot be answered with the data from TMDb or IMDb, feel free to gather more data from somewhere else. \n",
    "\n",
    "We provide a data interface in Python, because it is convenient for IMDb, and we will use Python for the deep learning part. Specifically we will use Keras, a deep learning library that provides a high level interface to Google's Tensorflow framework for deep learning. However, if you feel that you prefer to do some of the work, e.g., visualizations or data cleanup, in R then feel free to use it. You can also use Spark to preprocess your data, especially if you collect large amounts of it from other sources. \n",
    "\n",
    "*Important:* Your grade for a milestone will depend on the required deliverables you submit at the due date for that milestone. But every milestone, especially the final project submission, can contain additional cool work you did that goes beyond the deliverables spelled out below. \n"
   ]
  },
  {
   "cell_type": "markdown",
   "metadata": {
    "collapsed": true,
    "deletable": true,
    "editable": true
   },
   "source": [
    "### Logistics \n",
    "\n",
    "Please adhere to the following guidelines for all submissions:\n",
    "- one submission per team\n",
    "- notebooks should be submitted as PDF and as raw (`.ipynb`) version\n",
    "- all notebooks should be executed so they contain relevant visualizations, and other results\n",
    "- try to make it as easy as possible for the TFs to get all relevant information about your work\n",
    "- do not submit big data sets, please provide a readme file with a link instead\n",
    "- the final report should also be submitted as pdf"
   ]
  },
  {
   "cell_type": "markdown",
   "metadata": {
    "deletable": true,
    "editable": true
   },
   "source": [
    "### Movie Data:\n",
    "\n",
    "The project is based on two different sources of movie data: [IMDb](http://www.imdb.com/) and [TMDb](https://www.themoviedb.org/). TMDb is great, because it provides the movie posters in addition to the metadata. This is crucial for the deep learning part, in which you will try to predict movie genres from posters. IMDb has more metadata available and will supplement the TMDb data you have. \n",
    "\n",
    "TMDb provides an easy to use [API](https://www.themoviedb.org/documentation/api) that allows you to download the data selectively. IMDb does not provide an API, but there is a Python interface available to access the metadata. We will use [IMDbPY](http://imdbpy.sourceforge.net/), which is already installed on the AMI and virtual box images for your convenience.\n",
    "\n",
    "*Important*: Please remember to limit your data rate when obtaining the data. Play nicely and do not just spam servers as fast as you can. This will prevent your IP from getting banned. The easiest way to do this is to use the [sleep](http://stackoverflow.com/questions/510348/how-can-i-make-a-time-delay-in-python) function in Python.\n"
   ]
  },
  {
   "cell_type": "markdown",
   "metadata": {
    "deletable": true,
    "editable": true
   },
   "source": [
    "### Milestone 1: Getting to know your data, due Wednesday, April 5, 2017\n",
    "\n",
    "In the beginning you should get acquainted with the data sources and do some EDA. Sign up for the TMDb [API](https://www.themoviedb.org/documentation/api), and try to download the poster of your favorite movie from within your notebook. Compare the genre entries of IMDb and TMDb for this movie and see if they are the same. Think about and write down some questions that you would like to answer in the following weeks. Keep the storytelling aspect of your final report in mind and do some pen and paper sketches about the visualizations you would like to produce. Include photographs of those sketches in your notebook. \n",
    "\n",
    "Most of the time a data scientist spends on a project is spent on cleaning the data. We are lucky that the data we have is already pretty clean. The Python interface to the IMDb ftp files does a lot of the additional work of cleaning as well. However, you will notice that the genre list for each movie from both databases can have different lengths. This needs to be changed in order to train a model to predict the movie genre. It is up to you to think about possible ways to address this problem and to implement one of them. There is no absolute right answer here. It depends on your interests and which questions you have in mind for the project. \n",
    "\n",
    "Optionally, you could also scrape additional data sources, such as Wikipedia, to obtain plot summaries. That data may give you additional useful features for genre classification. \n",
    "\n",
    "To guide your decision process, provide at least one visualization of how often genres are mentioned together in pairs. Your visualization should clearly show if a horror romance is more likely to occur in the data than a drama romance.\n",
    "\n",
    "The notebook to submit for this milestone needs to at least include:\n",
    "\n",
    "- API code to access the genre and movie poster path of your favorite movie\n",
    "- Genre for this movie listed by TMDb and IMDb\n",
    "- A list of the 10 most popular movies of 2016 from TMDb and their genre obtained via the API\n",
    "- Comments on what challenges you see for predicting movie genre based on the data you have, and how to address them \n",
    "- Code to generate the movie genre pairs and a suitable visualization of the result\n",
    "- Additional visualization sketches and EDA with a focus on movie genres\n",
    "- A list of questions you could answer with this and related data. Get creative here!\n",
    "\n",
    "The EDA questions do not necessarily have to tie into the modeling part later on. Think freely about things that might be interesting, like which actors are very specific to a genre? Are action movies more prone to producing sequels than romances? However, as you keep the focus on movie genres, think also about correlations you might discover that can help build features from the metadata for prediction. Is the length of a movie title correlated with genre?\n"
   ]
  },
  {
   "cell_type": "code",
   "execution_count": 2,
   "metadata": {
    "collapsed": false
   },
   "outputs": [
    {
     "name": "stderr",
     "output_type": "stream",
     "text": [
      "/Users/lukeheine/anaconda/lib/python2.7/site-packages/matplotlib/font_manager.py:273: UserWarning: Matplotlib is building the font cache using fc-list. This may take a moment.\n",
      "  warnings.warn('Matplotlib is building the font cache using fc-list. This may take a moment.')\n"
     ]
    }
   ],
   "source": [
    "import time\n",
    "import seaborn as sns\n",
    "import numpy as np\n",
    "import pandas as pd\n",
    "from IPython.display import Image\n",
    "import matplotlib.pyplot as plt\n",
    "from collections import Counter\n",
    "%matplotlib inline\n",
    "\n",
    "## Installed by running this line in terminal: pip install IMDbPY\n",
    "## Tutorial found here http://imdbpy.sourceforge.net/support.html\n",
    "import imdb\n",
    "\n",
    "### Downloaded this via this line: pip install tmdbsimple\n",
    "## Tutorial found here https://pypi.python.org/pypi/tmdbsimple\n",
    "import tmdbsimple as tmdb "
   ]
  },
  {
   "cell_type": "code",
   "execution_count": 3,
   "metadata": {
    "collapsed": true
   },
   "outputs": [],
   "source": [
    "## Pass in our tmdb Key \n",
    "tmdb.API_KEY = '352e668a0df90032e0f1097459228131'\n",
    "\n",
    "# Create the object that will be used to access the IMDb's database.\n",
    "ia = imdb.IMDb()"
   ]
  },
  {
   "cell_type": "markdown",
   "metadata": {},
   "source": [
    "# #1: API code to access the genre and movie poster path of your favorite movie\n",
    "\n",
    "* Favorite movie: 300\n",
    "* Database: TMDB"
   ]
  },
  {
   "cell_type": "code",
   "execution_count": 7,
   "metadata": {
    "collapsed": false
   },
   "outputs": [
    {
     "name": "stdout",
     "output_type": "stream",
     "text": [
      "300 1271 2006-12-09 3.840839\n",
      "300: Rise of an Empire 53182 2014-03-05 4.068346\n",
      "Decameron '300 436902 1972-08-11 1.000352\n",
      "300 Souls 332423 2015-03-25 1.003226\n",
      "United 300 204183 2007-04-30 1.000524\n",
      "300 Worte Deutsch 309038 2015-02-05 1.400244\n",
      "The 300 Spartans 19972 1962-08-01 1.555992\n",
      "300 Miles 409110 2016-08-11 1.010402\n",
      "300 Killers 54799 2011-01-18 1.00285\n",
      "300 Pounds 68690 2007-01-01 1.000755\n",
      "Last Stand of the 300 37122 2007-05-27 1.129064\n",
      "300 Miles to Heaven 155325 1989-10-30 1.127836\n",
      "4 Damas en 300 293965 2011-07-17 1.001\n",
      "300 Miles to Freedom 329318 2011-01-01 1.000889\n",
      "Kamis Ke 300 406842  1.000123\n",
      "Million Dollar Eel 285994 1971-05-06 1.0225\n",
      "Planet Deutschland - 300 Millionen Jahre 295831 2014-10-02 1.005472\n",
      "Fangio: Una vita a 300 all'ora 435791 1980-01-01 1.000017\n",
      "75 habitantes, 20 casas, 300 vacas 202434 2011-05-11 1.000954\n",
      "Roberto Carlos a 300 Quilômetros Por Hora 273427 1971-06-01 1.000138\n"
     ]
    }
   ],
   "source": [
    "# first need to get the tmdb id for 300\n",
    "search = tmdb.Search()\n",
    "response = search.movie(query=\"300\")\n",
    "\n",
    "for res in search.results:\n",
    "    print res['title'], res['id'], res['release_date'], res['popularity']\n",
    "\n",
    "## in this case I just took the top result\n",
    "fav_movie_tmdb = search.results[0]"
   ]
  },
  {
   "cell_type": "code",
   "execution_count": 8,
   "metadata": {
    "collapsed": false
   },
   "outputs": [
    {
     "name": "stdout",
     "output_type": "stream",
     "text": [
      "Movie ID for '300':  1271\n"
     ]
    }
   ],
   "source": [
    "fav_movie_id = search.results[0][\"id\"]\n",
    "print \"Movie ID for '300': \", fav_movie_id "
   ]
  },
  {
   "cell_type": "code",
   "execution_count": 9,
   "metadata": {
    "collapsed": false
   },
   "outputs": [
    {
     "name": "stdout",
     "output_type": "stream",
     "text": [
      "TMDB Genres for 300:  [u'Action', u'Adventure', u'War']\n",
      "TMDB Poster path for 300:  /bYR8O1H1ZlME7Dm9ysfTYZnRDpw.jpg\n"
     ]
    }
   ],
   "source": [
    "# get the movie\n",
    "movie = tmdb.Movies(1271)\n",
    "info = movie.info()\n",
    "print \"TMDB Genres for 300: \", [genre[\"name\"] for genre in info[\"genres\"]]\n",
    "print \"TMDB Poster path for 300: \", info[\"poster_path\"]"
   ]
  },
  {
   "cell_type": "code",
   "execution_count": 10,
   "metadata": {
    "collapsed": false
   },
   "outputs": [
    {
     "name": "stderr",
     "output_type": "stream",
     "text": [
      "/Users/lukeheine/anaconda/lib/python2.7/site-packages/IMDbPY-5.1.1-py2.7-macosx-10.6-x86_64.egg/imdb/parser/http/utils.py:481: UserWarning: unable to use \"lxml\": dlopen(/Users/lukeheine/anaconda/lib/python2.7/site-packages/lxml/etree.so, 2): Library not loaded: libxml2.2.dylib\n",
      "  Referenced from: /Users/lukeheine/anaconda/lib/python2.7/site-packages/lxml/etree.so\n",
      "  Reason: Incompatible library version: etree.so requires version 12.0.0 or later, but libxml2.2.dylib provides version 10.0.0\n",
      "  warnings.warn('unable to use \"%s\": %s' % (mod, str(e)))\n",
      "/Users/lukeheine/anaconda/lib/python2.7/site-packages/IMDbPY-5.1.1-py2.7-macosx-10.6-x86_64.egg/imdb/parser/http/utils.py:472: UserWarning: falling back to \"beautifulsoup\"\n",
      "  warnings.warn('falling back to \"%s\"' % mod)\n"
     ]
    },
    {
     "name": "stdout",
     "output_type": "stream",
     "text": [
      "300 (2006) 0416449\n",
      "\"300\" (2014) 4066210\n",
      "\"300 (2011) (TV Episode)  - Season 2 | Episode 18  - How It Should Have Ended\" (2005) 2329673\n",
      "300: Rise of an Empire (2014) 1253863\n",
      "Idiocracy (2006) 0387808\n",
      "3000 Miles to Graceland (2001) 0233142\n",
      "300 the Resurgence (in development) (????) 4576032\n",
      "Mystery Science Theater 3000: The Movie (1996) 0117128\n",
      "300 Spartans, The (1962) 0055719\n",
      "\"Mystery Science Theater 3000\" (1988) 0094517\n",
      "Last Stand of the 300 (2007) (TV) 0892737\n",
      "\"300 (2005) (TV Episode)  - Season 21 | Episode 27  - The Bill\" (1984) 0524939\n",
      "Decameron '300 (1972) 0068460\n",
      "\"300 (2014) (TV Episode)  - Season 3 | Episode 5  - Honest Trailers\" (2012) 3614658\n",
      "\"300 (2007) (TV Episode)  - Season 4 | Episode 2  - STC Previews, The\" (2003) 1084548\n",
      "\"300 (2012) (TV Episode)  - Season 2 | Episode 16  - Folding Ideas\" (2011) 3957878\n",
      "\"300 (2012) (TV Episode)  - Season 3 | Episode 9  - Bath Bayakha\" (2011) (mini) 5152204\n",
      "\"300 (1973) (TV Episode)  - Season 3 | Episode 40  - The Electric Company\" (1971) 0904372\n",
      "\"300 (2014) (TV Episode)  - Season 1 | Episode 9  - Le Plectroscope\" (2011) (mini) 5785046\n",
      "\"300 (2007) (TV Episode)  - Season 1 | Episode 5  - History in Focus\" (2006) 1142331\n"
     ]
    }
   ],
   "source": [
    "# Search for a movie (get a list of Movie objects).\n",
    "s_result = ia.search_movie('300')\n",
    "for item in s_result:\n",
    "    print item['long imdb canonical title'], item.movieID"
   ]
  },
  {
   "cell_type": "code",
   "execution_count": 11,
   "metadata": {
    "collapsed": false
   },
   "outputs": [
    {
     "name": "stdout",
     "output_type": "stream",
     "text": [
      "IMDB Genres for 300: "
     ]
    },
    {
     "ename": "KeyError",
     "evalue": "'genres'",
     "output_type": "error",
     "traceback": [
      "\u001b[0;31m---------------------------------------------------------------------------\u001b[0m",
      "\u001b[0;31mKeyError\u001b[0m                                  Traceback (most recent call last)",
      "\u001b[0;32m<ipython-input-11-4ccf54e3558d>\u001b[0m in \u001b[0;36m<module>\u001b[0;34m()\u001b[0m\n\u001b[1;32m      1\u001b[0m \u001b[0mfav_movie_imdb\u001b[0m \u001b[0;34m=\u001b[0m \u001b[0ms_result\u001b[0m\u001b[0;34m[\u001b[0m\u001b[0;36m0\u001b[0m\u001b[0;34m]\u001b[0m\u001b[0;34m\u001b[0m\u001b[0m\n\u001b[1;32m      2\u001b[0m \u001b[0mia\u001b[0m\u001b[0;34m.\u001b[0m\u001b[0mupdate\u001b[0m\u001b[0;34m(\u001b[0m\u001b[0mfav_movie_imdb\u001b[0m\u001b[0;34m)\u001b[0m\u001b[0;34m\u001b[0m\u001b[0m\n\u001b[0;32m----> 3\u001b[0;31m \u001b[0;32mprint\u001b[0m \u001b[0;34m\"IMDB Genres for 300: \"\u001b[0m\u001b[0;34m,\u001b[0m \u001b[0mfav_movie_imdb\u001b[0m\u001b[0;34m[\u001b[0m\u001b[0;34m'genre'\u001b[0m\u001b[0;34m]\u001b[0m\u001b[0;34m\u001b[0m\u001b[0m\n\u001b[0m",
      "\u001b[0;32m/Users/lukeheine/anaconda/lib/python2.7/site-packages/IMDbPY-5.1.1-py2.7-macosx-10.6-x86_64.egg/imdb/utils.pyc\u001b[0m in \u001b[0;36m__getitem__\u001b[0;34m(self, key)\u001b[0m\n\u001b[1;32m   1470\u001b[0m         \u001b[0;31m# Handle key aliases.\u001b[0m\u001b[0;34m\u001b[0m\u001b[0;34m\u001b[0m\u001b[0m\n\u001b[1;32m   1471\u001b[0m         \u001b[0mkey\u001b[0m \u001b[0;34m=\u001b[0m \u001b[0mself\u001b[0m\u001b[0;34m.\u001b[0m\u001b[0mkeys_alias\u001b[0m\u001b[0;34m.\u001b[0m\u001b[0mget\u001b[0m\u001b[0;34m(\u001b[0m\u001b[0mkey\u001b[0m\u001b[0;34m,\u001b[0m \u001b[0mkey\u001b[0m\u001b[0;34m)\u001b[0m\u001b[0;34m\u001b[0m\u001b[0m\n\u001b[0;32m-> 1472\u001b[0;31m         \u001b[0mrawData\u001b[0m \u001b[0;34m=\u001b[0m \u001b[0mself\u001b[0m\u001b[0;34m.\u001b[0m\u001b[0mdata\u001b[0m\u001b[0;34m[\u001b[0m\u001b[0mkey\u001b[0m\u001b[0;34m]\u001b[0m\u001b[0;34m\u001b[0m\u001b[0m\n\u001b[0m\u001b[1;32m   1473\u001b[0m         \u001b[0;32mif\u001b[0m \u001b[0mkey\u001b[0m \u001b[0;32min\u001b[0m \u001b[0mself\u001b[0m\u001b[0;34m.\u001b[0m\u001b[0mkeys_tomodify\u001b[0m \u001b[0;32mand\u001b[0m\u001b[0;31m \u001b[0m\u001b[0;31m\\\u001b[0m\u001b[0;34m\u001b[0m\u001b[0m\n\u001b[1;32m   1474\u001b[0m                 \u001b[0mself\u001b[0m\u001b[0;34m.\u001b[0m\u001b[0mmodFunct\u001b[0m \u001b[0;32mnot\u001b[0m \u001b[0;32min\u001b[0m \u001b[0;34m(\u001b[0m\u001b[0mNone\u001b[0m\u001b[0;34m,\u001b[0m \u001b[0mmodNull\u001b[0m\u001b[0;34m)\u001b[0m\u001b[0;34m:\u001b[0m\u001b[0;34m\u001b[0m\u001b[0m\n",
      "\u001b[0;31mKeyError\u001b[0m: 'genres'"
     ]
    }
   ],
   "source": [
    "fav_movie_imdb = s_result[0]\n",
    "ia.update(fav_movie_imdb)\n",
    "print \"IMDB Genres for 300: \", fav_movie_imdb['genre']"
   ]
  },
  {
   "cell_type": "markdown",
   "metadata": {},
   "source": [
    "# #2: Genre for this movie listed by TMDb and IMDb"
   ]
  },
  {
   "cell_type": "markdown",
   "metadata": {},
   "source": [
    "In summary:\n",
    "    * TMDB says the genres are Action, Adventure, and War\n",
    "    * IMDB says the genres are Action, and Fantasy\n",
    "    \n",
    "  This difference could lead to problems in the future when we are trying to compare similar movies but that come have different supposed \"genres.\" One way that we might avoid this is by doing a merge between the genres or selecting genres that appear in both (in this case that would be 'action')"
   ]
  },
  {
   "cell_type": "markdown",
   "metadata": {},
   "source": [
    "# #3: A list of the 10 most popular movies of 2016 from TMDb and their genre obtained via the API"
   ]
  },
  {
   "cell_type": "code",
   "execution_count": 34,
   "metadata": {
    "collapsed": false
   },
   "outputs": [],
   "source": [
    "# abdapted from http://programtalk.com/python-examples/tmdbsimple.Discover/\n",
    "discover = tmdb.Discover()\n",
    "movies_2016 = discover.movie(year=2016)"
   ]
  },
  {
   "cell_type": "code",
   "execution_count": 35,
   "metadata": {
    "collapsed": false
   },
   "outputs": [
    {
     "name": "stdout",
     "output_type": "stream",
     "text": [
      "Movie title: Sing\n",
      "Movie popularity: 66.964414\n",
      "Movie genre: [u'Animation', u'Comedy', u'Drama', u'Family', u'Music']\n",
      "\n",
      "\n",
      "Movie title: Split\n",
      "Movie popularity: 52.997041\n",
      "Movie genre: [u'Horror', u'Thriller']\n",
      "\n",
      "\n",
      "Movie title: Fantastic Beasts and Where to Find Them\n",
      "Movie popularity: 37.768683\n",
      "Movie genre: [u'Adventure', u'Action', u'Fantasy']\n",
      "\n",
      "\n",
      "Movie title: Rogue One: A Star Wars Story\n",
      "Movie popularity: 34.04527\n",
      "Movie genre: [u'Action', u'Drama', u'Science Fiction', u'War']\n",
      "\n",
      "\n",
      "Movie title: Finding Dory\n",
      "Movie popularity: 29.778546\n",
      "Movie genre: [u'Adventure', u'Animation', u'Comedy', u'Family']\n",
      "\n",
      "\n",
      "Movie title: Deadpool\n",
      "Movie popularity: 28.391851\n",
      "Movie genre: [u'Action', u'Adventure', u'Comedy', u'Romance']\n",
      "\n",
      "\n",
      "Movie title: Arrival\n",
      "Movie popularity: 26.850084\n",
      "Movie genre: [u'Thriller', u'Drama', u'Science Fiction', u'Mystery']\n",
      "\n",
      "\n",
      "Movie title: Captain America: Civil War\n",
      "Movie popularity: 24.437082\n",
      "Movie genre: [u'Adventure', u'Action', u'Science Fiction']\n",
      "\n",
      "\n",
      "Movie title: John Wick\n",
      "Movie popularity: 21.837544\n",
      "Movie genre: [u'Action', u'Thriller']\n",
      "\n",
      "\n",
      "Movie title: Doctor Strange\n",
      "Movie popularity: 19.679415\n",
      "Movie genre: [u'Action', u'Adventure', u'Fantasy', u'Science Fiction']\n",
      "\n",
      "\n"
     ]
    }
   ],
   "source": [
    "for movie in discover.results[0:10]:\n",
    "    _id = movie[\"id\"]\n",
    "    movie = tmdb.Movies(_id)\n",
    "    response = movie.info()\n",
    "    print \"Movie title: {0}\".format(response[\"title\"])\n",
    "    print \"Movie popularity: {0}\".format(response[\"popularity\"])\n",
    "    print \"Movie genre: {0}\".format([info[\"name\"] for info in movie.genres])\n",
    "    print \"\\n\""
   ]
  },
  {
   "cell_type": "markdown",
   "metadata": {},
   "source": [
    "# #4: Comments on what challenges you see for predicting movie genre based on the data you have, and how to address them\n",
    "\n",
    "1) There are differences in the genres listed by TMDb vs. IMDb\n",
    "    - We could use a union of the genres so that only those genres in both databases are considered correct\n",
    "    This also leads to a bigger question of \"What does it mean to correctly select a movie genre?\" Does thie mean that we select the best genre from IMDb, TMDb? Does this mean we might select multiple genres? These are all questions that we will need to face. \n",
    "2) The data will take a long time to load from the APIs because we need to restrict the rate at which we pull large amounts of data - ethics\n",
    "    - We need to work ahead and use AWS. In particular, if we are using a large dataset, we might need to pull a significant amount of our data in advance. \n",
    "3) We need to figure out what the \"Correct\" Genre means \n",
    "    - As we can see from the print out above, many movies have more than one genre. In this case we have that doctor strangelove is considered action, adventure, fantasy, AND science fiction. However, we probably want to create a model that only predicts one of these genres and not all of them. One way that we can break this down and make this easier is by creating a subset of genres that we believe exist in the world. (e.g. taking the top 50 genres.) Then for each of our movies, we make a prediction that only exists within that realm of genres. Another option is for us to try and predict all genres that might be attached to a movie, though this data might be too sparse to be predictive. "
   ]
  },
  {
   "cell_type": "markdown",
   "metadata": {},
   "source": [
    "# #5: Code to generate the movie genre pairs and a suitable visualization of the result\n",
    "This section gives a brief look at the relationship between genres. We will then extend upon it to choose only one genre per a movie. "
   ]
  },
  {
   "cell_type": "code",
   "execution_count": 30,
   "metadata": {
    "collapsed": false
   },
   "outputs": [
    {
     "name": "stdout",
     "output_type": "stream",
     "text": [
      "Number of genres: 19\n"
     ]
    },
    {
     "data": {
      "text/plain": [
       "{u'Action': 28,\n",
       " u'Adventure': 12,\n",
       " u'Animation': 16,\n",
       " u'Comedy': 35,\n",
       " u'Crime': 80,\n",
       " u'Documentary': 99,\n",
       " u'Drama': 18,\n",
       " u'Family': 10751,\n",
       " u'Fantasy': 14,\n",
       " u'History': 36,\n",
       " u'Horror': 27,\n",
       " u'Music': 10402,\n",
       " u'Mystery': 9648,\n",
       " u'Romance': 10749,\n",
       " u'Science Fiction': 878,\n",
       " u'TV Movie': 10770,\n",
       " u'Thriller': 53,\n",
       " u'War': 10752,\n",
       " u'Western': 37}"
      ]
     },
     "execution_count": 11,
     "metadata": {},
     "output_type": "execute_result"
    }
   ],
   "source": [
    "genres_obj = tmdb.Genres()\n",
    "genre_ids = {genre[\"name\"]: genre[\"id\"] for genre in genres_obj.list()[\"genres\"]}\n",
    "\n",
    "print \"Number of genres: {0}\".format(len(genre_ids.keys()))\n",
    "genre_ids"
   ]
  },
  {
   "cell_type": "code",
   "execution_count": 31,
   "metadata": {
    "collapsed": false
   },
   "outputs": [
    {
     "data": {
      "text/plain": [
       "{12: u'Adventure',\n",
       " 14: u'Fantasy',\n",
       " 16: u'Animation',\n",
       " 18: u'Drama',\n",
       " 27: u'Horror',\n",
       " 28: u'Action',\n",
       " 35: u'Comedy',\n",
       " 36: u'History',\n",
       " 37: u'Western',\n",
       " 53: u'Thriller',\n",
       " 80: u'Crime',\n",
       " 99: u'Documentary',\n",
       " 878: u'Science Fiction',\n",
       " 9648: u'Mystery',\n",
       " 10402: u'Music',\n",
       " 10749: u'Romance',\n",
       " 10751: u'Family',\n",
       " 10752: u'War',\n",
       " 10770: u'TV Movie'}"
      ]
     },
     "execution_count": 31,
     "metadata": {},
     "output_type": "execute_result"
    }
   ],
   "source": [
    "reverse_genre_ids = {v: k for k, v in genre_ids.iteritems()}\n",
    "reverse_genre_ids"
   ]
  },
  {
   "cell_type": "code",
   "execution_count": 91,
   "metadata": {
    "collapsed": false
   },
   "outputs": [],
   "source": [
    "discover = tmdb.Discover()\n",
    "movie_dict = {genre: [] for genre in genre_ids.iterkeys()}\n",
    "\n",
    "# count how many results we get for each genre\n",
    "movie_cnts = {genre: 0 for genre in genre_ids.iterkeys()}\n",
    "\n",
    "# need ids for each genre\n",
    "for genre in genre_ids.keys():    \n",
    "    # scan 20 pages for movies\n",
    "    for p in range(1, 10):\n",
    "        # find all movies with a given id on a given page\n",
    "        discover.movie(with_genres = genre_ids[genre], page = p)\n",
    "        for page in discover.results:\n",
    "            # we found another movie\n",
    "            movie_cnts[genre] += 1\n",
    "            \n",
    "            # add the ids from this new movie to the list\n",
    "            movie_dict[genre].extend(page[\"genre_ids\"])\n",
    "            \n",
    "    # sleep so that we don't get kicked off the API\n",
    "    time.sleep(10)"
   ]
  },
  {
   "cell_type": "code",
   "execution_count": 113,
   "metadata": {
    "collapsed": false
   },
   "outputs": [],
   "source": [
    "# make a copy of the movie dict so that we don't have \n",
    "# to rerun the above cell if we mess up\n",
    "genre_percentages_mutable = movie_dict.copy()\n",
    "genre_percentages_immutable = genre_percentages_mutable.copy()\n",
    "\n",
    "for genre in genre_percentages_mutable:\n",
    "    # make a dictionary of frequencies instead of raw ids\n",
    "    genre_percentages_mutable[genre] = Counter(genre_percentages_mutable[genre])\n",
    "    genre_percentages_immutable[genre] = Counter(genre_percentages_immutable[genre])\n",
    "    \n",
    "# for each genre in the dictionary\n",
    "for genre in genre_percentages_mutable:\n",
    "    # normalize each raw number into a percentages\n",
    "    for genre_id in genre_percentages_mutable[genre]:\n",
    "        \n",
    "        if genre_id == 10769:\n",
    "            continue\n",
    "        \n",
    "        # this should represent the percent of the occurences in which `genre` is mentioned\n",
    "        # in tandem with `genre_id`\n",
    "        #\n",
    "        # i.e. the key is a genre (e.g. drama) and the id is a genre id\n",
    "        # that drama might be paired with (e.g. romance). So, to get the pairing occurence,\n",
    "        # we need to take the counter of [genre][genre_id] with [genre_id][genre] and then\n",
    "        # divide by the total counts (e.g. genre + genre_id)\n",
    "        total_cnts = movie_cnts[genre] + movie_cnts[reverse_genre_ids[genre_id]]\n",
    "        total_occ = genre_percentages_immutable[genre][genre_id] + genre_percentages_immutable[reverse_genre_ids[genre_id]][genre_ids[genre]]\n",
    "                    \n",
    "        genre_percentages_mutable[genre][genre_id] = total_occ * 1.0 / total_cnts"
   ]
  },
  {
   "cell_type": "code",
   "execution_count": 115,
   "metadata": {
    "collapsed": false
   },
   "outputs": [],
   "source": [
    "percent_df = pd.DataFrame([pd.Series(genre_percentages_mutable[genre]) for genre in genre_ids.keys()])\n",
    "percent_df = percent_df.T\n",
    "percent_df.rename(columns=dict(zip(range(0, 19), genre_ids.keys())), inplace = True)\n",
    "\n",
    "# drop this rogue ID\n",
    "percent_df.drop([10769], inplace = True)\n",
    "\n",
    "percent_df.rename(index=dict(zip(percent_df.index, [reverse_genre_ids[genre_id] for genre_id in percent_df.index])), inplace = True)\n",
    "\n",
    "# replace all nans with 0, indicating a 0 percent mention rate for that pair\n",
    "percent_df.fillna(0, inplace = True)\n",
    "\n",
    "# reorder the axes so that they match up on the diagonals\n",
    "percent_df = percent_df.reindex_axis(sorted(percent_df.columns), axis=1)\n",
    "percent_df = percent_df.reindex_axis(sorted(percent_df.columns), axis=0)"
   ]
  },
  {
   "cell_type": "code",
   "execution_count": 116,
   "metadata": {
    "collapsed": false
   },
   "outputs": [
    {
     "data": {
      "text/plain": [
       "<matplotlib.axes._subplots.AxesSubplot at 0x111567810>"
      ]
     },
     "execution_count": 116,
     "metadata": {},
     "output_type": "execute_result"
    },
    {
     "data": {
      "image/png": "[encoded data removed]",
      "text/plain": [
       "<matplotlib.figure.Figure at 0x1115677d0>"
      ]
     },
     "metadata": {},
     "output_type": "display_data"
    }
   ],
   "source": [
    "plt.figure(figsize=(12, 10))\n",
    "plt.title(\"Normalized Frequency of Genre Pairings (Pages 1-20)\", fontsize=16)\n",
    "sns.heatmap(percent_df)"
   ]
  },
  {
   "cell_type": "markdown",
   "metadata": {},
   "source": [
    "### Insights\n",
    "\n",
    "* Examining our heatmap for the first twenty page instances per genre, we see that the pairing are intuitive. \n",
    "* Here, we see overlap between history and drama films along with adventure and action. In addition, we see high crossover between family and animation along with crime and thriller.\n",
    "* Beyond seeing the tendancy for some genres to be listed together, we also see that some categories are vaguer than others. Here, for example, we see that Thriller and Drama serve as catch-alls whereas documentary has a relatively specific definition."
   ]
  },
  {
   "cell_type": "markdown",
   "metadata": {},
   "source": [
    "# #6: Additional visualization sketches and EDA with a focus on movie genres"
   ]
  },
  {
   "cell_type": "code",
   "execution_count": 7,
   "metadata": {
    "collapsed": false
   },
   "outputs": [
    {
     "ename": "NameError",
     "evalue": "name 'genre_ids' is not defined",
     "output_type": "error",
     "traceback": [
      "\u001b[0;31m---------------------------------------------------------------------------\u001b[0m",
      "\u001b[0;31mNameError\u001b[0m                                 Traceback (most recent call last)",
      "\u001b[0;32m<ipython-input-7-951b13ffcfbf>\u001b[0m in \u001b[0;36m<module>\u001b[0;34m()\u001b[0m\n\u001b[1;32m      1\u001b[0m \u001b[0mdiscover_\u001b[0m \u001b[0;34m=\u001b[0m \u001b[0mtmdb\u001b[0m\u001b[0;34m.\u001b[0m\u001b[0mDiscover\u001b[0m\u001b[0;34m(\u001b[0m\u001b[0;34m)\u001b[0m\u001b[0;34m\u001b[0m\u001b[0m\n\u001b[0;32m----> 2\u001b[0;31m \u001b[0mmovie_dict\u001b[0m \u001b[0;34m=\u001b[0m \u001b[0;34m{\u001b[0m\u001b[0mgenre\u001b[0m\u001b[0;34m:\u001b[0m \u001b[0;34m[\u001b[0m\u001b[0;34m]\u001b[0m \u001b[0;32mfor\u001b[0m \u001b[0mgenre\u001b[0m \u001b[0;32min\u001b[0m \u001b[0mgenre_ids\u001b[0m\u001b[0;34m.\u001b[0m\u001b[0miterkeys\u001b[0m\u001b[0;34m(\u001b[0m\u001b[0;34m)\u001b[0m\u001b[0;34m}\u001b[0m\u001b[0;34m\u001b[0m\u001b[0m\n\u001b[0m\u001b[1;32m      3\u001b[0m \u001b[0;34m\u001b[0m\u001b[0m\n\u001b[1;32m      4\u001b[0m \u001b[0;31m# count how many results we get for each genre\u001b[0m\u001b[0;34m\u001b[0m\u001b[0;34m\u001b[0m\u001b[0m\n\u001b[1;32m      5\u001b[0m \u001b[0mmovie_cnts\u001b[0m \u001b[0;34m=\u001b[0m \u001b[0;34m{\u001b[0m\u001b[0mgenre\u001b[0m\u001b[0;34m:\u001b[0m \u001b[0;36m0\u001b[0m \u001b[0;32mfor\u001b[0m \u001b[0mgenre\u001b[0m \u001b[0;32min\u001b[0m \u001b[0mgenre_ids\u001b[0m\u001b[0;34m.\u001b[0m\u001b[0miterkeys\u001b[0m\u001b[0;34m(\u001b[0m\u001b[0;34m)\u001b[0m\u001b[0;34m}\u001b[0m\u001b[0;34m\u001b[0m\u001b[0m\n",
      "\u001b[0;31mNameError\u001b[0m: name 'genre_ids' is not defined"
     ]
    }
   ],
   "source": [
    "discover_ = tmdb.Discover()\n",
    "movie_dict = {genre: [] for genre in genre_ids.iterkeys()}\n",
    "\n",
    "# count how many results we get for each genre\n",
    "movie_cnts = {genre: 0 for genre in genre_ids.iterkeys()}\n",
    "\n",
    "# need ids for each genre\n",
    "for genre in genre_ids.keys():    \n",
    "    # scan 20 pages for movies\n",
    "    for p in range(30, 50):\n",
    "        # find all movies with a given id on a given page\n",
    "        discover.movie(with_genres = genre_ids[genre], page = p)\n",
    "        for page in discover.results:\n",
    "            # we found another movie\n",
    "            movie_cnts[genre] += 1\n",
    "            \n",
    "            # add the ids from this new movie to the list\n",
    "            movie_dict[genre].extend(page[\"genre_ids\"])\n",
    "            \n",
    "    # sleep so that we don't get kicked off the API\n",
    "    time.sleep(10)\n",
    "    \n",
    "# make a copy of the movie dict so that we don't have \n",
    "# to rerun the above cell if we mess up\n",
    "genre_percentages = movie_dict.copy()\n",
    "\n",
    "# for each genre in the dictionary\n",
    "for genre in genre_percentages:\n",
    "    \n",
    "    # make a dictionary of frequencies instead of raw ids\n",
    "    genre_percentages[genre] = Counter(genre_percentages[genre])\n",
    "    \n",
    "    # normalize each raw number into a percentage \n",
    "    for genre_id in genre_percentages[genre]:\n",
    "        genre_percentages[genre][genre_id] = genre_percentages[genre][genre_id] * 1.0 / movie_cnts[genre]\n",
    "\n",
    "percent_df = pd.DataFrame([pd.Series(genre_percentages[genre]) for genre in genre_ids.keys()])\n",
    "percent_df = percent_df.T\n",
    "percent_df.rename(columns=dict(zip(range(0, 19), genre_ids.keys())), inplace = True)\n",
    "\n",
    "# drop this rogue ID\n",
    "percent_df.drop([10769], inplace = True)\n",
    "\n",
    "percent_df.rename(index=dict(zip(percent_df.index, [reverse_genre_ids[genre_id] for genre_id in percent_df.index])), inplace = True)\n",
    "\n",
    "# replace all nans with 0, indicating a 0 percent mention rate for that pair\n",
    "percent_df.fillna(0, inplace = True)\n",
    "\n",
    "# reorder the axes so that they match up on the diagonals\n",
    "percent_df = percent_df.reindex_axis(sorted(percent_df.columns), axis=1)\n",
    "percent_df = percent_df.reindex_axis(sorted(percent_df.columns), axis=0)\n",
    "\n",
    "plt.figure(figsize=(12, 10))\n",
    "plt.title(\"Normalized Frequency of Genre Pairings: 30-50 page results\", fontsize=16)\n",
    "sns.heatmap(percent_df)"
   ]
  },
  {
   "cell_type": "markdown",
   "metadata": {},
   "source": [
    "## Checking Consistancy with Pages 30-50\n",
    "Comparing the results with the initial 1-20 pages, we see that our findings vary but remain consistant within a reasonable degree. This is to be expect as we have utilized large numbers to get a sample of a greater amount of data."
   ]
  },
  {
   "cell_type": "code",
   "execution_count": 44,
   "metadata": {
    "collapsed": true
   },
   "outputs": [],
   "source": [
    "### There are 19 general genres, so 19 choose 2 (171) pairs) \n",
    "### I Found these ideas by searching for movies that I knew that were romance/drama/horror, finding and then finding\n",
    "### That genre id \n",
    "DRAMA_ID = 18 \n",
    "HORROR_ID = 27\n",
    "ROMANCE_ID = 10749\n",
    "\n",
    "movie = tmdb.Movies(565)\n",
    "response = movie.info()\n",
    "movie.genres\n",
    "\n",
    "## initialize discover \n",
    "discover = tmdb.Discover()\n",
    "\n",
    "## create a list of romance movies \n",
    "romance_list = [] \n",
    "\n",
    "## iterate through 20 pages collecting movies\n",
    "for p in range(1,20):\n",
    "    discover.movie(with_genres = ROMANCE_ID, page = p)\n",
    "    romance_list.append(discover.results)"
   ]
  },
  {
   "cell_type": "code",
   "execution_count": 45,
   "metadata": {
    "collapsed": false
   },
   "outputs": [],
   "source": [
    "## iterate through the pages and then the movies \n",
    "### this will give us back a list of lists of pairings \n",
    "genre_pairings = []\n",
    "for page in romance_list:\n",
    "    for movie in page: \n",
    "        genre_pairings.append(movie[\"genre_ids\"])"
   ]
  },
  {
   "cell_type": "code",
   "execution_count": 46,
   "metadata": {
    "collapsed": false
   },
   "outputs": [],
   "source": [
    "### This will give \n",
    "horror_count = 0 \n",
    "drama_count = 0 \n",
    "## iterate through the genre pairings for each movie\n",
    "## add a count if horror appears or drama appears\n",
    "\n",
    "for pairing in genre_pairings:\n",
    "    if HORROR_ID in pairing: \n",
    "        horror_count += 1 \n",
    "    if DRAMA_ID in pairing:\n",
    "        drama_count += 1    "
   ]
  },
  {
   "cell_type": "code",
   "execution_count": 47,
   "metadata": {
    "collapsed": false
   },
   "outputs": [
    {
     "name": "stdout",
     "output_type": "stream",
     "text": [
      "We test on this many movies classified as Romance: 380\n",
      "Percentage of Romance Movies Paired with Drama: 0.65\n",
      "Percentage of Romance Movies Paired with Horror: 0.0236842105263\n"
     ]
    }
   ],
   "source": [
    "num_movies = len(genre_pairings)\n",
    "print \"We test on this many movies classified as Romance:\", num_movies\n",
    "\n",
    "drama_romance_perc = drama_count / float(num_movies)\n",
    "horror_romance_perc= horror_count / float(num_movies)\n",
    "print \"Percentage of Romance Movies Paired with Drama:\", drama_romance_perc\n",
    "print \"Percentage of Romance Movies Paired with Horror:\", horror_romance_perc"
   ]
  },
  {
   "cell_type": "code",
   "execution_count": 48,
   "metadata": {
    "collapsed": false
   },
   "outputs": [
    {
     "data": {
      "text/plain": [
       "<matplotlib.text.Text at 0x1113ce190>"
      ]
     },
     "execution_count": 48,
     "metadata": {},
     "output_type": "execute_result"
    },
    {
     "data": {
      "image/png": "[encoded data removed]",
      "text/plain": [
       "<matplotlib.figure.Figure at 0x111341810>"
      ]
     },
     "metadata": {},
     "output_type": "display_data"
    }
   ],
   "source": [
    "## initialize X and Y for plotting \n",
    "Y = np.array([drama_romance_perc, horror_romance_perc])\n",
    "LABELS = np.array([\"Drama\", \"Horror\"])\n",
    "X = [1,2]\n",
    "\n",
    "plt.figure(figsize=(10, 7))\n",
    "plt.bar(X, Y,  color=\"blue\")\n",
    "plt.xticks(X, LABELS)\n",
    "plt.title(\"Percentage of Films in Romance Genre In Other Genre\", fontsize=14)\n",
    "plt.xlabel(\"Genre paired with Romance Films\")\n",
    "plt.ylabel(\"Percentage of Genre Associated with Romance Genre\")"
   ]
  },
  {
   "cell_type": "markdown",
   "metadata": {},
   "source": [
    "### Explanation of Romance and Other Dramas\n",
    "The takeaway from the above bar graph is that more romance fils are paired with drama than they are by horror. (BY A LOT.) However, let's explain how we received our results. \n",
    "\n",
    "We decided to compare the percentage of romance films that were ALSO associated with other genres. To do this, we selected a random subset of our romance films. We used roughly 380 romance films randomly selected from all films with the genre \"romance\" tag. Of these 380 films, we then looked at the percentage of these films that also shared the genre tag \"horror\" or \"drama\" or both. We divided by the total number of films with the horror/drama tag by all romance films used. This gave us are above percentages. "
   ]
  },
  {
   "cell_type": "markdown",
   "metadata": {},
   "source": [
    "### Sketches and Future EDA\n",
    "\n",
    "Here are sketches of other visualizations we plan to complete."
   ]
  },
  {
   "cell_type": "code",
   "execution_count": 49,
   "metadata": {
    "collapsed": false
   },
   "outputs": [
    {
     "data": {
      "image/jpeg": "[encoded data removed]",
      "text/plain": [
       "<IPython.core.display.Image object>"
      ]
     },
     "execution_count": 49,
     "metadata": {},
     "output_type": "execute_result"
    }
   ],
   "source": [
    "Image(filename='sketches/sketch1.jpg') "
   ]
  },
  {
   "cell_type": "markdown",
   "metadata": {},
   "source": [
    "This is a normalized revenue graph, displaying the amount of revenue that genres have made over time."
   ]
  },
  {
   "cell_type": "code",
   "execution_count": 50,
   "metadata": {
    "collapsed": false
   },
   "outputs": [
    {
     "data": {
      "image/jpeg": "[encoded data removed]",
      "text/plain": [
       "<IPython.core.display.Image object>"
      ]
     },
     "execution_count": 50,
     "metadata": {},
     "output_type": "execute_result"
    }
   ],
   "source": [
    "Image(filename='sketches/sketch2.jpg') "
   ]
  },
  {
   "cell_type": "markdown",
   "metadata": {},
   "source": [
    "This graph is a color-coded line chart. This shows the distribution of secondary genres by main genres in comparison to each other genre."
   ]
  },
  {
   "cell_type": "code",
   "execution_count": 51,
   "metadata": {
    "collapsed": false
   },
   "outputs": [
    {
     "data": {
      "image/jpeg": "[encoded data removed]",
      "text/plain": [
       "<IPython.core.display.Image object>"
      ]
     },
     "execution_count": 51,
     "metadata": {},
     "output_type": "execute_result"
    }
   ],
   "source": [
    "Image(filename='sketches/sketch3.jpg') "
   ]
  },
  {
   "cell_type": "markdown",
   "metadata": {},
   "source": [
    "This graph is a bar graph that shows the frequency of other genres within a defined genre. For example, here we have the genre of “Adventure” along with all the subcategories that also exist within it."
   ]
  },
  {
   "cell_type": "code",
   "execution_count": 52,
   "metadata": {
    "collapsed": false
   },
   "outputs": [
    {
     "data": {
      "image/jpeg": "[encoded data removed]",
      "text/plain": [
       "<IPython.core.display.Image object>"
      ]
     },
     "execution_count": 52,
     "metadata": {},
     "output_type": "execute_result"
    }
   ],
   "source": [
    "Image(filename='sketches/sketch4.jpg') "
   ]
  },
  {
   "cell_type": "markdown",
   "metadata": {},
   "source": [
    "Finally, we have a treemap to show the relative amount of revenue by genre for a subset year."
   ]
  },
  {
   "cell_type": "markdown",
   "metadata": {},
   "source": [
    "# #7: A list of questions you could answer with this and related data. Get creative here!"
   ]
  },
  {
   "cell_type": "markdown",
   "metadata": {},
   "source": [
    "* Which movies are the most fluid across genres?\n",
    "* Which genres are most constrictive (i.e. does having genre X mean you're less likely to be paired with another genre?)\n",
    "* What pairing of movies genres are most likely to go together?\n",
    "* Do certain genre pairings result in higher amounts of revenue (e.g. \"action romance\" doing better than \"action\")?\n",
    "* Are there statistically significant differences in movie length by genre? For example, are comedies consistently lower?\n",
    "* Are there statistically significant differences in movie rating by movie length? Do people tend to like shorter movies more or longer movies more? How does this difference interact with genre?\n",
    "* What is the highest revenue per minute by genre (we could answer this by dividing average revenue by average movie length)?\n",
    "* Are adult films frequently labelled other genres? For example, are there such things as \"adult fantasy\" films and \"adult comedy\" films?\n",
    "* How do these english genre distributions compare versus a similar analysis done on a different language’s database? Are french movies, for instance, more likely to have different genre pairings than english movies?\n",
    "* How does genre density differ as a function of time? Are some genres more popular now vs. long ago? What about pairing of genres?\n",
    "* Does having an unoriginal movie title (e.g. \"300\") help revenue or hurt?\n",
    "* How has (normalized) revenue changed over time as a function of genre? What about popularity?"
   ]
  },
  {
   "cell_type": "markdown",
   "metadata": {},
   "source": [
    "### Milestone 2: Assembling training data, due Wednesday, April 12, 2017\n",
    "\n",
    "We are aware that you have little time this week, due to the midterm. So this milestone is a bit easier to achieve than the others. The goal for this week is to prepare the data for the modeling phase of the project. You should end up with a typical data setup of training data X and data labels Y.\n",
    "\n",
    "The exact form of X and Y depends on the ideas you had previously. In general though Y should involve the genre of a movie, and X the features you want to include to predict the genre. Remember from the lecture that more features does not necessarily equal better prediction performance. Use your application knowledge and the insight you gathered from your genre pair analysis and additional EDA to design Y. Do you want to include all genres? Are there genres that you assume to be easier to separate than others? Are there genres that could be grouped together? There is no one right answer here. We are looking for your insight, so be sure to describe your decision process in your notebook. \n",
    "\n",
    "In preparation for the deep learning part we strongly encourage you to have two sets of training data X, one with the metadata and one with the movie posters. Make sure to have a common key, like the movie ID, to be able to link the two sets together. Also be mindful of the data rate when you obtain the posters. Time your requests and choose which poster resolution you need. In most cases w500 should be sufficient, and probably a lower resolution will be fine.\n",
    "\n",
    "The notebook to submit this week should at least include:\n",
    "\n",
    "- Discussion about the imbalanced nature of the data and how you want to address it\n",
    "- Description of your data"
   ]
  },
  {
   "cell_type": "markdown",
   "metadata": {},
   "source": [
    "why imbalaced\n",
    "how to react"
   ]
  },
  {
   "cell_type": "markdown",
   "metadata": {},
   "source": [
    "- How do you sample your data, how many samples, and why?\n",
    "\n",
    "*Important*: You do not need to upload the data itself to Canvas."
   ]
  },
  {
   "cell_type": "markdown",
   "metadata": {},
   "source": [
    "- **What does your choice of Y look like?**\n",
    "We decided for our Y that we would keep all of the genres that were labeled in TMDB. WE also decided to keep all 19 of our original genres. Tis means that when we make predictions, we will need to predict multiple lables (likely multiple bernoulli decisions, i.e. we will give a probability for all of the different genres. Because movie can have more than one genres, these selections are not mutually exclusive.) We will then predict the movie genres that are over 50% or we will take the top 2,3,4 or 5 genres as predictions. We might also take in our model the number of genres that the movie truly has. THis will then make us only predict that number of genres (so we will take the four genres that are most likely) \n",
    "\n",
    "\n",
    " - **Which features do you choose for X and why?**\n",
    "For our X, we wanted to take in features that we believed would be predictive of our response variable. In this case, we chose to use variables such as the movie description, popularity, title, and vote average. We believe that each of These would have some predictive power in our model. Similarly, we took data from the poster path and the backdrop. This allows us to access the individual posters themselves and then use them in our machine learning analysis. \n",
    "\n",
    "## ADD HERE IF WE ADD ANY MORE VARIABLES AFTER STEPHEN'S INITIAL PASS \n"
   ]
  },
  {
   "cell_type": "code",
   "execution_count": 43,
   "metadata": {
    "collapsed": false
   },
   "outputs": [],
   "source": [
    "discover = tmdb.Discover()\n",
    "base_url  = \"https://image.tmdb.org/t/p/w500\"\n",
    "\n",
    "d_metadata = []\n",
    "d_poster = [] \n",
    "\n",
    "# set to 20 to get more data\n",
    "NUM_PAGES = 28\n",
    "\n",
    "for p in range(1, NUM_PAGES):\n",
    "    # find all movies on a given page\n",
    "    discover.movie(page = p)\n",
    "    \n",
    "    ## note that discover results is a list of dicts\n",
    "    ## we are iterating through a page and getting each individual movie's information \n",
    "    for movie in discover.results:\n",
    "        d_metadata.append({\"movie_id\": movie[\"id\"],\n",
    "                           \"title\": movie[\"title\"], \n",
    "                           \"overview\": movie[\"overview\"],\n",
    "                           \"poster_path\": movie[\"poster_path\"],\n",
    "                           \"release_date\": movie[\"release_date\"],\n",
    "                           \"vote_count\": movie[\"vote_count\"],\n",
    "                           \"popularity\": movie[\"popularity\"],\n",
    "                           \"video\": movie[\"video\"],\n",
    "                           \"adult\": movie[\"adult\"],\n",
    "                           \"vote_average\": movie[\"vote_average\"],\n",
    "                           \"genre_ids\": movie[\"genre_ids\"] \n",
    "                          })\n",
    "                \n",
    "        d_poster.append({\"movie_id\": movie[\"id\"],\n",
    "                         \"title\": movie[\"title\"], \n",
    "                         \"genre_ids\": movie[\"genre_ids\"], \n",
    "                         \"poster_url\": base_url + movie[\"poster_path\"]\n",
    "                        })\n",
    "        \n",
    "    # uncomment when extracting large amounts of data \n",
    "    # time.sleep(10)\n",
    "\n",
    "# metaframe df\n",
    "df_metadata = pd.DataFrame(d_metadata)\n",
    "\n",
    "# poster df for neural nets\n",
    "df_poster = pd.DataFrame(d_poster)"
   ]
  },
  {
   "cell_type": "code",
   "execution_count": 48,
   "metadata": {
    "collapsed": false
   },
   "outputs": [
    {
     "data": {
      "text/html": [
       "<div>\n",
       "<table border=\"1\" class=\"dataframe\">\n",
       "  <thead>\n",
       "    <tr style=\"text-align: right;\">\n",
       "      <th></th>\n",
       "      <th>genre_ids</th>\n",
       "      <th>movie_id</th>\n",
       "      <th>poster_url</th>\n",
       "      <th>title</th>\n",
       "    </tr>\n",
       "  </thead>\n",
       "  <tbody>\n",
       "    <tr>\n",
       "      <th>0</th>\n",
       "      <td>[14, 10402, 10749]</td>\n",
       "      <td>321612</td>\n",
       "      <td>https://image.tmdb.org/t/p/w500/tWqifoYuwLETmm...</td>\n",
       "      <td>Beauty and the Beast</td>\n",
       "    </tr>\n",
       "  </tbody>\n",
       "</table>\n",
       "</div>"
      ],
      "text/plain": [
       "            genre_ids  movie_id  \\\n",
       "0  [14, 10402, 10749]    321612   \n",
       "\n",
       "                                          poster_url                 title  \n",
       "0  https://image.tmdb.org/t/p/w500/tWqifoYuwLETmm...  Beauty and the Beast  "
      ]
     },
     "execution_count": 48,
     "metadata": {},
     "output_type": "execute_result"
    }
   ],
   "source": [
    "# inspect data\n",
    "df_poster.head(1)"
   ]
  },
  {
   "cell_type": "code",
   "execution_count": 49,
   "metadata": {
    "collapsed": false
   },
   "outputs": [],
   "source": [
    "# dummifies list of genres, placing genres in new columns\n",
    "df_dummies = df_poster.genre_ids.astype(str).str.strip('[]').str.get_dummies(', ')\n",
    "df_dummies.columns = df_dummies.columns.str.strip(\"'\")"
   ]
  },
  {
   "cell_type": "code",
   "execution_count": 50,
   "metadata": {
    "collapsed": true
   },
   "outputs": [],
   "source": [
    "# get number of occurences in dataset and remove nulls\n",
    "df_movie_instance = df_dummies.apply(pd.value_counts).fillna(0)\n",
    "df_movie_instance = df_movie_instance.drop(df_movie_instance.index[0])"
   ]
  },
  {
   "cell_type": "code",
   "execution_count": 51,
   "metadata": {
    "collapsed": false
   },
   "outputs": [
    {
     "data": {
      "text/html": [
       "<div>\n",
       "<table border=\"1\" class=\"dataframe\">\n",
       "  <thead>\n",
       "    <tr style=\"text-align: right;\">\n",
       "      <th></th>\n",
       "      <th>10402</th>\n",
       "      <th>10749</th>\n",
       "      <th>10751</th>\n",
       "      <th>10752</th>\n",
       "      <th>10770</th>\n",
       "      <th>12</th>\n",
       "      <th>14</th>\n",
       "      <th>16</th>\n",
       "      <th>18</th>\n",
       "      <th>27</th>\n",
       "      <th>28</th>\n",
       "      <th>35</th>\n",
       "      <th>36</th>\n",
       "      <th>37</th>\n",
       "      <th>53</th>\n",
       "      <th>80</th>\n",
       "      <th>878</th>\n",
       "      <th>9648</th>\n",
       "      <th>99</th>\n",
       "    </tr>\n",
       "  </thead>\n",
       "  <tbody>\n",
       "    <tr>\n",
       "      <th>0</th>\n",
       "      <td>1</td>\n",
       "      <td>1</td>\n",
       "      <td>0</td>\n",
       "      <td>0</td>\n",
       "      <td>0</td>\n",
       "      <td>0</td>\n",
       "      <td>1</td>\n",
       "      <td>0</td>\n",
       "      <td>0</td>\n",
       "      <td>0</td>\n",
       "      <td>0</td>\n",
       "      <td>0</td>\n",
       "      <td>0</td>\n",
       "      <td>0</td>\n",
       "      <td>0</td>\n",
       "      <td>0</td>\n",
       "      <td>0</td>\n",
       "      <td>0</td>\n",
       "      <td>0</td>\n",
       "    </tr>\n",
       "    <tr>\n",
       "      <th>1</th>\n",
       "      <td>0</td>\n",
       "      <td>0</td>\n",
       "      <td>1</td>\n",
       "      <td>0</td>\n",
       "      <td>0</td>\n",
       "      <td>0</td>\n",
       "      <td>0</td>\n",
       "      <td>1</td>\n",
       "      <td>1</td>\n",
       "      <td>1</td>\n",
       "      <td>0</td>\n",
       "      <td>1</td>\n",
       "      <td>1</td>\n",
       "      <td>0</td>\n",
       "      <td>1</td>\n",
       "      <td>1</td>\n",
       "      <td>0</td>\n",
       "      <td>0</td>\n",
       "      <td>0</td>\n",
       "    </tr>\n",
       "  </tbody>\n",
       "</table>\n",
       "</div>"
      ],
      "text/plain": [
       "   10402  10749  10751  10752  10770  12  14  16  18  27  28  35  36  37  53  \\\n",
       "0      1      1      0      0      0   0   1   0   0   0   0   0   0   0   0   \n",
       "1      0      0      1      0      0   0   0   1   1   1   0   1   1   0   1   \n",
       "\n",
       "   80  878  9648  99  \n",
       "0   0    0     0   0  \n",
       "1   1    0     0   0  "
      ]
     },
     "execution_count": 51,
     "metadata": {},
     "output_type": "execute_result"
    }
   ],
   "source": [
    "df_dummies.head(2)"
   ]
  },
  {
   "cell_type": "code",
   "execution_count": 52,
   "metadata": {
    "collapsed": false
   },
   "outputs": [
    {
     "data": {
      "text/html": [
       "<div>\n",
       "<table border=\"1\" class=\"dataframe\">\n",
       "  <thead>\n",
       "    <tr style=\"text-align: right;\">\n",
       "      <th></th>\n",
       "      <th>10402</th>\n",
       "      <th>10749</th>\n",
       "      <th>10751</th>\n",
       "      <th>10752</th>\n",
       "      <th>10770</th>\n",
       "      <th>12</th>\n",
       "      <th>14</th>\n",
       "      <th>16</th>\n",
       "      <th>18</th>\n",
       "      <th>27</th>\n",
       "      <th>...</th>\n",
       "      <th>37</th>\n",
       "      <th>53</th>\n",
       "      <th>80</th>\n",
       "      <th>878</th>\n",
       "      <th>9648</th>\n",
       "      <th>99</th>\n",
       "      <th>genre_ids</th>\n",
       "      <th>movie_id</th>\n",
       "      <th>poster_url</th>\n",
       "      <th>title</th>\n",
       "    </tr>\n",
       "  </thead>\n",
       "  <tbody>\n",
       "    <tr>\n",
       "      <th>0</th>\n",
       "      <td>1</td>\n",
       "      <td>1</td>\n",
       "      <td>0</td>\n",
       "      <td>0</td>\n",
       "      <td>0</td>\n",
       "      <td>0</td>\n",
       "      <td>1</td>\n",
       "      <td>0</td>\n",
       "      <td>0</td>\n",
       "      <td>0</td>\n",
       "      <td>...</td>\n",
       "      <td>0</td>\n",
       "      <td>0</td>\n",
       "      <td>0</td>\n",
       "      <td>0</td>\n",
       "      <td>0</td>\n",
       "      <td>0</td>\n",
       "      <td>[14, 10402, 10749]</td>\n",
       "      <td>321612</td>\n",
       "      <td>https://image.tmdb.org/t/p/w500/tWqifoYuwLETmm...</td>\n",
       "      <td>Beauty and the Beast</td>\n",
       "    </tr>\n",
       "    <tr>\n",
       "      <th>1</th>\n",
       "      <td>0</td>\n",
       "      <td>0</td>\n",
       "      <td>1</td>\n",
       "      <td>0</td>\n",
       "      <td>0</td>\n",
       "      <td>0</td>\n",
       "      <td>0</td>\n",
       "      <td>1</td>\n",
       "      <td>1</td>\n",
       "      <td>1</td>\n",
       "      <td>...</td>\n",
       "      <td>0</td>\n",
       "      <td>1</td>\n",
       "      <td>1</td>\n",
       "      <td>0</td>\n",
       "      <td>0</td>\n",
       "      <td>0</td>\n",
       "      <td>[36, 16, 35, 10751, 27, 53, 18, 80]</td>\n",
       "      <td>295693</td>\n",
       "      <td>https://image.tmdb.org/t/p/w500/67NXPYvK92oQgE...</td>\n",
       "      <td>The Boss Baby</td>\n",
       "    </tr>\n",
       "  </tbody>\n",
       "</table>\n",
       "<p>2 rows × 23 columns</p>\n",
       "</div>"
      ],
      "text/plain": [
       "   10402  10749  10751  10752  10770  12  14  16  18  27  \\\n",
       "0      1      1      0      0      0   0   1   0   0   0   \n",
       "1      0      0      1      0      0   0   0   1   1   1   \n",
       "\n",
       "           ...           37  53  80  878  9648  99  \\\n",
       "0          ...            0   0   0    0     0   0   \n",
       "1          ...            0   1   1    0     0   0   \n",
       "\n",
       "                             genre_ids  movie_id  \\\n",
       "0                   [14, 10402, 10749]    321612   \n",
       "1  [36, 16, 35, 10751, 27, 53, 18, 80]    295693   \n",
       "\n",
       "                                          poster_url                 title  \n",
       "0  https://image.tmdb.org/t/p/w500/tWqifoYuwLETmm...  Beauty and the Beast  \n",
       "1  https://image.tmdb.org/t/p/w500/67NXPYvK92oQgE...         The Boss Baby  \n",
       "\n",
       "[2 rows x 23 columns]"
      ]
     },
     "execution_count": 52,
     "metadata": {},
     "output_type": "execute_result"
    }
   ],
   "source": [
    "# create the dataframe that will be sampled\n",
    "colnames = list(df_dummies.columns) + list(df_poster.columns)\n",
    "\n",
    "to_sample = pd.DataFrame(pd.concat([df_dummies, df_poster], axis = 1),\n",
    "                      columns = colnames)\n",
    "to_sample.head(2)"
   ]
  },
  {
   "cell_type": "code",
   "execution_count": 78,
   "metadata": {
    "collapsed": false
   },
   "outputs": [],
   "source": [
    "# relative freq for each movie\n",
    "total_cnt = df_movie_instance.sum(axis = 1).iloc[0]\n",
    "movie_percentages = df_movie_instance.divide(total_cnt).round(2)"
   ]
  },
  {
   "cell_type": "code",
   "execution_count": 67,
   "metadata": {
    "collapsed": false
   },
   "outputs": [],
   "source": [
    "# perform stratified sampling\n",
    "# rename columns\n",
    "SAMPLE_SIZE = 100\n",
    "sampled_df = pd.DataFrame({})\n",
    "\n",
    "available_genres = map(int, df_dummies.columns)\n",
    "\n",
    "while available_genres:\n",
    "    key = available_genres.pop(0)\n",
    "    n_rows = SAMPLE_SIZE * movie_percentages[str(key)].iloc[0]\n",
    "    relevant_rows = to_sample[to_sample[str(key)] == 1]\n",
    "    sampled_rows = relevant_rows.sample(n = int(n_rows))\n",
    "    \n",
    "    # redo sampling\n",
    "    if len(sampled_df) > 0 and len(pd.merge(sampled_df, sampled_rows, on=\"movie_id\")) > 0:\n",
    "        available_genres.append(key)\n",
    "        continue\n",
    "    \n",
    "    sampled_df = sampled_df.append(sampled_rows)"
   ]
  },
  {
   "cell_type": "code",
   "execution_count": 68,
   "metadata": {
    "collapsed": false
   },
   "outputs": [
    {
     "data": {
      "text/html": [
       "<div>\n",
       "<table border=\"1\" class=\"dataframe\">\n",
       "  <thead>\n",
       "    <tr style=\"text-align: right;\">\n",
       "      <th></th>\n",
       "      <th>index</th>\n",
       "      <th>10402</th>\n",
       "      <th>10749</th>\n",
       "      <th>10751</th>\n",
       "      <th>10752</th>\n",
       "      <th>10770</th>\n",
       "      <th>12</th>\n",
       "      <th>14</th>\n",
       "      <th>16</th>\n",
       "      <th>18</th>\n",
       "      <th>...</th>\n",
       "      <th>37</th>\n",
       "      <th>53</th>\n",
       "      <th>80</th>\n",
       "      <th>878</th>\n",
       "      <th>9648</th>\n",
       "      <th>99</th>\n",
       "      <th>genre_ids</th>\n",
       "      <th>movie_id</th>\n",
       "      <th>poster_url</th>\n",
       "      <th>title</th>\n",
       "    </tr>\n",
       "  </thead>\n",
       "  <tbody>\n",
       "    <tr>\n",
       "      <th>0</th>\n",
       "      <td>515</td>\n",
       "      <td>1</td>\n",
       "      <td>1</td>\n",
       "      <td>0</td>\n",
       "      <td>0</td>\n",
       "      <td>0</td>\n",
       "      <td>0</td>\n",
       "      <td>0</td>\n",
       "      <td>0</td>\n",
       "      <td>1</td>\n",
       "      <td>...</td>\n",
       "      <td>0</td>\n",
       "      <td>0</td>\n",
       "      <td>0</td>\n",
       "      <td>0</td>\n",
       "      <td>0</td>\n",
       "      <td>0</td>\n",
       "      <td>[10749, 18, 10402]</td>\n",
       "      <td>369557</td>\n",
       "      <td>https://image.tmdb.org/t/p/w500/s0C78plmx3dFcO...</td>\n",
       "      <td>Sing Street</td>\n",
       "    </tr>\n",
       "    <tr>\n",
       "      <th>1</th>\n",
       "      <td>332</td>\n",
       "      <td>0</td>\n",
       "      <td>1</td>\n",
       "      <td>0</td>\n",
       "      <td>0</td>\n",
       "      <td>0</td>\n",
       "      <td>0</td>\n",
       "      <td>0</td>\n",
       "      <td>0</td>\n",
       "      <td>0</td>\n",
       "      <td>...</td>\n",
       "      <td>0</td>\n",
       "      <td>0</td>\n",
       "      <td>0</td>\n",
       "      <td>0</td>\n",
       "      <td>0</td>\n",
       "      <td>0</td>\n",
       "      <td>[35, 10749]</td>\n",
       "      <td>416252</td>\n",
       "      <td>https://image.tmdb.org/t/p/w500/kqSSKIV6hMIMLb...</td>\n",
       "      <td>Mischievous Kiss The Movie: High School</td>\n",
       "    </tr>\n",
       "  </tbody>\n",
       "</table>\n",
       "<p>2 rows × 24 columns</p>\n",
       "</div>"
      ],
      "text/plain": [
       "   index  10402  10749  10751  10752  10770  12  14  16  18  \\\n",
       "0    515      1      1      0      0      0   0   0   0   1   \n",
       "1    332      0      1      0      0      0   0   0   0   0   \n",
       "\n",
       "                    ...                     37  53  80  878  9648  99  \\\n",
       "0                   ...                      0   0   0    0     0   0   \n",
       "1                   ...                      0   0   0    0     0   0   \n",
       "\n",
       "            genre_ids  movie_id  \\\n",
       "0  [10749, 18, 10402]    369557   \n",
       "1         [35, 10749]    416252   \n",
       "\n",
       "                                          poster_url  \\\n",
       "0  https://image.tmdb.org/t/p/w500/s0C78plmx3dFcO...   \n",
       "1  https://image.tmdb.org/t/p/w500/kqSSKIV6hMIMLb...   \n",
       "\n",
       "                                     title  \n",
       "0                              Sing Street  \n",
       "1  Mischievous Kiss The Movie: High School  \n",
       "\n",
       "[2 rows x 24 columns]"
      ]
     },
     "execution_count": 68,
     "metadata": {},
     "output_type": "execute_result"
    }
   ],
   "source": [
    "# look at sampled df\n",
    "sampled_df = sampled_df.reset_index()\n",
    "sampled_df.head(2)"
   ]
  },
  {
   "cell_type": "code",
   "execution_count": 69,
   "metadata": {
    "collapsed": true
   },
   "outputs": [],
   "source": [
    "# renaming ids to genre names\n",
    "column_names = {'12': 'Adventure',\n",
    " '14': 'Fantasy',\n",
    " '16': 'Animation',\n",
    " '18': 'Drama',\n",
    " '27': 'Horror',\n",
    " '28': 'Action',\n",
    " '35': 'Comedy',\n",
    " '36': 'History',\n",
    " '37': 'Western',\n",
    " '53': 'Thriller',\n",
    " '80': 'Crime',\n",
    " '99': 'Documentary',\n",
    " '878': 'Science Fiction',\n",
    " '9648': 'Mystery',\n",
    " '10402': 'Music',\n",
    " '10749': 'Romance',\n",
    " '10751': 'Family',\n",
    " '10752': 'War',\n",
    " '10770': 'TV Movie'}\n",
    "\n",
    "# format\n",
    "movie_percentages = movie_percentages.rename(columns=column_names).T.rename(columns={1: 'Percentage'})"
   ]
  },
  {
   "cell_type": "code",
   "execution_count": 71,
   "metadata": {
    "collapsed": false
   },
   "outputs": [
    {
     "data": {
      "text/html": [
       "<div>\n",
       "<table border=\"1\" class=\"dataframe\">\n",
       "  <thead>\n",
       "    <tr style=\"text-align: right;\">\n",
       "      <th></th>\n",
       "      <th>Percentage</th>\n",
       "    </tr>\n",
       "  </thead>\n",
       "  <tbody>\n",
       "    <tr>\n",
       "      <th>count</th>\n",
       "      <td>19.000000</td>\n",
       "    </tr>\n",
       "    <tr>\n",
       "      <th>mean</th>\n",
       "      <td>0.052632</td>\n",
       "    </tr>\n",
       "    <tr>\n",
       "      <th>std</th>\n",
       "      <td>0.048630</td>\n",
       "    </tr>\n",
       "    <tr>\n",
       "      <th>min</th>\n",
       "      <td>0.000000</td>\n",
       "    </tr>\n",
       "    <tr>\n",
       "      <th>25%</th>\n",
       "      <td>0.010000</td>\n",
       "    </tr>\n",
       "    <tr>\n",
       "      <th>50%</th>\n",
       "      <td>0.040000</td>\n",
       "    </tr>\n",
       "    <tr>\n",
       "      <th>75%</th>\n",
       "      <td>0.080000</td>\n",
       "    </tr>\n",
       "    <tr>\n",
       "      <th>max</th>\n",
       "      <td>0.150000</td>\n",
       "    </tr>\n",
       "  </tbody>\n",
       "</table>\n",
       "</div>"
      ],
      "text/plain": [
       "       Percentage\n",
       "count   19.000000\n",
       "mean     0.052632\n",
       "std      0.048630\n",
       "min      0.000000\n",
       "25%      0.010000\n",
       "50%      0.040000\n",
       "75%      0.080000\n",
       "max      0.150000"
      ]
     },
     "execution_count": 71,
     "metadata": {},
     "output_type": "execute_result"
    }
   ],
   "source": [
    "movie_percentages.describe()"
   ]
  },
  {
   "cell_type": "code",
   "execution_count": 70,
   "metadata": {
    "collapsed": false
   },
   "outputs": [
    {
     "data": {
      "text/plain": [
       "Documentary        0.00\n",
       "Western            0.00\n",
       "TV Movie           0.00\n",
       "History            0.01\n",
       "Music              0.01\n",
       "War                0.01\n",
       "Horror             0.02\n",
       "Mystery            0.03\n",
       "Animation          0.04\n",
       "Romance            0.04\n",
       "Crime              0.04\n",
       "Family             0.05\n",
       "Fantasy            0.07\n",
       "Comedy             0.07\n",
       "Science Fiction    0.09\n",
       "Thriller           0.11\n",
       "Adventure          0.13\n",
       "Drama              0.13\n",
       "Action             0.15\n",
       "Name: Percentage, dtype: float64"
      ]
     },
     "execution_count": 70,
     "metadata": {},
     "output_type": "execute_result"
    }
   ],
   "source": [
    "movie_percentages['Percentage'].sort_values()"
   ]
  },
  {
   "cell_type": "markdown",
   "metadata": {},
   "source": [
    "### Discussion\n",
    "Here, we see within our sample we see that the most represented movie is action, adventure, and drama. Looking at our data, we that out least represented movies are Documentary and TV Movie."
   ]
  },
  {
   "cell_type": "markdown",
   "metadata": {},
   "source": [
    "# To-Dos\n",
    "\n",
    "- See if there are any other data sources we want to add (e.g. wikipedia, actor/directors, etc.) \n",
    "\n",
    "- Discussion about the imbalanced nature of the data and how you want to address it How do you sample your data, how many samples, and why?"
   ]
  },
  {
   "cell_type": "markdown",
   "metadata": {},
   "source": [
    "To control for some genres having more occurences in our data set than others, we can select an equal amount of instances via genre. This allows us get an adaquate amount of information to train with.\n",
    "\n",
    "As this is an articial selection of the data, meaningthat it's not true to the actual distribution, we can incorporate a prior to tune our model and formalize our beliefs about the distribution.\n",
    "\n",
    "Here, our main imbalance of our data results from there being an asymetry of information related to each genre. Here, we see this as some genres include more information and cases than others. To compensate, we can include a belif in our through using a prior. Here, we can formalize that belief that our data may not be homogenous in representation"
   ]
  },
  {
   "cell_type": "markdown",
   "metadata": {},
   "source": [
    "- Description of your data\n",
    "\n",
    "- Deciding how much data we get (and whether or not our sequential page selection is the right way to do it)"
   ]
  },
  {
   "cell_type": "markdown",
   "metadata": {},
   "source": [
    "A method of how we can decide how data to get is cross validating our test and training model on one portion of the model, incrementally increasing the dataset until we see that prediction amount plateaus. By doing so, we can justify and make an assessment of how much data we should include in our model.\n",
    "\n",
    "When sampling our data, we should do a cap and random selection method. Here, we would take set an arbitrary range in our dataset and then randomly select within it. This is another way that we can simulate a random environment in our data and simulate it when selecting our data which will create a more generalizable model."
   ]
  },
  {
   "cell_type": "markdown",
   "metadata": {},
   "source": [
    "- Getting the data and converting it to a usable form (CSV/Pickle, etc. you choose) \n",
    "\n",
    "Optional \n",
    "\n",
    "- If someone wants to remake our genre_ids so that they are more specific (or are more than simply the genre ids given, please do!) \n",
    "\n",
    "- Other wild data sources (let's get scraping) \n",
    "\n",
    "- Converting from poster_url to the actual poster "
   ]
  },
  {
   "cell_type": "code",
   "execution_count": null,
   "metadata": {
    "collapsed": true
   },
   "outputs": [],
   "source": []
  }
 ],
 "metadata": {
  "anaconda-cloud": {},
  "kernelspec": {
   "display_name": "Python [Root]",
   "language": "python",
   "name": "Python [Root]"
  },
  "language_info": {
   "codemirror_mode": {
    "name": "ipython",
    "version": 2
   },
   "file_extension": ".py",
   "mimetype": "text/x-python",
   "name": "python",
   "nbconvert_exporter": "python",
   "pygments_lexer": "ipython2",
   "version": "2.7.12"
  }
 },
 "nbformat": 4,
 "nbformat_minor": 0
}
