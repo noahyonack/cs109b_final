{
 "cells": [
  {
   "cell_type": "code",
   "execution_count": 14,
   "metadata": {
    "collapsed": false
   },
   "outputs": [],
   "source": [
    "import pandas as pd\n",
    "import numpy as np\n",
    "import re\n",
    "import scipy.sparse as sp\n",
    "from sklearn.feature_extraction.text import CountVectorizer\n",
    "from sklearn.metrics import hamming_loss\n",
    "from sklearn.multiclass import OneVsRestClassifier\n",
    "from sklearn.multioutput import MultiOutputClassifier\n",
    "from sklearn.ensemble import RandomForestClassifier\n",
    "from sklearn.feature_extraction.text import TfidfVectorizer\n",
    "from sklearn.model_selection import KFold"
   ]
  },
  {
   "cell_type": "markdown",
   "metadata": {},
   "source": [
    "# Milestone 3: Traditional statistical and machine learning methods, due Wednesday, April 19, 2017\n",
    "\n",
    "Think about how you would address the genre prediction problem with traditional statistical or machine learning methods. This includes everything you learned about modeling in this course before the deep learning part. Implement your ideas and compare different classifiers. Report your results and discuss what challenges you faced and how you overcame them. What works and what does not? If there are parts that do not work as expected, make sure to discuss briefly what you think is the cause and how you would address this if you would have more time and resources. \n",
    "\n",
    "You do not necessarily need to use the movie posters for this step, but even without a background in computer vision, there are very simple features you can extract from the posters to help guide a traditional machine learning model. Think about the PCA lecture for example, or how to use clustering to extract color information. In addition to considering the movie posters it would be worthwhile to have a look at the metadata that IMDb provides. \n",
    "\n",
    "You could use Spark and the [ML library](https://spark.apache.org/docs/latest/ml-features.html#word2vec) to build your model features from the data. This may be especially beneficial if you use additional data, e.g., in text form.\n",
    "\n",
    "You also need to think about how you are going to evaluate your classifier. Which metrics or scores will you report to show how good the performance is?\n",
    "\n",
    "The notebook to submit this week should at least include:\n",
    "\n",
    "- Detailed description and implementation of two different models\n",
    "- Description of your performance metrics\n",
    "- Careful performance evaluations for both models\n",
    "- Visualizations of the metrics for performance evaluation\n",
    "- Discussion of the differences between the models, their strengths, weaknesses, etc. \n",
    "- Discussion of the performances you achieved, and how you might be able to improve them in the future\n",
    "\n",
    "#### Preliminary Peer Assessment\n",
    "\n",
    "It is important to provide positive feedback to people who truly worked hard for the good of the team and to also make suggestions to those you perceived not to be working as effectively on team tasks. We ask you to provide an honest assessment of the contributions of the members of your team, including yourself. The feedback you provide should reflect your judgment of each team member’s:\n",
    "\n",
    "- Preparation – were they prepared during team meetings?\n",
    "- Contribution – did they contribute productively to the team discussion and work?\n",
    "- Respect for others’ ideas – did they encourage others to contribute their ideas?\n",
    "- Flexibility – were they flexible when disagreements occurred?\n",
    "\n",
    "Your teammate’s assessment of your contributions and the accuracy of your self-assessment will be considered as part of your overall project score.\n",
    "\n",
    "Preliminary Peer Assessment: [https://goo.gl/forms/WOYC7pwRCSU0yV3l1](https://goo.gl/forms/WOYC7pwRCSU0yV3l1)"
   ]
  },
  {
   "cell_type": "markdown",
   "metadata": {},
   "source": [
    "## Questions to answer: \n",
    "\n",
    "- **What are we predicting exactly?**\n",
    "\n",
    "So, we are trying to predict movie genres. However, we have that each movie has multiple genres. This leads to the question of how we can predict multiple classifiers for the same object. This more general question is called a multilabel clasification problem. We will explore some of our specifications for this problem below. \n",
    "\n",
    "One of the best and most standard solution to do multilable classification is called \"one vs. rest\" classifiers. These classifiers create n models for each of the n labels. One of the advantages of this model is its interpretability and, for our cases, its ease. We can easily create a pipeline that then does these predictions for us. For an implementation of one vs. all, look at scikit learn: http://scikit-learn.org/dev/modules/generated/sklearn.multiclass.OneVsRestClassifier.html#sklearn.multiclass.OneVsRestClassifier\n",
    "\n",
    "We will likely be using this in our early attempts at classification. \n",
    "\n",
    "- **What does it means to be succesful? What is our metric for success?**\n",
    "\n",
    "*adapted from http://people.oregonstate.edu/~sorowerm/pdf/Qual-Multilabel-Shahed-CompleteVersion.pdf*\n",
    "\n",
    "Here are a few options for our measure of accuracy:\n",
    "\n",
    "#### Exact Match Ratio\n",
    "The exact match ratio only considers a correct answer for our multilabel data if it is exactly correct (e.g. if there are three classes, we only classify this as correct if we correctly identify all three classes.) \n",
    "\n",
    "#### Accuracy \n",
    "Accuracy is a simple way of \"goodness of prediction.\" It is defined as follows \n",
    "\n",
    "$$ \\frac{1}{n} \\sum_i^{n}  \\frac{|Y_i\\cap Z_i|}{|Y_i \\cup Z_i|}$$\n",
    "\n",
    "Where $$Y_i\\cap Z_i $$ refers to the total number of correctly predicted labels over the total number of labels for that instance. So, if for example we predicted [romance, action]  and the true labels were [romance, comedy, horror], this would receive an accuracy of 1/4 because there was one correct prediction and 4 unique labels. \n",
    "\n",
    "\n",
    "#### Hamming Loss \n",
    "The final and most common form of error for multilable predictions is hamming loss. Hamming loss takes into account both the prediction error (an incorrect error is predicted) and the missing error (a relevant lable is NOT predicted.) this is defined as follows below \n",
    "\n",
    "$$ \\text{HammingLoss, HL} = \\frac{1}{kn} \\sum_{i}^{n} \\sum_l^k [l \\in  Z_i \\wedge l \\notin Y_i)  + I(l \\notin Z_i \\wedge  l \\in Y_i)]$$\n",
    "\n",
    "*For this project, we will use the hamming loss, which is defined above.* There is a convenient function in `sklearn` to calculate hamming loss: `sklearn.metrics.hamming_loss`\n",
    "\n",
    "- What is our first modeling approach? Why? \n",
    "\n",
    "- What is our second modeling approach? Why? "
   ]
  },
  {
   "cell_type": "code",
   "execution_count": 2,
   "metadata": {
    "collapsed": false
   },
   "outputs": [
    {
     "data": {
      "text/plain": [
       "0.75"
      ]
     },
     "execution_count": 2,
     "metadata": {},
     "output_type": "execute_result"
    }
   ],
   "source": [
    "'''\n",
    "An example of hamming loss. We have true labels:\n",
    "\n",
    "[0, 1]\n",
    "[1, 1]\n",
    "\n",
    "And predicted labels:\n",
    "\n",
    "[0, 0]\n",
    "[0, 0]\n",
    "\n",
    "Hamming loss is .75\n",
    "'''\n",
    "hamming_loss(np.array([[0, 1], [1, 1]]), np.zeros((2, 2)))"
   ]
  },
  {
   "cell_type": "markdown",
   "metadata": {},
   "source": [
    "### Data Collection & Cleaning"
   ]
  },
  {
   "cell_type": "markdown",
   "metadata": {},
   "source": [
    "## Decision for dropping\n",
    "Here we choose to drop the missing data instead of imputing because it is non numerical and avereraging or finding means does not make sense in this scencario"
   ]
  },
  {
   "cell_type": "code",
   "execution_count": 46,
   "metadata": {
    "collapsed": false
   },
   "outputs": [
    {
     "name": "stdout",
     "output_type": "stream",
     "text": [
      "Dataframe shape: (537, 29)\n"
     ]
    },
    {
     "data": {
      "text/html": [
       "<div>\n",
       "<table border=\"1\" class=\"dataframe\">\n",
       "  <thead>\n",
       "    <tr style=\"text-align: right;\">\n",
       "      <th></th>\n",
       "      <th>10402</th>\n",
       "      <th>10749</th>\n",
       "      <th>10751</th>\n",
       "      <th>10752</th>\n",
       "      <th>12</th>\n",
       "      <th>14</th>\n",
       "      <th>16</th>\n",
       "      <th>18</th>\n",
       "      <th>27</th>\n",
       "      <th>28</th>\n",
       "      <th>...</th>\n",
       "      <th>lead actors</th>\n",
       "      <th>movie_id</th>\n",
       "      <th>overview</th>\n",
       "      <th>popularity</th>\n",
       "      <th>poster_path</th>\n",
       "      <th>release_date</th>\n",
       "      <th>title</th>\n",
       "      <th>video</th>\n",
       "      <th>vote_average</th>\n",
       "      <th>vote_count</th>\n",
       "    </tr>\n",
       "  </thead>\n",
       "  <tbody>\n",
       "    <tr>\n",
       "      <th>0</th>\n",
       "      <td>0</td>\n",
       "      <td>0</td>\n",
       "      <td>1</td>\n",
       "      <td>0</td>\n",
       "      <td>0</td>\n",
       "      <td>0</td>\n",
       "      <td>1</td>\n",
       "      <td>0</td>\n",
       "      <td>0</td>\n",
       "      <td>0</td>\n",
       "      <td>...</td>\n",
       "      <td>[u'Alec Baldwin', u'Miles Bakshi', u'Jimmy Kim...</td>\n",
       "      <td>295693</td>\n",
       "      <td>A story about how a new baby's arrival impacts...</td>\n",
       "      <td>305.881041</td>\n",
       "      <td>/unPB1iyEeTBcKiLg8W083rlViFH.jpg</td>\n",
       "      <td>2017-03-23</td>\n",
       "      <td>The Boss Baby</td>\n",
       "      <td>False</td>\n",
       "      <td>5.7</td>\n",
       "      <td>510</td>\n",
       "    </tr>\n",
       "  </tbody>\n",
       "</table>\n",
       "<p>1 rows × 29 columns</p>\n",
       "</div>"
      ],
      "text/plain": [
       "   10402  10749  10751  10752  12  14  16  18  27  28    ...      \\\n",
       "0      0      0      1      0   0   0   1   0   0   0    ...       \n",
       "\n",
       "                                         lead actors  movie_id  \\\n",
       "0  [u'Alec Baldwin', u'Miles Bakshi', u'Jimmy Kim...    295693   \n",
       "\n",
       "                                            overview  popularity  \\\n",
       "0  A story about how a new baby's arrival impacts...  305.881041   \n",
       "\n",
       "                        poster_path  release_date          title  video  \\\n",
       "0  /unPB1iyEeTBcKiLg8W083rlViFH.jpg    2017-03-23  The Boss Baby  False   \n",
       "\n",
       "  vote_average vote_count  \n",
       "0          5.7        510  \n",
       "\n",
       "[1 rows x 29 columns]"
      ]
     },
     "execution_count": 46,
     "metadata": {},
     "output_type": "execute_result"
    }
   ],
   "source": [
    "train = pd.read_csv(\"../data/train.csv\")\n",
    "\n",
    "# drop a rogue column\n",
    "train.drop(\"Unnamed: 0\", axis = 1, inplace = True)\n",
    "train = train.dropna(axis=0).copy()\n",
    "print \"Dataframe shape:\", train.shape\n",
    "train.head(1)"
   ]
  },
  {
   "cell_type": "code",
   "execution_count": 47,
   "metadata": {
    "collapsed": false
   },
   "outputs": [
    {
     "data": {
      "text/plain": [
       "10402           False\n",
       "10749           False\n",
       "10751           False\n",
       "10752           False\n",
       "12              False\n",
       "14              False\n",
       "16              False\n",
       "18              False\n",
       "27              False\n",
       "28              False\n",
       "35              False\n",
       "36              False\n",
       "37              False\n",
       "53              False\n",
       "80              False\n",
       "878             False\n",
       "9648            False\n",
       "adult           False\n",
       "director        False\n",
       "lead actors     False\n",
       "movie_id        False\n",
       "overview        False\n",
       "popularity      False\n",
       "poster_path     False\n",
       "release_date    False\n",
       "title           False\n",
       "video           False\n",
       "vote_average    False\n",
       "vote_count      False\n",
       "dtype: bool"
      ]
     },
     "execution_count": 47,
     "metadata": {},
     "output_type": "execute_result"
    }
   ],
   "source": [
    "# check for null values\n",
    "train.isnull().any()"
   ]
  },
  {
   "cell_type": "markdown",
   "metadata": {},
   "source": [
    "# Model 1: Random Forest\n",
    "\n",
    "Some thoughts:\n",
    "    * Random forests don't accept strings, so we'll need to vectorize all of the string variables or exclude them entirely. "
   ]
  },
  {
   "cell_type": "code",
   "execution_count": 48,
   "metadata": {
    "collapsed": false
   },
   "outputs": [
    {
     "data": {
      "text/plain": [
       "Index([u'10402', u'10749', u'10751', u'10752', u'12', u'14', u'16', u'18',\n",
       "       u'27', u'28', u'35', u'36', u'37', u'53', u'80', u'878', u'9648',\n",
       "       u'adult', u'director', u'lead actors', u'movie_id', u'overview',\n",
       "       u'popularity', u'poster_path', u'release_date', u'title', u'video',\n",
       "       u'vote_average', u'vote_count'],\n",
       "      dtype='object')"
      ]
     },
     "execution_count": 48,
     "metadata": {},
     "output_type": "execute_result"
    }
   ],
   "source": [
    "train.columns"
   ]
  },
  {
   "cell_type": "code",
   "execution_count": 49,
   "metadata": {
    "collapsed": false
   },
   "outputs": [],
   "source": [
    "string_cols = [\"director\", \"lead actors\", \"overview\", \"title\"]\n",
    "\n",
    "string_matrix = train[string_cols]"
   ]
  },
  {
   "cell_type": "code",
   "execution_count": 50,
   "metadata": {
    "collapsed": false
   },
   "outputs": [
    {
     "name": "stderr",
     "output_type": "stream",
     "text": [
      "/Users/lukeheine/anaconda/lib/python2.7/site-packages/ipykernel/__main__.py:6: SettingWithCopyWarning: \n",
      "A value is trying to be set on a copy of a slice from a DataFrame.\n",
      "Try using .loc[row_indexer,col_indexer] = value instead\n",
      "\n",
      "See the caveats in the documentation: http://pandas.pydata.org/pandas-docs/stable/indexing.html#indexing-view-versus-copy\n"
     ]
    }
   ],
   "source": [
    "# Set up helper cleaner function\n",
    "def cleaner(cell):\n",
    "    line = cell.replace('[u', '').replace(']', '').replace(',', '').replace(\"u'\", '').replace(\"'\", '')\n",
    "    line = re.sub(\"(^|\\W)\\d+($|\\W)\", \" \", line)\n",
    "    return line\n",
    "string_matrix['lead actors'] = string_matrix['lead actors'].apply(cleaner)"
   ]
  },
  {
   "cell_type": "code",
   "execution_count": 10,
   "metadata": {
    "collapsed": false
   },
   "outputs": [],
   "source": [
    "# trim trailing and leading spaces\n",
    "string_matrix = string_matrix.apply(lambda col: col.str.strip())"
   ]
  },
  {
   "cell_type": "code",
   "execution_count": 52,
   "metadata": {
    "collapsed": false
   },
   "outputs": [],
   "source": [
    "# returns output in scipi format; we want to get back to panadas\n",
    "vect = CountVectorizer(ngram_range=(1, 3))\n",
    "vect_df = sp.hstack(string_matrix.apply(lambda col: vect.fit_transform(col)))"
   ]
  },
  {
   "cell_type": "code",
   "execution_count": 58,
   "metadata": {
    "collapsed": true
   },
   "outputs": [],
   "source": [
    "# def _coo_to_sparse_series(A, dense_index=False):\n",
    "#     \"\"\" Convert a scipy.sparse.coo_matrix to a SparseSeries.\n",
    "#     Use the defaults given in the SparseSeries constructor. \"\"\"\n",
    "#     s = pd.Series(A.data, pd.MultiIndex.from_arrays((A.row, A.col)))\n",
    "#     s = s.sort_index()\n",
    "#     s = s.to_sparse()  # TODO: specify kind?\n",
    "#     # ...\n",
    "#     return s\n",
    "#_coo_to_sparse_series(vect_df)"
   ]
  },
  {
   "cell_type": "code",
   "execution_count": 15,
   "metadata": {
    "collapsed": false
   },
   "outputs": [],
   "source": [
    "labels = train.columns[:17]\n",
    "features = train.columns[17:]\n",
    "# X = train[features]\n",
    "X = train[[\"popularity\", \"vote_average\", \"vote_count\"]]"
   ]
  },
  {
   "cell_type": "code",
   "execution_count": 16,
   "metadata": {
    "collapsed": false
   },
   "outputs": [],
   "source": [
    "genre_ids_df = pd.read_csv(\"../data/genre_ids.csv\")\n",
    "genre_ids_df.drop(\"Unnamed: 0\", axis = 1, inplace = True)"
   ]
  },
  {
   "cell_type": "code",
   "execution_count": 17,
   "metadata": {
    "collapsed": false
   },
   "outputs": [
    {
     "name": "stdout",
     "output_type": "stream",
     "text": [
      "Music\n",
      "Romance\n",
      "Family\n",
      "War\n",
      "Adventure\n",
      "Fantasy\n",
      "Animation\n",
      "Drama\n",
      "Horror\n",
      "Action\n",
      "Comedy\n",
      "History\n",
      "Western\n",
      "Thriller\n",
      "Crime\n",
      "Science Fiction\n",
      "Mystery\n"
     ]
    }
   ],
   "source": [
    "for label in labels:\n",
    "    print genre_ids_df[genre_ids_df[\"id\"] == int(label)][\"genre\"].item()"
   ]
  },
  {
   "cell_type": "markdown",
   "metadata": {},
   "source": [
    "Currently, our label matrix has 17 rows, meaning that each row has 17 different labels associated with it. This is a big problem because there are 2^17 different possible combinations for each row, and, unless we have a ton of data, we likely won't see more than 1 or 2 instances of a given row from the label matrix. This will make it difficult for our classifier to learn patterns. \n",
    "\n",
    "We should probably combine similar genres to make this prediction task more teneble. \n",
    "\n",
    "How should we do this combination?"
   ]
  },
  {
   "cell_type": "markdown",
   "metadata": {},
   "source": [
    "### Evaluating the Random Forest using KFold CV"
   ]
  },
  {
   "cell_type": "code",
   "execution_count": 14,
   "metadata": {
    "collapsed": false
   },
   "outputs": [
    {
     "ename": "JoblibValueError",
     "evalue": "JoblibValueError\n___________________________________________________________________________\nMultiprocessing exception:\n...........................................................................\n/Users/lukeheine/anaconda/lib/python2.7/runpy.py in _run_module_as_main(mod_name='ipykernel.__main__', alter_argv=1)\n    169     pkg_name = mod_name.rpartition('.')[0]\n    170     main_globals = sys.modules[\"__main__\"].__dict__\n    171     if alter_argv:\n    172         sys.argv[0] = fname\n    173     return _run_code(code, main_globals, None,\n--> 174                      \"__main__\", fname, loader, pkg_name)\n        fname = '/Users/lukeheine/anaconda/lib/python2.7/site-packages/ipykernel/__main__.py'\n        loader = <pkgutil.ImpLoader instance>\n        pkg_name = 'ipykernel'\n    175 \n    176 def run_module(mod_name, init_globals=None,\n    177                run_name=None, alter_sys=False):\n    178     \"\"\"Execute a module's code without importing it\n\n...........................................................................\n/Users/lukeheine/anaconda/lib/python2.7/runpy.py in _run_code(code=<code object <module> at 0x1007d9330, file \"/Use...2.7/site-packages/ipykernel/__main__.py\", line 1>, run_globals={'__builtins__': <module '__builtin__' (built-in)>, '__doc__': None, '__file__': '/Users/lukeheine/anaconda/lib/python2.7/site-packages/ipykernel/__main__.py', '__loader__': <pkgutil.ImpLoader instance>, '__name__': '__main__', '__package__': 'ipykernel', 'app': <module 'ipykernel.kernelapp' from '/Users/lukeh...python2.7/site-packages/ipykernel/kernelapp.pyc'>}, init_globals=None, mod_name='__main__', mod_fname='/Users/lukeheine/anaconda/lib/python2.7/site-packages/ipykernel/__main__.py', mod_loader=<pkgutil.ImpLoader instance>, pkg_name='ipykernel')\n     67         run_globals.update(init_globals)\n     68     run_globals.update(__name__ = mod_name,\n     69                        __file__ = mod_fname,\n     70                        __loader__ = mod_loader,\n     71                        __package__ = pkg_name)\n---> 72     exec code in run_globals\n        code = <code object <module> at 0x1007d9330, file \"/Use...2.7/site-packages/ipykernel/__main__.py\", line 1>\n        run_globals = {'__builtins__': <module '__builtin__' (built-in)>, '__doc__': None, '__file__': '/Users/lukeheine/anaconda/lib/python2.7/site-packages/ipykernel/__main__.py', '__loader__': <pkgutil.ImpLoader instance>, '__name__': '__main__', '__package__': 'ipykernel', 'app': <module 'ipykernel.kernelapp' from '/Users/lukeh...python2.7/site-packages/ipykernel/kernelapp.pyc'>}\n     73     return run_globals\n     74 \n     75 def _run_module_code(code, init_globals=None,\n     76                     mod_name=None, mod_fname=None,\n\n...........................................................................\n/Users/lukeheine/anaconda/lib/python2.7/site-packages/ipykernel/__main__.py in <module>()\n      1 \n      2 \n----> 3 \n      4 if __name__ == '__main__':\n      5     from ipykernel import kernelapp as app\n      6     app.launch_new_instance()\n      7 \n      8 \n      9 \n     10 \n\n...........................................................................\n/Users/lukeheine/anaconda/lib/python2.7/site-packages/traitlets/config/application.py in launch_instance(cls=<class 'ipykernel.kernelapp.IPKernelApp'>, argv=None, **kwargs={})\n    591         \n    592         If a global instance already exists, this reinitializes and starts it\n    593         \"\"\"\n    594         app = cls.instance(**kwargs)\n    595         app.initialize(argv)\n--> 596         app.start()\n        app.start = <bound method IPKernelApp.start of <ipykernel.kernelapp.IPKernelApp object>>\n    597 \n    598 #-----------------------------------------------------------------------------\n    599 # utility functions, for convenience\n    600 #-----------------------------------------------------------------------------\n\n...........................................................................\n/Users/lukeheine/anaconda/lib/python2.7/site-packages/ipykernel/kernelapp.py in start(self=<ipykernel.kernelapp.IPKernelApp object>)\n    437         \n    438         if self.poller is not None:\n    439             self.poller.start()\n    440         self.kernel.start()\n    441         try:\n--> 442             ioloop.IOLoop.instance().start()\n    443         except KeyboardInterrupt:\n    444             pass\n    445 \n    446 launch_new_instance = IPKernelApp.launch_instance\n\n...........................................................................\n/Users/lukeheine/anaconda/lib/python2.7/site-packages/zmq/eventloop/ioloop.py in start(self=<zmq.eventloop.ioloop.ZMQIOLoop object>)\n    157             PollIOLoop.configure(ZMQIOLoop)\n    158         return PollIOLoop.current(*args, **kwargs)\n    159     \n    160     def start(self):\n    161         try:\n--> 162             super(ZMQIOLoop, self).start()\n        self.start = <bound method ZMQIOLoop.start of <zmq.eventloop.ioloop.ZMQIOLoop object>>\n    163         except ZMQError as e:\n    164             if e.errno == ETERM:\n    165                 # quietly return on ETERM\n    166                 pass\n\n...........................................................................\n/Users/lukeheine/anaconda/lib/python2.7/site-packages/tornado/ioloop.py in start(self=<zmq.eventloop.ioloop.ZMQIOLoop object>)\n    878                 self._events.update(event_pairs)\n    879                 while self._events:\n    880                     fd, events = self._events.popitem()\n    881                     try:\n    882                         fd_obj, handler_func = self._handlers[fd]\n--> 883                         handler_func(fd_obj, events)\n        handler_func = <function null_wrapper>\n        fd_obj = <zmq.sugar.socket.Socket object>\n        events = 1\n    884                     except (OSError, IOError) as e:\n    885                         if errno_from_exception(e) == errno.EPIPE:\n    886                             # Happens when the client closes the connection\n    887                             pass\n\n...........................................................................\n/Users/lukeheine/anaconda/lib/python2.7/site-packages/tornado/stack_context.py in null_wrapper(*args=(<zmq.sugar.socket.Socket object>, 1), **kwargs={})\n    270         # Fast path when there are no active contexts.\n    271         def null_wrapper(*args, **kwargs):\n    272             try:\n    273                 current_state = _state.contexts\n    274                 _state.contexts = cap_contexts[0]\n--> 275                 return fn(*args, **kwargs)\n        args = (<zmq.sugar.socket.Socket object>, 1)\n        kwargs = {}\n    276             finally:\n    277                 _state.contexts = current_state\n    278         null_wrapper._wrapped = True\n    279         return null_wrapper\n\n...........................................................................\n/Users/lukeheine/anaconda/lib/python2.7/site-packages/zmq/eventloop/zmqstream.py in _handle_events(self=<zmq.eventloop.zmqstream.ZMQStream object>, fd=<zmq.sugar.socket.Socket object>, events=1)\n    435             # dispatch events:\n    436             if events & IOLoop.ERROR:\n    437                 gen_log.error(\"got POLLERR event on ZMQStream, which doesn't make sense\")\n    438                 return\n    439             if events & IOLoop.READ:\n--> 440                 self._handle_recv()\n        self._handle_recv = <bound method ZMQStream._handle_recv of <zmq.eventloop.zmqstream.ZMQStream object>>\n    441                 if not self.socket:\n    442                     return\n    443             if events & IOLoop.WRITE:\n    444                 self._handle_send()\n\n...........................................................................\n/Users/lukeheine/anaconda/lib/python2.7/site-packages/zmq/eventloop/zmqstream.py in _handle_recv(self=<zmq.eventloop.zmqstream.ZMQStream object>)\n    467                 gen_log.error(\"RECV Error: %s\"%zmq.strerror(e.errno))\n    468         else:\n    469             if self._recv_callback:\n    470                 callback = self._recv_callback\n    471                 # self._recv_callback = None\n--> 472                 self._run_callback(callback, msg)\n        self._run_callback = <bound method ZMQStream._run_callback of <zmq.eventloop.zmqstream.ZMQStream object>>\n        callback = <function null_wrapper>\n        msg = [<zmq.sugar.frame.Frame object>, <zmq.sugar.frame.Frame object>, <zmq.sugar.frame.Frame object>, <zmq.sugar.frame.Frame object>, <zmq.sugar.frame.Frame object>, <zmq.sugar.frame.Frame object>, <zmq.sugar.frame.Frame object>]\n    473                 \n    474         # self.update_state()\n    475         \n    476 \n\n...........................................................................\n/Users/lukeheine/anaconda/lib/python2.7/site-packages/zmq/eventloop/zmqstream.py in _run_callback(self=<zmq.eventloop.zmqstream.ZMQStream object>, callback=<function null_wrapper>, *args=([<zmq.sugar.frame.Frame object>, <zmq.sugar.frame.Frame object>, <zmq.sugar.frame.Frame object>, <zmq.sugar.frame.Frame object>, <zmq.sugar.frame.Frame object>, <zmq.sugar.frame.Frame object>, <zmq.sugar.frame.Frame object>],), **kwargs={})\n    409         close our socket.\"\"\"\n    410         try:\n    411             # Use a NullContext to ensure that all StackContexts are run\n    412             # inside our blanket exception handler rather than outside.\n    413             with stack_context.NullContext():\n--> 414                 callback(*args, **kwargs)\n        callback = <function null_wrapper>\n        args = ([<zmq.sugar.frame.Frame object>, <zmq.sugar.frame.Frame object>, <zmq.sugar.frame.Frame object>, <zmq.sugar.frame.Frame object>, <zmq.sugar.frame.Frame object>, <zmq.sugar.frame.Frame object>, <zmq.sugar.frame.Frame object>],)\n        kwargs = {}\n    415         except:\n    416             gen_log.error(\"Uncaught exception, closing connection.\",\n    417                           exc_info=True)\n    418             # Close the socket on an uncaught exception from a user callback\n\n...........................................................................\n/Users/lukeheine/anaconda/lib/python2.7/site-packages/tornado/stack_context.py in null_wrapper(*args=([<zmq.sugar.frame.Frame object>, <zmq.sugar.frame.Frame object>, <zmq.sugar.frame.Frame object>, <zmq.sugar.frame.Frame object>, <zmq.sugar.frame.Frame object>, <zmq.sugar.frame.Frame object>, <zmq.sugar.frame.Frame object>],), **kwargs={})\n    270         # Fast path when there are no active contexts.\n    271         def null_wrapper(*args, **kwargs):\n    272             try:\n    273                 current_state = _state.contexts\n    274                 _state.contexts = cap_contexts[0]\n--> 275                 return fn(*args, **kwargs)\n        args = ([<zmq.sugar.frame.Frame object>, <zmq.sugar.frame.Frame object>, <zmq.sugar.frame.Frame object>, <zmq.sugar.frame.Frame object>, <zmq.sugar.frame.Frame object>, <zmq.sugar.frame.Frame object>, <zmq.sugar.frame.Frame object>],)\n        kwargs = {}\n    276             finally:\n    277                 _state.contexts = current_state\n    278         null_wrapper._wrapped = True\n    279         return null_wrapper\n\n...........................................................................\n/Users/lukeheine/anaconda/lib/python2.7/site-packages/ipykernel/kernelbase.py in dispatcher(msg=[<zmq.sugar.frame.Frame object>, <zmq.sugar.frame.Frame object>, <zmq.sugar.frame.Frame object>, <zmq.sugar.frame.Frame object>, <zmq.sugar.frame.Frame object>, <zmq.sugar.frame.Frame object>, <zmq.sugar.frame.Frame object>])\n    271         if self.control_stream:\n    272             self.control_stream.on_recv(self.dispatch_control, copy=False)\n    273 \n    274         def make_dispatcher(stream):\n    275             def dispatcher(msg):\n--> 276                 return self.dispatch_shell(stream, msg)\n        msg = [<zmq.sugar.frame.Frame object>, <zmq.sugar.frame.Frame object>, <zmq.sugar.frame.Frame object>, <zmq.sugar.frame.Frame object>, <zmq.sugar.frame.Frame object>, <zmq.sugar.frame.Frame object>, <zmq.sugar.frame.Frame object>]\n    277             return dispatcher\n    278 \n    279         for s in self.shell_streams:\n    280             s.on_recv(make_dispatcher(s), copy=False)\n\n...........................................................................\n/Users/lukeheine/anaconda/lib/python2.7/site-packages/ipykernel/kernelbase.py in dispatch_shell(self=<ipykernel.ipkernel.IPythonKernel object>, stream=<zmq.eventloop.zmqstream.ZMQStream object>, msg={'buffers': [], 'content': {u'allow_stdin': True, u'code': u'h_losses = []\\n\\nfor train_ind, test_ind in KF...ss(y_test, preds))\\n\\nprint np.average(h_losses)', u'silent': False, u'stop_on_error': True, u'store_history': True, u'user_expressions': {}}, 'header': {'date': '2017-04-17T18:44:03.266246', u'msg_id': u'5CE6A889B5A140E68EC535D5185F09B6', u'msg_type': u'execute_request', u'session': u'871CD4C125F048C78506D6B7133B8D61', u'username': u'username', u'version': u'5.0'}, 'metadata': {}, 'msg_id': u'5CE6A889B5A140E68EC535D5185F09B6', 'msg_type': u'execute_request', 'parent_header': {}})\n    223             self.log.error(\"UNKNOWN MESSAGE TYPE: %r\", msg_type)\n    224         else:\n    225             self.log.debug(\"%s: %s\", msg_type, msg)\n    226             self.pre_handler_hook()\n    227             try:\n--> 228                 handler(stream, idents, msg)\n        handler = <bound method IPythonKernel.execute_request of <ipykernel.ipkernel.IPythonKernel object>>\n        stream = <zmq.eventloop.zmqstream.ZMQStream object>\n        idents = ['871CD4C125F048C78506D6B7133B8D61']\n        msg = {'buffers': [], 'content': {u'allow_stdin': True, u'code': u'h_losses = []\\n\\nfor train_ind, test_ind in KF...ss(y_test, preds))\\n\\nprint np.average(h_losses)', u'silent': False, u'stop_on_error': True, u'store_history': True, u'user_expressions': {}}, 'header': {'date': '2017-04-17T18:44:03.266246', u'msg_id': u'5CE6A889B5A140E68EC535D5185F09B6', u'msg_type': u'execute_request', u'session': u'871CD4C125F048C78506D6B7133B8D61', u'username': u'username', u'version': u'5.0'}, 'metadata': {}, 'msg_id': u'5CE6A889B5A140E68EC535D5185F09B6', 'msg_type': u'execute_request', 'parent_header': {}}\n    229             except Exception:\n    230                 self.log.error(\"Exception in message handler:\", exc_info=True)\n    231             finally:\n    232                 self.post_handler_hook()\n\n...........................................................................\n/Users/lukeheine/anaconda/lib/python2.7/site-packages/ipykernel/kernelbase.py in execute_request(self=<ipykernel.ipkernel.IPythonKernel object>, stream=<zmq.eventloop.zmqstream.ZMQStream object>, ident=['871CD4C125F048C78506D6B7133B8D61'], parent={'buffers': [], 'content': {u'allow_stdin': True, u'code': u'h_losses = []\\n\\nfor train_ind, test_ind in KF...ss(y_test, preds))\\n\\nprint np.average(h_losses)', u'silent': False, u'stop_on_error': True, u'store_history': True, u'user_expressions': {}}, 'header': {'date': '2017-04-17T18:44:03.266246', u'msg_id': u'5CE6A889B5A140E68EC535D5185F09B6', u'msg_type': u'execute_request', u'session': u'871CD4C125F048C78506D6B7133B8D61', u'username': u'username', u'version': u'5.0'}, 'metadata': {}, 'msg_id': u'5CE6A889B5A140E68EC535D5185F09B6', 'msg_type': u'execute_request', 'parent_header': {}})\n    386         if not silent:\n    387             self.execution_count += 1\n    388             self._publish_execute_input(code, parent, self.execution_count)\n    389 \n    390         reply_content = self.do_execute(code, silent, store_history,\n--> 391                                         user_expressions, allow_stdin)\n        user_expressions = {}\n        allow_stdin = True\n    392 \n    393         # Flush output before sending the reply.\n    394         sys.stdout.flush()\n    395         sys.stderr.flush()\n\n...........................................................................\n/Users/lukeheine/anaconda/lib/python2.7/site-packages/ipykernel/ipkernel.py in do_execute(self=<ipykernel.ipkernel.IPythonKernel object>, code=u'h_losses = []\\n\\nfor train_ind, test_ind in KF...ss(y_test, preds))\\n\\nprint np.average(h_losses)', silent=False, store_history=True, user_expressions={}, allow_stdin=True)\n    194 \n    195         reply_content = {}\n    196         # FIXME: the shell calls the exception handler itself.\n    197         shell._reply_content = None\n    198         try:\n--> 199             shell.run_cell(code, store_history=store_history, silent=silent)\n        shell.run_cell = <bound method ZMQInteractiveShell.run_cell of <ipykernel.zmqshell.ZMQInteractiveShell object>>\n        code = u'h_losses = []\\n\\nfor train_ind, test_ind in KF...ss(y_test, preds))\\n\\nprint np.average(h_losses)'\n        store_history = True\n        silent = False\n    200         except:\n    201             status = u'error'\n    202             # FIXME: this code right now isn't being used yet by default,\n    203             # because the run_cell() call above directly fires off exception\n\n...........................................................................\n/Users/lukeheine/anaconda/lib/python2.7/site-packages/IPython/core/interactiveshell.py in run_cell(self=<ipykernel.zmqshell.ZMQInteractiveShell object>, raw_cell=u'h_losses = []\\n\\nfor train_ind, test_ind in KF...ss(y_test, preds))\\n\\nprint np.average(h_losses)', store_history=True, silent=False, shell_futures=True)\n   2718                 self.displayhook.exec_result = result\n   2719 \n   2720                 # Execute the user code\n   2721                 interactivity = \"none\" if silent else self.ast_node_interactivity\n   2722                 self.run_ast_nodes(code_ast.body, cell_name,\n-> 2723                    interactivity=interactivity, compiler=compiler, result=result)\n        interactivity = 'last_expr'\n        compiler = <IPython.core.compilerop.CachingCompiler instance>\n   2724 \n   2725                 # Reset this so later displayed values do not modify the\n   2726                 # ExecutionResult\n   2727                 self.displayhook.exec_result = None\n\n...........................................................................\n/Users/lukeheine/anaconda/lib/python2.7/site-packages/IPython/core/interactiveshell.py in run_ast_nodes(self=<ipykernel.zmqshell.ZMQInteractiveShell object>, nodelist=[<_ast.Assign object>, <_ast.For object>, <_ast.Print object>], cell_name='<ipython-input-14-24a9d15aca99>', interactivity='none', compiler=<IPython.core.compilerop.CachingCompiler instance>, result=<IPython.core.interactiveshell.ExecutionResult object>)\n   2820 \n   2821         try:\n   2822             for i, node in enumerate(to_run_exec):\n   2823                 mod = ast.Module([node])\n   2824                 code = compiler(mod, cell_name, \"exec\")\n-> 2825                 if self.run_code(code, result):\n        self.run_code = <bound method ZMQInteractiveShell.run_code of <ipykernel.zmqshell.ZMQInteractiveShell object>>\n        code = <code object <module> at 0x10ec92730, file \"<ipython-input-14-24a9d15aca99>\", line 3>\n        result = <IPython.core.interactiveshell.ExecutionResult object>\n   2826                     return True\n   2827 \n   2828             for i, node in enumerate(to_run_interactive):\n   2829                 mod = ast.Interactive([node])\n\n...........................................................................\n/Users/lukeheine/anaconda/lib/python2.7/site-packages/IPython/core/interactiveshell.py in run_code(self=<ipykernel.zmqshell.ZMQInteractiveShell object>, code_obj=<code object <module> at 0x10ec92730, file \"<ipython-input-14-24a9d15aca99>\", line 3>, result=<IPython.core.interactiveshell.ExecutionResult object>)\n   2880         outflag = 1  # happens in more places, so it's easier as default\n   2881         try:\n   2882             try:\n   2883                 self.hooks.pre_run_code_hook()\n   2884                 #rprint('Running code', repr(code_obj)) # dbg\n-> 2885                 exec(code_obj, self.user_global_ns, self.user_ns)\n        code_obj = <code object <module> at 0x10ec92730, file \"<ipython-input-14-24a9d15aca99>\", line 3>\n        self.user_global_ns = {'In': ['', u'import pandas as pd\\nimport numpy as np\\nimpor...zer\\n\\nfrom sklearn.model_selection import KFold', u\"'''\\nAn example of hamming loss. We have true ...ss(np.array([[0, 1], [1, 1]]), np.zeros((2, 2)))\", u'train = pd.read_csv(\"../data/train.csv\")\\n\\n# ...t \"Dataframe shape:\", train.shape\\ntrain.head(1)', u'# check for null values\\ntrain.isnull().sum()', u'train.columns', u'string_cols = [\"director\", \"lead actors\", \"ove...w\", \"title\"]\\nstring_matrix = train[string_cols]', u'# Set up helper cleaner function\\ndef cleaner(... = string_matrix[\\'lead actors\\'].apply(cleaner)', u'labels = train.columns[:17]\\nfeatures = train....in[[\"popularity\", \"vote_average\", \"vote_count\"]]', u'string_matrix', u'labels = train.columns[:17]\\nfeatures = train....in[[\"popularity\", \"vote_average\", \"vote_count\"]]', u'genre_ids_df = pd.read_csv(\"../data/genre_ids...._df.drop(\"Unnamed: 0\", axis = 1, inplace = True)', u'for label in labels:\\n    print genre_ids_df[genre_ids_df[\"id\"] == int(label)][\"genre\"].item()', u'h_losses = []\\n\\nfor train_ind, test_ind in KF...ss(y_test, preds))\\n\\nprint np.average(h_losses)', u'h_losses = []\\n\\nfor train_ind, test_ind in KF...ss(y_test, preds))\\n\\nprint np.average(h_losses)'], 'KFold': <class 'sklearn.model_selection._split.KFold'>, 'MultiOutputClassifier': <class 'sklearn.multioutput.MultiOutputClassifier'>, 'OneVsRestClassifier': <class 'sklearn.multiclass.OneVsRestClassifier'>, 'Out': {2: 0.75, 3:    10402  10749  10751  10752  12  14  16  18  2...          5.7        510  \n\n[1 rows x 29 columns], 4: 10402           0\n10749           0\n10751       ...\nvote_average    0\nvote_count      0\ndtype: int64, 5: Index([u'10402', u'10749', u'10751', u'10752', u...e_average', u'vote_count'],\n      dtype='object'), 9:                     director  \\\n0               ...         Going in Style  \n\n[540 rows x 4 columns]}, 'RandomForestClassifier': <class 'sklearn.ensemble.forest.RandomForestClassifier'>, 'TfidfVectorizer': <class 'sklearn.feature_extraction.text.TfidfVectorizer'>, 'X':      popularity  vote_average  vote_count\n0    3...          5.9          25\n\n[540 rows x 3 columns], 'X_test':      popularity  vote_average  vote_count\n0    3...          6.5         290\n\n[108 rows x 3 columns], 'X_train':      popularity  vote_average  vote_count\n108   ...          5.9          25\n\n[432 rows x 3 columns], ...}\n        self.user_ns = {'In': ['', u'import pandas as pd\\nimport numpy as np\\nimpor...zer\\n\\nfrom sklearn.model_selection import KFold', u\"'''\\nAn example of hamming loss. We have true ...ss(np.array([[0, 1], [1, 1]]), np.zeros((2, 2)))\", u'train = pd.read_csv(\"../data/train.csv\")\\n\\n# ...t \"Dataframe shape:\", train.shape\\ntrain.head(1)', u'# check for null values\\ntrain.isnull().sum()', u'train.columns', u'string_cols = [\"director\", \"lead actors\", \"ove...w\", \"title\"]\\nstring_matrix = train[string_cols]', u'# Set up helper cleaner function\\ndef cleaner(... = string_matrix[\\'lead actors\\'].apply(cleaner)', u'labels = train.columns[:17]\\nfeatures = train....in[[\"popularity\", \"vote_average\", \"vote_count\"]]', u'string_matrix', u'labels = train.columns[:17]\\nfeatures = train....in[[\"popularity\", \"vote_average\", \"vote_count\"]]', u'genre_ids_df = pd.read_csv(\"../data/genre_ids...._df.drop(\"Unnamed: 0\", axis = 1, inplace = True)', u'for label in labels:\\n    print genre_ids_df[genre_ids_df[\"id\"] == int(label)][\"genre\"].item()', u'h_losses = []\\n\\nfor train_ind, test_ind in KF...ss(y_test, preds))\\n\\nprint np.average(h_losses)', u'h_losses = []\\n\\nfor train_ind, test_ind in KF...ss(y_test, preds))\\n\\nprint np.average(h_losses)'], 'KFold': <class 'sklearn.model_selection._split.KFold'>, 'MultiOutputClassifier': <class 'sklearn.multioutput.MultiOutputClassifier'>, 'OneVsRestClassifier': <class 'sklearn.multiclass.OneVsRestClassifier'>, 'Out': {2: 0.75, 3:    10402  10749  10751  10752  12  14  16  18  2...          5.7        510  \n\n[1 rows x 29 columns], 4: 10402           0\n10749           0\n10751       ...\nvote_average    0\nvote_count      0\ndtype: int64, 5: Index([u'10402', u'10749', u'10751', u'10752', u...e_average', u'vote_count'],\n      dtype='object'), 9:                     director  \\\n0               ...         Going in Style  \n\n[540 rows x 4 columns]}, 'RandomForestClassifier': <class 'sklearn.ensemble.forest.RandomForestClassifier'>, 'TfidfVectorizer': <class 'sklearn.feature_extraction.text.TfidfVectorizer'>, 'X':      popularity  vote_average  vote_count\n0    3...          5.9          25\n\n[540 rows x 3 columns], 'X_test':      popularity  vote_average  vote_count\n0    3...          6.5         290\n\n[108 rows x 3 columns], 'X_train':      popularity  vote_average  vote_count\n108   ...          5.9          25\n\n[432 rows x 3 columns], ...}\n   2886             finally:\n   2887                 # Reset our crash handler in place\n   2888                 sys.excepthook = old_excepthook\n   2889         except SystemExit as e:\n\n...........................................................................\n/Users/lukeheine/Desktop/milestone_1/cs109b_final/milestone_3/<ipython-input-14-24a9d15aca99> in <module>()\n      9     # instantiate the classifier (n_jobs = -1 tells it)\n     10     # to fit using all CPUs\n     11     multi_target_forest = MultiOutputClassifier(forest, n_jobs=-1)\n     12 \n     13     # fit the multi-target random forest\n---> 14     fitted_forest = multi_target_forest.fit(X_train, y_train)\n     15 \n     16     # predict the label matrix\n     17     preds = fitted_forest.predict(X_test)\n     18     h_losses.append(hamming_loss(y_test, preds))\n\n...........................................................................\n/Users/lukeheine/anaconda/lib/python2.7/site-packages/sklearn/multioutput.py in fit(self=MultiOutputClassifier(estimator=RandomForestClas...rbose=0, warm_start=False),\n           n_jobs=-1), X=array([[  9.06732600e+00,   8.40000000e+00,   4....093400e+00,   5.90000000e+00,   2.50000000e+01]]), y=array([[  9.06732600e+00,   8.40000000e+00,   4....093400e+00,   5.90000000e+00,   2.50000000e+01]]), sample_weight=None)\n     82                 not has_fit_parameter(self.estimator, 'sample_weight')):\n     83             raise ValueError(\"Underlying regressor does not support\"\n     84                              \" sample weights.\")\n     85 \n     86         self.estimators_ = Parallel(n_jobs=self.n_jobs)(delayed(_fit_estimator)(\n---> 87             self.estimator, X, y[:, i], sample_weight) for i in range(y.shape[1]))\n        self.estimator = RandomForestClassifier(bootstrap=True, class_wei...ate=109,\n            verbose=0, warm_start=False)\n        X = array([[  9.06732600e+00,   8.40000000e+00,   4....093400e+00,   5.90000000e+00,   2.50000000e+01]])\n        y = array([[  9.06732600e+00,   8.40000000e+00,   4....093400e+00,   5.90000000e+00,   2.50000000e+01]])\n        sample_weight = None\n        y.shape = (432, 3)\n     88         return self\n     89 \n     90     def predict(self, X):\n     91         \"\"\"Predict multi-output variable using a model\n\n...........................................................................\n/Users/lukeheine/anaconda/lib/python2.7/site-packages/sklearn/externals/joblib/parallel.py in __call__(self=Parallel(n_jobs=-1), iterable=<generator object <genexpr>>)\n    763             if pre_dispatch == \"all\" or n_jobs == 1:\n    764                 # The iterable was consumed all at once by the above for loop.\n    765                 # No need to wait for async callbacks to trigger to\n    766                 # consumption.\n    767                 self._iterating = False\n--> 768             self.retrieve()\n        self.retrieve = <bound method Parallel.retrieve of Parallel(n_jobs=-1)>\n    769             # Make sure that we get a last message telling us we are done\n    770             elapsed_time = time.time() - self._start_time\n    771             self._print('Done %3i out of %3i | elapsed: %s finished',\n    772                         (len(self._output), len(self._output),\n\n---------------------------------------------------------------------------\nSub-process traceback:\n---------------------------------------------------------------------------\nValueError                                         Mon Apr 17 18:44:03 2017\nPID: 45912              Python 2.7.12: /Users/lukeheine/anaconda/bin/python\n...........................................................................\n/Users/lukeheine/anaconda/lib/python2.7/site-packages/sklearn/externals/joblib/parallel.py in __call__(self=<sklearn.externals.joblib.parallel.BatchedCalls object>)\n    126     def __init__(self, iterator_slice):\n    127         self.items = list(iterator_slice)\n    128         self._size = len(self.items)\n    129 \n    130     def __call__(self):\n--> 131         return [func(*args, **kwargs) for func, args, kwargs in self.items]\n        func = <function _fit_estimator>\n        args = (RandomForestClassifier(bootstrap=True, class_wei...ate=109,\n            verbose=0, warm_start=False), array([[  9.06732600e+00,   8.40000000e+00,   4....093400e+00,   5.90000000e+00,   2.50000000e+01]]), array([ 9.067326,  9.017647,  9.007006,  9.00585...319,  4.648093,  4.648079,  4.643147,  4.640934]), None)\n        kwargs = {}\n        self.items = [(<function _fit_estimator>, (RandomForestClassifier(bootstrap=True, class_wei...ate=109,\n            verbose=0, warm_start=False), array([[  9.06732600e+00,   8.40000000e+00,   4....093400e+00,   5.90000000e+00,   2.50000000e+01]]), array([ 9.067326,  9.017647,  9.007006,  9.00585...319,  4.648093,  4.648079,  4.643147,  4.640934]), None), {})]\n    132 \n    133     def __len__(self):\n    134         return self._size\n    135 \n\n...........................................................................\n/Users/lukeheine/anaconda/lib/python2.7/site-packages/sklearn/multioutput.py in _fit_estimator(estimator=RandomForestClassifier(bootstrap=True, class_wei...ate=109,\n            verbose=0, warm_start=False), X=array([[  9.06732600e+00,   8.40000000e+00,   4....093400e+00,   5.90000000e+00,   2.50000000e+01]]), y=array([ 9.067326,  9.017647,  9.007006,  9.00585...319,  4.648093,  4.648079,  4.643147,  4.640934]), sample_weight=None)\n     31 def _fit_estimator(estimator, X, y, sample_weight=None):\n     32     estimator = clone(estimator)\n     33     if sample_weight is not None:\n     34         estimator.fit(X, y, sample_weight=sample_weight)\n     35     else:\n---> 36         estimator.fit(X, y)\n        estimator.fit = <bound method RandomForestClassifier.fit of Rand...te=109,\n            verbose=0, warm_start=False)>\n        X = array([[  9.06732600e+00,   8.40000000e+00,   4....093400e+00,   5.90000000e+00,   2.50000000e+01]])\n        y = array([ 9.067326,  9.017647,  9.007006,  9.00585...319,  4.648093,  4.648079,  4.643147,  4.640934])\n     37     return estimator\n     38 \n     39 \n     40 class MultiOutputEstimator(six.with_metaclass(ABCMeta, BaseEstimator)):\n\n...........................................................................\n/Users/lukeheine/anaconda/lib/python2.7/site-packages/sklearn/ensemble/forest.py in fit(self=RandomForestClassifier(bootstrap=True, class_wei...ate=109,\n            verbose=0, warm_start=False), X=array([[  9.06732559e+00,   8.39999962e+00,   4.....90000010e+00,   2.50000000e+01]], dtype=float32), y=array([[ 9.067326],\n       [ 9.017647],\n       [...648079],\n       [ 4.643147],\n       [ 4.640934]]), sample_weight=None)\n    266             # [:, np.newaxis] that does not.\n    267             y = np.reshape(y, (-1, 1))\n    268 \n    269         self.n_outputs_ = y.shape[1]\n    270 \n--> 271         y, expanded_class_weight = self._validate_y_class_weight(y)\n        y = array([[ 9.067326],\n       [ 9.017647],\n       [...648079],\n       [ 4.643147],\n       [ 4.640934]])\n        expanded_class_weight = undefined\n        self._validate_y_class_weight = <bound method RandomForestClassifier._validate_y...te=109,\n            verbose=0, warm_start=False)>\n    272 \n    273         if getattr(y, \"dtype\", None) != DOUBLE or not y.flags.contiguous:\n    274             y = np.ascontiguousarray(y, dtype=DOUBLE)\n    275 \n\n...........................................................................\n/Users/lukeheine/anaconda/lib/python2.7/site-packages/sklearn/ensemble/forest.py in _validate_y_class_weight(self=RandomForestClassifier(bootstrap=True, class_wei...ate=109,\n            verbose=0, warm_start=False), y=array([[ 9.067326],\n       [ 9.017647],\n       [...648079],\n       [ 4.643147],\n       [ 4.640934]]))\n    452             self.oob_decision_function_ = oob_decision_function\n    453 \n    454         self.oob_score_ = oob_score / self.n_outputs_\n    455 \n    456     def _validate_y_class_weight(self, y):\n--> 457         check_classification_targets(y)\n        y = array([[ 9.067326],\n       [ 9.017647],\n       [...648079],\n       [ 4.643147],\n       [ 4.640934]])\n    458 \n    459         y = np.copy(y)\n    460         expanded_class_weight = None\n    461 \n\n...........................................................................\n/Users/lukeheine/anaconda/lib/python2.7/site-packages/sklearn/utils/multiclass.py in check_classification_targets(y=array([[ 9.067326],\n       [ 9.017647],\n       [...648079],\n       [ 4.643147],\n       [ 4.640934]]))\n    167     y : array-like\n    168     \"\"\"\n    169     y_type = type_of_target(y)\n    170     if y_type not in ['binary', 'multiclass', 'multiclass-multioutput',\n    171             'multilabel-indicator', 'multilabel-sequences']:\n--> 172         raise ValueError(\"Unknown label type: %r\" % y_type)\n        y_type = 'continuous'\n    173 \n    174 \n    175 \n    176 def type_of_target(y):\n\nValueError: Unknown label type: 'continuous'\n___________________________________________________________________________",
     "output_type": "error",
     "traceback": [
      "\u001b[0;31m---------------------------------------------------------------------------\u001b[0m",
      "\u001b[0;31mJoblibValueError\u001b[0m                          Traceback (most recent call last)",
      "\u001b[0;32m<ipython-input-14-24a9d15aca99>\u001b[0m in \u001b[0;36m<module>\u001b[0;34m()\u001b[0m\n\u001b[1;32m     12\u001b[0m \u001b[0;34m\u001b[0m\u001b[0m\n\u001b[1;32m     13\u001b[0m     \u001b[0;31m# fit the multi-target random forest\u001b[0m\u001b[0;34m\u001b[0m\u001b[0;34m\u001b[0m\u001b[0m\n\u001b[0;32m---> 14\u001b[0;31m     \u001b[0mfitted_forest\u001b[0m \u001b[0;34m=\u001b[0m \u001b[0mmulti_target_forest\u001b[0m\u001b[0;34m.\u001b[0m\u001b[0mfit\u001b[0m\u001b[0;34m(\u001b[0m\u001b[0mX_train\u001b[0m\u001b[0;34m,\u001b[0m \u001b[0my_train\u001b[0m\u001b[0;34m)\u001b[0m\u001b[0;34m\u001b[0m\u001b[0m\n\u001b[0m\u001b[1;32m     15\u001b[0m \u001b[0;34m\u001b[0m\u001b[0m\n\u001b[1;32m     16\u001b[0m     \u001b[0;31m# predict the label matrix\u001b[0m\u001b[0;34m\u001b[0m\u001b[0;34m\u001b[0m\u001b[0m\n",
      "\u001b[0;32m/Users/lukeheine/anaconda/lib/python2.7/site-packages/sklearn/multioutput.pyc\u001b[0m in \u001b[0;36mfit\u001b[0;34m(self, X, y, sample_weight)\u001b[0m\n\u001b[1;32m     85\u001b[0m \u001b[0;34m\u001b[0m\u001b[0m\n\u001b[1;32m     86\u001b[0m         self.estimators_ = Parallel(n_jobs=self.n_jobs)(delayed(_fit_estimator)(\n\u001b[0;32m---> 87\u001b[0;31m             self.estimator, X, y[:, i], sample_weight) for i in range(y.shape[1]))\n\u001b[0m\u001b[1;32m     88\u001b[0m         \u001b[0;32mreturn\u001b[0m \u001b[0mself\u001b[0m\u001b[0;34m\u001b[0m\u001b[0m\n\u001b[1;32m     89\u001b[0m \u001b[0;34m\u001b[0m\u001b[0m\n",
      "\u001b[0;32m/Users/lukeheine/anaconda/lib/python2.7/site-packages/sklearn/externals/joblib/parallel.pyc\u001b[0m in \u001b[0;36m__call__\u001b[0;34m(self, iterable)\u001b[0m\n\u001b[1;32m    766\u001b[0m                 \u001b[0;31m# consumption.\u001b[0m\u001b[0;34m\u001b[0m\u001b[0;34m\u001b[0m\u001b[0m\n\u001b[1;32m    767\u001b[0m                 \u001b[0mself\u001b[0m\u001b[0;34m.\u001b[0m\u001b[0m_iterating\u001b[0m \u001b[0;34m=\u001b[0m \u001b[0mFalse\u001b[0m\u001b[0;34m\u001b[0m\u001b[0m\n\u001b[0;32m--> 768\u001b[0;31m             \u001b[0mself\u001b[0m\u001b[0;34m.\u001b[0m\u001b[0mretrieve\u001b[0m\u001b[0;34m(\u001b[0m\u001b[0;34m)\u001b[0m\u001b[0;34m\u001b[0m\u001b[0m\n\u001b[0m\u001b[1;32m    769\u001b[0m             \u001b[0;31m# Make sure that we get a last message telling us we are done\u001b[0m\u001b[0;34m\u001b[0m\u001b[0;34m\u001b[0m\u001b[0m\n\u001b[1;32m    770\u001b[0m             \u001b[0melapsed_time\u001b[0m \u001b[0;34m=\u001b[0m \u001b[0mtime\u001b[0m\u001b[0;34m.\u001b[0m\u001b[0mtime\u001b[0m\u001b[0;34m(\u001b[0m\u001b[0;34m)\u001b[0m \u001b[0;34m-\u001b[0m \u001b[0mself\u001b[0m\u001b[0;34m.\u001b[0m\u001b[0m_start_time\u001b[0m\u001b[0;34m\u001b[0m\u001b[0m\n",
      "\u001b[0;32m/Users/lukeheine/anaconda/lib/python2.7/site-packages/sklearn/externals/joblib/parallel.pyc\u001b[0m in \u001b[0;36mretrieve\u001b[0;34m(self)\u001b[0m\n\u001b[1;32m    717\u001b[0m                     \u001b[0mensure_ready\u001b[0m \u001b[0;34m=\u001b[0m \u001b[0mself\u001b[0m\u001b[0;34m.\u001b[0m\u001b[0m_managed_backend\u001b[0m\u001b[0;34m\u001b[0m\u001b[0m\n\u001b[1;32m    718\u001b[0m                     \u001b[0mbackend\u001b[0m\u001b[0;34m.\u001b[0m\u001b[0mabort_everything\u001b[0m\u001b[0;34m(\u001b[0m\u001b[0mensure_ready\u001b[0m\u001b[0;34m=\u001b[0m\u001b[0mensure_ready\u001b[0m\u001b[0;34m)\u001b[0m\u001b[0;34m\u001b[0m\u001b[0m\n\u001b[0;32m--> 719\u001b[0;31m                 \u001b[0;32mraise\u001b[0m \u001b[0mexception\u001b[0m\u001b[0;34m\u001b[0m\u001b[0m\n\u001b[0m\u001b[1;32m    720\u001b[0m \u001b[0;34m\u001b[0m\u001b[0m\n\u001b[1;32m    721\u001b[0m     \u001b[0;32mdef\u001b[0m \u001b[0m__call__\u001b[0m\u001b[0;34m(\u001b[0m\u001b[0mself\u001b[0m\u001b[0;34m,\u001b[0m \u001b[0miterable\u001b[0m\u001b[0;34m)\u001b[0m\u001b[0;34m:\u001b[0m\u001b[0;34m\u001b[0m\u001b[0m\n",
      "\u001b[0;31mJoblibValueError\u001b[0m: JoblibValueError\n___________________________________________________________________________\nMultiprocessing exception:\n...........................................................................\n/Users/lukeheine/anaconda/lib/python2.7/runpy.py in _run_module_as_main(mod_name='ipykernel.__main__', alter_argv=1)\n    169     pkg_name = mod_name.rpartition('.')[0]\n    170     main_globals = sys.modules[\"__main__\"].__dict__\n    171     if alter_argv:\n    172         sys.argv[0] = fname\n    173     return _run_code(code, main_globals, None,\n--> 174                      \"__main__\", fname, loader, pkg_name)\n        fname = '/Users/lukeheine/anaconda/lib/python2.7/site-packages/ipykernel/__main__.py'\n        loader = <pkgutil.ImpLoader instance>\n        pkg_name = 'ipykernel'\n    175 \n    176 def run_module(mod_name, init_globals=None,\n    177                run_name=None, alter_sys=False):\n    178     \"\"\"Execute a module's code without importing it\n\n...........................................................................\n/Users/lukeheine/anaconda/lib/python2.7/runpy.py in _run_code(code=<code object <module> at 0x1007d9330, file \"/Use...2.7/site-packages/ipykernel/__main__.py\", line 1>, run_globals={'__builtins__': <module '__builtin__' (built-in)>, '__doc__': None, '__file__': '/Users/lukeheine/anaconda/lib/python2.7/site-packages/ipykernel/__main__.py', '__loader__': <pkgutil.ImpLoader instance>, '__name__': '__main__', '__package__': 'ipykernel', 'app': <module 'ipykernel.kernelapp' from '/Users/lukeh...python2.7/site-packages/ipykernel/kernelapp.pyc'>}, init_globals=None, mod_name='__main__', mod_fname='/Users/lukeheine/anaconda/lib/python2.7/site-packages/ipykernel/__main__.py', mod_loader=<pkgutil.ImpLoader instance>, pkg_name='ipykernel')\n     67         run_globals.update(init_globals)\n     68     run_globals.update(__name__ = mod_name,\n     69                        __file__ = mod_fname,\n     70                        __loader__ = mod_loader,\n     71                        __package__ = pkg_name)\n---> 72     exec code in run_globals\n        code = <code object <module> at 0x1007d9330, file \"/Use...2.7/site-packages/ipykernel/__main__.py\", line 1>\n        run_globals = {'__builtins__': <module '__builtin__' (built-in)>, '__doc__': None, '__file__': '/Users/lukeheine/anaconda/lib/python2.7/site-packages/ipykernel/__main__.py', '__loader__': <pkgutil.ImpLoader instance>, '__name__': '__main__', '__package__': 'ipykernel', 'app': <module 'ipykernel.kernelapp' from '/Users/lukeh...python2.7/site-packages/ipykernel/kernelapp.pyc'>}\n     73     return run_globals\n     74 \n     75 def _run_module_code(code, init_globals=None,\n     76                     mod_name=None, mod_fname=None,\n\n...........................................................................\n/Users/lukeheine/anaconda/lib/python2.7/site-packages/ipykernel/__main__.py in <module>()\n      1 \n      2 \n----> 3 \n      4 if __name__ == '__main__':\n      5     from ipykernel import kernelapp as app\n      6     app.launch_new_instance()\n      7 \n      8 \n      9 \n     10 \n\n...........................................................................\n/Users/lukeheine/anaconda/lib/python2.7/site-packages/traitlets/config/application.py in launch_instance(cls=<class 'ipykernel.kernelapp.IPKernelApp'>, argv=None, **kwargs={})\n    591         \n    592         If a global instance already exists, this reinitializes and starts it\n    593         \"\"\"\n    594         app = cls.instance(**kwargs)\n    595         app.initialize(argv)\n--> 596         app.start()\n        app.start = <bound method IPKernelApp.start of <ipykernel.kernelapp.IPKernelApp object>>\n    597 \n    598 #-----------------------------------------------------------------------------\n    599 # utility functions, for convenience\n    600 #-----------------------------------------------------------------------------\n\n...........................................................................\n/Users/lukeheine/anaconda/lib/python2.7/site-packages/ipykernel/kernelapp.py in start(self=<ipykernel.kernelapp.IPKernelApp object>)\n    437         \n    438         if self.poller is not None:\n    439             self.poller.start()\n    440         self.kernel.start()\n    441         try:\n--> 442             ioloop.IOLoop.instance().start()\n    443         except KeyboardInterrupt:\n    444             pass\n    445 \n    446 launch_new_instance = IPKernelApp.launch_instance\n\n...........................................................................\n/Users/lukeheine/anaconda/lib/python2.7/site-packages/zmq/eventloop/ioloop.py in start(self=<zmq.eventloop.ioloop.ZMQIOLoop object>)\n    157             PollIOLoop.configure(ZMQIOLoop)\n    158         return PollIOLoop.current(*args, **kwargs)\n    159     \n    160     def start(self):\n    161         try:\n--> 162             super(ZMQIOLoop, self).start()\n        self.start = <bound method ZMQIOLoop.start of <zmq.eventloop.ioloop.ZMQIOLoop object>>\n    163         except ZMQError as e:\n    164             if e.errno == ETERM:\n    165                 # quietly return on ETERM\n    166                 pass\n\n...........................................................................\n/Users/lukeheine/anaconda/lib/python2.7/site-packages/tornado/ioloop.py in start(self=<zmq.eventloop.ioloop.ZMQIOLoop object>)\n    878                 self._events.update(event_pairs)\n    879                 while self._events:\n    880                     fd, events = self._events.popitem()\n    881                     try:\n    882                         fd_obj, handler_func = self._handlers[fd]\n--> 883                         handler_func(fd_obj, events)\n        handler_func = <function null_wrapper>\n        fd_obj = <zmq.sugar.socket.Socket object>\n        events = 1\n    884                     except (OSError, IOError) as e:\n    885                         if errno_from_exception(e) == errno.EPIPE:\n    886                             # Happens when the client closes the connection\n    887                             pass\n\n...........................................................................\n/Users/lukeheine/anaconda/lib/python2.7/site-packages/tornado/stack_context.py in null_wrapper(*args=(<zmq.sugar.socket.Socket object>, 1), **kwargs={})\n    270         # Fast path when there are no active contexts.\n    271         def null_wrapper(*args, **kwargs):\n    272             try:\n    273                 current_state = _state.contexts\n    274                 _state.contexts = cap_contexts[0]\n--> 275                 return fn(*args, **kwargs)\n        args = (<zmq.sugar.socket.Socket object>, 1)\n        kwargs = {}\n    276             finally:\n    277                 _state.contexts = current_state\n    278         null_wrapper._wrapped = True\n    279         return null_wrapper\n\n...........................................................................\n/Users/lukeheine/anaconda/lib/python2.7/site-packages/zmq/eventloop/zmqstream.py in _handle_events(self=<zmq.eventloop.zmqstream.ZMQStream object>, fd=<zmq.sugar.socket.Socket object>, events=1)\n    435             # dispatch events:\n    436             if events & IOLoop.ERROR:\n    437                 gen_log.error(\"got POLLERR event on ZMQStream, which doesn't make sense\")\n    438                 return\n    439             if events & IOLoop.READ:\n--> 440                 self._handle_recv()\n        self._handle_recv = <bound method ZMQStream._handle_recv of <zmq.eventloop.zmqstream.ZMQStream object>>\n    441                 if not self.socket:\n    442                     return\n    443             if events & IOLoop.WRITE:\n    444                 self._handle_send()\n\n...........................................................................\n/Users/lukeheine/anaconda/lib/python2.7/site-packages/zmq/eventloop/zmqstream.py in _handle_recv(self=<zmq.eventloop.zmqstream.ZMQStream object>)\n    467                 gen_log.error(\"RECV Error: %s\"%zmq.strerror(e.errno))\n    468         else:\n    469             if self._recv_callback:\n    470                 callback = self._recv_callback\n    471                 # self._recv_callback = None\n--> 472                 self._run_callback(callback, msg)\n        self._run_callback = <bound method ZMQStream._run_callback of <zmq.eventloop.zmqstream.ZMQStream object>>\n        callback = <function null_wrapper>\n        msg = [<zmq.sugar.frame.Frame object>, <zmq.sugar.frame.Frame object>, <zmq.sugar.frame.Frame object>, <zmq.sugar.frame.Frame object>, <zmq.sugar.frame.Frame object>, <zmq.sugar.frame.Frame object>, <zmq.sugar.frame.Frame object>]\n    473                 \n    474         # self.update_state()\n    475         \n    476 \n\n...........................................................................\n/Users/lukeheine/anaconda/lib/python2.7/site-packages/zmq/eventloop/zmqstream.py in _run_callback(self=<zmq.eventloop.zmqstream.ZMQStream object>, callback=<function null_wrapper>, *args=([<zmq.sugar.frame.Frame object>, <zmq.sugar.frame.Frame object>, <zmq.sugar.frame.Frame object>, <zmq.sugar.frame.Frame object>, <zmq.sugar.frame.Frame object>, <zmq.sugar.frame.Frame object>, <zmq.sugar.frame.Frame object>],), **kwargs={})\n    409         close our socket.\"\"\"\n    410         try:\n    411             # Use a NullContext to ensure that all StackContexts are run\n    412             # inside our blanket exception handler rather than outside.\n    413             with stack_context.NullContext():\n--> 414                 callback(*args, **kwargs)\n        callback = <function null_wrapper>\n        args = ([<zmq.sugar.frame.Frame object>, <zmq.sugar.frame.Frame object>, <zmq.sugar.frame.Frame object>, <zmq.sugar.frame.Frame object>, <zmq.sugar.frame.Frame object>, <zmq.sugar.frame.Frame object>, <zmq.sugar.frame.Frame object>],)\n        kwargs = {}\n    415         except:\n    416             gen_log.error(\"Uncaught exception, closing connection.\",\n    417                           exc_info=True)\n    418             # Close the socket on an uncaught exception from a user callback\n\n...........................................................................\n/Users/lukeheine/anaconda/lib/python2.7/site-packages/tornado/stack_context.py in null_wrapper(*args=([<zmq.sugar.frame.Frame object>, <zmq.sugar.frame.Frame object>, <zmq.sugar.frame.Frame object>, <zmq.sugar.frame.Frame object>, <zmq.sugar.frame.Frame object>, <zmq.sugar.frame.Frame object>, <zmq.sugar.frame.Frame object>],), **kwargs={})\n    270         # Fast path when there are no active contexts.\n    271         def null_wrapper(*args, **kwargs):\n    272             try:\n    273                 current_state = _state.contexts\n    274                 _state.contexts = cap_contexts[0]\n--> 275                 return fn(*args, **kwargs)\n        args = ([<zmq.sugar.frame.Frame object>, <zmq.sugar.frame.Frame object>, <zmq.sugar.frame.Frame object>, <zmq.sugar.frame.Frame object>, <zmq.sugar.frame.Frame object>, <zmq.sugar.frame.Frame object>, <zmq.sugar.frame.Frame object>],)\n        kwargs = {}\n    276             finally:\n    277                 _state.contexts = current_state\n    278         null_wrapper._wrapped = True\n    279         return null_wrapper\n\n...........................................................................\n/Users/lukeheine/anaconda/lib/python2.7/site-packages/ipykernel/kernelbase.py in dispatcher(msg=[<zmq.sugar.frame.Frame object>, <zmq.sugar.frame.Frame object>, <zmq.sugar.frame.Frame object>, <zmq.sugar.frame.Frame object>, <zmq.sugar.frame.Frame object>, <zmq.sugar.frame.Frame object>, <zmq.sugar.frame.Frame object>])\n    271         if self.control_stream:\n    272             self.control_stream.on_recv(self.dispatch_control, copy=False)\n    273 \n    274         def make_dispatcher(stream):\n    275             def dispatcher(msg):\n--> 276                 return self.dispatch_shell(stream, msg)\n        msg = [<zmq.sugar.frame.Frame object>, <zmq.sugar.frame.Frame object>, <zmq.sugar.frame.Frame object>, <zmq.sugar.frame.Frame object>, <zmq.sugar.frame.Frame object>, <zmq.sugar.frame.Frame object>, <zmq.sugar.frame.Frame object>]\n    277             return dispatcher\n    278 \n    279         for s in self.shell_streams:\n    280             s.on_recv(make_dispatcher(s), copy=False)\n\n...........................................................................\n/Users/lukeheine/anaconda/lib/python2.7/site-packages/ipykernel/kernelbase.py in dispatch_shell(self=<ipykernel.ipkernel.IPythonKernel object>, stream=<zmq.eventloop.zmqstream.ZMQStream object>, msg={'buffers': [], 'content': {u'allow_stdin': True, u'code': u'h_losses = []\\n\\nfor train_ind, test_ind in KF...ss(y_test, preds))\\n\\nprint np.average(h_losses)', u'silent': False, u'stop_on_error': True, u'store_history': True, u'user_expressions': {}}, 'header': {'date': '2017-04-17T18:44:03.266246', u'msg_id': u'5CE6A889B5A140E68EC535D5185F09B6', u'msg_type': u'execute_request', u'session': u'871CD4C125F048C78506D6B7133B8D61', u'username': u'username', u'version': u'5.0'}, 'metadata': {}, 'msg_id': u'5CE6A889B5A140E68EC535D5185F09B6', 'msg_type': u'execute_request', 'parent_header': {}})\n    223             self.log.error(\"UNKNOWN MESSAGE TYPE: %r\", msg_type)\n    224         else:\n    225             self.log.debug(\"%s: %s\", msg_type, msg)\n    226             self.pre_handler_hook()\n    227             try:\n--> 228                 handler(stream, idents, msg)\n        handler = <bound method IPythonKernel.execute_request of <ipykernel.ipkernel.IPythonKernel object>>\n        stream = <zmq.eventloop.zmqstream.ZMQStream object>\n        idents = ['871CD4C125F048C78506D6B7133B8D61']\n        msg = {'buffers': [], 'content': {u'allow_stdin': True, u'code': u'h_losses = []\\n\\nfor train_ind, test_ind in KF...ss(y_test, preds))\\n\\nprint np.average(h_losses)', u'silent': False, u'stop_on_error': True, u'store_history': True, u'user_expressions': {}}, 'header': {'date': '2017-04-17T18:44:03.266246', u'msg_id': u'5CE6A889B5A140E68EC535D5185F09B6', u'msg_type': u'execute_request', u'session': u'871CD4C125F048C78506D6B7133B8D61', u'username': u'username', u'version': u'5.0'}, 'metadata': {}, 'msg_id': u'5CE6A889B5A140E68EC535D5185F09B6', 'msg_type': u'execute_request', 'parent_header': {}}\n    229             except Exception:\n    230                 self.log.error(\"Exception in message handler:\", exc_info=True)\n    231             finally:\n    232                 self.post_handler_hook()\n\n...........................................................................\n/Users/lukeheine/anaconda/lib/python2.7/site-packages/ipykernel/kernelbase.py in execute_request(self=<ipykernel.ipkernel.IPythonKernel object>, stream=<zmq.eventloop.zmqstream.ZMQStream object>, ident=['871CD4C125F048C78506D6B7133B8D61'], parent={'buffers': [], 'content': {u'allow_stdin': True, u'code': u'h_losses = []\\n\\nfor train_ind, test_ind in KF...ss(y_test, preds))\\n\\nprint np.average(h_losses)', u'silent': False, u'stop_on_error': True, u'store_history': True, u'user_expressions': {}}, 'header': {'date': '2017-04-17T18:44:03.266246', u'msg_id': u'5CE6A889B5A140E68EC535D5185F09B6', u'msg_type': u'execute_request', u'session': u'871CD4C125F048C78506D6B7133B8D61', u'username': u'username', u'version': u'5.0'}, 'metadata': {}, 'msg_id': u'5CE6A889B5A140E68EC535D5185F09B6', 'msg_type': u'execute_request', 'parent_header': {}})\n    386         if not silent:\n    387             self.execution_count += 1\n    388             self._publish_execute_input(code, parent, self.execution_count)\n    389 \n    390         reply_content = self.do_execute(code, silent, store_history,\n--> 391                                         user_expressions, allow_stdin)\n        user_expressions = {}\n        allow_stdin = True\n    392 \n    393         # Flush output before sending the reply.\n    394         sys.stdout.flush()\n    395         sys.stderr.flush()\n\n...........................................................................\n/Users/lukeheine/anaconda/lib/python2.7/site-packages/ipykernel/ipkernel.py in do_execute(self=<ipykernel.ipkernel.IPythonKernel object>, code=u'h_losses = []\\n\\nfor train_ind, test_ind in KF...ss(y_test, preds))\\n\\nprint np.average(h_losses)', silent=False, store_history=True, user_expressions={}, allow_stdin=True)\n    194 \n    195         reply_content = {}\n    196         # FIXME: the shell calls the exception handler itself.\n    197         shell._reply_content = None\n    198         try:\n--> 199             shell.run_cell(code, store_history=store_history, silent=silent)\n        shell.run_cell = <bound method ZMQInteractiveShell.run_cell of <ipykernel.zmqshell.ZMQInteractiveShell object>>\n        code = u'h_losses = []\\n\\nfor train_ind, test_ind in KF...ss(y_test, preds))\\n\\nprint np.average(h_losses)'\n        store_history = True\n        silent = False\n    200         except:\n    201             status = u'error'\n    202             # FIXME: this code right now isn't being used yet by default,\n    203             # because the run_cell() call above directly fires off exception\n\n...........................................................................\n/Users/lukeheine/anaconda/lib/python2.7/site-packages/IPython/core/interactiveshell.py in run_cell(self=<ipykernel.zmqshell.ZMQInteractiveShell object>, raw_cell=u'h_losses = []\\n\\nfor train_ind, test_ind in KF...ss(y_test, preds))\\n\\nprint np.average(h_losses)', store_history=True, silent=False, shell_futures=True)\n   2718                 self.displayhook.exec_result = result\n   2719 \n   2720                 # Execute the user code\n   2721                 interactivity = \"none\" if silent else self.ast_node_interactivity\n   2722                 self.run_ast_nodes(code_ast.body, cell_name,\n-> 2723                    interactivity=interactivity, compiler=compiler, result=result)\n        interactivity = 'last_expr'\n        compiler = <IPython.core.compilerop.CachingCompiler instance>\n   2724 \n   2725                 # Reset this so later displayed values do not modify the\n   2726                 # ExecutionResult\n   2727                 self.displayhook.exec_result = None\n\n...........................................................................\n/Users/lukeheine/anaconda/lib/python2.7/site-packages/IPython/core/interactiveshell.py in run_ast_nodes(self=<ipykernel.zmqshell.ZMQInteractiveShell object>, nodelist=[<_ast.Assign object>, <_ast.For object>, <_ast.Print object>], cell_name='<ipython-input-14-24a9d15aca99>', interactivity='none', compiler=<IPython.core.compilerop.CachingCompiler instance>, result=<IPython.core.interactiveshell.ExecutionResult object>)\n   2820 \n   2821         try:\n   2822             for i, node in enumerate(to_run_exec):\n   2823                 mod = ast.Module([node])\n   2824                 code = compiler(mod, cell_name, \"exec\")\n-> 2825                 if self.run_code(code, result):\n        self.run_code = <bound method ZMQInteractiveShell.run_code of <ipykernel.zmqshell.ZMQInteractiveShell object>>\n        code = <code object <module> at 0x10ec92730, file \"<ipython-input-14-24a9d15aca99>\", line 3>\n        result = <IPython.core.interactiveshell.ExecutionResult object>\n   2826                     return True\n   2827 \n   2828             for i, node in enumerate(to_run_interactive):\n   2829                 mod = ast.Interactive([node])\n\n...........................................................................\n/Users/lukeheine/anaconda/lib/python2.7/site-packages/IPython/core/interactiveshell.py in run_code(self=<ipykernel.zmqshell.ZMQInteractiveShell object>, code_obj=<code object <module> at 0x10ec92730, file \"<ipython-input-14-24a9d15aca99>\", line 3>, result=<IPython.core.interactiveshell.ExecutionResult object>)\n   2880         outflag = 1  # happens in more places, so it's easier as default\n   2881         try:\n   2882             try:\n   2883                 self.hooks.pre_run_code_hook()\n   2884                 #rprint('Running code', repr(code_obj)) # dbg\n-> 2885                 exec(code_obj, self.user_global_ns, self.user_ns)\n        code_obj = <code object <module> at 0x10ec92730, file \"<ipython-input-14-24a9d15aca99>\", line 3>\n        self.user_global_ns = {'In': ['', u'import pandas as pd\\nimport numpy as np\\nimpor...zer\\n\\nfrom sklearn.model_selection import KFold', u\"'''\\nAn example of hamming loss. We have true ...ss(np.array([[0, 1], [1, 1]]), np.zeros((2, 2)))\", u'train = pd.read_csv(\"../data/train.csv\")\\n\\n# ...t \"Dataframe shape:\", train.shape\\ntrain.head(1)', u'# check for null values\\ntrain.isnull().sum()', u'train.columns', u'string_cols = [\"director\", \"lead actors\", \"ove...w\", \"title\"]\\nstring_matrix = train[string_cols]', u'# Set up helper cleaner function\\ndef cleaner(... = string_matrix[\\'lead actors\\'].apply(cleaner)', u'labels = train.columns[:17]\\nfeatures = train....in[[\"popularity\", \"vote_average\", \"vote_count\"]]', u'string_matrix', u'labels = train.columns[:17]\\nfeatures = train....in[[\"popularity\", \"vote_average\", \"vote_count\"]]', u'genre_ids_df = pd.read_csv(\"../data/genre_ids...._df.drop(\"Unnamed: 0\", axis = 1, inplace = True)', u'for label in labels:\\n    print genre_ids_df[genre_ids_df[\"id\"] == int(label)][\"genre\"].item()', u'h_losses = []\\n\\nfor train_ind, test_ind in KF...ss(y_test, preds))\\n\\nprint np.average(h_losses)', u'h_losses = []\\n\\nfor train_ind, test_ind in KF...ss(y_test, preds))\\n\\nprint np.average(h_losses)'], 'KFold': <class 'sklearn.model_selection._split.KFold'>, 'MultiOutputClassifier': <class 'sklearn.multioutput.MultiOutputClassifier'>, 'OneVsRestClassifier': <class 'sklearn.multiclass.OneVsRestClassifier'>, 'Out': {2: 0.75, 3:    10402  10749  10751  10752  12  14  16  18  2...          5.7        510  \n\n[1 rows x 29 columns], 4: 10402           0\n10749           0\n10751       ...\nvote_average    0\nvote_count      0\ndtype: int64, 5: Index([u'10402', u'10749', u'10751', u'10752', u...e_average', u'vote_count'],\n      dtype='object'), 9:                     director  \\\n0               ...         Going in Style  \n\n[540 rows x 4 columns]}, 'RandomForestClassifier': <class 'sklearn.ensemble.forest.RandomForestClassifier'>, 'TfidfVectorizer': <class 'sklearn.feature_extraction.text.TfidfVectorizer'>, 'X':      popularity  vote_average  vote_count\n0    3...          5.9          25\n\n[540 rows x 3 columns], 'X_test':      popularity  vote_average  vote_count\n0    3...          6.5         290\n\n[108 rows x 3 columns], 'X_train':      popularity  vote_average  vote_count\n108   ...          5.9          25\n\n[432 rows x 3 columns], ...}\n        self.user_ns = {'In': ['', u'import pandas as pd\\nimport numpy as np\\nimpor...zer\\n\\nfrom sklearn.model_selection import KFold', u\"'''\\nAn example of hamming loss. We have true ...ss(np.array([[0, 1], [1, 1]]), np.zeros((2, 2)))\", u'train = pd.read_csv(\"../data/train.csv\")\\n\\n# ...t \"Dataframe shape:\", train.shape\\ntrain.head(1)', u'# check for null values\\ntrain.isnull().sum()', u'train.columns', u'string_cols = [\"director\", \"lead actors\", \"ove...w\", \"title\"]\\nstring_matrix = train[string_cols]', u'# Set up helper cleaner function\\ndef cleaner(... = string_matrix[\\'lead actors\\'].apply(cleaner)', u'labels = train.columns[:17]\\nfeatures = train....in[[\"popularity\", \"vote_average\", \"vote_count\"]]', u'string_matrix', u'labels = train.columns[:17]\\nfeatures = train....in[[\"popularity\", \"vote_average\", \"vote_count\"]]', u'genre_ids_df = pd.read_csv(\"../data/genre_ids...._df.drop(\"Unnamed: 0\", axis = 1, inplace = True)', u'for label in labels:\\n    print genre_ids_df[genre_ids_df[\"id\"] == int(label)][\"genre\"].item()', u'h_losses = []\\n\\nfor train_ind, test_ind in KF...ss(y_test, preds))\\n\\nprint np.average(h_losses)', u'h_losses = []\\n\\nfor train_ind, test_ind in KF...ss(y_test, preds))\\n\\nprint np.average(h_losses)'], 'KFold': <class 'sklearn.model_selection._split.KFold'>, 'MultiOutputClassifier': <class 'sklearn.multioutput.MultiOutputClassifier'>, 'OneVsRestClassifier': <class 'sklearn.multiclass.OneVsRestClassifier'>, 'Out': {2: 0.75, 3:    10402  10749  10751  10752  12  14  16  18  2...          5.7        510  \n\n[1 rows x 29 columns], 4: 10402           0\n10749           0\n10751       ...\nvote_average    0\nvote_count      0\ndtype: int64, 5: Index([u'10402', u'10749', u'10751', u'10752', u...e_average', u'vote_count'],\n      dtype='object'), 9:                     director  \\\n0               ...         Going in Style  \n\n[540 rows x 4 columns]}, 'RandomForestClassifier': <class 'sklearn.ensemble.forest.RandomForestClassifier'>, 'TfidfVectorizer': <class 'sklearn.feature_extraction.text.TfidfVectorizer'>, 'X':      popularity  vote_average  vote_count\n0    3...          5.9          25\n\n[540 rows x 3 columns], 'X_test':      popularity  vote_average  vote_count\n0    3...          6.5         290\n\n[108 rows x 3 columns], 'X_train':      popularity  vote_average  vote_count\n108   ...          5.9          25\n\n[432 rows x 3 columns], ...}\n   2886             finally:\n   2887                 # Reset our crash handler in place\n   2888                 sys.excepthook = old_excepthook\n   2889         except SystemExit as e:\n\n...........................................................................\n/Users/lukeheine/Desktop/milestone_1/cs109b_final/milestone_3/<ipython-input-14-24a9d15aca99> in <module>()\n      9     # instantiate the classifier (n_jobs = -1 tells it)\n     10     # to fit using all CPUs\n     11     multi_target_forest = MultiOutputClassifier(forest, n_jobs=-1)\n     12 \n     13     # fit the multi-target random forest\n---> 14     fitted_forest = multi_target_forest.fit(X_train, y_train)\n     15 \n     16     # predict the label matrix\n     17     preds = fitted_forest.predict(X_test)\n     18     h_losses.append(hamming_loss(y_test, preds))\n\n...........................................................................\n/Users/lukeheine/anaconda/lib/python2.7/site-packages/sklearn/multioutput.py in fit(self=MultiOutputClassifier(estimator=RandomForestClas...rbose=0, warm_start=False),\n           n_jobs=-1), X=array([[  9.06732600e+00,   8.40000000e+00,   4....093400e+00,   5.90000000e+00,   2.50000000e+01]]), y=array([[  9.06732600e+00,   8.40000000e+00,   4....093400e+00,   5.90000000e+00,   2.50000000e+01]]), sample_weight=None)\n     82                 not has_fit_parameter(self.estimator, 'sample_weight')):\n     83             raise ValueError(\"Underlying regressor does not support\"\n     84                              \" sample weights.\")\n     85 \n     86         self.estimators_ = Parallel(n_jobs=self.n_jobs)(delayed(_fit_estimator)(\n---> 87             self.estimator, X, y[:, i], sample_weight) for i in range(y.shape[1]))\n        self.estimator = RandomForestClassifier(bootstrap=True, class_wei...ate=109,\n            verbose=0, warm_start=False)\n        X = array([[  9.06732600e+00,   8.40000000e+00,   4....093400e+00,   5.90000000e+00,   2.50000000e+01]])\n        y = array([[  9.06732600e+00,   8.40000000e+00,   4....093400e+00,   5.90000000e+00,   2.50000000e+01]])\n        sample_weight = None\n        y.shape = (432, 3)\n     88         return self\n     89 \n     90     def predict(self, X):\n     91         \"\"\"Predict multi-output variable using a model\n\n...........................................................................\n/Users/lukeheine/anaconda/lib/python2.7/site-packages/sklearn/externals/joblib/parallel.py in __call__(self=Parallel(n_jobs=-1), iterable=<generator object <genexpr>>)\n    763             if pre_dispatch == \"all\" or n_jobs == 1:\n    764                 # The iterable was consumed all at once by the above for loop.\n    765                 # No need to wait for async callbacks to trigger to\n    766                 # consumption.\n    767                 self._iterating = False\n--> 768             self.retrieve()\n        self.retrieve = <bound method Parallel.retrieve of Parallel(n_jobs=-1)>\n    769             # Make sure that we get a last message telling us we are done\n    770             elapsed_time = time.time() - self._start_time\n    771             self._print('Done %3i out of %3i | elapsed: %s finished',\n    772                         (len(self._output), len(self._output),\n\n---------------------------------------------------------------------------\nSub-process traceback:\n---------------------------------------------------------------------------\nValueError                                         Mon Apr 17 18:44:03 2017\nPID: 45912              Python 2.7.12: /Users/lukeheine/anaconda/bin/python\n...........................................................................\n/Users/lukeheine/anaconda/lib/python2.7/site-packages/sklearn/externals/joblib/parallel.py in __call__(self=<sklearn.externals.joblib.parallel.BatchedCalls object>)\n    126     def __init__(self, iterator_slice):\n    127         self.items = list(iterator_slice)\n    128         self._size = len(self.items)\n    129 \n    130     def __call__(self):\n--> 131         return [func(*args, **kwargs) for func, args, kwargs in self.items]\n        func = <function _fit_estimator>\n        args = (RandomForestClassifier(bootstrap=True, class_wei...ate=109,\n            verbose=0, warm_start=False), array([[  9.06732600e+00,   8.40000000e+00,   4....093400e+00,   5.90000000e+00,   2.50000000e+01]]), array([ 9.067326,  9.017647,  9.007006,  9.00585...319,  4.648093,  4.648079,  4.643147,  4.640934]), None)\n        kwargs = {}\n        self.items = [(<function _fit_estimator>, (RandomForestClassifier(bootstrap=True, class_wei...ate=109,\n            verbose=0, warm_start=False), array([[  9.06732600e+00,   8.40000000e+00,   4....093400e+00,   5.90000000e+00,   2.50000000e+01]]), array([ 9.067326,  9.017647,  9.007006,  9.00585...319,  4.648093,  4.648079,  4.643147,  4.640934]), None), {})]\n    132 \n    133     def __len__(self):\n    134         return self._size\n    135 \n\n...........................................................................\n/Users/lukeheine/anaconda/lib/python2.7/site-packages/sklearn/multioutput.py in _fit_estimator(estimator=RandomForestClassifier(bootstrap=True, class_wei...ate=109,\n            verbose=0, warm_start=False), X=array([[  9.06732600e+00,   8.40000000e+00,   4....093400e+00,   5.90000000e+00,   2.50000000e+01]]), y=array([ 9.067326,  9.017647,  9.007006,  9.00585...319,  4.648093,  4.648079,  4.643147,  4.640934]), sample_weight=None)\n     31 def _fit_estimator(estimator, X, y, sample_weight=None):\n     32     estimator = clone(estimator)\n     33     if sample_weight is not None:\n     34         estimator.fit(X, y, sample_weight=sample_weight)\n     35     else:\n---> 36         estimator.fit(X, y)\n        estimator.fit = <bound method RandomForestClassifier.fit of Rand...te=109,\n            verbose=0, warm_start=False)>\n        X = array([[  9.06732600e+00,   8.40000000e+00,   4....093400e+00,   5.90000000e+00,   2.50000000e+01]])\n        y = array([ 9.067326,  9.017647,  9.007006,  9.00585...319,  4.648093,  4.648079,  4.643147,  4.640934])\n     37     return estimator\n     38 \n     39 \n     40 class MultiOutputEstimator(six.with_metaclass(ABCMeta, BaseEstimator)):\n\n...........................................................................\n/Users/lukeheine/anaconda/lib/python2.7/site-packages/sklearn/ensemble/forest.py in fit(self=RandomForestClassifier(bootstrap=True, class_wei...ate=109,\n            verbose=0, warm_start=False), X=array([[  9.06732559e+00,   8.39999962e+00,   4.....90000010e+00,   2.50000000e+01]], dtype=float32), y=array([[ 9.067326],\n       [ 9.017647],\n       [...648079],\n       [ 4.643147],\n       [ 4.640934]]), sample_weight=None)\n    266             # [:, np.newaxis] that does not.\n    267             y = np.reshape(y, (-1, 1))\n    268 \n    269         self.n_outputs_ = y.shape[1]\n    270 \n--> 271         y, expanded_class_weight = self._validate_y_class_weight(y)\n        y = array([[ 9.067326],\n       [ 9.017647],\n       [...648079],\n       [ 4.643147],\n       [ 4.640934]])\n        expanded_class_weight = undefined\n        self._validate_y_class_weight = <bound method RandomForestClassifier._validate_y...te=109,\n            verbose=0, warm_start=False)>\n    272 \n    273         if getattr(y, \"dtype\", None) != DOUBLE or not y.flags.contiguous:\n    274             y = np.ascontiguousarray(y, dtype=DOUBLE)\n    275 \n\n...........................................................................\n/Users/lukeheine/anaconda/lib/python2.7/site-packages/sklearn/ensemble/forest.py in _validate_y_class_weight(self=RandomForestClassifier(bootstrap=True, class_wei...ate=109,\n            verbose=0, warm_start=False), y=array([[ 9.067326],\n       [ 9.017647],\n       [...648079],\n       [ 4.643147],\n       [ 4.640934]]))\n    452             self.oob_decision_function_ = oob_decision_function\n    453 \n    454         self.oob_score_ = oob_score / self.n_outputs_\n    455 \n    456     def _validate_y_class_weight(self, y):\n--> 457         check_classification_targets(y)\n        y = array([[ 9.067326],\n       [ 9.017647],\n       [...648079],\n       [ 4.643147],\n       [ 4.640934]])\n    458 \n    459         y = np.copy(y)\n    460         expanded_class_weight = None\n    461 \n\n...........................................................................\n/Users/lukeheine/anaconda/lib/python2.7/site-packages/sklearn/utils/multiclass.py in check_classification_targets(y=array([[ 9.067326],\n       [ 9.017647],\n       [...648079],\n       [ 4.643147],\n       [ 4.640934]]))\n    167     y : array-like\n    168     \"\"\"\n    169     y_type = type_of_target(y)\n    170     if y_type not in ['binary', 'multiclass', 'multiclass-multioutput',\n    171             'multilabel-indicator', 'multilabel-sequences']:\n--> 172         raise ValueError(\"Unknown label type: %r\" % y_type)\n        y_type = 'continuous'\n    173 \n    174 \n    175 \n    176 def type_of_target(y):\n\nValueError: Unknown label type: 'continuous'\n___________________________________________________________________________"
     ]
    }
   ],
   "source": [
    "h_losses = []\n",
    "\n",
    "for train_ind, test_ind in KFold(n_splits = 5).split(X):\n",
    "    X_train, X_test = X.iloc[train_ind], X.iloc[test_ind]\n",
    "    y_train, y_test = X.iloc[train_ind], X.ilco[test_ind]\n",
    "\n",
    "    forest = RandomForestClassifier(n_estimators=100, random_state=109)\n",
    "\n",
    "    # instantiate the classifier (n_jobs = -1 tells it)\n",
    "    # to fit using all CPUs\n",
    "    multi_target_forest = MultiOutputClassifier(forest, n_jobs=-1)\n",
    "\n",
    "    # fit the multi-target random forest\n",
    "    fitted_forest = multi_target_forest.fit(X_train, y_train)\n",
    "\n",
    "    # predict the label matrix\n",
    "    preds = fitted_forest.predict(X_test)\n",
    "    h_losses.append(hamming_loss(y_test, preds))\n",
    "\n",
    "print np.average(h_losses)"
   ]
  }
 ],
 "metadata": {
  "anaconda-cloud": {},
  "kernelspec": {
   "display_name": "Python [Root]",
   "language": "python",
   "name": "Python [Root]"
  },
  "language_info": {
   "codemirror_mode": {
    "name": "ipython",
    "version": 2
   },
   "file_extension": ".py",
   "mimetype": "text/x-python",
   "name": "python",
   "nbconvert_exporter": "python",
   "pygments_lexer": "ipython2",
   "version": "2.7.12"
  }
 },
 "nbformat": 4,
 "nbformat_minor": 1
}
