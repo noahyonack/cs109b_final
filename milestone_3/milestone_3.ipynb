{
 "cells": [
  {
   "cell_type": "code",
   "execution_count": 48,
   "metadata": {
    "collapsed": false
   },
   "outputs": [],
   "source": [
    "import pandas as pd\n",
    "import numpy as np\n",
    "import re\n",
    "from sklearn.metrics import hamming_loss\n",
    "from sklearn.multiclass import OneVsRestClassifier\n",
    "from sklearn.multioutput import MultiOutputClassifier\n",
    "from sklearn.ensemble import RandomForestClassifier\n",
    "from sklearn.feature_extraction.text import TfidfVectorizer"
   ]
  },
  {
   "cell_type": "markdown",
   "metadata": {},
   "source": [
    "# Milestone 3: Traditional statistical and machine learning methods, due Wednesday, April 19, 2017\n",
    "\n",
    "Think about how you would address the genre prediction problem with traditional statistical or machine learning methods. This includes everything you learned about modeling in this course before the deep learning part. Implement your ideas and compare different classifiers. Report your results and discuss what challenges you faced and how you overcame them. What works and what does not? If there are parts that do not work as expected, make sure to discuss briefly what you think is the cause and how you would address this if you would have more time and resources. \n",
    "\n",
    "You do not necessarily need to use the movie posters for this step, but even without a background in computer vision, there are very simple features you can extract from the posters to help guide a traditional machine learning model. Think about the PCA lecture for example, or how to use clustering to extract color information. In addition to considering the movie posters it would be worthwhile to have a look at the metadata that IMDb provides. \n",
    "\n",
    "You could use Spark and the [ML library](https://spark.apache.org/docs/latest/ml-features.html#word2vec) to build your model features from the data. This may be especially beneficial if you use additional data, e.g., in text form.\n",
    "\n",
    "You also need to think about how you are going to evaluate your classifier. Which metrics or scores will you report to show how good the performance is?\n",
    "\n",
    "The notebook to submit this week should at least include:\n",
    "\n",
    "- Detailed description and implementation of two different models\n",
    "- Description of your performance metrics\n",
    "- Careful performance evaluations for both models\n",
    "- Visualizations of the metrics for performance evaluation\n",
    "- Discussion of the differences between the models, their strengths, weaknesses, etc. \n",
    "- Discussion of the performances you achieved, and how you might be able to improve them in the future\n",
    "\n",
    "#### Preliminary Peer Assessment\n",
    "\n",
    "It is important to provide positive feedback to people who truly worked hard for the good of the team and to also make suggestions to those you perceived not to be working as effectively on team tasks. We ask you to provide an honest assessment of the contributions of the members of your team, including yourself. The feedback you provide should reflect your judgment of each team member’s:\n",
    "\n",
    "- Preparation – were they prepared during team meetings?\n",
    "- Contribution – did they contribute productively to the team discussion and work?\n",
    "- Respect for others’ ideas – did they encourage others to contribute their ideas?\n",
    "- Flexibility – were they flexible when disagreements occurred?\n",
    "\n",
    "Your teammate’s assessment of your contributions and the accuracy of your self-assessment will be considered as part of your overall project score.\n",
    "\n",
    "Preliminary Peer Assessment: [https://goo.gl/forms/WOYC7pwRCSU0yV3l1](https://goo.gl/forms/WOYC7pwRCSU0yV3l1)"
   ]
  },
  {
   "cell_type": "markdown",
   "metadata": {},
   "source": [
    "## Questions to answer: \n",
    "\n",
    "- **What are we predicting exactly?**\n",
    "\n",
    "So, we are trying to predict movie genres. However, we have that each movie has multiple genres. This leads to the question of how we can predict multiple classifiers for the same object. This more general question is called a multilabel clasification problem. We will explore some of our specifications for this problem below. \n",
    "\n",
    "One of the best and most standard solution to do multilable classification is called \"one vs. rest\" classifiers. These classifiers create n models for each of the n labels. One of the advantages of this model is its interpretability and, for our cases, its ease. We can easily create a pipeline that then does these predictions for us. For an implementation of one vs. all, look at scikit learn: http://scikit-learn.org/dev/modules/generated/sklearn.multiclass.OneVsRestClassifier.html#sklearn.multiclass.OneVsRestClassifier\n",
    "\n",
    "We will likely be using this in our early attempts at classification. \n",
    "\n",
    "- **What does it means to be succesful? What is our metric for success?**\n",
    "\n",
    "*adapted from http://people.oregonstate.edu/~sorowerm/pdf/Qual-Multilabel-Shahed-CompleteVersion.pdf*\n",
    "\n",
    "Here are a few options for our measure of accuracy:\n",
    "\n",
    "#### Exact Match Ratio\n",
    "The exact match ratio only considers a correct answer for our multilabel data if it is exactly correct (e.g. if there are three classes, we only classify this as correct if we correctly identify all three classes.) \n",
    "\n",
    "#### Accuracy \n",
    "Accuracy is a simple way of \"goodness of prediction.\" It is defined as follows \n",
    "\n",
    "$$ \\frac{1}{n} \\sum_i^{n}  \\frac{|Y_i\\cap Z_i|}{|Y_i \\cup Z_i|}$$\n",
    "\n",
    "Where $$Y_i\\cap Z_i $$ refers to the total number of correctly predicted labels over the total number of labels for that instance. So, if for example we predicted [romance, action]  and the true labels were [romance, comedy, horror], this would receive an accuracy of 1/4 because there was one correct prediction and 4 unique labels. \n",
    "\n",
    "\n",
    "#### Hamming Loss \n",
    "The final and most common form of error for multilable predictions is hamming loss. Hamming loss takes into account both the prediction error (an incorrect error is predicted) and the missing error (a relevant lable is NOT predicted.) this is defined as follows below \n",
    "\n",
    "$$ \\text{HammingLoss, HL} = \\frac{1}{kn} \\sum_{i}^{n} \\sum_l^k [l \\in  Z_i \\wedge l \\notin Y_i)  + I(l \\notin Z_i \\wedge  l \\in Y_i)]$$\n",
    "\n",
    "*For this project, we will use the hamming loss, which is defined above.* There is a convenient function in `sklearn` to calculate hamming loss: `sklearn.metrics.hamming_loss`\n",
    "\n",
    "- What is our first modeling approach? Why? \n",
    "\n",
    "- What is our second modeling approach? Why? "
   ]
  },
  {
   "cell_type": "code",
   "execution_count": 2,
   "metadata": {
    "collapsed": false
   },
   "outputs": [
    {
     "data": {
      "text/plain": [
       "0.75"
      ]
     },
     "execution_count": 2,
     "metadata": {},
     "output_type": "execute_result"
    }
   ],
   "source": [
    "'''\n",
    "An example of hamming loss. We have true labels:\n",
    "\n",
    "[0, 1]\n",
    "[1, 1]\n",
    "\n",
    "And predicted labels:\n",
    "\n",
    "[0, 0]\n",
    "[0, 0]\n",
    "\n",
    "Hamming loss is .75\n",
    "'''\n",
    "hamming_loss(np.array([[0, 1], [1, 1]]), np.zeros((2, 2)))"
   ]
  },
  {
   "cell_type": "markdown",
   "metadata": {},
   "source": [
    "### Data Collection & Cleaning"
   ]
  },
  {
   "cell_type": "code",
   "execution_count": 68,
   "metadata": {
    "collapsed": false
   },
   "outputs": [
    {
     "name": "stdout",
     "output_type": "stream",
     "text": [
      "Dataframe shape: (540, 29)\n"
     ]
    },
    {
     "data": {
      "text/html": [
       "<div>\n",
       "<table border=\"1\" class=\"dataframe\">\n",
       "  <thead>\n",
       "    <tr style=\"text-align: right;\">\n",
       "      <th></th>\n",
       "      <th>10402</th>\n",
       "      <th>10749</th>\n",
       "      <th>10751</th>\n",
       "      <th>10752</th>\n",
       "      <th>12</th>\n",
       "      <th>14</th>\n",
       "      <th>16</th>\n",
       "      <th>18</th>\n",
       "      <th>27</th>\n",
       "      <th>28</th>\n",
       "      <th>...</th>\n",
       "      <th>lead actors</th>\n",
       "      <th>movie_id</th>\n",
       "      <th>overview</th>\n",
       "      <th>popularity</th>\n",
       "      <th>poster_path</th>\n",
       "      <th>release_date</th>\n",
       "      <th>title</th>\n",
       "      <th>video</th>\n",
       "      <th>vote_average</th>\n",
       "      <th>vote_count</th>\n",
       "    </tr>\n",
       "  </thead>\n",
       "  <tbody>\n",
       "    <tr>\n",
       "      <th>0</th>\n",
       "      <td>0</td>\n",
       "      <td>0</td>\n",
       "      <td>1</td>\n",
       "      <td>0</td>\n",
       "      <td>0</td>\n",
       "      <td>0</td>\n",
       "      <td>1</td>\n",
       "      <td>0</td>\n",
       "      <td>0</td>\n",
       "      <td>0</td>\n",
       "      <td>...</td>\n",
       "      <td>[u'Alec Baldwin', u'Miles Bakshi', u'Jimmy Kim...</td>\n",
       "      <td>295693</td>\n",
       "      <td>A story about how a new baby's arrival impacts...</td>\n",
       "      <td>305.881041</td>\n",
       "      <td>/unPB1iyEeTBcKiLg8W083rlViFH.jpg</td>\n",
       "      <td>2017-03-23</td>\n",
       "      <td>The Boss Baby</td>\n",
       "      <td>False</td>\n",
       "      <td>5.7</td>\n",
       "      <td>510</td>\n",
       "    </tr>\n",
       "  </tbody>\n",
       "</table>\n",
       "<p>1 rows × 29 columns</p>\n",
       "</div>"
      ],
      "text/plain": [
       "   10402  10749  10751  10752  12  14  16  18  27  28    ...      \\\n",
       "0      0      0      1      0   0   0   1   0   0   0    ...       \n",
       "\n",
       "                                         lead actors  movie_id  \\\n",
       "0  [u'Alec Baldwin', u'Miles Bakshi', u'Jimmy Kim...    295693   \n",
       "\n",
       "                                            overview  popularity  \\\n",
       "0  A story about how a new baby's arrival impacts...  305.881041   \n",
       "\n",
       "                        poster_path  release_date          title  video  \\\n",
       "0  /unPB1iyEeTBcKiLg8W083rlViFH.jpg    2017-03-23  The Boss Baby  False   \n",
       "\n",
       "  vote_average vote_count  \n",
       "0          5.7        510  \n",
       "\n",
       "[1 rows x 29 columns]"
      ]
     },
     "execution_count": 68,
     "metadata": {},
     "output_type": "execute_result"
    }
   ],
   "source": [
    "train = pd.read_csv(\"../data/train.csv\")\n",
    "\n",
    "# drop a rogue column\n",
    "train.drop(\"Unnamed: 0\", axis = 1, inplace = True)\n",
    "print \"Dataframe shape:\", train.shape\n",
    "train.head(1)"
   ]
  },
  {
   "cell_type": "code",
   "execution_count": 69,
   "metadata": {
    "collapsed": false
   },
   "outputs": [
    {
     "data": {
      "text/plain": [
       "10402           0\n",
       "10749           0\n",
       "10751           0\n",
       "10752           0\n",
       "12              0\n",
       "14              0\n",
       "16              0\n",
       "18              0\n",
       "27              0\n",
       "28              0\n",
       "35              0\n",
       "36              0\n",
       "37              0\n",
       "53              0\n",
       "80              0\n",
       "878             0\n",
       "9648            0\n",
       "adult           0\n",
       "director        0\n",
       "lead actors     0\n",
       "movie_id        0\n",
       "overview        3\n",
       "popularity      0\n",
       "poster_path     0\n",
       "release_date    0\n",
       "title           0\n",
       "video           0\n",
       "vote_average    0\n",
       "vote_count      0\n",
       "dtype: int64"
      ]
     },
     "execution_count": 69,
     "metadata": {},
     "output_type": "execute_result"
    }
   ],
   "source": [
    "# check for null values\n",
    "train.isnull().sum()"
   ]
  },
  {
   "cell_type": "markdown",
   "metadata": {},
   "source": [
    "# Model 1: Random Forest\n",
    "\n",
    "Some thoughts:\n",
    "    * Random forests don't accept strings, so we'll need to vectorize all of the string variables or exclude them entirely. "
   ]
  },
  {
   "cell_type": "code",
   "execution_count": 70,
   "metadata": {
    "collapsed": false
   },
   "outputs": [
    {
     "data": {
      "text/plain": [
       "Index([u'10402', u'10749', u'10751', u'10752', u'12', u'14', u'16', u'18',\n",
       "       u'27', u'28', u'35', u'36', u'37', u'53', u'80', u'878', u'9648',\n",
       "       u'adult', u'director', u'lead actors', u'movie_id', u'overview',\n",
       "       u'popularity', u'poster_path', u'release_date', u'title', u'video',\n",
       "       u'vote_average', u'vote_count'],\n",
       "      dtype='object')"
      ]
     },
     "execution_count": 70,
     "metadata": {},
     "output_type": "execute_result"
    }
   ],
   "source": [
    "train.columns"
   ]
  },
  {
   "cell_type": "code",
   "execution_count": 71,
   "metadata": {
    "collapsed": true
   },
   "outputs": [],
   "source": [
    "# Set up helper cleaner function\n",
    "def cleaner(cell):\n",
    "    line = cell.replace('[u', '').replace(']', '').replace(',', '').replace(\"u'\", '').replace(\"'\", '')\n",
    "    line = re.sub(\"(^|\\W)\\d+($|\\W)\", \" \", line)\n",
    "    return line"
   ]
  },
  {
   "cell_type": "code",
   "execution_count": 73,
   "metadata": {
    "collapsed": false
   },
   "outputs": [],
   "source": [
    "string_cols = [\"director\", \"lead actors\", \"overview\", \"title\"]\n",
    "string_matrix = train[string_cols]\n",
    "#map(lambda x: \"\".join(x), string_matrix[\"lead actors\"])"
   ]
  },
  {
   "cell_type": "code",
   "execution_count": 65,
   "metadata": {
    "collapsed": true
   },
   "outputs": [],
   "source": [
    "# clean actors col\n",
    "string_matrix['lead actors'] = string_matrix['lead actors'].apply(cleaner)"
   ]
  },
  {
   "cell_type": "code",
   "execution_count": 78,
   "metadata": {
    "collapsed": false
   },
   "outputs": [],
   "source": [
    "labels = train.columns[:17]\n",
    "features = train.columns[17:]\n",
    "X = train[features]\n",
    "y = train[labels]"
   ]
  },
  {
   "cell_type": "code",
   "execution_count": 66,
   "metadata": {
    "collapsed": false
   },
   "outputs": [
    {
     "data": {
      "text/plain": [
       "0                 Alec Baldwin Miles Bakshi Jimmy Kimmel\n",
       "1                     Emma Watson Dan Stevens Luke Evans\n",
       "2                Hugh Jackman Patrick Stewart Dafne Keen\n",
       "3      Matthew McConaughey Reese Witherspoon Seth Mac...\n",
       "4           Tom Hiddleston Samuel L. Jackson Brie Larson\n",
       "5            Chris Pratt Bryce Dallas Howard Irrfan Khan\n",
       "6       Scarlett Johansson Pilou Asb\\xe6k Takeshi Kitano\n",
       "7             James McAvoy Anya Taylor-Joy Betty Buckley\n",
       "8       Eddie Redmayne Colin Farrell Katherine Waterston\n",
       "9                Vin Diesel Dwayne Johnson Jason Statham\n",
       "10              Felicity Jones Diego Luna Ben Mendelsohn\n",
       "11              Tom Hardy Charlize Theron Nicholas Hoult\n",
       "12               Amy Adams Jeremy Renner Forest Whitaker\n",
       "13     Matthew McConaughey Jessica Chastain Anne Hath...\n",
       "14                 Chris Pratt Zoe Saldana Dave Bautista\n",
       "15              Keanu Reeves Michael Nyqvist Alfie Allen\n",
       "16     Benedict Cumberbatch Chiwetel Ejiofor Rachel M...\n",
       "17               Ryan Reynolds Morena Baccarin Ed Skrein\n",
       "18       Scott Adkins Teodora Duhovnikova Alon Aboutboul\n",
       "19          Ellen DeGeneres Albert Brooks Hayden Rolence\n",
       "20                   Ryan Gosling Emma Stone John Legend\n",
       "21                 Vin Diesel Paul Walker Dwayne Johnson\n",
       "22      Chris Evans Robert Downey Jr. Scarlett Johansson\n",
       "23         Omar Sy Cl\\xe9mence Po\\xe9sy Antoine Bertrand\n",
       "24                 Dacre Montgomery Naomi Scott RJ Cyler\n",
       "25        Taraji P. Henson Octavia Spencer Janelle Monae\n",
       "26             Asia Argento Cristian Solimeno Adam James\n",
       "27        Jake Gyllenhaal Rebecca Ferguson Ryan Reynolds\n",
       "28     James McAvoy Michael Fassbender Jennifer Lawrence\n",
       "29                 Vin Diesel Ice Cube Samuel L. Jackson\n",
       "                             ...                        \n",
       "510                Harvey Keitel Tim Roth Michael Madsen\n",
       "511            Sylvester Stallone Talia Shire Burt Young\n",
       "512                Choi Min-sik Yoo Ji-tae Kang Hye-jung\n",
       "513                Emma Stone Stanley Tucci Amanda Bynes\n",
       "514             Levi Miller Garrett Hedlund Hugh Jackman\n",
       "515           Douglas Smith Lucien Laviscount Doug Jones\n",
       "516                  Al Pacino Robert De Niro Val Kilmer\n",
       "517                    Ben Stiller Amy Adams Owen Wilson\n",
       "518       Casey Affleck Chiwetel Ejiofor Woody Harrelson\n",
       "519             Atsuko Tanaka Akio Ohtsuka Iemasa Kayumi\n",
       "520            Mel Gibson Joanne Samuel Hugh Keays-Byrne\n",
       "521                    Brad Pitt Orlando Bloom Eric Bana\n",
       "522      Kristen Stewart Robert Pattinson Taylor Lautner\n",
       "523           Joseph Mazzello Michelle Forbes Josh Fadem\n",
       "524       Ewan McGregor Scarlett Johansson Djimon Hounso\n",
       "525     Keanu Reeves Carrie-Anne Moss Laurence Fishburne\n",
       "526                  Liam Neeson Ed Harris Joel Kinnaman\n",
       "527                Val Kilmer Tommy Lee Jones Jim Carrey\n",
       "528             Chris Pratt Elizabeth Banks Will Ferrell\n",
       "529               Imogen Poots Robert Carlyle Rose Byrne\n",
       "530       Matthew McConaughey Jennifer Garner Jared Leto\n",
       "531             Gary Oldman Winona Ryder Anthony Hopkins\n",
       "532                   Tom Hardy Gary Oldman Noomi Rapace\n",
       "533           Jake Johnson Aislinn Derbez Joe Lo Truglio\n",
       "534             Liam Neeson Julianne Moore Scoot McNairy\n",
       "535           Naomi Watts Martin Henderson David Dorfman\n",
       "536           James Stewart Kim Novak Barbara Bel Geddes\n",
       "537        Rod Taylor u\"J. Pat OMalley\" Betty Lou Gerson\n",
       "538    Arnold Schwarzenegger Carl Weathers Elpidia Ca...\n",
       "539              Morgan Freeman Michael Caine Alan Arkin\n",
       "Name: lead actors, dtype: object"
      ]
     },
     "execution_count": 66,
     "metadata": {},
     "output_type": "execute_result"
    }
   ],
   "source": [
    "string_matrix"
   ]
  },
  {
   "cell_type": "code",
   "execution_count": 79,
   "metadata": {
    "collapsed": false
   },
   "outputs": [
    {
     "ename": "ValueError",
     "evalue": "could not convert string to float: Going in Style",
     "output_type": "error",
     "traceback": [
      "\u001b[0;31m---------------------------------------------------------------------------\u001b[0m",
      "\u001b[0;31mValueError\u001b[0m                                Traceback (most recent call last)",
      "\u001b[0;32m<ipython-input-79-2414fd2e26ce>\u001b[0m in \u001b[0;36m<module>\u001b[0;34m()\u001b[0m\n\u001b[1;32m      6\u001b[0m \u001b[0;34m\u001b[0m\u001b[0m\n\u001b[1;32m      7\u001b[0m \u001b[0;31m# fit the multi-target random forest\u001b[0m\u001b[0;34m\u001b[0m\u001b[0;34m\u001b[0m\u001b[0m\n\u001b[0;32m----> 8\u001b[0;31m \u001b[0mfitted_forest\u001b[0m \u001b[0;34m=\u001b[0m \u001b[0mmulti_target_forest\u001b[0m\u001b[0;34m.\u001b[0m\u001b[0mfit\u001b[0m\u001b[0;34m(\u001b[0m\u001b[0mX\u001b[0m\u001b[0;34m,\u001b[0m \u001b[0my\u001b[0m\u001b[0;34m)\u001b[0m\u001b[0;34m\u001b[0m\u001b[0m\n\u001b[0m\u001b[1;32m      9\u001b[0m \u001b[0mpreds\u001b[0m \u001b[0;34m=\u001b[0m \u001b[0mfitted_forest\u001b[0m\u001b[0;34m.\u001b[0m\u001b[0mpredict\u001b[0m\u001b[0;34m(\u001b[0m\u001b[0mX\u001b[0m\u001b[0;34m)\u001b[0m\u001b[0;34m\u001b[0m\u001b[0m\n",
      "\u001b[0;32m/Library/Python/2.7/site-packages/sklearn/multioutput.pyc\u001b[0m in \u001b[0;36mfit\u001b[0;34m(self, X, y, sample_weight)\u001b[0m\n\u001b[1;32m     73\u001b[0m         X, y = check_X_y(X, y,\n\u001b[1;32m     74\u001b[0m                          \u001b[0mmulti_output\u001b[0m\u001b[0;34m=\u001b[0m\u001b[0mTrue\u001b[0m\u001b[0;34m,\u001b[0m\u001b[0;34m\u001b[0m\u001b[0m\n\u001b[0;32m---> 75\u001b[0;31m                          accept_sparse=True)\n\u001b[0m\u001b[1;32m     76\u001b[0m \u001b[0;34m\u001b[0m\u001b[0m\n\u001b[1;32m     77\u001b[0m         \u001b[0;32mif\u001b[0m \u001b[0my\u001b[0m\u001b[0;34m.\u001b[0m\u001b[0mndim\u001b[0m \u001b[0;34m==\u001b[0m \u001b[0;36m1\u001b[0m\u001b[0;34m:\u001b[0m\u001b[0;34m\u001b[0m\u001b[0m\n",
      "\u001b[0;32m/Library/Python/2.7/site-packages/sklearn/utils/validation.pyc\u001b[0m in \u001b[0;36mcheck_X_y\u001b[0;34m(X, y, accept_sparse, dtype, order, copy, force_all_finite, ensure_2d, allow_nd, multi_output, ensure_min_samples, ensure_min_features, y_numeric, warn_on_dtype, estimator)\u001b[0m\n\u001b[1;32m    519\u001b[0m     X = check_array(X, accept_sparse, dtype, order, copy, force_all_finite,\n\u001b[1;32m    520\u001b[0m                     \u001b[0mensure_2d\u001b[0m\u001b[0;34m,\u001b[0m \u001b[0mallow_nd\u001b[0m\u001b[0;34m,\u001b[0m \u001b[0mensure_min_samples\u001b[0m\u001b[0;34m,\u001b[0m\u001b[0;34m\u001b[0m\u001b[0m\n\u001b[0;32m--> 521\u001b[0;31m                     ensure_min_features, warn_on_dtype, estimator)\n\u001b[0m\u001b[1;32m    522\u001b[0m     \u001b[0;32mif\u001b[0m \u001b[0mmulti_output\u001b[0m\u001b[0;34m:\u001b[0m\u001b[0;34m\u001b[0m\u001b[0m\n\u001b[1;32m    523\u001b[0m         y = check_array(y, 'csr', force_all_finite=True, ensure_2d=False,\n",
      "\u001b[0;32m/Library/Python/2.7/site-packages/sklearn/utils/validation.pyc\u001b[0m in \u001b[0;36mcheck_array\u001b[0;34m(array, accept_sparse, dtype, order, copy, force_all_finite, ensure_2d, allow_nd, ensure_min_samples, ensure_min_features, warn_on_dtype, estimator)\u001b[0m\n\u001b[1;32m    400\u001b[0m         \u001b[0;31m# make sure we actually converted to numeric:\u001b[0m\u001b[0;34m\u001b[0m\u001b[0;34m\u001b[0m\u001b[0m\n\u001b[1;32m    401\u001b[0m         \u001b[0;32mif\u001b[0m \u001b[0mdtype_numeric\u001b[0m \u001b[0;32mand\u001b[0m \u001b[0marray\u001b[0m\u001b[0;34m.\u001b[0m\u001b[0mdtype\u001b[0m\u001b[0;34m.\u001b[0m\u001b[0mkind\u001b[0m \u001b[0;34m==\u001b[0m \u001b[0;34m\"O\"\u001b[0m\u001b[0;34m:\u001b[0m\u001b[0;34m\u001b[0m\u001b[0m\n\u001b[0;32m--> 402\u001b[0;31m             \u001b[0marray\u001b[0m \u001b[0;34m=\u001b[0m \u001b[0marray\u001b[0m\u001b[0;34m.\u001b[0m\u001b[0mastype\u001b[0m\u001b[0;34m(\u001b[0m\u001b[0mnp\u001b[0m\u001b[0;34m.\u001b[0m\u001b[0mfloat64\u001b[0m\u001b[0;34m)\u001b[0m\u001b[0;34m\u001b[0m\u001b[0m\n\u001b[0m\u001b[1;32m    403\u001b[0m         \u001b[0;32mif\u001b[0m \u001b[0;32mnot\u001b[0m \u001b[0mallow_nd\u001b[0m \u001b[0;32mand\u001b[0m \u001b[0marray\u001b[0m\u001b[0;34m.\u001b[0m\u001b[0mndim\u001b[0m \u001b[0;34m>=\u001b[0m \u001b[0;36m3\u001b[0m\u001b[0;34m:\u001b[0m\u001b[0;34m\u001b[0m\u001b[0m\n\u001b[1;32m    404\u001b[0m             raise ValueError(\"Found array with dim %d. %s expected <= 2.\"\n",
      "\u001b[0;31mValueError\u001b[0m: could not convert string to float: Going in Style"
     ]
    }
   ],
   "source": [
    "forest = RandomForestClassifier(n_estimators=100, random_state=109)\n",
    "\n",
    "# instantiate the classifier (n_jobs = -1 tells it)\n",
    "# to fit using all CPUs\n",
    "multi_target_forest = MultiOutputClassifier(forest, n_jobs=-1)\n",
    "\n",
    "# fit the multi-target random forest\n",
    "fitted_forest = multi_target_forest.fit(X, y)\n",
    "\n",
    "# predict the label matrix\n",
    "preds = fitted_forest.predict(X)"
   ]
  }
 ],
 "metadata": {
  "kernelspec": {
   "display_name": "Python [Root]",
   "language": "python",
   "name": "Python [Root]"
  },
  "language_info": {
   "codemirror_mode": {
    "name": "ipython",
    "version": 2
   },
   "file_extension": ".py",
   "mimetype": "text/x-python",
   "name": "python",
   "nbconvert_exporter": "python",
   "pygments_lexer": "ipython2",
   "version": "2.7.12"
  }
 },
 "nbformat": 4,
 "nbformat_minor": 1
}
