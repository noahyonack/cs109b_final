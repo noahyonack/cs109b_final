{
 "cells": [
  {
   "cell_type": "markdown",
   "metadata": {
    "collapsed": true,
    "deletable": true,
    "editable": true
   },
   "source": [
    "### Milestone 4: Deep learning, due Wednesday, April 26, 2017\n",
    "\n",
    "You can try different architectures, initializations, parameter settings, optimization methods, etc. Be adventurous and explore deep learning! It can be fun to combine the features learned by the deep learning model with a SVM, or incorporate meta data into your deep learning model. \n",
    "\n",
    "The notebook to submit this week should at least include:\n",
    "\n",
    "- Complete description of the deep network you trained from scratch, including parameter settings, performance, features learned, etc. \n",
    "- Complete description of the pre-trained network that you fine tuned, including parameter settings, performance, features learned, etc. \n",
    "- Discussion of the results, how much improvement you gained with fine tuning, etc. \n",
    "- Discussion of at least one additional exploratory idea you pursued"
   ]
  },
  {
   "cell_type": "code",
   "execution_count": 1,
   "metadata": {
    "collapsed": false,
    "deletable": true,
    "editable": true
   },
   "outputs": [],
   "source": [
    "import urllib2\n",
    "import PIL\n",
    "import os\n",
    "import numpy as np\n",
    "import math\n",
    "\n",
    "# for image manipulation. Easier to do \n",
    "# here than with Keras, as per\n",
    "# https://piazza.com/class/ivlbdd3nigy3um?cid=818\n",
    "#!sudo pip install Image\n",
    "import PIL.Image as Image\n",
    "import pandas as pd\n",
    "import matplotlib.pyplot as plt\n",
    "%matplotlib inline"
   ]
  },
  {
   "cell_type": "code",
   "execution_count": 2,
   "metadata": {
    "collapsed": false,
    "deletable": true,
    "editable": true
   },
   "outputs": [
    {
     "name": "stderr",
     "output_type": "stream",
     "text": [
      "Using TensorFlow backend.\n"
     ]
    }
   ],
   "source": [
    "import keras\n",
    "from keras import backend as K\n",
    "from keras.models import Sequential\n",
    "from keras.optimizers import SGD\n",
    "from keras.layers import Dense, Activation, Conv2D, MaxPooling2D, Flatten"
   ]
  },
  {
   "cell_type": "markdown",
   "metadata": {
    "deletable": true,
    "editable": true
   },
   "source": [
    "## Step One: Extracting Movies From URL "
   ]
  },
  {
   "cell_type": "code",
   "execution_count": 3,
   "metadata": {
    "collapsed": false,
    "deletable": true,
    "editable": true
   },
   "outputs": [],
   "source": [
    "# train = pd.read_csv(\"train_full.csv\")\n",
    "# train.drop(\"Unnamed: 0\", axis=1, inplace=True)\n",
    "# print \"Train shape:\", train.shape\n",
    "# train.head(1)"
   ]
  },
  {
   "cell_type": "code",
   "execution_count": 4,
   "metadata": {
    "collapsed": false,
    "deletable": true,
    "editable": true
   },
   "outputs": [
    {
     "name": "stdout",
     "output_type": "stream",
     "text": [
      "train_thinned shape: (540, 29)\n"
     ]
    },
    {
     "data": {
      "text/html": [
       "<div>\n",
       "<table border=\"1\" class=\"dataframe\">\n",
       "  <thead>\n",
       "    <tr style=\"text-align: right;\">\n",
       "      <th></th>\n",
       "      <th>10402</th>\n",
       "      <th>10749</th>\n",
       "      <th>10751</th>\n",
       "      <th>10752</th>\n",
       "      <th>12</th>\n",
       "      <th>14</th>\n",
       "      <th>16</th>\n",
       "      <th>18</th>\n",
       "      <th>27</th>\n",
       "      <th>28</th>\n",
       "      <th>...</th>\n",
       "      <th>lead actors</th>\n",
       "      <th>movie_id</th>\n",
       "      <th>overview</th>\n",
       "      <th>popularity</th>\n",
       "      <th>poster_path</th>\n",
       "      <th>release_date</th>\n",
       "      <th>title</th>\n",
       "      <th>video</th>\n",
       "      <th>vote_average</th>\n",
       "      <th>vote_count</th>\n",
       "    </tr>\n",
       "  </thead>\n",
       "  <tbody>\n",
       "    <tr>\n",
       "      <th>0</th>\n",
       "      <td>0</td>\n",
       "      <td>0</td>\n",
       "      <td>1</td>\n",
       "      <td>0</td>\n",
       "      <td>0</td>\n",
       "      <td>0</td>\n",
       "      <td>1</td>\n",
       "      <td>0</td>\n",
       "      <td>0</td>\n",
       "      <td>0</td>\n",
       "      <td>...</td>\n",
       "      <td>[u'Alec Baldwin', u'Miles Bakshi', u'Jimmy Kim...</td>\n",
       "      <td>295693</td>\n",
       "      <td>A story about how a new baby's arrival impacts...</td>\n",
       "      <td>305.881041</td>\n",
       "      <td>/unPB1iyEeTBcKiLg8W083rlViFH.jpg</td>\n",
       "      <td>2017-03-23</td>\n",
       "      <td>The Boss Baby</td>\n",
       "      <td>False</td>\n",
       "      <td>5.7</td>\n",
       "      <td>510</td>\n",
       "    </tr>\n",
       "  </tbody>\n",
       "</table>\n",
       "<p>1 rows × 29 columns</p>\n",
       "</div>"
      ],
      "text/plain": [
       "   10402  10749  10751  10752  12  14  16  18  27  28    ...      \\\n",
       "0      0      0      1      0   0   0   1   0   0   0    ...       \n",
       "\n",
       "                                         lead actors  movie_id  \\\n",
       "0  [u'Alec Baldwin', u'Miles Bakshi', u'Jimmy Kim...    295693   \n",
       "\n",
       "                                            overview  popularity  \\\n",
       "0  A story about how a new baby's arrival impacts...  305.881041   \n",
       "\n",
       "                        poster_path  release_date          title  video  \\\n",
       "0  /unPB1iyEeTBcKiLg8W083rlViFH.jpg    2017-03-23  The Boss Baby  False   \n",
       "\n",
       "  vote_average vote_count  \n",
       "0          5.7        510  \n",
       "\n",
       "[1 rows x 29 columns]"
      ]
     },
     "execution_count": 4,
     "metadata": {},
     "output_type": "execute_result"
    }
   ],
   "source": [
    "train_thinned = pd.read_csv(\"train.csv\")\n",
    "train_thinned.drop(\"Unnamed: 0\", axis=1, inplace=True)\n",
    "print \"train_thinned shape:\", train_thinned.shape\n",
    "train_thinned.head(1)"
   ]
  },
  {
   "cell_type": "markdown",
   "metadata": {
    "deletable": true,
    "editable": true
   },
   "source": [
    "## Important. \n",
    "\n",
    "The line below aliases the DF that we want to work with as `curr_df`. When we decide later on to use the full training set instead of just `train_thinned`, all we need to do is set it in the cell below and re-run the code. This will prevent us from having to find/replace all instances of the past dataframe."
   ]
  },
  {
   "cell_type": "code",
   "execution_count": 5,
   "metadata": {
    "collapsed": true,
    "deletable": true,
    "editable": true
   },
   "outputs": [],
   "source": [
    "curr_df = train_thinned"
   ]
  },
  {
   "cell_type": "code",
   "execution_count": 6,
   "metadata": {
    "collapsed": false,
    "deletable": true,
    "editable": true
   },
   "outputs": [],
   "source": [
    "## Helper that downloads web images \n",
    "## Takes in the poster path and the id of the movie \n",
    "## Saves the movie as a jpg as the unique id of the movie \n",
    "## In the images folder.\n",
    "def download_web_image(poster_path, movie_id):\n",
    "    # given that we're going to resize our images to be 32x32\n",
    "    # or something else really small, let's download really small images \n",
    "    # to start\n",
    "    base_url = \"https://image.tmdb.org/t/p/w92/\" \n",
    "    \n",
    "    request = urllib2.Request(base_url + poster_path)\n",
    "    img = urllib2.urlopen(request).read()\n",
    "    image_name= \"images/\" + str(movie_id) + \".jpg\"\n",
    "    \n",
    "    with open(image_name, 'w') as f: \n",
    "        f.write(img)"
   ]
  },
  {
   "cell_type": "code",
   "execution_count": 7,
   "metadata": {
    "collapsed": false,
    "deletable": true,
    "editable": true
   },
   "outputs": [
    {
     "name": "stdout",
     "output_type": "stream",
     "text": [
      "If you actually want to download posters, you'll need to turn the `1` above into a `0`. This code doesn't run by default in the notebook so that you don't accidentally download hundreds of images.\n"
     ]
    }
   ],
   "source": [
    "### iterate through all of the images in the thinned dataset, saving locally \n",
    "if 1:\n",
    "    print \"If you actually want to download posters, you'll need to turn the `1` above into a `0`. This code doesn't run by default in the notebook so that you don't accidentally download hundreds of images.\"\n",
    "else:\n",
    "    for index, row in curr_df.iterrows():\n",
    "        movie_id = row[\"movie_id\"]\n",
    "        poster_path = row[\"poster_path\"] \n",
    "#         download_web_image(poster_path, movie_id)"
   ]
  },
  {
   "cell_type": "code",
   "execution_count": 8,
   "metadata": {
    "collapsed": false,
    "deletable": true,
    "editable": true,
    "scrolled": true
   },
   "outputs": [],
   "source": [
    "img_rows, img_cols = 32, 32\n",
    "\n",
    "# convert each normal poster to a 32x32 grayscale poster\n",
    "for img_name in os.listdir(\"images/\"):\n",
    "    ## This line added to avoid hidden files on mac (Stephen)\n",
    "    if not img_name.startswith('.'):\n",
    "        # read in an image and convert to greyscale\n",
    "        im = Image.open(\"images/\" + img_name).convert(\"L\")\n",
    "        out = im.resize((img_rows, img_cols))\n",
    "        out.save(\"nn_ready_images/\" + img_name)"
   ]
  },
  {
   "cell_type": "markdown",
   "metadata": {
    "deletable": true,
    "editable": true
   },
   "source": [
    "# 1. Building a CNN from Scratch"
   ]
  },
  {
   "cell_type": "code",
   "execution_count": 9,
   "metadata": {
    "collapsed": true,
    "deletable": true,
    "editable": true
   },
   "outputs": [],
   "source": [
    "epochs = 30\n",
    "batch_size = 128"
   ]
  },
  {
   "cell_type": "markdown",
   "metadata": {
    "deletable": true,
    "editable": true
   },
   "source": [
    "### Data Wrangling"
   ]
  },
  {
   "cell_type": "code",
   "execution_count": 10,
   "metadata": {
    "collapsed": true,
    "deletable": true,
    "editable": true
   },
   "outputs": [],
   "source": [
    "# number of labels in our output\n",
    "n_labels = 17"
   ]
  },
  {
   "cell_type": "code",
   "execution_count": 11,
   "metadata": {
    "collapsed": false,
    "deletable": true,
    "editable": true
   },
   "outputs": [],
   "source": [
    "# now we need training and testing data. in the current state,\n",
    "# we have a bunch of greyscale images named by their movie ids.\n",
    "# to get the data, we can first just split all the movie ids (X) in the\n",
    "# dataframe intro train and test sets, and then grab their multilabel\n",
    "# matrices (y)\n",
    "m_ids = curr_df.movie_id.values\n",
    "\n",
    "# shuffle the ids to get a random sample\n",
    "np.random.shuffle(m_ids)\n",
    "train_size = int(math.floor(.7 * len(m_ids)))\n",
    "\n",
    "# get the movie_ids (each of which has an image in \"nn_images_ready/\"\n",
    "# which is ready to be put through the neural net\n",
    "train_ids = m_ids[:train_size]\n",
    "test_ids = m_ids[train_size:]"
   ]
  },
  {
   "cell_type": "code",
   "execution_count": 12,
   "metadata": {
    "collapsed": false,
    "deletable": true,
    "editable": true
   },
   "outputs": [
    {
     "name": "stdout",
     "output_type": "stream",
     "text": [
      "y_train shape: (378, 17)\n",
      "y_test shape: (162, 17)\n"
     ]
    }
   ],
   "source": [
    "# these are the column names of the multilabel matrix\n",
    "label_names = curr_df.columns[:n_labels]\n",
    "\n",
    "y_train = np.array([curr_df[curr_df.movie_id == movie_id][label_names].values[0] for movie_id in train_ids])\n",
    "y_test  = np.array([curr_df[curr_df.movie_id == movie_id][label_names].values[0] for movie_id in test_ids])\n",
    "\n",
    "# should be (num_samples, num_labels)\n",
    "print \"y_train shape:\", y_train.shape\n",
    "print \"y_test shape:\", y_test.shape"
   ]
  },
  {
   "cell_type": "code",
   "execution_count": 13,
   "metadata": {
    "collapsed": true,
    "deletable": true,
    "editable": true
   },
   "outputs": [],
   "source": [
    "# smaller batch size means noisier gradient, but more updates per epoch\n",
    "# batch_size = 512\n",
    "\n",
    "# number of iterations over the complete training data\n",
    "# epochs = 30"
   ]
  },
  {
   "cell_type": "code",
   "execution_count": 14,
   "metadata": {
    "collapsed": false,
    "deletable": true,
    "editable": true
   },
   "outputs": [],
   "source": [
    "# load image matrices into memory\n",
    "x_train = np.array([np.asarray(Image.open(\"nn_ready_images/\" + str(m_id) + \".jpg\")) for m_id in train_ids])\n",
    "x_test =  np.array([np.asarray(Image.open(\"nn_ready_images/\" + str(m_id) + \".jpg\")) for m_id in test_ids])"
   ]
  },
  {
   "cell_type": "code",
   "execution_count": 15,
   "metadata": {
    "collapsed": false,
    "deletable": true,
    "editable": true
   },
   "outputs": [
    {
     "name": "stdout",
     "output_type": "stream",
     "text": [
      "x_train shape: (378, 32, 32)\n",
      "x_test shape: (162, 32, 32)\n"
     ]
    }
   ],
   "source": [
    "# output should be (num_images, img_height, img_width)\n",
    "print \"x_train shape:\", x_train.shape\n",
    "print \"x_test shape:\", x_test.shape"
   ]
  },
  {
   "cell_type": "code",
   "execution_count": 16,
   "metadata": {
    "collapsed": false,
    "deletable": true,
    "editable": true
   },
   "outputs": [
    {
     "name": "stdout",
     "output_type": "stream",
     "text": [
      "x_train shape: (378, 32, 32, 1)\n",
      "378 train samples\n",
      "162 test samples\n"
     ]
    }
   ],
   "source": [
    "# code borrowed from Keras_CNN lab\n",
    "\n",
    "# now we need to reshape x_train and x_test so that they work with CNNs\n",
    "# Following the example in \"labs/Keras_CNN.ipynb\", this needs to be an array \n",
    "# of images with shape determined by the backend, including the depth dimension,\n",
    "# which is 1 for greyscale\n",
    "\n",
    "# x_train is of shape n_samples x 32 x 32\n",
    "# for a CNN we want to keep the image shape\n",
    "# need to explicitly tell keras that it is a gray value image\n",
    "# so each image is 32x32x1 not 32x32x3\n",
    "if K.image_data_format() == 'channels_first':\n",
    "    x_train = x_train.reshape(x_train.shape[0], 1, img_rows, img_cols)\n",
    "    x_test = x_test.reshape(x_test.shape[0], 1, img_rows, img_cols)\n",
    "    input_shape = (1, img_rows, img_cols)\n",
    "else:\n",
    "    x_train = x_train.reshape(x_train.shape[0], img_rows, img_cols, 1)\n",
    "    x_test = x_test.reshape(x_test.shape[0], img_rows, img_cols, 1)\n",
    "    input_shape = (img_rows, img_cols, 1)\n",
    "    \n",
    "# normalize image values to [0,1]\n",
    "x_train = x_train.astype('float32')\n",
    "x_test = x_test.astype('float32')\n",
    "x_train /= 255\n",
    "x_test /= 255\n",
    "\n",
    "print \"x_train shape:\", x_train.shape\n",
    "print x_train.shape[0], \"train samples\"\n",
    "print x_test.shape[0], \"test samples\""
   ]
  },
  {
   "cell_type": "markdown",
   "metadata": {
    "deletable": true,
    "editable": true
   },
   "source": [
    "### Model Architecture"
   ]
  },
  {
   "cell_type": "code",
   "execution_count": 17,
   "metadata": {
    "collapsed": true,
    "deletable": true,
    "editable": true
   },
   "outputs": [],
   "source": [
    "def CNN_from_scratch(n_layers, filters, kernels, activation_function):\n",
    "    \"\"\"\n",
    "    Wrapper function to create a CNN from scratch.\n",
    "    \n",
    "    We treat the number of layers, filter size, kernel size, and activation \n",
    "    function as parameters which can then be tuned.\n",
    "    \"\"\"\n",
    "    # create an empty network model\n",
    "    model = Sequential()\n",
    "    \n",
    "    for i in n_layers:\n",
    "        # define the input layer to the CNN\n",
    "        # input shape is a tuple of the # rows, # cols, and # channels (1 for grayscale)\n",
    "        # the first parameter to Conv2D is the number of filters we want to convolve\n",
    "        # over the input images\n",
    "        model.add(Conv2D(filters[i], \n",
    "                         kernel_size=kernels[i], \n",
    "                         activation=activation_function, \n",
    "                         input_shape=input_shape)\n",
    "                 )\n",
    "\n",
    "        # create a max pooling layer\n",
    "        model.add(MaxPooling2D(pool_size=(2, 2)))\n",
    "\n",
    "    # flatten for fully connected classification layer\n",
    "    model.add(Flatten())\n",
    "\n",
    "    # --- fully connected layer ---\n",
    "    model.add(Dense(64, activation='relu'))\n",
    "\n",
    "    # recommended by: https://github.com/fchollet/keras/issues/761\n",
    "    # uses a sigmoid activation rather than softmax, which apparently\n",
    "    # gives us a label vector back\n",
    "    model.add(Dense(n_labels, activation='sigmoid'))\n",
    "\n",
    "    # prints out a summary of the model architecture\n",
    "    model.summary()\n",
    "\n",
    "    # the setup is our basic categorical crossentropy with stochastic gradient decent\n",
    "    # we also specify that we want to evaluate our model in terms of accuracy\n",
    "    sgd = SGD(lr=0.1, momentum=0.9)\n",
    "\n",
    "    # compile the model\n",
    "    model.compile(loss='binary_crossentropy',\n",
    "                  optimizer=sgd,\n",
    "                  metrics=['accuracy'])\n",
    "\n",
    "    # this is now the actual training\n",
    "    # in addition to the training data we provide validation data\n",
    "    # this data is used to calculate the performance of the model over all the epochs\n",
    "    # this is useful to determine when training should stop\n",
    "    # in our case we just use it to monitor the evolution of the model over the training epochs\n",
    "    # if we use the validation data to determine when to stop the training or which model to save, we \n",
    "    # should not use the test data, but a separate validation set. \n",
    "    history = model.fit(x_train, y_train,\n",
    "                        batch_size=batch_size,\n",
    "                        epochs=epochs,\n",
    "                        verbose=1,\n",
    "                        validation_data=(x_test, y_test))\n",
    "    \n",
    "    # once training is complete, let's see how well we have done\n",
    "    score = model.evaluate(x_test, y_test, verbose=0)\n",
    "    print('Test loss:', score[0])\n",
    "    print('Test accuracy:', score[1])\n",
    "\n",
    "    return score"
   ]
  },
  {
   "cell_type": "code",
   "execution_count": 18,
   "metadata": {
    "collapsed": false,
    "deletable": true,
    "editable": true
   },
   "outputs": [
    {
     "name": "stdout",
     "output_type": "stream",
     "text": [
      "_________________________________________________________________\n",
      "Layer (type)                 Output Shape              Param #   \n",
      "=================================================================\n",
      "conv2d_1 (Conv2D)            (None, 30, 30, 8)         80        \n",
      "_________________________________________________________________\n",
      "max_pooling2d_1 (MaxPooling2 (None, 15, 15, 8)         0         \n",
      "_________________________________________________________________\n",
      "flatten_1 (Flatten)          (None, 1800)              0         \n",
      "_________________________________________________________________\n",
      "dense_1 (Dense)              (None, 64)                115264    \n",
      "_________________________________________________________________\n",
      "dense_2 (Dense)              (None, 17)                1105      \n",
      "=================================================================\n",
      "Total params: 116,449.0\n",
      "Trainable params: 116,449.0\n",
      "Non-trainable params: 0.0\n",
      "_________________________________________________________________\n",
      "Train on 378 samples, validate on 162 samples\n",
      "Epoch 1/30\n",
      "378/378 [==============================] - 0s - loss: 0.6853 - acc: 0.5442 - val_loss: 0.6642 - val_acc: 0.6993\b\b\b\b\b\b\b\b\b\b\b\b\b\b\b\b\b\b\b\b\b\b\b\b\b\b\b\b\b\b\b\b\b\b\b\b\b\b\b\b\b\b\b\b\b\b\b\n",
      "Epoch 2/30\n",
      "378/378 [==============================] - 0s - loss: 0.6372 - acc: 0.7515 - val_loss: 0.5582 - val_acc: 0.7890\b\b\b\b\b\b\b\b\b\b\b\b\b\b\b\b\b\b\b\b\b\b\b\b\b\b\b\b\b\b\b\b\b\b\b\b\b\b\b\b\b\b\b\b\b\b\b\n",
      "Epoch 3/30\n",
      "378/378 [==============================] - 0s - loss: 0.5025 - acc: 0.8016 - val_loss: 0.4556 - val_acc: 0.8297\b\b\b\b\b\b\b\b\b\b\b\b\b\b\b\b\b\b\b\b\b\b\b\b\b\b\b\b\b\b\b\b\b\b\b\b\b\b\b\b\b\b\b\b\b\b\b\n",
      "Epoch 4/30\n",
      "378/378 [==============================] - 0s - loss: 0.4514 - acc: 0.8265 - val_loss: 0.4896 - val_acc: 0.8101\b\b\b\b\b\b\b\b\b\b\b\b\b\b\b\b\b\b\b\b\b\b\b\b\b\b\b\b\b\b\b\b\b\b\b\b\b\b\b\b\b\b\b\b\b\b\b\n",
      "Epoch 5/30\n",
      "378/378 [==============================] - 0s - loss: 0.4484 - acc: 0.8171 - val_loss: 0.4582 - val_acc: 0.7970\b\b\b\b\b\b\b\b\b\b\b\b\b\b\b\b\b\b\b\b\b\b\b\b\b\b\b\b\b\b\b\b\b\b\b\b\b\b\b\b\b\b\b\b\b\b\b\n",
      "Epoch 6/30\n",
      "378/378 [==============================] - 0s - loss: 0.4228 - acc: 0.8145 - val_loss: 0.4233 - val_acc: 0.8253\b\b\b\b\b\b\b\b\b\b\b\b\b\b\b\b\b\b\b\b\b\b\b\b\b\b\b\b\b\b\b\b\b\b\b\b\b\b\b\b\b\b\b\b\b\b\b\n",
      "Epoch 7/30\n",
      "378/378 [==============================] - 0s - loss: 0.4172 - acc: 0.8254 - val_loss: 0.4254 - val_acc: 0.8293\b\b\b\b\b\b\b\b\b\b\b\b\b\b\b\b\b\b\b\b\b\b\b\b\b\b\b\b\b\b\b\b\b\b\b\b\b\b\b\b\b\b\b\b\b\b\b\n",
      "Epoch 8/30\n",
      "378/378 [==============================] - 0s - loss: 0.4128 - acc: 0.8265 - val_loss: 0.4155 - val_acc: 0.8293\b\b\b\b\b\b\b\b\b\b\b\b\b\b\b\b\b\b\b\b\b\b\b\b\b\b\b\b\b\b\b\b\b\b\b\b\b\b\b\b\b\b\b\b\b\b\b\n",
      "Epoch 9/30\n",
      "378/378 [==============================] - 0s - loss: 0.4017 - acc: 0.8249 - val_loss: 0.4143 - val_acc: 0.8130\b\b\b\b\b\b\b\b\b\b\b\b\b\b\b\b\b\b\b\b\b\b\b\b\b\b\b\b\b\b\b\b\b\b\b\b\b\b\b\b\b\b\b\b\b\b\b\n",
      "Epoch 10/30\n",
      "378/378 [==============================] - 0s - loss: 0.3998 - acc: 0.8229 - val_loss: 0.4155 - val_acc: 0.8264\b\b\b\b\b\b\b\b\b\b\b\b\b\b\b\b\b\b\b\b\b\b\b\b\b\b\b\b\b\b\b\b\b\b\b\b\b\b\b\b\b\b\b\b\b\b\b\n",
      "Epoch 11/30\n",
      "378/378 [==============================] - 0s - loss: 0.3985 - acc: 0.8266 - val_loss: 0.4139 - val_acc: 0.8293\b\b\b\b\b\b\b\b\b\b\b\b\b\b\b\b\b\b\b\b\b\b\b\b\b\b\b\b\b\b\b\b\b\b\b\b\b\b\b\b\b\b\b\b\b\b\b\n",
      "Epoch 12/30\n",
      "378/378 [==============================] - 0s - loss: 0.3960 - acc: 0.8265 - val_loss: 0.4127 - val_acc: 0.8293\b\b\b\b\b\b\b\b\b\b\b\b\b\b\b\b\b\b\b\b\b\b\b\b\b\b\b\b\b\b\b\b\b\b\b\b\b\b\b\b\b\b\b\b\b\b\b\n",
      "Epoch 13/30\n",
      "378/378 [==============================] - 0s - loss: 0.3941 - acc: 0.8265 - val_loss: 0.4121 - val_acc: 0.8293\b\b\b\b\b\b\b\b\b\b\b\b\b\b\b\b\b\b\b\b\b\b\b\b\b\b\b\b\b\b\b\b\b\b\b\b\b\b\b\b\b\b\b\b\b\b\b\n",
      "Epoch 14/30\n",
      "378/378 [==============================] - 0s - loss: 0.3941 - acc: 0.8265 - val_loss: 0.4101 - val_acc: 0.8293\b\b\b\b\b\b\b\b\b\b\b\b\b\b\b\b\b\b\b\b\b\b\b\b\b\b\b\b\b\b\b\b\b\b\b\b\b\b\b\b\b\b\b\b\b\b\b\n",
      "Epoch 15/30\n",
      "378/378 [==============================] - 0s - loss: 0.3935 - acc: 0.8265 - val_loss: 0.4082 - val_acc: 0.8293\b\b\b\b\b\b\b\b\b\b\b\b\b\b\b\b\b\b\b\b\b\b\b\b\b\b\b\b\b\b\b\b\b\b\b\b\b\b\b\b\b\b\b\b\b\b\b\n",
      "Epoch 16/30\n",
      "378/378 [==============================] - 0s - loss: 0.3930 - acc: 0.8265 - val_loss: 0.4073 - val_acc: 0.8293\b\b\b\b\b\b\b\b\b\b\b\b\b\b\b\b\b\b\b\b\b\b\b\b\b\b\b\b\b\b\b\b\b\b\b\b\b\b\b\b\b\b\b\b\b\b\b\n",
      "Epoch 17/30\n",
      "378/378 [==============================] - 0s - loss: 0.3923 - acc: 0.8265 - val_loss: 0.4093 - val_acc: 0.8293\b\b\b\b\b\b\b\b\b\b\b\b\b\b\b\b\b\b\b\b\b\b\b\b\b\b\b\b\b\b\b\b\b\b\b\b\b\b\b\b\b\b\b\b\b\b\b\n",
      "Epoch 18/30\n",
      "378/378 [==============================] - 0s - loss: 0.3919 - acc: 0.8266 - val_loss: 0.4085 - val_acc: 0.8297\b\b\b\b\b\b\b\b\b\b\b\b\b\b\b\b\b\b\b\b\b\b\b\b\b\b\b\b\b\b\b\b\b\b\b\b\b\b\b\b\b\b\b\b\b\b\b\n",
      "Epoch 19/30\n",
      "378/378 [==============================] - 0s - loss: 0.3916 - acc: 0.8265 - val_loss: 0.4076 - val_acc: 0.8293\b\b\b\b\b\b\b\b\b\b\b\b\b\b\b\b\b\b\b\b\b\b\b\b\b\b\b\b\b\b\b\b\b\b\b\b\b\b\b\b\b\b\b\b\b\b\b\n",
      "Epoch 20/30\n",
      "378/378 [==============================] - 0s - loss: 0.3911 - acc: 0.8265 - val_loss: 0.4065 - val_acc: 0.8293\b\b\b\b\b\b\b\b\b\b\b\b\b\b\b\b\b\b\b\b\b\b\b\b\b\b\b\b\b\b\b\b\b\b\b\b\b\b\b\b\b\b\b\b\b\b\b\n",
      "Epoch 21/30\n",
      "378/378 [==============================] - 0s - loss: 0.3910 - acc: 0.8265 - val_loss: 0.4069 - val_acc: 0.8293\b\b\b\b\b\b\b\b\b\b\b\b\b\b\b\b\b\b\b\b\b\b\b\b\b\b\b\b\b\b\b\b\b\b\b\b\b\b\b\b\b\b\b\b\b\b\b\n",
      "Epoch 22/30\n",
      "378/378 [==============================] - 0s - loss: 0.3905 - acc: 0.8265 - val_loss: 0.4085 - val_acc: 0.8293\b\b\b\b\b\b\b\b\b\b\b\b\b\b\b\b\b\b\b\b\b\b\b\b\b\b\b\b\b\b\b\b\b\b\b\b\b\b\b\b\b\b\b\b\b\b\b\n",
      "Epoch 23/30\n",
      "378/378 [==============================] - 0s - loss: 0.3905 - acc: 0.8265 - val_loss: 0.4094 - val_acc: 0.8293\b\b\b\b\b\b\b\b\b\b\b\b\b\b\b\b\b\b\b\b\b\b\b\b\b\b\b\b\b\b\b\b\b\b\b\b\b\b\b\b\b\b\b\b\b\b\b\n",
      "Epoch 24/30\n",
      "378/378 [==============================] - 0s - loss: 0.3899 - acc: 0.8265 - val_loss: 0.4069 - val_acc: 0.8293\b\b\b\b\b\b\b\b\b\b\b\b\b\b\b\b\b\b\b\b\b\b\b\b\b\b\b\b\b\b\b\b\b\b\b\b\b\b\b\b\b\b\b\b\b\b\b\n",
      "Epoch 25/30\n",
      "378/378 [==============================] - 0s - loss: 0.3896 - acc: 0.8265 - val_loss: 0.4068 - val_acc: 0.8293\b\b\b\b\b\b\b\b\b\b\b\b\b\b\b\b\b\b\b\b\b\b\b\b\b\b\b\b\b\b\b\b\b\b\b\b\b\b\b\b\b\b\b\b\b\b\b\n",
      "Epoch 26/30\n",
      "378/378 [==============================] - 0s - loss: 0.3896 - acc: 0.8266 - val_loss: 0.4089 - val_acc: 0.8297\b\b\b\b\b\b\b\b\b\b\b\b\b\b\b\b\b\b\b\b\b\b\b\b\b\b\b\b\b\b\b\b\b\b\b\b\b\b\b\b\b\b\b\b\b\b\b\n",
      "Epoch 27/30\n",
      "378/378 [==============================] - 0s - loss: 0.3891 - acc: 0.8271 - val_loss: 0.4100 - val_acc: 0.8297\b\b\b\b\b\b\b\b\b\b\b\b\b\b\b\b\b\b\b\b\b\b\b\b\b\b\b\b\b\b\b\b\b\b\b\b\b\b\b\b\b\b\b\b\b\b\b\n",
      "Epoch 28/30\n",
      "378/378 [==============================] - 0s - loss: 0.3883 - acc: 0.8270 - val_loss: 0.4086 - val_acc: 0.8293\b\b\b\b\b\b\b\b\b\b\b\b\b\b\b\b\b\b\b\b\b\b\b\b\b\b\b\b\b\b\b\b\b\b\b\b\b\b\b\b\b\b\b\b\b\b\b\n",
      "Epoch 29/30\n",
      "378/378 [==============================] - 0s - loss: 0.3880 - acc: 0.8266 - val_loss: 0.4080 - val_acc: 0.8293\b\b\b\b\b\b\b\b\b\b\b\b\b\b\b\b\b\b\b\b\b\b\b\b\b\b\b\b\b\b\b\b\b\b\b\b\b\b\b\b\b\b\b\b\b\b\b\n",
      "Epoch 30/30\n",
      "378/378 [==============================] - 0s - loss: 0.3875 - acc: 0.8265 - val_loss: 0.4085 - val_acc: 0.8297\b\b\b\b\b\b\b\b\b\b\b\b\b\b\b\b\b\b\b\b\b\b\b\b\b\b\b\b\b\b\b\b\b\b\b\b\b\b\b\b\b\b\b\b\b\b\b\n",
      "('Test loss:', 0.40853812554736196)\n",
      "('Test accuracy:', 0.82970227871412117)\n"
     ]
    }
   ],
   "source": [
    "model_iter_1 = CNN_from_scratch(n_layers=range(1), filters=[8], kernels=[(3, 3)], activation_function='relu')[0]"
   ]
  },
  {
   "cell_type": "markdown",
   "metadata": {
    "deletable": true,
    "editable": true
   },
   "source": [
    "# Tuning our CNN from Scratch\n",
    "\n",
    "Per this quora answer: https://www.quora.com/How-can-I-decide-the-kernel-size-output-maps-and-layers-of-CNN\n",
    "\n",
    "### On Kernels\n",
    "- For kernel size, in general, smaller + deeper kernels are better\n",
    "- Deeper networks are generally better (more layers), at the cost of more data required and increased learning complexity\n",
    "\n",
    "### On batch\n",
    "- batch size should be a few hundred\n",
    "\n",
    "### On Filters\n",
    "- initially should use fewer filters and gradually increase and monitor the error rate to see how it is varying\n",
    "- very small filter sizes will capture very fine details of the image, bigger filters will leave out minute details in the image\n",
    "- common kernel sizes are 3x3, 5x5, and 7x7"
   ]
  },
  {
   "cell_type": "code",
   "execution_count": 19,
   "metadata": {
    "collapsed": false,
    "deletable": true,
    "editable": true
   },
   "outputs": [
    {
     "name": "stdout",
     "output_type": "stream",
     "text": [
      "_________________________________________________________________\n",
      "Layer (type)                 Output Shape              Param #   \n",
      "=================================================================\n",
      "conv2d_2 (Conv2D)            (None, 28, 28, 16)        416       \n",
      "_________________________________________________________________\n",
      "max_pooling2d_2 (MaxPooling2 (None, 14, 14, 16)        0         \n",
      "_________________________________________________________________\n",
      "conv2d_3 (Conv2D)            (None, 12, 12, 32)        4640      \n",
      "_________________________________________________________________\n",
      "max_pooling2d_3 (MaxPooling2 (None, 6, 6, 32)          0         \n",
      "_________________________________________________________________\n",
      "conv2d_4 (Conv2D)            (None, 4, 4, 64)          18496     \n",
      "_________________________________________________________________\n",
      "max_pooling2d_4 (MaxPooling2 (None, 2, 2, 64)          0         \n",
      "_________________________________________________________________\n",
      "flatten_2 (Flatten)          (None, 256)               0         \n",
      "_________________________________________________________________\n",
      "dense_3 (Dense)              (None, 64)                16448     \n",
      "_________________________________________________________________\n",
      "dense_4 (Dense)              (None, 17)                1105      \n",
      "=================================================================\n",
      "Total params: 41,105.0\n",
      "Trainable params: 41,105.0\n",
      "Non-trainable params: 0.0\n",
      "_________________________________________________________________\n"
     ]
    }
   ],
   "source": [
    "# create an empty network model\n",
    "model = Sequential()\n",
    "\n",
    "# define the input layer to the CNN\n",
    "# input shape is a tuple of the # rows, # cols, and # channels (1 for grayscale)\n",
    "# the first parameter to Conv2D is the number of filters we want to convolve\n",
    "# over the input images\n",
    "model.add(Conv2D(16, kernel_size=(5, 5), activation='relu', input_shape=input_shape))\n",
    "\n",
    "# create a max pooling layer\n",
    "model.add(MaxPooling2D(pool_size=(2, 2)))\n",
    "\n",
    "# add another convolution layer\n",
    "# we could double the number of filters as max pool made the \n",
    "# feature maps much smaller, but we're not doing this to improve runtime\n",
    "model.add(Conv2D(32, kernel_size=(3, 3), activation='relu'))\n",
    "\n",
    "# create a max pooling layer\n",
    "model.add(MaxPooling2D(pool_size=(2, 2)))\n",
    "\n",
    "# ================\n",
    "\n",
    "model.add(Conv2D(64, kernel_size=(3, 3), activation='relu'))\n",
    "\n",
    "# create a max pooling layer\n",
    "model.add(MaxPooling2D(pool_size=(2, 2)))\n",
    "\n",
    "# ================\n",
    "\n",
    "# flatten for fully connected classification layer\n",
    "model.add(Flatten())\n",
    "\n",
    "# note that the 10 is the number of classes we have\n",
    "# the classes are mutually exclusive so softmax is a good choice\n",
    "# --- fully connected layer ---\n",
    "model.add(Dense(64, activation='relu'))\n",
    "\n",
    "# recommended by: https://github.com/fchollet/keras/issues/761\n",
    "# uses a sigmoid activation rather than softmax, which apparently\n",
    "# gives us a label vector back\n",
    "model.add(Dense(n_labels, activation='sigmoid'))\n",
    "\n",
    "# prints out a summary of the model architecture\n",
    "model.summary()"
   ]
  },
  {
   "cell_type": "markdown",
   "metadata": {
    "deletable": true,
    "editable": true
   },
   "source": [
    "### Compile the model\n",
    "\n",
    "Let's use a large learning rate (0.1) while we're working locally"
   ]
  },
  {
   "cell_type": "code",
   "execution_count": 20,
   "metadata": {
    "collapsed": false,
    "deletable": true,
    "editable": true
   },
   "outputs": [],
   "source": [
    "# the setup is our basic categorical crossentropy with stochastic gradient decent\n",
    "# we also specify that we want to evaluate our model in terms of accuracy\n",
    "sgd = SGD(lr=0.01, momentum=0.9)\n",
    "\n",
    "# TODO: why are we using binary crossentropy?\n",
    "# I'm not sure, but it works much better than\n",
    "# categorical crossentropy.\n",
    "model.compile(loss='binary_crossentropy',\n",
    "              optimizer=sgd,\n",
    "              metrics=['accuracy'])"
   ]
  },
  {
   "cell_type": "markdown",
   "metadata": {
    "deletable": true,
    "editable": true
   },
   "source": [
    "### Train the model"
   ]
  },
  {
   "cell_type": "code",
   "execution_count": 21,
   "metadata": {
    "collapsed": false,
    "deletable": true,
    "editable": true
   },
   "outputs": [
    {
     "name": "stdout",
     "output_type": "stream",
     "text": [
      "Train on 378 samples, validate on 162 samples\n",
      "Epoch 1/30\n",
      "378/378 [==============================] - 0s - loss: 0.6967 - acc: 0.4077 - val_loss: 0.6949 - val_acc: 0.4259\b\b\b\b\b\b\b\b\b\b\b\b\b\b\b\b\b\b\b\b\b\b\b\b\b\b\b\b\b\b\b\b\b\b\b\b\b\b\b\b\b\b\b\b\b\b\b\n",
      "Epoch 2/30\n",
      "378/378 [==============================] - 0s - loss: 0.6934 - acc: 0.4599 - val_loss: 0.6905 - val_acc: 0.5080\b\b\b\b\b\b\b\b\b\b\b\b\b\b\b\b\b\b\b\b\b\b\b\b\b\b\b\b\b\b\b\b\b\b\b\b\b\b\b\b\b\b\b\b\b\b\b\n",
      "Epoch 3/30\n",
      "378/378 [==============================] - 0s - loss: 0.6887 - acc: 0.5557 - val_loss: 0.6861 - val_acc: 0.5984\b\b\b\b\b\b\b\b\b\b\b\b\b\b\b\b\b\b\b\b\b\b\b\b\b\b\b\b\b\b\b\b\b\b\b\b\b\b\b\b\b\b\b\b\b\b\b\n",
      "Epoch 4/30\n",
      "378/378 [==============================] - 0s - loss: 0.6840 - acc: 0.6453 - val_loss: 0.6813 - val_acc: 0.6983\b\b\b\b\b\b\b\b\b\b\b\b\b\b\b\b\b\b\b\b\b\b\b\b\b\b\b\b\b\b\b\b\b\b\b\b\b\b\b\b\b\b\b\b\b\b\b\n",
      "Epoch 5/30\n",
      "378/378 [==============================] - 0s - loss: 0.6788 - acc: 0.7319 - val_loss: 0.6762 - val_acc: 0.7607\b\b\b\b\b\b\b\b\b\b\b\b\b\b\b\b\b\b\b\b\b\b\b\b\b\b\b\b\b\b\b\b\b\b\b\b\b\b\b\b\b\b\b\b\b\b\b\n",
      "Epoch 6/30\n",
      "378/378 [==============================] - 0s - loss: 0.6732 - acc: 0.7834 - val_loss: 0.6704 - val_acc: 0.7967\b\b\b\b\b\b\b\b\b\b\b\b\b\b\b\b\b\b\b\b\b\b\b\b\b\b\b\b\b\b\b\b\b\b\b\b\b\b\b\b\b\b\b\b\b\b\b\n",
      "Epoch 7/30\n",
      "378/378 [==============================] - 0s - loss: 0.6670 - acc: 0.8089 - val_loss: 0.6637 - val_acc: 0.8065\b\b\b\b\b\b\b\b\b\b\b\b\b\b\b\b\b\b\b\b\b\b\b\b\b\b\b\b\b\b\b\b\b\b\b\b\b\b\b\b\b\b\b\b\b\b\b\n",
      "Epoch 8/30\n",
      "378/378 [==============================] - 0s - loss: 0.6599 - acc: 0.8162 - val_loss: 0.6560 - val_acc: 0.8072\b\b\b\b\b\b\b\b\b\b\b\b\b\b\b\b\b\b\b\b\b\b\b\b\b\b\b\b\b\b\b\b\b\b\b\b\b\b\b\b\b\b\b\b\b\b\b\n",
      "Epoch 9/30\n",
      "378/378 [==============================] - 0s - loss: 0.6514 - acc: 0.8190 - val_loss: 0.6468 - val_acc: 0.8076\b\b\b\b\b\b\b\b\b\b\b\b\b\b\b\b\b\b\b\b\b\b\b\b\b\b\b\b\b\b\b\b\b\b\b\b\b\b\b\b\b\b\b\b\b\b\b\n",
      "Epoch 10/30\n",
      "378/378 [==============================] - 0s - loss: 0.6414 - acc: 0.8198 - val_loss: 0.6358 - val_acc: 0.8076\b\b\b\b\b\b\b\b\b\b\b\b\b\b\b\b\b\b\b\b\b\b\b\b\b\b\b\b\b\b\b\b\b\b\b\b\b\b\b\b\b\b\b\b\b\b\b\n",
      "Epoch 11/30\n",
      "378/378 [==============================] - 0s - loss: 0.6291 - acc: 0.8189 - val_loss: 0.6223 - val_acc: 0.8076\b\b\b\b\b\b\b\b\b\b\b\b\b\b\b\b\b\b\b\b\b\b\b\b\b\b\b\b\b\b\b\b\b\b\b\b\b\b\b\b\b\b\b\b\b\b\b\n",
      "Epoch 12/30\n",
      "378/378 [==============================] - 0s - loss: 0.6140 - acc: 0.8181 - val_loss: 0.6053 - val_acc: 0.8079\b\b\b\b\b\b\b\b\b\b\b\b\b\b\b\b\b\b\b\b\b\b\b\b\b\b\b\b\b\b\b\b\b\b\b\b\b\b\b\b\b\b\b\b\b\b\b\n",
      "Epoch 13/30\n",
      "378/378 [==============================] - 0s - loss: 0.5946 - acc: 0.8179 - val_loss: 0.5837 - val_acc: 0.8079\b\b\b\b\b\b\b\b\b\b\b\b\b\b\b\b\b\b\b\b\b\b\b\b\b\b\b\b\b\b\b\b\b\b\b\b\b\b\b\b\b\b\b\b\b\b\b\n",
      "Epoch 14/30\n",
      "378/378 [==============================] - 0s - loss: 0.5698 - acc: 0.8182 - val_loss: 0.5567 - val_acc: 0.8079\b\b\b\b\b\b\b\b\b\b\b\b\b\b\b\b\b\b\b\b\b\b\b\b\b\b\b\b\b\b\b\b\b\b\b\b\b\b\b\b\b\b\b\b\b\b\b\n",
      "Epoch 15/30\n",
      "378/378 [==============================] - 0s - loss: 0.5394 - acc: 0.8184 - val_loss: 0.5246 - val_acc: 0.8079\b\b\b\b\b\b\b\b\b\b\b\b\b\b\b\b\b\b\b\b\b\b\b\b\b\b\b\b\b\b\b\b\b\b\b\b\b\b\b\b\b\b\b\b\b\b\b\n",
      "Epoch 16/30\n",
      "378/378 [==============================] - 0s - loss: 0.5039 - acc: 0.8184 - val_loss: 0.4910 - val_acc: 0.8079\b\b\b\b\b\b\b\b\b\b\b\b\b\b\b\b\b\b\b\b\b\b\b\b\b\b\b\b\b\b\b\b\b\b\b\b\b\b\b\b\b\b\b\b\b\b\b\n",
      "Epoch 17/30\n",
      "378/378 [==============================] - 0s - loss: 0.4681 - acc: 0.8189 - val_loss: 0.4630 - val_acc: 0.8123\b\b\b\b\b\b\b\b\b\b\b\b\b\b\b\b\b\b\b\b\b\b\b\b\b\b\b\b\b\b\b\b\b\b\b\b\b\b\b\b\b\b\b\b\b\b\b\n",
      "Epoch 18/30\n",
      "378/378 [==============================] - 0s - loss: 0.4405 - acc: 0.8192 - val_loss: 0.4467 - val_acc: 0.8224\b\b\b\b\b\b\b\b\b\b\b\b\b\b\b\b\b\b\b\b\b\b\b\b\b\b\b\b\b\b\b\b\b\b\b\b\b\b\b\b\b\b\b\b\b\b\b\n",
      "Epoch 19/30\n",
      "378/378 [==============================] - 0s - loss: 0.4253 - acc: 0.8259 - val_loss: 0.4401 - val_acc: 0.8297\b\b\b\b\b\b\b\b\b\b\b\b\b\b\b\b\b\b\b\b\b\b\b\b\b\b\b\b\b\b\b\b\b\b\b\b\b\b\b\b\b\b\b\b\b\b\b\n",
      "Epoch 20/30\n",
      "378/378 [==============================] - 0s - loss: 0.4158 - acc: 0.8265 - val_loss: 0.4358 - val_acc: 0.8293\b\b\b\b\b\b\b\b\b\b\b\b\b\b\b\b\b\b\b\b\b\b\b\b\b\b\b\b\b\b\b\b\b\b\b\b\b\b\b\b\b\b\b\b\b\b\b\n",
      "Epoch 21/30\n",
      "378/378 [==============================] - 0s - loss: 0.4106 - acc: 0.8265 - val_loss: 0.4320 - val_acc: 0.8293\b\b\b\b\b\b\b\b\b\b\b\b\b\b\b\b\b\b\b\b\b\b\b\b\b\b\b\b\b\b\b\b\b\b\b\b\b\b\b\b\b\b\b\b\b\b\b\n",
      "Epoch 22/30\n",
      "378/378 [==============================] - 0s - loss: 0.4069 - acc: 0.8265 - val_loss: 0.4294 - val_acc: 0.8275\b\b\b\b\b\b\b\b\b\b\b\b\b\b\b\b\b\b\b\b\b\b\b\b\b\b\b\b\b\b\b\b\b\b\b\b\b\b\b\b\b\b\b\b\b\b\b\n",
      "Epoch 23/30\n",
      "378/378 [==============================] - 0s - loss: 0.4056 - acc: 0.8246 - val_loss: 0.4268 - val_acc: 0.8199\b\b\b\b\b\b\b\b\b\b\b\b\b\b\b\b\b\b\b\b\b\b\b\b\b\b\b\b\b\b\b\b\b\b\b\b\b\b\b\b\b\b\b\b\b\b\b\n",
      "Epoch 24/30\n",
      "378/378 [==============================] - 0s - loss: 0.4042 - acc: 0.8209 - val_loss: 0.4236 - val_acc: 0.8221\b\b\b\b\b\b\b\b\b\b\b\b\b\b\b\b\b\b\b\b\b\b\b\b\b\b\b\b\b\b\b\b\b\b\b\b\b\b\b\b\b\b\b\b\b\b\b\n",
      "Epoch 25/30\n",
      "378/378 [==============================] - 0s - loss: 0.4023 - acc: 0.8259 - val_loss: 0.4204 - val_acc: 0.8279\b\b\b\b\b\b\b\b\b\b\b\b\b\b\b\b\b\b\b\b\b\b\b\b\b\b\b\b\b\b\b\b\b\b\b\b\b\b\b\b\b\b\b\b\b\b\b\n",
      "Epoch 26/30\n",
      "378/378 [==============================] - 0s - loss: 0.4007 - acc: 0.8260 - val_loss: 0.4186 - val_acc: 0.8272\b\b\b\b\b\b\b\b\b\b\b\b\b\b\b\b\b\b\b\b\b\b\b\b\b\b\b\b\b\b\b\b\b\b\b\b\b\b\b\b\b\b\b\b\b\b\b\n",
      "Epoch 27/30\n",
      "378/378 [==============================] - 0s - loss: 0.3996 - acc: 0.8249 - val_loss: 0.4177 - val_acc: 0.8232\b\b\b\b\b\b\b\b\b\b\b\b\b\b\b\b\b\b\b\b\b\b\b\b\b\b\b\b\b\b\b\b\b\b\b\b\b\b\b\b\b\b\b\b\b\b\b\n",
      "Epoch 28/30\n",
      "378/378 [==============================] - 0s - loss: 0.3991 - acc: 0.8245 - val_loss: 0.4173 - val_acc: 0.8257\b\b\b\b\b\b\b\b\b\b\b\b\b\b\b\b\b\b\b\b\b\b\b\b\b\b\b\b\b\b\b\b\b\b\b\b\b\b\b\b\b\b\b\b\b\b\b\n",
      "Epoch 29/30\n",
      "378/378 [==============================] - 0s - loss: 0.3987 - acc: 0.8254 - val_loss: 0.4170 - val_acc: 0.8282\b\b\b\b\b\b\b\b\b\b\b\b\b\b\b\b\b\b\b\b\b\b\b\b\b\b\b\b\b\b\b\b\b\b\b\b\b\b\b\b\b\b\b\b\b\b\b\n",
      "Epoch 30/30\n",
      "378/378 [==============================] - 0s - loss: 0.3984 - acc: 0.8259 - val_loss: 0.4168 - val_acc: 0.8290\b\b\b\b\b\b\b\b\b\b\b\b\b\b\b\b\b\b\b\b\b\b\b\b\b\b\b\b\b\b\b\b\b\b\b\b\b\b\b\b\b\b\b\b\b\b\b\n"
     ]
    }
   ],
   "source": [
    "# this is now the actual training\n",
    "# in addition to the training data we provide validation data\n",
    "# this data is used to calculate the performance of the model over all the epochs\n",
    "# this is useful to determine when training should stop\n",
    "# in our case we just use it to monitor the evolution of the model over the training epochs\n",
    "# if we use the validation data to determine when to stop the training or which model to save, we \n",
    "# should not use the test data, but a separate validation set. \n",
    "history = model.fit(x_train, y_train,\n",
    "                    batch_size=128,\n",
    "                    epochs=30,\n",
    "                    verbose=1,\n",
    "                    validation_data=(x_test, y_test))"
   ]
  },
  {
   "cell_type": "code",
   "execution_count": 22,
   "metadata": {
    "collapsed": false,
    "deletable": true,
    "editable": true
   },
   "outputs": [
    {
     "name": "stdout",
     "output_type": "stream",
     "text": [
      "('Test loss:', 0.41680341958999634)\n",
      "('Test accuracy:', 0.82897607338281321)\n"
     ]
    }
   ],
   "source": [
    "# once training is complete, let's see how well we have done\n",
    "score = model.evaluate(x_test, y_test, verbose=0)\n",
    "print('Test loss:', score[0])\n",
    "print('Test accuracy:', score[1])"
   ]
  },
  {
   "cell_type": "code",
   "execution_count": 23,
   "metadata": {
    "collapsed": false,
    "deletable": true,
    "editable": true
   },
   "outputs": [
    {
     "data": {
      "text/plain": [
       "<matplotlib.text.Text at 0x7f2a77326d90>"
      ]
     },
     "execution_count": 23,
     "metadata": {},
     "output_type": "execute_result"
    },
    {
     "data": {
      "image/png": "[encoded data removed]",
      "text/plain": [
       "<matplotlib.figure.Figure at 0x7f2a77369810>"
      ]
     },
     "metadata": {},
     "output_type": "display_data"
    }
   ],
   "source": [
    "# here is a visualization of the training process\n",
    "# typically we gain a lot in the beginning and then\n",
    "# training slows down\n",
    "plt.figure(figsize=(8, 6))\n",
    "plt.plot(history.history['acc'])\n",
    "plt.title(\"Accuracy as a function of epochs\")\n",
    "plt.xlabel(\"epoch\")\n",
    "plt.ylabel(\"accuracy\")"
   ]
  },
  {
   "cell_type": "code",
   "execution_count": 24,
   "metadata": {
    "collapsed": true,
    "deletable": true,
    "editable": true
   },
   "outputs": [],
   "source": [
    "dev_set_x = x_train[:x_test.shape[0]]\n",
    "dev_set_y = y_train[:y_test.shape[0]]\n",
    "\n",
    "x_train = x_train[x_test.shape[0]:]\n",
    "y_train = y_train[y_test.shape[0]:]"
   ]
  },
  {
   "cell_type": "code",
   "execution_count": 29,
   "metadata": {
    "collapsed": false,
    "deletable": true,
    "editable": true
   },
   "outputs": [
    {
     "name": "stdout",
     "output_type": "stream",
     "text": [
      "Batch size: 32\n",
      "Test loss: 0.49407764423\n",
      "Test accuracy: 0.793028345814\n",
      "\n",
      "\n",
      "Batch size: 64\n",
      "Test loss: 0.55436443841\n",
      "Test accuracy: 0.778503991939\n",
      "\n",
      "\n",
      "Batch size: 128\n",
      "Test loss: 0.609849717146\n",
      "Test accuracy: 0.773420495751\n",
      "\n",
      "\n",
      "Batch size: 256\n",
      "Test loss: 0.645660138425\n",
      "Test accuracy: 0.77559915884\n",
      "\n",
      "\n"
     ]
    },
    {
     "data": {
      "image/png": "[encoded data removed]",
      "text/plain": [
       "<matplotlib.figure.Figure at 0x7f2a74bbd990>"
      ]
     },
     "metadata": {},
     "output_type": "display_data"
    }
   ],
   "source": [
    "b_sizes = 2 ** np.arange(5, 9)\n",
    "\n",
    "plt.figure(figsize=(8, 6))\n",
    "plt.title(\"Accuracy vs. Epochs by Batch Size\")\n",
    "plt.xlabel(\"Epoch #\")\n",
    "plt.ylabel(\"Accuracy\")\n",
    "\n",
    "\n",
    "for b_size in b_sizes:\n",
    "    history = model.fit(x_train, y_train,\n",
    "                    batch_size=b_size,\n",
    "                    epochs=40,\n",
    "                    verbose=0,\n",
    "                    validation_data=(x_test, y_test))\n",
    "\n",
    "    score = model.evaluate(x_test, y_test, verbose=0)\n",
    "    \n",
    "    print \"Batch size:\", b_size\n",
    "    print \"Test loss:\", score[0]\n",
    "    print \"Test accuracy:\", score[1]\n",
    "    print \"\\n\"\n",
    "    \n",
    "    plt.plot(history.history['acc'], label=str(b_size))\n",
    "\n",
    "plt.legend(loc=\"best\")\n",
    "plt.ylim([0, 1.1])\n",
    "plt.show()"
   ]
  }
 ],
 "metadata": {
  "kernelspec": {
   "display_name": "Python 2",
   "language": "python",
   "name": "python2"
  },
  "language_info": {
   "codemirror_mode": {
    "name": "ipython",
    "version": 2
   },
   "file_extension": ".py",
   "mimetype": "text/x-python",
   "name": "python",
   "nbconvert_exporter": "python",
   "pygments_lexer": "ipython2",
   "version": "2.7.12"
  }
 },
 "nbformat": 4,
 "nbformat_minor": 1
}
