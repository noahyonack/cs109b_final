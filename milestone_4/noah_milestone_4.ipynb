{
 "cells": [
  {
   "cell_type": "markdown",
   "metadata": {
    "collapsed": true,
    "deletable": true,
    "editable": true
   },
   "source": [
    "### Milestone 4: Deep learning, due Wednesday, April 26, 2017\n",
    "\n",
    "You can try different architectures, initializations, parameter settings, optimization methods, etc. Be adventurous and explore deep learning! It can be fun to combine the features learned by the deep learning model with a SVM, or incorporate meta data into your deep learning model. \n",
    "\n",
    "The notebook to submit this week should at least include:\n",
    "\n",
    "- Complete description of the deep network you trained from scratch, including parameter settings, performance, features learned, etc. \n",
    "- Complete description of the pre-trained network that you fine tuned, including parameter settings, performance, features learned, etc. \n",
    "- Discussion of the results, how much improvement you gained with fine tuning, etc. \n",
    "- Discussion of at least one additional exploratory idea you pursued"
   ]
  },
  {
   "cell_type": "markdown",
   "metadata": {},
   "source": [
    "# Note to grader: because our notebooks are relatively long and complex, we've split them up into two parts.\n",
    "\n",
    "# This part contains part 1 (the CNN built and tuned from scratch), as well as part of part 3 (the discussion of part 1) and all of part 4 (the exploratory part).\n",
    "\n",
    "# The other notebook contains part 2 (the pre-trained network) as well as part of part 3 (the discussion of part 2).\n",
    "\n",
    "# We're sorry that these are disjoint, but it might be easier to run the code this way.\n",
    "\n",
    "# If you'd like to look at our github to see the data, you can get that here: https://github.com/noahyonack/cs109b_final"
   ]
  },
  {
   "cell_type": "code",
   "execution_count": 72,
   "metadata": {
    "collapsed": false,
    "deletable": true,
    "editable": true
   },
   "outputs": [],
   "source": [
    "import urllib2\n",
    "import PIL\n",
    "import os\n",
    "import numpy as np\n",
    "import math\n",
    "\n",
    "# for image manipulati`on. Easier to do \n",
    "# here than with Keras, as per\n",
    "# https://piazza.com/class/ivlbdd3nigy3um?cid=818\n",
    "#!sudo pip install Image\n",
    "import PIL.Image as Image\n",
    "import pandas as pd\n",
    "from sklearn.metrics import hamming_loss as sk_hamming_loss\n",
    "import matplotlib.pyplot as plt\n",
    "%matplotlib inline"
   ]
  },
  {
   "cell_type": "code",
   "execution_count": 73,
   "metadata": {
    "collapsed": false,
    "deletable": true,
    "editable": true
   },
   "outputs": [],
   "source": [
    "import keras\n",
    "from keras import backend as K\n",
    "from keras.models import Sequential\n",
    "from keras.optimizers import SGD\n",
    "from keras.layers import Dense, Activation, Conv2D, MaxPooling2D, Flatten"
   ]
  },
  {
   "cell_type": "markdown",
   "metadata": {
    "deletable": true,
    "editable": true
   },
   "source": [
    "## Step One: Extracting Movies From URL "
   ]
  },
  {
   "cell_type": "code",
   "execution_count": 74,
   "metadata": {
    "collapsed": false,
    "deletable": true,
    "editable": true
   },
   "outputs": [
    {
     "name": "stdout",
     "output_type": "stream",
     "text": [
      "Train shape: (7220, 31)\n"
     ]
    },
    {
     "data": {
      "text/html": [
       "<div>\n",
       "<table border=\"1\" class=\"dataframe\">\n",
       "  <thead>\n",
       "    <tr style=\"text-align: right;\">\n",
       "      <th></th>\n",
       "      <th>10402</th>\n",
       "      <th>10749</th>\n",
       "      <th>10751</th>\n",
       "      <th>10752</th>\n",
       "      <th>10770</th>\n",
       "      <th>12</th>\n",
       "      <th>14</th>\n",
       "      <th>16</th>\n",
       "      <th>18</th>\n",
       "      <th>27</th>\n",
       "      <th>...</th>\n",
       "      <th>lead actors</th>\n",
       "      <th>movie_id</th>\n",
       "      <th>overview</th>\n",
       "      <th>popularity</th>\n",
       "      <th>poster_path</th>\n",
       "      <th>release_date</th>\n",
       "      <th>title</th>\n",
       "      <th>video</th>\n",
       "      <th>vote_average</th>\n",
       "      <th>vote_count</th>\n",
       "    </tr>\n",
       "  </thead>\n",
       "  <tbody>\n",
       "    <tr>\n",
       "      <th>0</th>\n",
       "      <td>0</td>\n",
       "      <td>0</td>\n",
       "      <td>0</td>\n",
       "      <td>0</td>\n",
       "      <td>0</td>\n",
       "      <td>0</td>\n",
       "      <td>0</td>\n",
       "      <td>0</td>\n",
       "      <td>1</td>\n",
       "      <td>0</td>\n",
       "      <td>...</td>\n",
       "      <td>[u'Amy Adams', u'Jeremy Renner', u'Forest Whit...</td>\n",
       "      <td>329865</td>\n",
       "      <td>Taking place after alien crafts land around th...</td>\n",
       "      <td>25.66195</td>\n",
       "      <td>/hLudzvGfpi6JlwUnsNhXwKKg4j.jpg</td>\n",
       "      <td>2016-11-10</td>\n",
       "      <td>Arrival</td>\n",
       "      <td>False</td>\n",
       "      <td>6.9</td>\n",
       "      <td>3510</td>\n",
       "    </tr>\n",
       "  </tbody>\n",
       "</table>\n",
       "<p>1 rows × 31 columns</p>\n",
       "</div>"
      ],
      "text/plain": [
       "   10402  10749  10751  10752  10770  12  14  16  18  27    ...      \\\n",
       "0      0      0      0      0      0   0   0   0   1   0    ...       \n",
       "\n",
       "                                         lead actors  movie_id  \\\n",
       "0  [u'Amy Adams', u'Jeremy Renner', u'Forest Whit...    329865   \n",
       "\n",
       "                                            overview  popularity  \\\n",
       "0  Taking place after alien crafts land around th...    25.66195   \n",
       "\n",
       "                       poster_path  release_date    title  video  \\\n",
       "0  /hLudzvGfpi6JlwUnsNhXwKKg4j.jpg    2016-11-10  Arrival  False   \n",
       "\n",
       "   vote_average vote_count  \n",
       "0           6.9       3510  \n",
       "\n",
       "[1 rows x 31 columns]"
      ]
     },
     "execution_count": 74,
     "metadata": {},
     "output_type": "execute_result"
    }
   ],
   "source": [
    "train = pd.read_csv(\"train_full.csv\")\n",
    "train.drop(\"Unnamed: 0\", axis=1, inplace=True)\n",
    "# no need for this genre --> only a handful of movies have this\n",
    "train.drop(\"10769\", axis=1, inplace=True)\n",
    "print \"Train shape:\", train.shape\n",
    "train.head(1)"
   ]
  },
  {
   "cell_type": "code",
   "execution_count": 76,
   "metadata": {
    "collapsed": false,
    "deletable": true,
    "editable": true
   },
   "outputs": [
    {
     "name": "stdout",
     "output_type": "stream",
     "text": [
      "train_thinned shape: (540, 29)\n"
     ]
    },
    {
     "data": {
      "text/html": [
       "<div>\n",
       "<table border=\"1\" class=\"dataframe\">\n",
       "  <thead>\n",
       "    <tr style=\"text-align: right;\">\n",
       "      <th></th>\n",
       "      <th>10402</th>\n",
       "      <th>10749</th>\n",
       "      <th>10751</th>\n",
       "      <th>10752</th>\n",
       "      <th>12</th>\n",
       "      <th>14</th>\n",
       "      <th>16</th>\n",
       "      <th>18</th>\n",
       "      <th>27</th>\n",
       "      <th>28</th>\n",
       "      <th>...</th>\n",
       "      <th>lead actors</th>\n",
       "      <th>movie_id</th>\n",
       "      <th>overview</th>\n",
       "      <th>popularity</th>\n",
       "      <th>poster_path</th>\n",
       "      <th>release_date</th>\n",
       "      <th>title</th>\n",
       "      <th>video</th>\n",
       "      <th>vote_average</th>\n",
       "      <th>vote_count</th>\n",
       "    </tr>\n",
       "  </thead>\n",
       "  <tbody>\n",
       "    <tr>\n",
       "      <th>0</th>\n",
       "      <td>0</td>\n",
       "      <td>0</td>\n",
       "      <td>1</td>\n",
       "      <td>0</td>\n",
       "      <td>0</td>\n",
       "      <td>0</td>\n",
       "      <td>1</td>\n",
       "      <td>0</td>\n",
       "      <td>0</td>\n",
       "      <td>0</td>\n",
       "      <td>...</td>\n",
       "      <td>[u'Alec Baldwin', u'Miles Bakshi', u'Jimmy Kim...</td>\n",
       "      <td>295693</td>\n",
       "      <td>A story about how a new baby's arrival impacts...</td>\n",
       "      <td>305.881041</td>\n",
       "      <td>/unPB1iyEeTBcKiLg8W083rlViFH.jpg</td>\n",
       "      <td>2017-03-23</td>\n",
       "      <td>The Boss Baby</td>\n",
       "      <td>False</td>\n",
       "      <td>5.7</td>\n",
       "      <td>510</td>\n",
       "    </tr>\n",
       "  </tbody>\n",
       "</table>\n",
       "<p>1 rows × 29 columns</p>\n",
       "</div>"
      ],
      "text/plain": [
       "   10402  10749  10751  10752  12  14  16  18  27  28    ...      \\\n",
       "0      0      0      1      0   0   0   1   0   0   0    ...       \n",
       "\n",
       "                                         lead actors  movie_id  \\\n",
       "0  [u'Alec Baldwin', u'Miles Bakshi', u'Jimmy Kim...    295693   \n",
       "\n",
       "                                            overview  popularity  \\\n",
       "0  A story about how a new baby's arrival impacts...  305.881041   \n",
       "\n",
       "                        poster_path  release_date          title  video  \\\n",
       "0  /unPB1iyEeTBcKiLg8W083rlViFH.jpg    2017-03-23  The Boss Baby  False   \n",
       "\n",
       "  vote_average vote_count  \n",
       "0          5.7        510  \n",
       "\n",
       "[1 rows x 29 columns]"
      ]
     },
     "execution_count": 76,
     "metadata": {},
     "output_type": "execute_result"
    }
   ],
   "source": [
    "train_thinned = pd.read_csv(\"train.csv\")\n",
    "train_thinned.drop(\"Unnamed: 0\", axis=1, inplace=True)\n",
    "\n",
    "# no need for this genre --> only a handful of movies have this\n",
    "try:\n",
    "    train_thinned.drop(\"10769\", axis=1, inplace=True)\n",
    "except:\n",
    "    pass\n",
    "\n",
    "print \"train_thinned shape:\", train_thinned.shape\n",
    "train_thinned.head(1)"
   ]
  },
  {
   "cell_type": "markdown",
   "metadata": {
    "deletable": true,
    "editable": true
   },
   "source": [
    "## Important. \n",
    "\n",
    "The line below aliases the DF that we want to work with as `curr_df`. When we decide later on to use the full training set instead of just `train_thinned`, all we need to do is set it in the cell below and re-run the code. This will prevent us from having to find/replace all instances of the past dataframe."
   ]
  },
  {
   "cell_type": "code",
   "execution_count": 77,
   "metadata": {
    "collapsed": true,
    "deletable": true,
    "editable": true
   },
   "outputs": [],
   "source": [
    "curr_df = train\n",
    "\n",
    "# ensure all poster paths are strings\n",
    "curr_df.poster_path = map(str, curr_df.poster_path)"
   ]
  },
  {
   "cell_type": "code",
   "execution_count": 78,
   "metadata": {
    "collapsed": false,
    "deletable": true,
    "editable": true
   },
   "outputs": [],
   "source": [
    "## Helper that downloads web images \n",
    "## Takes in the poster path and the id of the movie \n",
    "## Saves the movie as a jpg as the unique id of the movie \n",
    "## In the images folder.\n",
    "def download_web_image(poster_path, movie_id):\n",
    "    # given that we're going to resize our images to be 32x32\n",
    "    # or something else really small, let's download really small images \n",
    "    # to start\n",
    "    base_url = \"https://image.tmdb.org/t/p/w92/\" \n",
    "    \n",
    "    request = urllib2.Request(base_url + poster_path)\n",
    "    img = urllib2.urlopen(request).read()\n",
    "    image_name= \"all_train_imgs/\" + str(movie_id) + \".jpg\"\n",
    "    \n",
    "    with open(image_name, 'w') as f: \n",
    "        f.write(img)"
   ]
  },
  {
   "cell_type": "code",
   "execution_count": 79,
   "metadata": {
    "collapsed": false,
    "deletable": true,
    "editable": true
   },
   "outputs": [
    {
     "name": "stdout",
     "output_type": "stream",
     "text": [
      "If you actually want to download posters, you'll need to turn the `1` above into a `0`. This code doesn't run by default in the notebook so that you don't accidentally download hundreds of images.\n"
     ]
    }
   ],
   "source": [
    "### iterate through all of the images in the thinned dataset, saving locally \n",
    "if 1:\n",
    "    print \"If you actually want to download posters, you'll need to turn the `1` above into a `0`. This code doesn't run by default in the notebook so that you don't accidentally download hundreds of images.\"\n",
    "else:\n",
    "    for index, row in curr_df.iterrows():\n",
    "        if index % 200 == 0:\n",
    "            print index\n",
    "            \n",
    "        movie_id = row[\"movie_id\"]\n",
    "        poster_path = row[\"poster_path\"]\n",
    "        \n",
    "        try:\n",
    "            download_web_image(poster_path, movie_id)\n",
    "        except:\n",
    "            continue"
   ]
  },
  {
   "cell_type": "code",
   "execution_count": 80,
   "metadata": {
    "collapsed": false,
    "deletable": true,
    "editable": true,
    "scrolled": true
   },
   "outputs": [],
   "source": [
    "img_rows, img_cols = 32, 32\n",
    "\n",
    "# convert each normal poster to a 32x32 grayscale poster\n",
    "for img_name in os.listdir(\"all_train_imgs/\"):\n",
    "    ## This line added to avoid hidden files on mac (Stephen)\n",
    "    if not img_name.startswith('.'):\n",
    "        # read in an image and convert to greyscale\n",
    "        im = Image.open(\"all_train_imgs/\" + img_name).convert(\"L\")\n",
    "        out = im.resize((img_rows, img_cols))\n",
    "        out.save(\"all_nn_ready_images/\" + img_name)"
   ]
  },
  {
   "cell_type": "code",
   "execution_count": 81,
   "metadata": {
    "collapsed": false,
    "deletable": true,
    "editable": true
   },
   "outputs": [
    {
     "data": {
      "image/png": "[encoded data removed]",
      "text/plain": [
       "<PIL.JpegImagePlugin.JpegImageFile image mode=L size=32x32 at 0x7F5AACBB0390>"
      ]
     },
     "execution_count": 81,
     "metadata": {},
     "output_type": "execute_result"
    }
   ],
   "source": [
    "Image.open(\"all_nn_ready_images/10020.jpg\")"
   ]
  },
  {
   "cell_type": "markdown",
   "metadata": {
    "deletable": true,
    "editable": true
   },
   "source": [
    "# 1. Building a CNN from Scratch"
   ]
  },
  {
   "cell_type": "code",
   "execution_count": 82,
   "metadata": {
    "collapsed": true,
    "deletable": true,
    "editable": true
   },
   "outputs": [],
   "source": [
    "epochs = 50\n",
    "batch_size = 128"
   ]
  },
  {
   "cell_type": "markdown",
   "metadata": {
    "deletable": true,
    "editable": true
   },
   "source": [
    "### Data Wrangling"
   ]
  },
  {
   "cell_type": "code",
   "execution_count": 83,
   "metadata": {
    "collapsed": true,
    "deletable": true,
    "editable": true
   },
   "outputs": [],
   "source": [
    "# number of labels in our output\n",
    "n_labels = 16"
   ]
  },
  {
   "cell_type": "code",
   "execution_count": 84,
   "metadata": {
    "collapsed": false,
    "deletable": true,
    "editable": true
   },
   "outputs": [],
   "source": [
    "# now we need training and testing data. in the current state,\n",
    "# we have a bunch of greyscale images named by their movie ids.\n",
    "# to get the data, we can first just split all the movie ids (X) in the\n",
    "# dataframe intro train and test sets, and then grab their multilabel\n",
    "# matrices (y)\n",
    "# m_ids = curr_df.movie_id.values\n",
    "\n",
    "# gets all movie ids for which we have images\n",
    "m_ids = map(int, map(lambda x: x[:-4], os.listdir(\"all_nn_ready_images\")))\n",
    "\n",
    "# shuffle the ids to get a random sample\n",
    "np.random.shuffle(m_ids)\n",
    "train_size = int(math.floor(.7 * len(m_ids)))\n",
    "\n",
    "# get the movie_ids (each of which has an image in \"nn_images_ready/\"\n",
    "# which is ready to be put through the neural net\n",
    "train_ids = m_ids[:train_size]\n",
    "test_ids = m_ids[train_size:]"
   ]
  },
  {
   "cell_type": "code",
   "execution_count": 85,
   "metadata": {
    "collapsed": false,
    "deletable": true,
    "editable": true
   },
   "outputs": [
    {
     "name": "stdout",
     "output_type": "stream",
     "text": [
      "y_train shape: (1813, 16)\n",
      "y_test shape: (778, 16)\n"
     ]
    }
   ],
   "source": [
    "# these are the column names of the multilabel matrix\n",
    "label_names = curr_df.columns[:n_labels]\n",
    "\n",
    "y_train = np.array([curr_df[curr_df.movie_id == movie_id][label_names].values[0] for movie_id in train_ids])\n",
    "y_test  = np.array([curr_df[curr_df.movie_id == movie_id][label_names].values[0] for movie_id in test_ids])\n",
    "\n",
    "# should be (num_samples, num_labels)\n",
    "print \"y_train shape:\", y_train.shape\n",
    "print \"y_test shape:\", y_test.shape"
   ]
  },
  {
   "cell_type": "code",
   "execution_count": 86,
   "metadata": {
    "collapsed": false,
    "deletable": true,
    "editable": true
   },
   "outputs": [],
   "source": [
    "# load image matrices into memory\n",
    "x_train = np.array([np.asarray(Image.open(\"all_nn_ready_images/\" + str(m_id) + \".jpg\")) for m_id in train_ids])\n",
    "x_test =  np.array([np.asarray(Image.open(\"all_nn_ready_images/\" + str(m_id) + \".jpg\")) for m_id in test_ids])"
   ]
  },
  {
   "cell_type": "code",
   "execution_count": 87,
   "metadata": {
    "collapsed": false,
    "deletable": true,
    "editable": true
   },
   "outputs": [
    {
     "name": "stdout",
     "output_type": "stream",
     "text": [
      "x_train shape: (1813, 32, 32)\n",
      "x_test shape: (778, 32, 32)\n"
     ]
    }
   ],
   "source": [
    "# output should be (num_images, img_height, img_width)\n",
    "print \"x_train shape:\", x_train.shape\n",
    "print \"x_test shape:\", x_test.shape"
   ]
  },
  {
   "cell_type": "code",
   "execution_count": 88,
   "metadata": {
    "collapsed": false,
    "deletable": true,
    "editable": true
   },
   "outputs": [],
   "source": [
    "def reshape(x_train, x_test, img_rows, img_cols):\n",
    "    # code borrowed from Keras_CNN lab\n",
    "\n",
    "    # now we need to reshape x_train and x_test so that they work with CNNs\n",
    "    # Following the example in \"labs/Keras_CNN.ipynb\", this needs to be an array \n",
    "    # of images with shape determined by the backend, including the depth dimension,\n",
    "    # which is 1 for greyscale\n",
    "\n",
    "    # x_train is of shape n_samples x 32 x 32\n",
    "    # for a CNN we want to keep the image shape\n",
    "    # need to explicitly tell keras that it is a gray value image\n",
    "    # so each image is 32x32x1 not 32x32x3\n",
    "    if K.image_data_format() == 'channels_first':\n",
    "        x_train = x_train.reshape(x_train.shape[0], 1, img_rows, img_cols)\n",
    "        x_test = x_test.reshape(x_test.shape[0], 1, img_rows, img_cols)\n",
    "        input_shape = (1, img_rows, img_cols)\n",
    "    else:\n",
    "        x_train = x_train.reshape(x_train.shape[0], img_rows, img_cols, 1)\n",
    "        x_test = x_test.reshape(x_test.shape[0], img_rows, img_cols, 1)\n",
    "        input_shape = (img_rows, img_cols, 1)\n",
    "\n",
    "    # normalize image values to [0,1]\n",
    "    x_train = x_train.astype('float32')\n",
    "    x_test = x_test.astype('float32')\n",
    "    x_train /= 255\n",
    "    x_test /= 255\n",
    "\n",
    "    print \"x_train shape:\", x_train.shape\n",
    "    print x_train.shape[0], \"train samples\"\n",
    "    print x_test.shape[0], \"test samples\"\n",
    "    \n",
    "    return x_train, x_test, input_shape"
   ]
  },
  {
   "cell_type": "code",
   "execution_count": 89,
   "metadata": {
    "collapsed": false,
    "deletable": true,
    "editable": true
   },
   "outputs": [
    {
     "name": "stdout",
     "output_type": "stream",
     "text": [
      "x_train shape: (1813, 32, 32, 1)\n",
      "1813 train samples\n",
      "778 test samples\n"
     ]
    }
   ],
   "source": [
    "x_train, x_test, input_shape = reshape(x_train, x_test, 32, 32)"
   ]
  },
  {
   "cell_type": "markdown",
   "metadata": {
    "deletable": true,
    "editable": true
   },
   "source": [
    "### Model Architecture"
   ]
  },
  {
   "cell_type": "code",
   "execution_count": 102,
   "metadata": {
    "collapsed": true,
    "deletable": true,
    "editable": true
   },
   "outputs": [],
   "source": [
    "def build_cnn(n_layers, filters, kernels, a_func, input_shape=input_shape, n_labels=n_labels):\n",
    "    \"\"\"\n",
    "    Wrapper function to create a CNN from scratch.\n",
    "    \n",
    "    We treat the number of layers, filter size, kernel size, and activation \n",
    "    function as parameters which can then be tuned.\n",
    "    \"\"\"\n",
    "    # create an empty network model\n",
    "    model = Sequential()\n",
    "    \n",
    "    for i in range(n_layers):\n",
    "        # define the input layer to the CNN\n",
    "        # input shape is a tuple of the # rows, # cols, and # channels (1 for grayscale)\n",
    "        # the first parameter to Conv2D is the number of filters we want to convolve\n",
    "        # over the input images\n",
    "        model.add(Conv2D(filters[i], \n",
    "                         kernel_size=kernels[i], \n",
    "                         activation=a_func, \n",
    "                         input_shape=input_shape)\n",
    "                 )\n",
    "\n",
    "        # create a max pooling layer\n",
    "        model.add(MaxPooling2D(pool_size=(2, 2)))\n",
    "\n",
    "    # flatten for fully connected classification layer\n",
    "    model.add(Flatten())\n",
    "\n",
    "    # --- fully connected layer ---\n",
    "    model.add(Dense(64, activation='relu'))\n",
    "\n",
    "    # recommended by: https://github.com/fchollet/keras/issues/761\n",
    "    # uses a sigmoid activation rather than softmax, which apparently\n",
    "    # gives us a label vector back\n",
    "    model.add(Dense(n_labels, activation='sigmoid'))\n",
    "\n",
    "    return model"
   ]
  },
  {
   "cell_type": "code",
   "execution_count": 91,
   "metadata": {
    "collapsed": true,
    "deletable": true,
    "editable": true
   },
   "outputs": [],
   "source": [
    "def compile_cnn(model, loss=\"binary_crossentropy\", lr=0.1, momentum=0.9):\n",
    "    \"\"\"\n",
    "    Compiles a CNNs\n",
    "    \"\"\"\n",
    "    # the setup is our basic categorical crossentropy with stochastic gradient decent\n",
    "    # we also specify that we want to evaluate our model in terms of accuracy\n",
    "    sgd = SGD(lr=0.1, momentum=0.9)\n",
    "\n",
    "    # compile the model\n",
    "    model.compile(loss=loss,\n",
    "                  optimizer=sgd,\n",
    "                  metrics=[\"accuracy\"])"
   ]
  },
  {
   "cell_type": "code",
   "execution_count": 92,
   "metadata": {
    "collapsed": true,
    "deletable": true,
    "editable": true
   },
   "outputs": [],
   "source": [
    "def train_cnn(model=None, x_train=None, y_train=None, x_test=None, y_test=None, batch_size=None, epochs=50):\n",
    "    \"\"\"\n",
    "    Fit the CNN and score it against the test data\n",
    "    \n",
    "    Returns (history, score)\n",
    "    \"\"\"\n",
    "    # this is now the actual training\n",
    "    # in addition to the training data we provide validation data\n",
    "    # this data is used to calculate the performance of the model over all the epochs\n",
    "    # this is useful to determine when training should stop\n",
    "    # in our case we just use it to monitor the evolution of the model over the training epochs\n",
    "    # if we use the validation data to determine when to stop the training or which model to save, we \n",
    "    # should not use the test data, but a separate validation set. \n",
    "    history = model.fit(x_train, y_train,\n",
    "                        batch_size=batch_size,\n",
    "                        epochs=epochs,\n",
    "                        verbose=0,\n",
    "                        # this will use 30% of the train data as hold out\n",
    "                        # for validation\n",
    "                        validation_split=.3)\n",
    "\n",
    "    # once training is complete, let's see how well we have done\n",
    "    score = model.evaluate(x_test, y_test, verbose=0)\n",
    "    print('Test loss:', score[0])\n",
    "    print('Test accuracy:', score[1])\n",
    "\n",
    "    return history, score"
   ]
  },
  {
   "cell_type": "code",
   "execution_count": 93,
   "metadata": {
    "collapsed": true,
    "deletable": true,
    "editable": true
   },
   "outputs": [],
   "source": [
    "def plot_acc(model_history, baseline=None):\n",
    "    plt.figure(figsize=(8, 6))\n",
    "\n",
    "    max_train_acc = round(max(model_history.history['acc']), 2)\n",
    "    max_test_acc = round(max(model_history.history['val_acc']), 2)\n",
    "\n",
    "    plt.plot(model_history.history['acc'], \n",
    "             label=\"Train Acc (Max = {0})\".format(max_train_acc))\n",
    "    plt.plot(model_history.history['val_acc'], \n",
    "             label=\"Test Acc (Max = {0})\".format(max_test_acc))\n",
    "    plt.axhline(baseline, ls='--', c=\"r\", label=\"Baseline\")\n",
    "\n",
    "    plt.title(\"Model accuracy as a function of epochs\")\n",
    "    plt.xlabel(\"epoch\")\n",
    "    plt.legend(loc=\"lower right\")\n",
    "    plt.ylabel(\"accuracy\")\n",
    "    plt.show()"
   ]
  },
  {
   "cell_type": "markdown",
   "metadata": {
    "deletable": true,
    "editable": true
   },
   "source": [
    "# Experimenting with Various CNNs (built from scratch)"
   ]
  },
  {
   "cell_type": "code",
   "execution_count": 94,
   "metadata": {
    "collapsed": false,
    "deletable": true,
    "editable": true
   },
   "outputs": [
    {
     "name": "stdout",
     "output_type": "stream",
     "text": [
      "This is our baseline accuracy 0.830735861183\n"
     ]
    }
   ],
   "source": [
    "# calculate the base rate\n",
    "accuracy_list = [] \n",
    "for y in y_test: \n",
    "    for x in y:\n",
    "        accuracy_list.append(x == 0)\n",
    "    \n",
    "BASELINE_ACC = np.mean(accuracy_list)\n",
    "print \"This is our baseline accuracy\", BASELINE_ACC"
   ]
  },
  {
   "cell_type": "code",
   "execution_count": 95,
   "metadata": {
    "collapsed": true,
    "deletable": true,
    "editable": true
   },
   "outputs": [],
   "source": [
    "# holds the history object and score object from each model we try\n",
    "# out in case we want to make comparison plots later!\n",
    "model_info = {}"
   ]
  },
  {
   "cell_type": "markdown",
   "metadata": {
    "deletable": true,
    "editable": true
   },
   "source": [
    "# Model 1: \n",
    "* 1 convolution layer & 1 pool layer\n",
    "* 8 filters applied to convolution layer\n",
    "* Convolution kernels of size 3x3\n",
    "* relU activation function"
   ]
  },
  {
   "cell_type": "code",
   "execution_count": 24,
   "metadata": {
    "collapsed": false,
    "deletable": true,
    "editable": true,
    "scrolled": false
   },
   "outputs": [
    {
     "name": "stdout",
     "output_type": "stream",
     "text": [
      "_________________________________________________________________\n",
      "Layer (type)                 Output Shape              Param #   \n",
      "=================================================================\n",
      "conv2d_1 (Conv2D)            (None, 30, 30, 8)         80        \n",
      "_________________________________________________________________\n",
      "max_pooling2d_1 (MaxPooling2 (None, 15, 15, 8)         0         \n",
      "_________________________________________________________________\n",
      "flatten_1 (Flatten)          (None, 1800)              0         \n",
      "_________________________________________________________________\n",
      "dense_1 (Dense)              (None, 64)                115264    \n",
      "_________________________________________________________________\n",
      "dense_2 (Dense)              (None, 17)                1105      \n",
      "=================================================================\n",
      "Total params: 116,449.0\n",
      "Trainable params: 116,449.0\n",
      "Non-trainable params: 0.0\n",
      "_________________________________________________________________\n",
      "('Test loss:', 0.38044458811571175)\n",
      "('Test accuracy:', 0.83109028679546171)\n"
     ]
    },
    {
     "data": {
      "image/png": "[encoded data removed]",
      "text/plain": [
       "<matplotlib.figure.Figure at 0x7f229beb4fd0>"
      ]
     },
     "metadata": {},
     "output_type": "display_data"
    }
   ],
   "source": [
    "model = build_cnn(n_layers=1, \n",
    "                    filters=[8], \n",
    "                    kernels=[(3,3)], \n",
    "                    a_func='relu')\n",
    "\n",
    "model.summary()\n",
    "compile_cnn(model)\n",
    "\n",
    "model_history, model_score = train_cnn(model=model, \n",
    "                                           x_train=x_train, \n",
    "                                           y_train=y_train,\n",
    "                                           x_test=x_test,\n",
    "                                           y_test=y_test, \n",
    "                                           batch_size=batch_size, \n",
    "                                           epochs=60)\n",
    "\n",
    "\n",
    "model_info[\"model_1\"] = {}\n",
    "model_info[\"model_1\"][\"model_history\"] = model_history\n",
    "model_info[\"model_1\"][\"model_score\"] = model_score\n",
    "\n",
    "plot_acc(model_history, baseline=BASELINE_ACC)"
   ]
  },
  {
   "cell_type": "markdown",
   "metadata": {
    "deletable": true,
    "editable": true
   },
   "source": [
    "We clearly start to overfit ar about epoch 50, at which point test accuracy dips because we're starting to model noise and training accuracy increases. At its best, out model is about 83% accurate on our test data."
   ]
  },
  {
   "cell_type": "markdown",
   "metadata": {
    "deletable": true,
    "editable": true
   },
   "source": [
    "# Model 2: \n",
    "* 3 convolution layers & 3 pool layers\n",
    "* 8 filters applied to each convolution layer\n",
    "* Convolution kernels of size 3x3\n",
    "* relU activation function"
   ]
  },
  {
   "cell_type": "code",
   "execution_count": 25,
   "metadata": {
    "collapsed": false,
    "deletable": true,
    "editable": true
   },
   "outputs": [
    {
     "name": "stdout",
     "output_type": "stream",
     "text": [
      "_________________________________________________________________\n",
      "Layer (type)                 Output Shape              Param #   \n",
      "=================================================================\n",
      "conv2d_2 (Conv2D)            (None, 30, 30, 8)         80        \n",
      "_________________________________________________________________\n",
      "max_pooling2d_2 (MaxPooling2 (None, 15, 15, 8)         0         \n",
      "_________________________________________________________________\n",
      "conv2d_3 (Conv2D)            (None, 13, 13, 8)         584       \n",
      "_________________________________________________________________\n",
      "max_pooling2d_3 (MaxPooling2 (None, 6, 6, 8)           0         \n",
      "_________________________________________________________________\n",
      "conv2d_4 (Conv2D)            (None, 4, 4, 8)           584       \n",
      "_________________________________________________________________\n",
      "max_pooling2d_4 (MaxPooling2 (None, 2, 2, 8)           0         \n",
      "_________________________________________________________________\n",
      "flatten_2 (Flatten)          (None, 32)                0         \n",
      "_________________________________________________________________\n",
      "dense_3 (Dense)              (None, 64)                2112      \n",
      "_________________________________________________________________\n",
      "dense_4 (Dense)              (None, 17)                1105      \n",
      "=================================================================\n",
      "Total params: 4,465.0\n",
      "Trainable params: 4,465.0\n",
      "Non-trainable params: 0.0\n",
      "_________________________________________________________________\n",
      "('Test loss:', 0.3566403582807065)\n",
      "('Test accuracy:', 0.84500226125619093)\n"
     ]
    },
    {
     "data": {
      "image/png": "[encoded data removed]",
      "text/plain": [
       "<matplotlib.figure.Figure at 0x7f2294091f90>"
      ]
     },
     "metadata": {},
     "output_type": "display_data"
    }
   ],
   "source": [
    "model = build_cnn(n_layers=3, \n",
    "                    filters=[8] * 3, \n",
    "                    kernels=[(3,3)] * 3, \n",
    "                    a_func='relu')\n",
    "\n",
    "model.summary()\n",
    "compile_cnn(model)\n",
    "\n",
    "model_history, model_score = train_cnn(model=model, \n",
    "                                           x_train=x_train, \n",
    "                                           y_train=y_train,\n",
    "                                           x_test=x_test,\n",
    "                                           y_test=y_test, \n",
    "                                           batch_size=batch_size, \n",
    "                                           epochs=60)\n",
    "\n",
    "model_info[\"model_2\"] = {}\n",
    "model_info[\"model_2\"][\"model_history\"] = model_history\n",
    "model_info[\"model_2\"][\"model_score\"] = model_score\n",
    "\n",
    "plot_acc(model_history, baseline=BASELINE_ACC)"
   ]
  },
  {
   "cell_type": "markdown",
   "metadata": {
    "deletable": true,
    "editable": true
   },
   "source": [
    "While we're not overfitting in this more complicated model (i.e. more filters), we're failing to gain any more accuracy than in model 1, despite adding more layers!"
   ]
  },
  {
   "cell_type": "markdown",
   "metadata": {
    "deletable": true,
    "editable": true
   },
   "source": [
    "# Model 3: \n",
    "* 4 convolution layers & 4 pool layers\n",
    "* 32 filters applied to convolution layer\n",
    "* Convolution kernels of size 2, 2\n",
    "* relU activation function"
   ]
  },
  {
   "cell_type": "code",
   "execution_count": 26,
   "metadata": {
    "collapsed": false,
    "deletable": true,
    "editable": true
   },
   "outputs": [
    {
     "name": "stdout",
     "output_type": "stream",
     "text": [
      "_________________________________________________________________\n",
      "Layer (type)                 Output Shape              Param #   \n",
      "=================================================================\n",
      "conv2d_5 (Conv2D)            (None, 31, 31, 32)        160       \n",
      "_________________________________________________________________\n",
      "max_pooling2d_5 (MaxPooling2 (None, 15, 15, 32)        0         \n",
      "_________________________________________________________________\n",
      "conv2d_6 (Conv2D)            (None, 14, 14, 32)        4128      \n",
      "_________________________________________________________________\n",
      "max_pooling2d_6 (MaxPooling2 (None, 7, 7, 32)          0         \n",
      "_________________________________________________________________\n",
      "conv2d_7 (Conv2D)            (None, 6, 6, 32)          4128      \n",
      "_________________________________________________________________\n",
      "max_pooling2d_7 (MaxPooling2 (None, 3, 3, 32)          0         \n",
      "_________________________________________________________________\n",
      "conv2d_8 (Conv2D)            (None, 2, 2, 32)          4128      \n",
      "_________________________________________________________________\n",
      "max_pooling2d_8 (MaxPooling2 (None, 1, 1, 32)          0         \n",
      "_________________________________________________________________\n",
      "flatten_3 (Flatten)          (None, 32)                0         \n",
      "_________________________________________________________________\n",
      "dense_5 (Dense)              (None, 64)                2112      \n",
      "_________________________________________________________________\n",
      "dense_6 (Dense)              (None, 17)                1105      \n",
      "=================================================================\n",
      "Total params: 15,761.0\n",
      "Trainable params: 15,761.0\n",
      "Non-trainable params: 0.0\n",
      "_________________________________________________________________\n",
      "('Test loss:', 0.35874338137766387)\n",
      "('Test accuracy:', 0.84454861137738269)\n"
     ]
    },
    {
     "data": {
      "image/png": "[encoded data removed]",
      "text/plain": [
       "<matplotlib.figure.Figure at 0x7f2264391e50>"
      ]
     },
     "metadata": {},
     "output_type": "display_data"
    }
   ],
   "source": [
    "model = build_cnn(n_layers=4, \n",
    "                    filters=[32] * 4, \n",
    "                    kernels=[(2,2)] * 4, \n",
    "                    a_func='relu')\n",
    "\n",
    "model.summary()\n",
    "compile_cnn(model)\n",
    "\n",
    "model_history, model_score = train_cnn(model=model, \n",
    "                                           x_train=x_train, \n",
    "                                           y_train=y_train,\n",
    "                                           x_test=x_test,\n",
    "                                           y_test=y_test, \n",
    "                                           batch_size=batch_size, \n",
    "                                           epochs=60)\n",
    "\n",
    "model_info[\"model_3\"] = {}\n",
    "model_info[\"model_3\"][\"model_history\"] = model_history\n",
    "model_info[\"model_3\"][\"model_score\"] = model_score\n",
    "\n",
    "plot_acc(model_history, baseline=BASELINE_ACC)"
   ]
  },
  {
   "cell_type": "markdown",
   "metadata": {
    "deletable": true,
    "editable": true
   },
   "source": [
    "Interesting! Even after using many more layers (4 convolution layers and 4 pool layers) as well as many more filters (32 per convolution layer), we're still maxing out at about 83% accuracy, which is also our baseline accuracy (e.g. exactly what we'd get if we applied a trivial classifier which guesses all 0s)."
   ]
  },
  {
   "cell_type": "markdown",
   "metadata": {
    "deletable": true,
    "editable": true
   },
   "source": [
    "We can also try experimenting with the learning rate and momentum of the optimizer, which is SGD. Let's just try a different combination of values for model 3 to see if we get different results."
   ]
  },
  {
   "cell_type": "markdown",
   "metadata": {
    "deletable": true,
    "editable": true
   },
   "source": [
    "# Model 4: \n",
    "* Same as model 3, but with a lower learning rate (0.01) and higher momentum (0.99)"
   ]
  },
  {
   "cell_type": "code",
   "execution_count": 27,
   "metadata": {
    "collapsed": false,
    "deletable": true,
    "editable": true
   },
   "outputs": [
    {
     "name": "stdout",
     "output_type": "stream",
     "text": [
      "_________________________________________________________________\n",
      "Layer (type)                 Output Shape              Param #   \n",
      "=================================================================\n",
      "conv2d_9 (Conv2D)            (None, 31, 31, 32)        160       \n",
      "_________________________________________________________________\n",
      "max_pooling2d_9 (MaxPooling2 (None, 15, 15, 32)        0         \n",
      "_________________________________________________________________\n",
      "conv2d_10 (Conv2D)           (None, 14, 14, 32)        4128      \n",
      "_________________________________________________________________\n",
      "max_pooling2d_10 (MaxPooling (None, 7, 7, 32)          0         \n",
      "_________________________________________________________________\n",
      "conv2d_11 (Conv2D)           (None, 6, 6, 32)          4128      \n",
      "_________________________________________________________________\n",
      "max_pooling2d_11 (MaxPooling (None, 3, 3, 32)          0         \n",
      "_________________________________________________________________\n",
      "conv2d_12 (Conv2D)           (None, 2, 2, 32)          4128      \n",
      "_________________________________________________________________\n",
      "max_pooling2d_12 (MaxPooling (None, 1, 1, 32)          0         \n",
      "_________________________________________________________________\n",
      "flatten_4 (Flatten)          (None, 32)                0         \n",
      "_________________________________________________________________\n",
      "dense_7 (Dense)              (None, 64)                2112      \n",
      "_________________________________________________________________\n",
      "dense_8 (Dense)              (None, 17)                1105      \n",
      "=================================================================\n",
      "Total params: 15,761.0\n",
      "Trainable params: 15,761.0\n",
      "Non-trainable params: 0.0\n",
      "_________________________________________________________________\n",
      "('Test loss:', 0.3597119229158583)\n",
      "('Test accuracy:', 0.84401935001878325)\n"
     ]
    },
    {
     "data": {
      "image/png": "[encoded data removed]",
      "text/plain": [
       "<matplotlib.figure.Figure at 0x7f2264296cd0>"
      ]
     },
     "metadata": {},
     "output_type": "display_data"
    }
   ],
   "source": [
    "model = build_cnn(n_layers=4, \n",
    "                    filters=[32] * 4, \n",
    "                    kernels=[(2,2)] * 4, \n",
    "                    a_func='relu')\n",
    "\n",
    "model.summary()\n",
    "compile_cnn(model, lr=0.01, momentum=0.99)\n",
    "\n",
    "model_history, model_score = train_cnn(model=model, \n",
    "                                           x_train=x_train, \n",
    "                                           y_train=y_train,\n",
    "                                           x_test=x_test,\n",
    "                                           y_test=y_test, \n",
    "                                           batch_size=batch_size, \n",
    "                                           epochs=60)\n",
    "\n",
    "model_info[\"model_4\"] = {}\n",
    "model_info[\"model_4\"][\"model_history\"] = model_history\n",
    "model_info[\"model_4\"][\"model_score\"] = model_score\n",
    "\n",
    "plot_acc(model_history, baseline=BASELINE_ACC)"
   ]
  },
  {
   "cell_type": "markdown",
   "metadata": {
    "deletable": true,
    "editable": true
   },
   "source": [
    "Still getting the same accuracy as before (83%), even with a smaller learning rate."
   ]
  },
  {
   "cell_type": "markdown",
   "metadata": {
    "collapsed": false,
    "deletable": true,
    "editable": true
   },
   "source": [
    "# Model 5 (Harnessing bigger images!)\n",
    "* 5 convolution layers & 5 pool layers\n",
    "* [8, 16, 32, 64, 128] filters applied to layers, respectively\n",
    "* Convolution kernels of size 3, 3\n",
    "* relU activation function"
   ]
  },
  {
   "cell_type": "code",
   "execution_count": 55,
   "metadata": {
    "collapsed": false,
    "deletable": true,
    "editable": true
   },
   "outputs": [
    {
     "name": "stdout",
     "output_type": "stream",
     "text": [
      "x_train shape: (1813, 256, 256, 1)\n",
      "1813 train samples\n",
      "778 test samples\n"
     ]
    }
   ],
   "source": [
    "img_rows, img_cols = 256, 256\n",
    "dir_name = \"all_nn_ready_images_\" + str(img_rows) + \"_\" + str(img_rows)\n",
    "\n",
    "# convert each normal poster to a 32x32 grayscale poster\n",
    "for img_name in os.listdir(\"all_train_imgs/\"):\n",
    "    ## This line added to avoid hidden files on mac (Stephen)\n",
    "    if not img_name.startswith('.'):\n",
    "        # read in an image and convert to greyscale\n",
    "        im = Image.open(\"all_train_imgs/\" + img_name).convert(\"L\")\n",
    "        out = im.resize((img_rows, img_cols))\n",
    "        \n",
    "        try:\n",
    "            out.save(dir_name + \"/\" + img_name)\n",
    "        except:\n",
    "            os.mkdir(dir_name)\n",
    "            out.save(dir_name + \"/\" + img_name)\n",
    "            \n",
    "# load image matrices into memory\n",
    "x_train_big = np.array([np.asarray(Image.open(dir_name + \"/\" + str(m_id) + \".jpg\")) for m_id in train_ids])\n",
    "x_test_big =  np.array([np.asarray(Image.open(dir_name + \"/\" + str(m_id) + \".jpg\")) for m_id in test_ids])\n",
    "x_train_big, x_test_big, input_shape_big = reshape(x_train_big, x_test_big, img_rows, img_rows)"
   ]
  },
  {
   "cell_type": "code",
   "execution_count": 56,
   "metadata": {
    "collapsed": false,
    "deletable": true,
    "editable": true
   },
   "outputs": [
    {
     "name": "stdout",
     "output_type": "stream",
     "text": [
      "_________________________________________________________________\n",
      "Layer (type)                 Output Shape              Param #   \n",
      "=================================================================\n",
      "conv2d_54 (Conv2D)           (None, 255, 255, 8)       40        \n",
      "_________________________________________________________________\n",
      "max_pooling2d_48 (MaxPooling (None, 127, 127, 8)       0         \n",
      "_________________________________________________________________\n",
      "conv2d_55 (Conv2D)           (None, 126, 126, 16)      528       \n",
      "_________________________________________________________________\n",
      "max_pooling2d_49 (MaxPooling (None, 63, 63, 16)        0         \n",
      "_________________________________________________________________\n",
      "conv2d_56 (Conv2D)           (None, 62, 62, 32)        2080      \n",
      "_________________________________________________________________\n",
      "max_pooling2d_50 (MaxPooling (None, 31, 31, 32)        0         \n",
      "_________________________________________________________________\n",
      "conv2d_57 (Conv2D)           (None, 30, 30, 64)        8256      \n",
      "_________________________________________________________________\n",
      "max_pooling2d_51 (MaxPooling (None, 15, 15, 64)        0         \n",
      "_________________________________________________________________\n",
      "flatten_9 (Flatten)          (None, 14400)             0         \n",
      "_________________________________________________________________\n",
      "dense_17 (Dense)             (None, 64)                921664    \n",
      "_________________________________________________________________\n",
      "dense_18 (Dense)             (None, 17)                1105      \n",
      "=================================================================\n",
      "Total params: 933,673.0\n",
      "Trainable params: 933,673.0\n",
      "Non-trainable params: 0.0\n",
      "_________________________________________________________________\n",
      "('Test loss:', 1.5864703606210822)\n",
      "('Test accuracy:', 0.80364435589405447)\n"
     ]
    },
    {
     "data": {
      "image/png": "[encoded data removed]",
      "text/plain": [
       "<matplotlib.figure.Figure at 0x7f224cc55f10>"
      ]
     },
     "metadata": {},
     "output_type": "display_data"
    }
   ],
   "source": [
    "model = build_cnn(n_layers=4, \n",
    "                    filters=[8, 16, 32, 64],\n",
    "                    kernels=[(2,2)] * 4, \n",
    "                    a_func='relu',\n",
    "                  input_shape = input_shape_big)\n",
    "\n",
    "model.summary()\n",
    "compile_cnn(model, lr=0.01, momentum=0.99)\n",
    "\n",
    "model_history, model_score = train_cnn(model=model, \n",
    "                                           x_train=x_train_big, \n",
    "                                           y_train=y_train,\n",
    "                                           x_test=x_test_big,\n",
    "                                           y_test=y_test, \n",
    "                                           batch_size=batch_size, \n",
    "                                           epochs=60)\n",
    "\n",
    "model_info[\"model_5\"] = {}\n",
    "model_info[\"model_5\"][\"model_history\"] = model_history\n",
    "model_info[\"model_5\"][\"model_score\"] = model_score\n",
    "\n",
    "plot_acc(model_history, baseline=BASELINE_ACC)"
   ]
  },
  {
   "cell_type": "markdown",
   "metadata": {
    "deletable": true,
    "editable": true
   },
   "source": [
    "**Insights:** Even using huge images and many layers doesn't seem to get us past baseline accuracy.\n",
    "\n",
    "It seems like the problem might be this: we have 17 labels, and our entire label matrix is incredibly sparse. It's 84% 0's, meaning that our prediction problem is looking for haystack needles. What we might want to do to decrease the sparsity of this dataset is collapse our 17 genres into a handful of categories. \n",
    "\n",
    "For instance, we could collapse \"War\" and \"Horror\" into \"Scary\". This will help us decrease the number of labels in our label matrix, which might finally get our neural net above the baseline of 84%.\n",
    "\n",
    "Here's how we'll do the split: We'll create a new category, \"Heartbeat\", which will represent movies that make your heart beat quickly (romance, adventure, horror, crime, thriller etc.)\n",
    "\n",
    "We'll also do \"Lighthearted\" for light hearted movies (music, comedy, family, fantasy, etc.)\n",
    "\n",
    "And lastly, we'll have a category for \"other\" movies that have genres which are neither categorically lighthearted or inherently exciting.\n",
    "\n",
    "* 'TV Movie', => Other\n",
    "* 'Music', => Lighthearted\n",
    "* 'Adventure' => Heartbeat\n",
    "* 'Fantasy', => Heartbeat\n",
    "* 'Animation', => Heartbeat\n",
    "* 'Drama', => Heartbeat\n",
    "* 'Action', => Heartbeat\n",
    "* 'History', => Other\n",
    "* 'Comedy', => Lighthearted\n",
    "* 'War', => Heartbeat\n",
    "* 'Horror', => Heartbeat\n",
    "* 'Western', => Other\n",
    "* 'Romance', => Heartbeat\n",
    "* 'Family', => Lighthearted\n",
    "* 'Crime', => Heartbeat\n",
    "* 'Thriller' => Heartbeat"
   ]
  },
  {
   "cell_type": "code",
   "execution_count": 21,
   "metadata": {
    "collapsed": true,
    "deletable": true,
    "editable": true
   },
   "outputs": [],
   "source": [
    "column_names = {'12': 'heartbeat',\n",
    " '14': 'heartbeat',\n",
    " '16': 'lighthearted',\n",
    " '18': 'heartbeat',\n",
    " '27': 'heartbeat',\n",
    " '28': 'heartbeat',\n",
    " '35': 'lighthearted',\n",
    " '36': 'other',\n",
    " '37': 'other',\n",
    " '53': 'heartbeat',\n",
    " '80': 'heartbeat',\n",
    " '10402': 'lighthearted',\n",
    " '10749': 'heartbeat',\n",
    " '10751': 'lighthearted',\n",
    " '10752': 'heartbeat',\n",
    " '10770': 'other'}"
   ]
  },
  {
   "cell_type": "markdown",
   "metadata": {},
   "source": [
    "Great, now that we've reassigned into fewer labels, lets recreate y_test and y_train..."
   ]
  },
  {
   "cell_type": "code",
   "execution_count": 110,
   "metadata": {
    "collapsed": false
   },
   "outputs": [],
   "source": [
    "curr_df[\"other\"] = \"\"\n",
    "curr_df[\"heartbeat\"] = \"\"\n",
    "curr_df[\"lighthearted\"] = \"\"\n",
    "\n",
    "for index, row in curr_df.iterrows():\n",
    "    if row[\"36\"] == 1 or row[\"37\"] == 1 or row[\"10770\"] == 1:\n",
    "        curr_df.set_value(index, \"other\", 1)\n",
    "    else:\n",
    "        curr_df.set_value(index, \"other\", 0)\n",
    "        \n",
    "    if row[\"12\"] == 1 or row[\"14\"] == 1 or row[\"18\"] == 1 or row[\"27\"] == 1 or row[\"28\"] == 1 or row[\"53\"] == 1 or row[\"80\"] == 1 or row[\"10749\"] == 1 or row[\"10752\"] == 1:\n",
    "        curr_df.set_value(index, \"heartbeat\", 1)\n",
    "    else:\n",
    "        curr_df.set_value(index, \"heartbeat\", 0)\n",
    "        \n",
    "    if row[\"16\"] == 1 or row[\"35\"] == 1 or row[\"10402\"] == 1 or row[\"10751\"] == 1:\n",
    "        curr_df.set_value(index, \"lighthearted\", 1)\n",
    "    else:\n",
    "        curr_df.set_value(index, \"lighthearted\", 0)"
   ]
  },
  {
   "cell_type": "code",
   "execution_count": 112,
   "metadata": {
    "collapsed": false
   },
   "outputs": [
    {
     "name": "stdout",
     "output_type": "stream",
     "text": [
      "y_train shape: (1813, 3)\n",
      "y_test shape: (778, 3)\n"
     ]
    }
   ],
   "source": [
    "# these are the column names of the multilabel matrix\n",
    "label_names = [\"other\", \"heartbeat\", \"lighthearted\"]\n",
    "\n",
    "updated_y_train = np.array([curr_df[curr_df.movie_id == movie_id][label_names].values[0] for movie_id in train_ids])\n",
    "updated_y_test  = np.array([curr_df[curr_df.movie_id == movie_id][label_names].values[0] for movie_id in test_ids])\n",
    "\n",
    "# should be (num_samples, num_labels)\n",
    "print \"y_train shape:\", updated_y_train.shape\n",
    "print \"y_test shape:\", updated_y_test.shape"
   ]
  },
  {
   "cell_type": "code",
   "execution_count": 113,
   "metadata": {
    "collapsed": false
   },
   "outputs": [
    {
     "data": {
      "text/plain": [
       "array([[0, 1, 0],\n",
       "       [0, 1, 0],\n",
       "       [0, 1, 0],\n",
       "       ..., \n",
       "       [0, 1, 0],\n",
       "       [1, 0, 0],\n",
       "       [0, 1, 0]], dtype=object)"
      ]
     },
     "execution_count": 113,
     "metadata": {},
     "output_type": "execute_result"
    }
   ],
   "source": [
    "updated_y_train"
   ]
  },
  {
   "cell_type": "markdown",
   "metadata": {},
   "source": [
    "Looks correct! 3 labels instead of 17."
   ]
  },
  {
   "cell_type": "code",
   "execution_count": 136,
   "metadata": {
    "collapsed": false
   },
   "outputs": [
    {
     "data": {
      "text/plain": [
       "(array([0, 1], dtype=object), array([1536,  277]))"
      ]
     },
     "execution_count": 136,
     "metadata": {},
     "output_type": "execute_result"
    }
   ],
   "source": [
    "a, b = np.unique(updated_y_train[:,0], return_counts=True)\n",
    "a, b "
   ]
  },
  {
   "cell_type": "markdown",
   "metadata": {},
   "source": [
    "Guessing 0 for the above column (\"other\") gives a baseline of 84%."
   ]
  },
  {
   "cell_type": "code",
   "execution_count": 139,
   "metadata": {
    "collapsed": false
   },
   "outputs": [
    {
     "data": {
      "text/plain": [
       "(array([0, 1], dtype=object), array([ 137, 1676]))"
      ]
     },
     "execution_count": 139,
     "metadata": {},
     "output_type": "execute_result"
    }
   ],
   "source": [
    "c, d = np.unique(updated_y_train[:,1], return_counts=True)\n",
    "c, d"
   ]
  },
  {
   "cell_type": "markdown",
   "metadata": {},
   "source": [
    "Guessing 1 for the above column (\"heartbeat\") gives a baseline of 92%."
   ]
  },
  {
   "cell_type": "code",
   "execution_count": 140,
   "metadata": {
    "collapsed": false
   },
   "outputs": [
    {
     "data": {
      "text/plain": [
       "(array([0, 1], dtype=object), array([1200,  613]))"
      ]
     },
     "execution_count": 140,
     "metadata": {},
     "output_type": "execute_result"
    }
   ],
   "source": [
    "e, f = np.unique(updated_y_train[:,2], return_counts=True)\n",
    "e, f"
   ]
  },
  {
   "cell_type": "markdown",
   "metadata": {},
   "source": [
    "Guessing 0 for the above column (\"lighthearted\") gives a baseline of 66%."
   ]
  },
  {
   "cell_type": "markdown",
   "metadata": {},
   "source": [
    "Averaging the three baselines, we get roughly:"
   ]
  },
  {
   "cell_type": "code",
   "execution_count": 143,
   "metadata": {
    "collapsed": false
   },
   "outputs": [
    {
     "data": {
      "text/plain": [
       "0.8111785254642397"
      ]
     },
     "execution_count": 143,
     "metadata": {},
     "output_type": "execute_result"
    }
   ],
   "source": [
    "(1.0 * b[0]/ sum(b) + 1.0 * d[1] / sum(d) + 1.0 * f[0] / sum(f)) / 3"
   ]
  },
  {
   "cell_type": "markdown",
   "metadata": {},
   "source": [
    "This means that we could effectively guess 0 for the first, 1 for the second, and 0 for the third column and get 80% accuracy."
   ]
  },
  {
   "cell_type": "markdown",
   "metadata": {},
   "source": [
    "The above are the value counts for all three columsn. The first column, \"other\", has a lot of 0s and few 1s, the second column, \"heartbeat\", has a lot of 1s but few 0s, and the third column, \"lighthearted\", has many 0s and a lot, but not too many 1s."
   ]
  },
  {
   "cell_type": "code",
   "execution_count": 114,
   "metadata": {
    "collapsed": false
   },
   "outputs": [
    {
     "data": {
      "text/plain": [
       "(array([0, 1], dtype=object), array([2873, 2566]))"
      ]
     },
     "execution_count": 114,
     "metadata": {},
     "output_type": "execute_result"
    }
   ],
   "source": [
    "vals, counts = np.unique(updated_y_train, return_counts=True)\n",
    "vals, counts"
   ]
  },
  {
   "cell_type": "markdown",
   "metadata": {},
   "source": [
    "Awesome! Looks like our data overall is a bit more dense now. 0s don't dominate the label matrix now, meaning that a trivial classifier would still guess all 0s, but the data is much more balanced. The new accuracy is:"
   ]
  },
  {
   "cell_type": "code",
   "execution_count": 134,
   "metadata": {
    "collapsed": false
   },
   "outputs": [
    {
     "data": {
      "text/plain": [
       "0.5282220996506711"
      ]
     },
     "execution_count": 134,
     "metadata": {},
     "output_type": "execute_result"
    }
   ],
   "source": [
    "UPDATED_BASELINE_ACC = 1.0 * counts[0] / sum(counts)\n",
    "UPDATED_BASELINE_ACC"
   ]
  },
  {
   "cell_type": "markdown",
   "metadata": {},
   "source": [
    "**That said, this might be an incorrect way to calculate baseline accuracy. A trivial classifier for a multilabel problem likely guesses the most frequent value for each label, as opposed to the most frequent value overall. Thus, the real baseline accuracy is probably an average of the baseline accuracies for each label. Thus, our real baseline accuracy is about 80%**"
   ]
  },
  {
   "cell_type": "code",
   "execution_count": 144,
   "metadata": {
    "collapsed": false
   },
   "outputs": [
    {
     "data": {
      "text/plain": [
       "0.8111785254642397"
      ]
     },
     "execution_count": 144,
     "metadata": {},
     "output_type": "execute_result"
    }
   ],
   "source": [
    "UPDATED_BASELINE_ACC = (1.0 * b[0]/ sum(b) + 1.0 * d[1] / sum(d) + 1.0 * f[0] / sum(f)) / 3\n",
    "UPDATED_BASELINE_ACC"
   ]
  },
  {
   "cell_type": "markdown",
   "metadata": {},
   "source": [
    "Now let's take model 3 again (See above for details), and instead train it on our dense reponse matrix!"
   ]
  },
  {
   "cell_type": "code",
   "execution_count": 147,
   "metadata": {
    "collapsed": false
   },
   "outputs": [
    {
     "name": "stdout",
     "output_type": "stream",
     "text": [
      "_________________________________________________________________\n",
      "Layer (type)                 Output Shape              Param #   \n",
      "=================================================================\n",
      "conv2d_41 (Conv2D)           (None, 31, 31, 32)        160       \n",
      "_________________________________________________________________\n",
      "max_pooling2d_41 (MaxPooling (None, 15, 15, 32)        0         \n",
      "_________________________________________________________________\n",
      "conv2d_42 (Conv2D)           (None, 14, 14, 32)        4128      \n",
      "_________________________________________________________________\n",
      "max_pooling2d_42 (MaxPooling (None, 7, 7, 32)          0         \n",
      "_________________________________________________________________\n",
      "conv2d_43 (Conv2D)           (None, 6, 6, 32)          4128      \n",
      "_________________________________________________________________\n",
      "max_pooling2d_43 (MaxPooling (None, 3, 3, 32)          0         \n",
      "_________________________________________________________________\n",
      "conv2d_44 (Conv2D)           (None, 2, 2, 32)          4128      \n",
      "_________________________________________________________________\n",
      "max_pooling2d_44 (MaxPooling (None, 1, 1, 32)          0         \n",
      "_________________________________________________________________\n",
      "flatten_11 (Flatten)         (None, 32)                0         \n",
      "_________________________________________________________________\n",
      "dense_21 (Dense)             (None, 64)                2112      \n",
      "_________________________________________________________________\n",
      "dense_22 (Dense)             (None, 3)                 195       \n",
      "=================================================================\n",
      "Total params: 14,851.0\n",
      "Trainable params: 14,851.0\n",
      "Non-trainable params: 0.0\n",
      "_________________________________________________________________\n",
      "('Test loss:', 0.40970843930783801)\n",
      "('Test accuracy:', 0.82519282504035141)\n"
     ]
    },
    {
     "data": {
      "image/png": "[encoded data removed]",
      "text/plain": [
       "<matplotlib.figure.Figure at 0x7f5a8c5db2d0>"
      ]
     },
     "metadata": {},
     "output_type": "display_data"
    }
   ],
   "source": [
    "model = build_cnn(n_layers=4, \n",
    "                    filters=[32] * 4, \n",
    "                    kernels=[(2,2)] * 4, \n",
    "                    a_func='relu',\n",
    "                    n_labels = 3)\n",
    "\n",
    "model.summary()\n",
    "compile_cnn(model)\n",
    "\n",
    "model_history, model_score = train_cnn(model=model, \n",
    "                                           x_train=x_train, \n",
    "                                           y_train=updated_y_train,\n",
    "                                           x_test=x_test,\n",
    "                                           y_test=updated_y_test, \n",
    "                                           batch_size=batch_size, \n",
    "                                           epochs=50)\n",
    "\n",
    "model_info[\"model_3_updated\"] = {}\n",
    "model_info[\"model_3_updated\"][\"model_history\"] = model_history\n",
    "model_info[\"model_3_updated\"][\"model_score\"] = model_score\n",
    "\n",
    "plot_acc(model_history, baseline=UPDATED_BASELINE_ACC)"
   ]
  },
  {
   "cell_type": "markdown",
   "metadata": {},
   "source": [
    "Looks like our model is now having an easier time exceeding the baseline! This is beacuse our label space is much more dense, so there's not as much of a needle in a haystack problem anymore"
   ]
  },
  {
   "cell_type": "markdown",
   "metadata": {},
   "source": [
    "Let's try model 1 from above on this new data..."
   ]
  },
  {
   "cell_type": "code",
   "execution_count": 150,
   "metadata": {
    "collapsed": false
   },
   "outputs": [
    {
     "name": "stdout",
     "output_type": "stream",
     "text": [
      "_________________________________________________________________\n",
      "Layer (type)                 Output Shape              Param #   \n",
      "=================================================================\n",
      "conv2d_47 (Conv2D)           (None, 30, 30, 8)         80        \n",
      "_________________________________________________________________\n",
      "max_pooling2d_47 (MaxPooling (None, 15, 15, 8)         0         \n",
      "_________________________________________________________________\n",
      "flatten_14 (Flatten)         (None, 1800)              0         \n",
      "_________________________________________________________________\n",
      "dense_27 (Dense)             (None, 64)                115264    \n",
      "_________________________________________________________________\n",
      "dense_28 (Dense)             (None, 3)                 195       \n",
      "=================================================================\n",
      "Total params: 115,539.0\n",
      "Trainable params: 115,539.0\n",
      "Non-trainable params: 0.0\n",
      "_________________________________________________________________\n",
      "('Test loss:', 0.47741260358484361)\n",
      "('Test accuracy:', 0.81019710912189635)\n"
     ]
    },
    {
     "data": {
      "image/png": "[encoded data removed]",
      "text/plain": [
       "<matplotlib.figure.Figure at 0x7f5a54904d50>"
      ]
     },
     "metadata": {},
     "output_type": "display_data"
    }
   ],
   "source": [
    "model = build_cnn(n_layers=1, \n",
    "                    filters=[8], \n",
    "                    kernels=[(3,3)], \n",
    "                    a_func='relu',\n",
    "                     n_labels = 3)\n",
    "\n",
    "model.summary()\n",
    "compile_cnn(model)\n",
    "\n",
    "model_history, model_score = train_cnn(model=model, \n",
    "                                           x_train=x_train, \n",
    "                                           y_train=updated_y_train,\n",
    "                                           x_test=x_test,\n",
    "                                           y_test=updated_y_test, \n",
    "                                           batch_size=batch_size, \n",
    "                                           epochs=30)\n",
    "\n",
    "\n",
    "model_info[\"updated_model_1\"] = {}\n",
    "model_info[\"updated_model_1\"][\"model_history\"] = model_history\n",
    "model_info[\"updated_model_1\"][\"model_score\"] = model_score\n",
    "\n",
    "plot_acc(model_history, baseline=UPDATED_BASELINE_ACC)"
   ]
  },
  {
   "cell_type": "markdown",
   "metadata": {},
   "source": [
    "Let's also try changing the learning rate (i.e. model 4 from above)"
   ]
  },
  {
   "cell_type": "code",
   "execution_count": 151,
   "metadata": {
    "collapsed": false
   },
   "outputs": [
    {
     "name": "stdout",
     "output_type": "stream",
     "text": [
      "_________________________________________________________________\n",
      "Layer (type)                 Output Shape              Param #   \n",
      "=================================================================\n",
      "conv2d_48 (Conv2D)           (None, 31, 31, 32)        160       \n",
      "_________________________________________________________________\n",
      "max_pooling2d_48 (MaxPooling (None, 15, 15, 32)        0         \n",
      "_________________________________________________________________\n",
      "conv2d_49 (Conv2D)           (None, 14, 14, 32)        4128      \n",
      "_________________________________________________________________\n",
      "max_pooling2d_49 (MaxPooling (None, 7, 7, 32)          0         \n",
      "_________________________________________________________________\n",
      "conv2d_50 (Conv2D)           (None, 6, 6, 32)          4128      \n",
      "_________________________________________________________________\n",
      "max_pooling2d_50 (MaxPooling (None, 3, 3, 32)          0         \n",
      "_________________________________________________________________\n",
      "conv2d_51 (Conv2D)           (None, 2, 2, 32)          4128      \n",
      "_________________________________________________________________\n",
      "max_pooling2d_51 (MaxPooling (None, 1, 1, 32)          0         \n",
      "_________________________________________________________________\n",
      "flatten_15 (Flatten)         (None, 32)                0         \n",
      "_________________________________________________________________\n",
      "dense_29 (Dense)             (None, 64)                2112      \n",
      "_________________________________________________________________\n",
      "dense_30 (Dense)             (None, 3)                 195       \n",
      "=================================================================\n",
      "Total params: 14,851.0\n",
      "Trainable params: 14,851.0\n",
      "Non-trainable params: 0.0\n",
      "_________________________________________________________________\n",
      "('Test loss:', 0.49247875372977368)\n",
      "('Test accuracy:', 0.81062555895366517)\n"
     ]
    },
    {
     "data": {
      "image/png": "[encoded data removed]",
      "text/plain": [
       "<matplotlib.figure.Figure at 0x7f5a54b4d7d0>"
      ]
     },
     "metadata": {},
     "output_type": "display_data"
    }
   ],
   "source": [
    "model = build_cnn(n_layers=4, \n",
    "                    filters=[32] * 4, \n",
    "                    kernels=[(2,2)] * 4, \n",
    "                    a_func='relu',\n",
    "                 n_labels = 3)\n",
    "\n",
    "model.summary()\n",
    "compile_cnn(model, lr=0.01, momentum=0.99)\n",
    "\n",
    "model_history, model_score = train_cnn(model=model, \n",
    "                                           x_train=x_train, \n",
    "                                           y_train=updated_y_train,\n",
    "                                           x_test=x_test,\n",
    "                                           y_test=updated_y_test, \n",
    "                                           batch_size=batch_size, \n",
    "                                           epochs=60)\n",
    "\n",
    "model_info[\"updated_model_4\"] = {}\n",
    "model_info[\"updated_model_4\"][\"model_history\"] = model_history\n",
    "model_info[\"updated_model_4\"][\"model_score\"] = model_score\n",
    "\n",
    "plot_acc(model_history, baseline=UPDATED_BASELINE_ACC)"
   ]
  },
  {
   "cell_type": "markdown",
   "metadata": {},
   "source": [
    "Still beating the baseline, but just by a handful of percentage points. Maybe it's not worth it to lower the learning rate, because it takes much more time to run."
   ]
  },
  {
   "cell_type": "markdown",
   "metadata": {
    "deletable": true,
    "editable": true
   },
   "source": [
    "# Discussion of the results, how much improvement you gained with fine tuning, etc.\n",
    "\n",
    "## Insights from tuning our built-from-scratch CNN\n",
    "\n",
    "We built our from-scratch Convolutional Neural Network under the general premise that deeper networks (i.e. those with more layers) are better, given that we have the computational capacity and data size to support this increased model complexity.\n",
    "\n",
    "We tried out many different models at first. For example:\n",
    "\n",
    "#### Model 1: \n",
    "* 1 convolution layer & 1 pool layer\n",
    "* 8 filters applied to convolution layer\n",
    "* Convolution kernels of size 3x3\n",
    "* relU activation function\n",
    "\n",
    "#### Model 2\n",
    "* 3 convolution layers & 3 pool layers\n",
    "* 8 filters applied to each convolution layer\n",
    "* Convolution kernels of size 3x3\n",
    "* relU activation function\n",
    "\n",
    "#### Model 3\n",
    "* 4 convolution layers & 4 pool layers\n",
    "* 32 filters applied to convolution layer\n",
    "* Convolution kernels of size 2, 2\n",
    "* relU activation function\n",
    "\n",
    "#### Model 4\n",
    "* Same as model 3, but with a lower learning rate (0.01) and higher momentum (0.99)\n",
    "\n",
    "#### Model 5 (Harnessing bigger images!) - 256x256 images\n",
    "* 5 convolution layers & 5 pool layers\n",
    "* [8, 16, 32, 64, 128] filters applied to layers, respectively\n",
    "* Convolution kernels of size 3, 3\n",
    "* relU activation function\n",
    "\n",
    "**Insights learned up to this point:** We manually tried various parameters in the first 5 parameters, from increasing the numebr of layers (both convolution and max pool layers), changing the number of filters we used to convolv each layer, changing the kernel size of these filters, lowering the learning rate, increasing momentum, and, lastly, as a hail mary, increasing image size to 256x256.\n",
    "\n",
    "We were never able to increase the accuracy past the baseline, which is the number representing the accuracy of a trivial classifier which guesses all 0.\n",
    "\n",
    "This is likely because the label matrix is incredibly sparse and is roughly 82% 0, meaning that our multi-label problem is a needle-in-the-haystack problem.\n",
    "\n",
    "To fix this, we'd likely need way more training data so that we can actually find patterns in the labels. After all, we had about 17 labels total in the first 5 models. \n",
    "\n",
    "Instead of increasing training data, we tried to make our task slightly more teneble --> we collapsed all 17 genres into 3 more general genres: \"heartbeat\", which represents movies which usually make your heart race, \"lighthearted\", which represents movies which are generally lighthearted and fun or romantic, and \"other\", which are movies that are usually not lighthearted or innately exciting. \n",
    "\n",
    "After collapsing our labels into three columns, we tried various models again:\n",
    "\n",
    "* Model 3\n",
    "* Model 1\n",
    "* Model 4\n",
    "\n",
    "What we found is that Models 1 and 4 got 84% accuracy, while the baseline accuracy was about 80%, meaning that we successfully were able to supercede the baseline! This is even more impressive when you consider that the new label data (that is, the label data with the three new genre categories) is about 50% 0s and 1s, so an ultra-trivial classifier would get just about 50% of the labels correctly. That said, the average of a trivial classifier's accuracy for each column separately gives about 80% accuracy in total, and we chose to use this more strict baseline because it seems more likely that this is what a trivial neural net would do.\n",
    "\n",
    "In the end, our best, most parsimonious model was model 1 and had parameters:\n",
    "\n",
    "* 1 convolution layer & 1 pool layer\n",
    "* 8 filters applied to convolution layer\n",
    "* Convolution kernels of size 3x3\n",
    "* relU activation function for the convolution layers\n",
    "* .1 learning rate and .9 momentum for the SGD optimization\n",
    "\n",
    "One thing that suprised us is that we only needed 1 convolution layer and 1 max pool layer to get peak accuracy, and using more layers didn't seem to improve accuracy much more. Our work over the next week will try to explore why this is, and whether there are other parameters that we might want to try tuning as well!"
   ]
  },
  {
   "cell_type": "markdown",
   "metadata": {},
   "source": [
    "# Exploratory Idea: Let's train a model with color images instead of grayscale"
   ]
  },
  {
   "cell_type": "code",
   "execution_count": null,
   "metadata": {
    "collapsed": true
   },
   "outputs": [],
   "source": [
    "# convert each normal poster to a 32x32 grayscale poster\n",
    "for img_name in os.listdir(\"all_train_imgs/\"):\n",
    "    ## This line added to avoid hidden files on mac (Stephen)\n",
    "    if not img_name.startswith('.'):\n",
    "        # read in an image and leave in color\n",
    "        im = Image.open(\"all_train_imgs/\" + img_name)\n",
    "        out = im.resize((img_rows, img_cols))\n",
    "        out.save(\"all_nn_ready_images_color/\" + img_name)"
   ]
  },
  {
   "cell_type": "code",
   "execution_count": null,
   "metadata": {
    "collapsed": true
   },
   "outputs": [],
   "source": [
    "# gets all movie ids for the color images\n",
    "m_ids_color = map(int, map(lambda x: x[:-4], os.listdir(\"all_nn_ready_images_color\")))\n",
    "\n",
    "# shuffle the ids to get a random sample\n",
    "np.random.shuffle(m_ids_color)\n",
    "train_size = int(math.floor(.7 * len(m_ids_color)))"
   ]
  },
  {
   "cell_type": "code",
   "execution_count": null,
   "metadata": {
    "collapsed": true
   },
   "outputs": [],
   "source": [
    "# get the movie_ids (each of which has an image in \"nn_images_ready/\"\n",
    "# which is ready to be put through the neural net\n",
    "train_ids_color = m_ids_color[:train_size]\n",
    "test_ids_color = m_ids_color[train_size:]"
   ]
  },
  {
   "cell_type": "code",
   "execution_count": null,
   "metadata": {
    "collapsed": true
   },
   "outputs": [],
   "source": [
    "# load image matrices into memory\n",
    "x_train_color = np.array([np.asarray(Image.open(\"all_nn_ready_images_color/\" + str(m_id) + \".jpg\")) for m_id in train_ids_color])\n",
    "x_test_color =  np.array([np.asarray(Image.open(\"all_nn_ready_images_color/\" + str(m_id) + \".jpg\")) for m_id in test_ids_color])"
   ]
  },
  {
   "cell_type": "code",
   "execution_count": null,
   "metadata": {
    "collapsed": true
   },
   "outputs": [],
   "source": [
    "# output should be (num_images, img_height, img_width)\n",
    "print \"x_train shape:\", x_train_color.shape\n",
    "print \"x_test shape:\", x_test_color.shape"
   ]
  },
  {
   "cell_type": "code",
   "execution_count": null,
   "metadata": {
    "collapsed": true
   },
   "outputs": [],
   "source": [
    "# code borrowed from Keras_CNN lab\n",
    "\n",
    "# now we need to reshape x_train and x_test so that they work with CNNs\n",
    "# Following the example in \"labs/Keras_CNN.ipynb\", this needs to be an array \n",
    "# of images with shape determined by the backend, including the depth dimension,\n",
    "# which is 1 for greyscale\n",
    "\n",
    "# x_train is of shape n_samples x 32 x 32\n",
    "# for a CNN we want to keep the image shape\n",
    "# need to explicitly tell keras that it is a gray value image\n",
    "# so each image is 32x32x1 not 32x32x3\n",
    "if K.image_data_format() == 'channels_first':\n",
    "    x_train_color = x_train_color.reshape(x_train_color.shape[0], 3, img_rows, img_cols)\n",
    "    x_test_color = x_test_color.reshape(x_test_color.shape[0], 3, img_rows, img_cols)\n",
    "    input_shape = (3, img_rows, img_cols)\n",
    "else:\n",
    "    x_train_color = x_train_color.reshape(x_train_color.shape[0], img_rows, img_cols, 3)\n",
    "    x_test_color = x_test_color.reshape(x_test_color.shape[0], img_rows, img_cols, 3)\n",
    "    input_shape = (img_rows, img_cols, 3)"
   ]
  },
  {
   "cell_type": "code",
   "execution_count": null,
   "metadata": {
    "collapsed": true
   },
   "outputs": [],
   "source": [
    "# normalize image values to [0,1]\n",
    "x_train_color = x_train_color.astype('float32')\n",
    "x_test_color = x_test_color.astype('float32')\n",
    "x_train_color /= 255\n",
    "x_test_color /= 255\n",
    "\n",
    "print \"x_train shape color:\", x_train_color.shape\n",
    "print x_train_color.shape[0], \"train samples color\"\n",
    "print x_test_color.shape[0], \"test samples color\""
   ]
  },
  {
   "cell_type": "markdown",
   "metadata": {},
   "source": [
    "# Color Model 1: \n",
    "* 1 convolution layer & 1 pool layer\n",
    "* 8 filters applied to convolution layer\n",
    "* Convolution kernels of size 3x3\n",
    "* relU activation function"
   ]
  },
  {
   "cell_type": "code",
   "execution_count": null,
   "metadata": {
    "collapsed": true
   },
   "outputs": [],
   "source": [
    "model = build_cnn(n_layers=1, \n",
    "                    filters=[8], \n",
    "                    kernels=[(3,3)], \n",
    "                    a_func='relu')\n",
    "\n",
    "model.summary()\n",
    "compile_cnn(model)\n",
    "\n",
    "model_history, model_score = train_cnn(model=model, \n",
    "                                           x_train=x_train_color, \n",
    "                                           y_train=y_train_color,\n",
    "                                           x_test=x_test_color,\n",
    "                                           y_test=y_test_color, \n",
    "                                           batch_size=batch_size, \n",
    "                                           epochs=60)\n",
    "\n",
    "\n",
    "model_info[\"model_1\"] = {}\n",
    "model_info[\"model_1\"][\"model_history\"] = model_history\n",
    "model_info[\"model_1\"][\"model_score\"] = model_score\n",
    "\n",
    "plot_acc(model_history)"
   ]
  },
  {
   "cell_type": "markdown",
   "metadata": {},
   "source": [
    "# Color Model 2: \n",
    "* 3 convolution layers & 3 pool layers\n",
    "* 8 filters applied to each convolution layer\n",
    "* Convolution kernels of size 3x3\n",
    "* relU activation function"
   ]
  },
  {
   "cell_type": "code",
   "execution_count": null,
   "metadata": {
    "collapsed": true
   },
   "outputs": [],
   "source": [
    "model = build_cnn(n_layers=3, \n",
    "                    filters=[8] * 3, \n",
    "                    kernels=[(3,3)] * 3, \n",
    "                    a_func='relu')\n",
    "\n",
    "model.summary()\n",
    "compile_cnn(model)\n",
    "\n",
    "model_history, model_score = train_cnn(model=model, \n",
    "                                           x_train=x_train_color, \n",
    "                                           y_train=y_train,\n",
    "                                           x_test=x_test_color,\n",
    "                                           y_test=y_test, \n",
    "                                           batch_size=batch_size, \n",
    "                                           epochs=60)\n",
    "\n",
    "model_info[\"model_2\"] = {}\n",
    "model_info[\"model_2\"][\"model_history\"] = model_history\n",
    "model_info[\"model_2\"][\"model_score\"] = model_score\n",
    "\n",
    "plot_acc(model_history)"
   ]
  },
  {
   "cell_type": "markdown",
   "metadata": {},
   "source": [
    "# Color Model 3: \n",
    "* 4 convolution layers & 4 pool layers\n",
    "* 32 filters applied to convolution layer\n",
    "* Convolution kernels of size 2, 2\n",
    "* relU activation function"
   ]
  },
  {
   "cell_type": "code",
   "execution_count": null,
   "metadata": {
    "collapsed": true
   },
   "outputs": [],
   "source": [
    "model = build_cnn(n_layers=4, \n",
    "                    filters=[32] * 4, \n",
    "                    kernels=[(2,2)] * 4, \n",
    "                    a_func='relu')\n",
    "\n",
    "model.summary()\n",
    "compile_cnn(model)\n",
    "\n",
    "model_history, model_score = train_cnn(model=model, \n",
    "                                           x_train=x_train, \n",
    "                                           y_train=y_train,\n",
    "                                           x_test=x_test,\n",
    "                                           y_test=y_test, \n",
    "                                           batch_size=batch_size, \n",
    "                                           epochs=60)\n",
    "\n",
    "model_info[\"model_3\"] = {}\n",
    "model_info[\"model_3\"][\"model_history\"] = model_history\n",
    "model_info[\"model_3\"][\"model_score\"] = model_score\n",
    "\n",
    "plot_acc(model_history)"
   ]
  },
  {
   "cell_type": "markdown",
   "metadata": {},
   "source": [
    "## Model Discussion\n",
    "Here we see that our color models perform similarly to those in grayscale. Here, then, we see that adding color is not significant in predicting posters and that grayscale coding of the color is probably sufficient in encapsulating the information. "
   ]
  }
 ],
 "metadata": {
  "kernelspec": {
   "display_name": "Python 2",
   "language": "python",
   "name": "python2"
  },
  "language_info": {
   "codemirror_mode": {
    "name": "ipython",
    "version": 2
   },
   "file_extension": ".py",
   "mimetype": "text/x-python",
   "name": "python",
   "nbconvert_exporter": "python",
   "pygments_lexer": "ipython2",
   "version": "2.7.12"
  }
 },
 "nbformat": 4,
 "nbformat_minor": 1
}
