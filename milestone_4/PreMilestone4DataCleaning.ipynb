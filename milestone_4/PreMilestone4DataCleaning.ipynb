{
 "cells": [
  {
   "cell_type": "markdown",
   "metadata": {},
   "source": [
    "# Data Cleaning for Milestone 4\n",
    "\n",
    "As we discovered during our work in Milestone 4, our dataframes need some extra pre-processing before feeding them into our neural nets. We also found that it was helpful to collapse down our 19 genres into 3 more general categories.\n",
    "\n",
    "This notebook separates out some of the data processing we used in milestone 4 so that it's easier to read and see exactly what we did."
   ]
  },
  {
   "cell_type": "code",
   "execution_count": 28,
   "metadata": {
    "collapsed": true
   },
   "outputs": [],
   "source": [
    "import pandas as pd\n",
    "import os\n",
    "\n",
    "# used for image manipulation\n",
    "# sudo pip install Image\n",
    "import PIL.Image as Image"
   ]
  },
  {
   "cell_type": "markdown",
   "metadata": {},
   "source": [
    "## Building the DataFrames"
   ]
  },
  {
   "cell_type": "code",
   "execution_count": 14,
   "metadata": {
    "collapsed": false
   },
   "outputs": [
    {
     "name": "stdout",
     "output_type": "stream",
     "text": [
      "Train shape: (7220, 31)\n"
     ]
    },
    {
     "data": {
      "text/html": [
       "<div>\n",
       "<table border=\"1\" class=\"dataframe\">\n",
       "  <thead>\n",
       "    <tr style=\"text-align: right;\">\n",
       "      <th></th>\n",
       "      <th>10402</th>\n",
       "      <th>10749</th>\n",
       "      <th>10751</th>\n",
       "      <th>10752</th>\n",
       "      <th>10770</th>\n",
       "      <th>12</th>\n",
       "      <th>14</th>\n",
       "      <th>16</th>\n",
       "      <th>18</th>\n",
       "      <th>27</th>\n",
       "      <th>...</th>\n",
       "      <th>lead actors</th>\n",
       "      <th>movie_id</th>\n",
       "      <th>overview</th>\n",
       "      <th>popularity</th>\n",
       "      <th>poster_path</th>\n",
       "      <th>release_date</th>\n",
       "      <th>title</th>\n",
       "      <th>video</th>\n",
       "      <th>vote_average</th>\n",
       "      <th>vote_count</th>\n",
       "    </tr>\n",
       "  </thead>\n",
       "  <tbody>\n",
       "    <tr>\n",
       "      <th>0</th>\n",
       "      <td>0</td>\n",
       "      <td>0</td>\n",
       "      <td>0</td>\n",
       "      <td>0</td>\n",
       "      <td>0</td>\n",
       "      <td>0</td>\n",
       "      <td>0</td>\n",
       "      <td>0</td>\n",
       "      <td>1</td>\n",
       "      <td>0</td>\n",
       "      <td>...</td>\n",
       "      <td>[u'Amy Adams', u'Jeremy Renner', u'Forest Whit...</td>\n",
       "      <td>329865</td>\n",
       "      <td>Taking place after alien crafts land around th...</td>\n",
       "      <td>25.66195</td>\n",
       "      <td>/hLudzvGfpi6JlwUnsNhXwKKg4j.jpg</td>\n",
       "      <td>2016-11-10</td>\n",
       "      <td>Arrival</td>\n",
       "      <td>False</td>\n",
       "      <td>6.9</td>\n",
       "      <td>3510</td>\n",
       "    </tr>\n",
       "  </tbody>\n",
       "</table>\n",
       "<p>1 rows × 31 columns</p>\n",
       "</div>"
      ],
      "text/plain": [
       "   10402  10749  10751  10752  10770  12  14  16  18  27    ...      \\\n",
       "0      0      0      0      0      0   0   0   0   1   0    ...       \n",
       "\n",
       "                                         lead actors  movie_id  \\\n",
       "0  [u'Amy Adams', u'Jeremy Renner', u'Forest Whit...    329865   \n",
       "\n",
       "                                            overview  popularity  \\\n",
       "0  Taking place after alien crafts land around th...    25.66195   \n",
       "\n",
       "                       poster_path  release_date    title  video  \\\n",
       "0  /hLudzvGfpi6JlwUnsNhXwKKg4j.jpg    2016-11-10  Arrival  False   \n",
       "\n",
       "   vote_average vote_count  \n",
       "0           6.9       3510  \n",
       "\n",
       "[1 rows x 31 columns]"
      ]
     },
     "execution_count": 14,
     "metadata": {},
     "output_type": "execute_result"
    }
   ],
   "source": [
    "train = pd.read_csv(\"train_full.csv\")\n",
    "\n",
    "# make sure the poster path is an ascii string\n",
    "train.poster_path = map(str, curr_df.poster_path)\n",
    "\n",
    "# drop this unused column\n",
    "train.drop(\"Unnamed: 0\", axis=1, inplace=True)\n",
    "\n",
    "# no need for this genre (only a handful of movies have this)\n",
    "train.drop(\"10769\", axis=1, inplace=True)\n",
    "\n",
    "print \"Train shape:\", train.shape\n",
    "train.head(1)"
   ]
  },
  {
   "cell_type": "code",
   "execution_count": 18,
   "metadata": {
    "collapsed": true
   },
   "outputs": [],
   "source": [
    "# this is our final dataset with 19 labels\n",
    "train.to_csv(\"final_dataset_19_labels.csv\", index = False)"
   ]
  },
  {
   "cell_type": "markdown",
   "metadata": {},
   "source": [
    "As we dicovered while building our nets in milestone 4, having 19 labels turns out to be quite a challenge for our neural network, which doesn't seem to have enough data to overcome the performance of a trivial classifier. For that reason, we collapse our 19 columns in 3 general genre categories based on whether the genres are lighthearted, exciting (which we call heartbeart), or anything else (which we call other).\n",
    "\n",
    "Here is our relevant commentary from Milestone 4:\n",
    "\n",
    "**Label insights from milestone 4:** Even using huge images and many layers doesn't seem to get us past baseline accuracy.\n",
    "\n",
    "It seems like the problem might be this: we have 17 labels, and our entire label matrix is incredibly sparse. It's 84% 0's, meaning that our prediction problem is looking for haystack needles. What we might want to do to decrease the sparsity of this dataset is collapse our 17 genres into a handful of categories. \n",
    "\n",
    "For instance, we could collapse \"War\" and \"Horror\" into \"Scary\". This will help us decrease the number of labels in our label matrix, which might finally get our neural net above the baseline of 84%.\n",
    "\n",
    "Here's how we'll do the split: We'll create a new category, \"Heartbeat\", which will represent movies that make your heart beat quickly (romance, adventure, horror, crime, thriller etc.)\n",
    "\n",
    "We'll also do \"Lighthearted\" for light hearted movies (music, comedy, family, fantasy, etc.)\n",
    "\n",
    "And lastly, we'll have a category for \"other\" movies that have genres which are neither categorically lighthearted or inherently exciting.\n",
    "\n",
    "* 'TV Movie', => Other\n",
    "* 'Music', => Lighthearted\n",
    "* 'Adventure' => Heartbeat\n",
    "* 'Fantasy', => Heartbeat\n",
    "* 'Animation', => Heartbeat\n",
    "* 'Drama', => Heartbeat\n",
    "* 'Action', => Heartbeat\n",
    "* 'History', => Other\n",
    "* 'Comedy', => Lighthearted\n",
    "* 'War', => Heartbeat\n",
    "* 'Horror', => Heartbeat\n",
    "* 'Western', => Other\n",
    "* 'Romance', => Heartbeat\n",
    "* 'Family', => Lighthearted\n",
    "* 'Crime', => Heartbeat\n",
    "* 'Thriller' => Heartbeat\n",
    "\n",
    "In the cell below, I create a new dataframe with just these three columns and then save it to a different CSV."
   ]
  },
  {
   "cell_type": "code",
   "execution_count": 4,
   "metadata": {
    "collapsed": true
   },
   "outputs": [],
   "source": [
    "curr_df = train.copy()\n",
    "curr_df.drop(curr_df.columns[:19], axis=1, inplace=True)\n",
    "\n",
    "curr_df[\"other\"] = \"\"\n",
    "curr_df[\"heartbeat\"] = \"\"\n",
    "curr_df[\"lighthearted\"] = \"\"\n",
    "\n",
    "for index, row in curr_df.iterrows():\n",
    "    if row[\"36\"] == 1 or row[\"37\"] == 1 or row[\"10770\"] == 1:\n",
    "        curr_df.set_value(index, \"other\", 1)\n",
    "    else:\n",
    "        curr_df.set_value(index, \"other\", 0)\n",
    "        \n",
    "    if row[\"12\"] == 1 or row[\"14\"] == 1 or row[\"18\"] == 1 or row[\"27\"] == 1 or row[\"28\"] == 1 or row[\"53\"] == 1 or row[\"80\"] == 1 or row[\"10749\"] == 1 or row[\"10752\"] == 1:\n",
    "        curr_df.set_value(index, \"heartbeat\", 1)\n",
    "    else:\n",
    "        curr_df.set_value(index, \"heartbeat\", 0)\n",
    "        \n",
    "    if row[\"16\"] == 1 or row[\"35\"] == 1 or row[\"10402\"] == 1 or row[\"10751\"] == 1:\n",
    "        curr_df.set_value(index, \"lighthearted\", 1)\n",
    "    else:\n",
    "        curr_df.set_value(index, \"lighthearted\", 0)"
   ]
  },
  {
   "cell_type": "code",
   "execution_count": 16,
   "metadata": {
    "collapsed": false
   },
   "outputs": [
    {
     "name": "stdout",
     "output_type": "stream",
     "text": [
      "Train shape: (7220, 15)\n"
     ]
    },
    {
     "data": {
      "text/html": [
       "<div>\n",
       "<table border=\"1\" class=\"dataframe\">\n",
       "  <thead>\n",
       "    <tr style=\"text-align: right;\">\n",
       "      <th></th>\n",
       "      <th>adult</th>\n",
       "      <th>director</th>\n",
       "      <th>lead actors</th>\n",
       "      <th>movie_id</th>\n",
       "      <th>overview</th>\n",
       "      <th>popularity</th>\n",
       "      <th>poster_path</th>\n",
       "      <th>release_date</th>\n",
       "      <th>title</th>\n",
       "      <th>video</th>\n",
       "      <th>vote_average</th>\n",
       "      <th>vote_count</th>\n",
       "      <th>other</th>\n",
       "      <th>heartbeat</th>\n",
       "      <th>lighthearted</th>\n",
       "    </tr>\n",
       "  </thead>\n",
       "  <tbody>\n",
       "    <tr>\n",
       "      <th>0</th>\n",
       "      <td>False</td>\n",
       "      <td>Denis Villeneuve</td>\n",
       "      <td>[u'Amy Adams', u'Jeremy Renner', u'Forest Whit...</td>\n",
       "      <td>329865</td>\n",
       "      <td>Taking place after alien crafts land around th...</td>\n",
       "      <td>25.66195</td>\n",
       "      <td>/hLudzvGfpi6JlwUnsNhXwKKg4j.jpg</td>\n",
       "      <td>2016-11-10</td>\n",
       "      <td>Arrival</td>\n",
       "      <td>False</td>\n",
       "      <td>6.9</td>\n",
       "      <td>3510</td>\n",
       "      <td>0</td>\n",
       "      <td>1</td>\n",
       "      <td>0</td>\n",
       "    </tr>\n",
       "  </tbody>\n",
       "</table>\n",
       "</div>"
      ],
      "text/plain": [
       "   adult          director                                        lead actors  \\\n",
       "0  False  Denis Villeneuve  [u'Amy Adams', u'Jeremy Renner', u'Forest Whit...   \n",
       "\n",
       "   movie_id                                           overview  popularity  \\\n",
       "0    329865  Taking place after alien crafts land around th...    25.66195   \n",
       "\n",
       "                       poster_path release_date    title  video  vote_average  \\\n",
       "0  /hLudzvGfpi6JlwUnsNhXwKKg4j.jpg   2016-11-10  Arrival  False           6.9   \n",
       "\n",
       "   vote_count other heartbeat lighthearted  \n",
       "0        3510     0         1            0  "
      ]
     },
     "execution_count": 16,
     "metadata": {},
     "output_type": "execute_result"
    }
   ],
   "source": [
    "print \"Train shape:\", curr_df.shape\n",
    "curr_df.head(1)"
   ]
  },
  {
   "cell_type": "code",
   "execution_count": 19,
   "metadata": {
    "collapsed": true
   },
   "outputs": [],
   "source": [
    "# this is our final dataset with 3 labels\n",
    "curr_df.to_csv(\"final_dataset_3_labels.csv\", index = False)"
   ]
  },
  {
   "cell_type": "markdown",
   "metadata": {},
   "source": [
    "## Downloading the Images"
   ]
  },
  {
   "cell_type": "code",
   "execution_count": 41,
   "metadata": {
    "collapsed": false
   },
   "outputs": [
    {
     "data": {
      "text/plain": [
       "2"
      ]
     },
     "execution_count": 41,
     "metadata": {},
     "output_type": "execute_result"
    }
   ],
   "source": [
    "1+1"
   ]
  },
  {
   "cell_type": "code",
   "execution_count": 20,
   "metadata": {
    "collapsed": true
   },
   "outputs": [],
   "source": [
    "## Helper that downloads web images \n",
    "## Takes in the poster path and the id of the movie \n",
    "## Saves the movie as a jpg as the unique id of the movie \n",
    "## In the images folder.\n",
    "def download_web_image(poster_path, movie_id):\n",
    "    # given that we're going to resize our images to be 32x32\n",
    "    # or something else really small, let's download really small images \n",
    "    # to start\n",
    "    base_url = \"https://image.tmdb.org/t/p/w92/\" \n",
    "    \n",
    "    request = urllib2.Request(base_url + poster_path)\n",
    "    img = urllib2.urlopen(request).read()\n",
    "    image_name= \"all_train_imgs/\" + str(movie_id) + \".jpg\"\n",
    "    \n",
    "    with open(image_name, 'w') as f: \n",
    "        f.write(img)"
   ]
  },
  {
   "cell_type": "code",
   "execution_count": 21,
   "metadata": {
    "collapsed": false
   },
   "outputs": [
    {
     "name": "stdout",
     "output_type": "stream",
     "text": [
      "If you actually want to download posters, you'll need to turn the `1` above into a `0`. This code doesn't run by default in the notebook so that you don't accidentally download hundreds of images.\n"
     ]
    }
   ],
   "source": [
    "### download all of the images\n",
    "if 1:\n",
    "    print \"If you actually want to download posters, you'll need to turn the `1` above into a `0`. This code doesn't run by default in the notebook so that you don't accidentally download hundreds of images.\"\n",
    "else:\n",
    "    for index, row in curr_df.iterrows():\n",
    "        if index % 200 == 0:\n",
    "            print index\n",
    "            \n",
    "        movie_id = row[\"movie_id\"]\n",
    "        poster_path = row[\"poster_path\"]\n",
    "        \n",
    "        try:\n",
    "            download_web_image(poster_path, movie_id)\n",
    "        except:\n",
    "            continue"
   ]
  },
  {
   "cell_type": "code",
   "execution_count": 32,
   "metadata": {
    "collapsed": true
   },
   "outputs": [],
   "source": [
    "def manipulate_imgs(INPUT_DIR, OUTPUT_DIR, N_ROWS, N_COLS, COLOR=\"L\"):\n",
    "    \"\"\"\n",
    "    Resizes and recolors images and saves them to OUTPUT_DIR\n",
    "    \"\"\"\n",
    "    if not os.path.isdir(OUTPUT_DIR):\n",
    "        os.mkdir(OUTPUT_DIR)\n",
    "    \n",
    "    for img_name in os.listdir(INPUT_DIR):\n",
    "        # avoid hidden files on mac\n",
    "        if not img_name.startswith('.'):\n",
    "            \n",
    "            # base images are already RBG\n",
    "            if COLOR is \"RBG\":\n",
    "                im = Image.open(INPUT_DIR + img_name)\n",
    "            else:\n",
    "                im = Image.open(INPUT_DIR + img_name).convert(COLOR)\n",
    "                \n",
    "            # resize img to specified rows and cols\n",
    "            out = im.resize((N_ROWS, N_COLS))\n",
    "            \n",
    "            # save image to the output directory\n",
    "            out.save(OUTPUT_DIR + img_name)"
   ]
  },
  {
   "cell_type": "code",
   "execution_count": 35,
   "metadata": {
    "collapsed": false
   },
   "outputs": [],
   "source": [
    "# turn all images into 32x32 grayscale\n",
    "manipulate_imgs(\"final_imgs_folder/all_train_imgs/\", \"final_imgs_folder/gray_32_32/\", 32, 32)\n",
    "\n",
    "# turn all images into 64x64 grayscale\n",
    "manipulate_imgs(\"final_imgs_folder/all_train_imgs/\", \"final_imgs_folder/gray_64_64/\", 64, 64)\n",
    "\n",
    "# turn all images into 32x32 RGB\n",
    "manipulate_imgs(\"final_imgs_folder/all_train_imgs/\", \"final_imgs_folder/rgb_32_32/\", 32, 32, COLOR=\"RBG\")\n",
    "\n",
    "# turn all images into 64x64 RGB\n",
    "manipulate_imgs(\"final_imgs_folder/all_train_imgs/\", \"final_imgs_folder/rgb_64_64/\", 64, 64, COLOR=\"RBG\")"
   ]
  },
  {
   "cell_type": "code",
   "execution_count": 36,
   "metadata": {
    "collapsed": true
   },
   "outputs": [],
   "source": [
    "# turn all images in 256x256 grayscale\n",
    "manipulate_imgs(\"final_imgs_folder/all_train_imgs/\", \"final_imgs_folder/gray_256_256/\", 256, 256)"
   ]
  }
 ],
 "metadata": {
  "kernelspec": {
   "display_name": "Python 2",
   "language": "python",
   "name": "python2"
  },
  "language_info": {
   "codemirror_mode": {
    "name": "ipython",
    "version": 2
   },
   "file_extension": ".py",
   "mimetype": "text/x-python",
   "name": "python",
   "nbconvert_exporter": "python",
   "pygments_lexer": "ipython2",
   "version": "2.7.12"
  }
 },
 "nbformat": 4,
 "nbformat_minor": 2
}
