{
 "cells": [
  {
   "cell_type": "markdown",
   "metadata": {
    "collapsed": true
   },
   "source": [
    "### Milestone 4: Deep learning, due Wednesday, April 26, 2017\n",
    "\n",
    "For this milestone you will (finally) use deep learning to predict movie genres. You will train one small network from scratch on the posters only, and compare this one to a pre-trained network that you fine tune. [Here](https://keras.io/getting-started/faq/#how-can-i-use-pre-trained-models-in-keras) is a description of how to use pretrained models in Keras.\n",
    "\n",
    "You can try different architectures, initializations, parameter settings, optimization methods, etc. Be adventurous and explore deep learning! It can be fun to combine the features learned by the deep learning model with a SVM, or incorporate meta data into your deep learning model. \n",
    "\n",
    "**Note:** Be mindful of the longer training times for deep models. Not only for training time, but also for the parameter tuning efforts. You need time to develop a feel for the different parameters and which settings work, which normalization you want to use, which model architecture you choose, etc. \n",
    "\n",
    "It is great that we have GPUs via AWS to speed up the actual computation time, but you need to be mindful of your AWS credits. The GPU instances are not cheap and can accumulate costs rather quickly. Think about your model first and do some quick dry runs with a larger learning rate or large batch size on your local machine. \n",
    "\n",
    "The notebook to submit this week should at least include:\n",
    "\n",
    "- Complete description of the deep network you trained from scratch, including parameter settings, performance, features learned, etc. \n",
    "- Complete description of the pre-trained network that you fine tuned, including parameter settings, performance, features learned, etc. \n",
    "- Discussion of the results, how much improvement you gained with fine tuning, etc. \n",
    "- Discussion of at least one additional exploratory idea you pursued"
   ]
  },
  {
   "cell_type": "code",
   "execution_count": 1,
   "metadata": {
    "collapsed": false
   },
   "outputs": [
    {
     "name": "stderr",
     "output_type": "stream",
     "text": [
      "/Users/lukeheine/anaconda/lib/python2.7/site-packages/matplotlib/font_manager.py:273: UserWarning: Matplotlib is building the font cache using fc-list. This may take a moment.\n",
      "  warnings.warn('Matplotlib is building the font cache using fc-list. This may take a moment.')\n"
     ]
    }
   ],
   "source": [
    "import time\n",
    "import seaborn as sns\n",
    "import numpy as np\n",
    "import pandas as pd\n",
    "from IPython.display import Image\n",
    "import matplotlib.pyplot as plt\n",
    "from collections import Counter\n",
    "%matplotlib inline\n",
    "\n",
    "## Installed by running this line in terminal: pip install IMDbPY\n",
    "## Tutorial found here http://imdbpy.sourceforge.net/support.html\n",
    "import imdb\n",
    "\n",
    "### Downloaded this via this line: pip install tmdbsimple\n",
    "## Tutorial found here https://pypi.python.org/pypi/tmdbsimple\n",
    "import tmdbsimple as tmdb \n",
    "import urllib2"
   ]
  },
  {
   "cell_type": "code",
   "execution_count": 2,
   "metadata": {
    "collapsed": true
   },
   "outputs": [],
   "source": [
    "## Pass in our tmdb Key \n",
    "tmdb.API_KEY = '352e668a0df90032e0f1097459228131'\n",
    "\n",
    "# Create the object that will be used to access the IMDb's database.\n",
    "ia = imdb.IMDb()"
   ]
  },
  {
   "cell_type": "markdown",
   "metadata": {},
   "source": [
    "## Step One: Extracting Movies From URL "
   ]
  },
  {
   "cell_type": "code",
   "execution_count": 3,
   "metadata": {
    "collapsed": false
   },
   "outputs": [],
   "source": [
    "#train = pd.read_csv(\"../data/train_full.csv\")\n",
    "train = pd.read_csv(\"train_full.csv\")\n",
    "train_thinned = pd.read_csv(\"train.csv\")"
   ]
  },
  {
   "cell_type": "code",
   "execution_count": 4,
   "metadata": {
    "collapsed": false
   },
   "outputs": [
    {
     "data": {
      "text/html": [
       "<div>\n",
       "<table border=\"1\" class=\"dataframe\">\n",
       "  <thead>\n",
       "    <tr style=\"text-align: right;\">\n",
       "      <th></th>\n",
       "      <th>Unnamed: 0</th>\n",
       "      <th>10402</th>\n",
       "      <th>10749</th>\n",
       "      <th>10751</th>\n",
       "      <th>10752</th>\n",
       "      <th>10769</th>\n",
       "      <th>10770</th>\n",
       "      <th>12</th>\n",
       "      <th>14</th>\n",
       "      <th>16</th>\n",
       "      <th>...</th>\n",
       "      <th>lead actors</th>\n",
       "      <th>movie_id</th>\n",
       "      <th>overview</th>\n",
       "      <th>popularity</th>\n",
       "      <th>poster_path</th>\n",
       "      <th>release_date</th>\n",
       "      <th>title</th>\n",
       "      <th>video</th>\n",
       "      <th>vote_average</th>\n",
       "      <th>vote_count</th>\n",
       "    </tr>\n",
       "  </thead>\n",
       "  <tbody>\n",
       "    <tr>\n",
       "      <th>0</th>\n",
       "      <td>0</td>\n",
       "      <td>0</td>\n",
       "      <td>0</td>\n",
       "      <td>0</td>\n",
       "      <td>0</td>\n",
       "      <td>0</td>\n",
       "      <td>0</td>\n",
       "      <td>0</td>\n",
       "      <td>0</td>\n",
       "      <td>0</td>\n",
       "      <td>...</td>\n",
       "      <td>[u'Amy Adams', u'Jeremy Renner', u'Forest Whit...</td>\n",
       "      <td>329865</td>\n",
       "      <td>Taking place after alien crafts land around th...</td>\n",
       "      <td>25.661950</td>\n",
       "      <td>/hLudzvGfpi6JlwUnsNhXwKKg4j.jpg</td>\n",
       "      <td>2016-11-10</td>\n",
       "      <td>Arrival</td>\n",
       "      <td>False</td>\n",
       "      <td>6.9</td>\n",
       "      <td>3510</td>\n",
       "    </tr>\n",
       "    <tr>\n",
       "      <th>1</th>\n",
       "      <td>1</td>\n",
       "      <td>0</td>\n",
       "      <td>0</td>\n",
       "      <td>0</td>\n",
       "      <td>0</td>\n",
       "      <td>0</td>\n",
       "      <td>0</td>\n",
       "      <td>0</td>\n",
       "      <td>0</td>\n",
       "      <td>0</td>\n",
       "      <td>...</td>\n",
       "      <td>[u'Ben Affleck', u'Rosamund Pike', u'Carrie Co...</td>\n",
       "      <td>210577</td>\n",
       "      <td>With his wife's disappearance having become th...</td>\n",
       "      <td>13.126754</td>\n",
       "      <td>/gdiLTof3rbPDAmPaCf4g6op46bj.jpg</td>\n",
       "      <td>2014-10-01</td>\n",
       "      <td>Gone Girl</td>\n",
       "      <td>False</td>\n",
       "      <td>7.9</td>\n",
       "      <td>4669</td>\n",
       "    </tr>\n",
       "    <tr>\n",
       "      <th>2</th>\n",
       "      <td>2</td>\n",
       "      <td>0</td>\n",
       "      <td>0</td>\n",
       "      <td>0</td>\n",
       "      <td>0</td>\n",
       "      <td>0</td>\n",
       "      <td>0</td>\n",
       "      <td>1</td>\n",
       "      <td>0</td>\n",
       "      <td>0</td>\n",
       "      <td>...</td>\n",
       "      <td>[u'Leonardo DiCaprio', u'Joseph Gordon-Levitt'...</td>\n",
       "      <td>27205</td>\n",
       "      <td>Cobb, a skilled thief who commits corporate es...</td>\n",
       "      <td>12.110450</td>\n",
       "      <td>/qmDpIHrmpJINaRKAfWQfftjCdyi.jpg</td>\n",
       "      <td>2010-07-14</td>\n",
       "      <td>Inception</td>\n",
       "      <td>False</td>\n",
       "      <td>8.0</td>\n",
       "      <td>11276</td>\n",
       "    </tr>\n",
       "    <tr>\n",
       "      <th>3</th>\n",
       "      <td>3</td>\n",
       "      <td>0</td>\n",
       "      <td>0</td>\n",
       "      <td>0</td>\n",
       "      <td>0</td>\n",
       "      <td>0</td>\n",
       "      <td>0</td>\n",
       "      <td>0</td>\n",
       "      <td>0</td>\n",
       "      <td>0</td>\n",
       "      <td>...</td>\n",
       "      <td>[u\"Dylan O'Brien\", u'Ki Hong Lee', u'Kaya Scod...</td>\n",
       "      <td>198663</td>\n",
       "      <td>Set in a post-apocalyptic world, young Thomas ...</td>\n",
       "      <td>11.037776</td>\n",
       "      <td>/coss7RgL0NH6g4fC2s5atvf3dFO.jpg</td>\n",
       "      <td>2014-09-10</td>\n",
       "      <td>The Maze Runner</td>\n",
       "      <td>False</td>\n",
       "      <td>7.0</td>\n",
       "      <td>4125</td>\n",
       "    </tr>\n",
       "    <tr>\n",
       "      <th>4</th>\n",
       "      <td>4</td>\n",
       "      <td>0</td>\n",
       "      <td>0</td>\n",
       "      <td>0</td>\n",
       "      <td>0</td>\n",
       "      <td>0</td>\n",
       "      <td>0</td>\n",
       "      <td>0</td>\n",
       "      <td>0</td>\n",
       "      <td>0</td>\n",
       "      <td>...</td>\n",
       "      <td>[u'Samuel L. Jackson', u'Kurt Russell', u'Jenn...</td>\n",
       "      <td>273248</td>\n",
       "      <td>Bounty hunters seek shelter from a raging bliz...</td>\n",
       "      <td>9.701425</td>\n",
       "      <td>/fqe8JxDNO8B8QfOGTdjh6sPCdSC.jpg</td>\n",
       "      <td>2015-12-25</td>\n",
       "      <td>The Hateful Eight</td>\n",
       "      <td>False</td>\n",
       "      <td>7.5</td>\n",
       "      <td>3162</td>\n",
       "    </tr>\n",
       "  </tbody>\n",
       "</table>\n",
       "<p>5 rows × 33 columns</p>\n",
       "</div>"
      ],
      "text/plain": [
       "   Unnamed: 0  10402  10749  10751  10752  10769  10770  12  14  16  \\\n",
       "0           0      0      0      0      0      0      0   0   0   0   \n",
       "1           1      0      0      0      0      0      0   0   0   0   \n",
       "2           2      0      0      0      0      0      0   1   0   0   \n",
       "3           3      0      0      0      0      0      0   0   0   0   \n",
       "4           4      0      0      0      0      0      0   0   0   0   \n",
       "\n",
       "      ...                                            lead actors  movie_id  \\\n",
       "0     ...      [u'Amy Adams', u'Jeremy Renner', u'Forest Whit...    329865   \n",
       "1     ...      [u'Ben Affleck', u'Rosamund Pike', u'Carrie Co...    210577   \n",
       "2     ...      [u'Leonardo DiCaprio', u'Joseph Gordon-Levitt'...     27205   \n",
       "3     ...      [u\"Dylan O'Brien\", u'Ki Hong Lee', u'Kaya Scod...    198663   \n",
       "4     ...      [u'Samuel L. Jackson', u'Kurt Russell', u'Jenn...    273248   \n",
       "\n",
       "                                            overview  popularity  \\\n",
       "0  Taking place after alien crafts land around th...   25.661950   \n",
       "1  With his wife's disappearance having become th...   13.126754   \n",
       "2  Cobb, a skilled thief who commits corporate es...   12.110450   \n",
       "3  Set in a post-apocalyptic world, young Thomas ...   11.037776   \n",
       "4  Bounty hunters seek shelter from a raging bliz...    9.701425   \n",
       "\n",
       "                        poster_path  release_date              title  video  \\\n",
       "0   /hLudzvGfpi6JlwUnsNhXwKKg4j.jpg    2016-11-10            Arrival  False   \n",
       "1  /gdiLTof3rbPDAmPaCf4g6op46bj.jpg    2014-10-01          Gone Girl  False   \n",
       "2  /qmDpIHrmpJINaRKAfWQfftjCdyi.jpg    2010-07-14          Inception  False   \n",
       "3  /coss7RgL0NH6g4fC2s5atvf3dFO.jpg    2014-09-10    The Maze Runner  False   \n",
       "4  /fqe8JxDNO8B8QfOGTdjh6sPCdSC.jpg    2015-12-25  The Hateful Eight  False   \n",
       "\n",
       "   vote_average  vote_count  \n",
       "0           6.9        3510  \n",
       "1           7.9        4669  \n",
       "2           8.0       11276  \n",
       "3           7.0        4125  \n",
       "4           7.5        3162  \n",
       "\n",
       "[5 rows x 33 columns]"
      ]
     },
     "execution_count": 4,
     "metadata": {},
     "output_type": "execute_result"
    }
   ],
   "source": [
    "train.head()\n"
   ]
  },
  {
   "cell_type": "code",
   "execution_count": 5,
   "metadata": {
    "collapsed": false
   },
   "outputs": [],
   "source": [
    "## This is taken from train.head() \n",
    "movie_id = 329865\n",
    "movie = tmdb.Movies(movie_id)"
   ]
  },
  {
   "cell_type": "code",
   "execution_count": 6,
   "metadata": {
    "collapsed": false
   },
   "outputs": [],
   "source": [
    "base_url = \"https://image.tmdb.org/t/p/w500/\" \n",
    "file_size = \"w500\" \n",
    "poster_path = \"kqjL17yufvn9OVLyXYpvtyrFfak.jpg\""
   ]
  },
  {
   "cell_type": "code",
   "execution_count": 7,
   "metadata": {
    "collapsed": false
   },
   "outputs": [],
   "source": [
    "base_url = \"https://image.tmdb.org/t/p/w500/\" \n",
    "file_size = \"w500\" \n",
    "poster_path = \"kqjL17yufvn9OVLyXYpvtyrFfak.jpg\"\n",
    "\n",
    "\n",
    "## Helper that downloads web images \n",
    "## Takes in the poster path and the id of the movie \n",
    "## Saves the movie as a jpg as the unique id of the movie \n",
    "### In the images folder.\n",
    "def download_web_image(poster_path, movie_id):\n",
    "    url = base_url + poster_path\n",
    "    request = urllib2.Request(url)\n",
    "    img = urllib2.urlopen(request).read()\n",
    "    ## convert movie id to a string \n",
    "    movie_id = str(movie_id)\n",
    "    ## append jpg to the name \n",
    "    image_name= \"images/\" + str(movie_id + \".jpg\")\n",
    "    with open (image_name, 'w') as f: f.write(img)"
   ]
  },
  {
   "cell_type": "code",
   "execution_count": 8,
   "metadata": {
    "collapsed": false
   },
   "outputs": [],
   "source": [
    "## Example donwload of image \n",
    "download_web_image(poster_path, 329865)"
   ]
  },
  {
   "cell_type": "code",
   "execution_count": 9,
   "metadata": {
    "collapsed": true
   },
   "outputs": [],
   "source": [
    "train_thinned = train[0:100]"
   ]
  },
  {
   "cell_type": "code",
   "execution_count": 10,
   "metadata": {
    "collapsed": false
   },
   "outputs": [
    {
     "data": {
      "text/plain": [
       "(100, 33)"
      ]
     },
     "execution_count": 10,
     "metadata": {},
     "output_type": "execute_result"
    }
   ],
   "source": [
    "train_thinned.shape"
   ]
  },
  {
   "cell_type": "code",
   "execution_count": 11,
   "metadata": {
    "collapsed": false
   },
   "outputs": [],
   "source": [
    "### iterate through all of the images in the thinned dataset, saving locally \n",
    "\n",
    "### I used train_thinned because I didn't want to download 7000 posters \n",
    "### I'm not entirely sure if this is how we want to represent our posters when using deeplearning\n",
    "### but  it should be a decent stop gap solution for now \n",
    "for index, row in train_thinned.iterrows():\n",
    "    movie_id = row[\"movie_id\"]\n",
    "    poster_path = row[\"poster_path\"] \n",
    "    download_web_image(poster_path, movie_id)"
   ]
  },
  {
   "cell_type": "code",
   "execution_count": null,
   "metadata": {
    "collapsed": true
   },
   "outputs": [],
   "source": [
    "## We now have "
   ]
  }
 ],
 "metadata": {
  "kernelspec": {
   "display_name": "Python [Root]",
   "language": "python",
   "name": "Python [Root]"
  },
  "language_info": {
   "codemirror_mode": {
    "name": "ipython",
    "version": 2
   },
   "file_extension": ".py",
   "mimetype": "text/x-python",
   "name": "python",
   "nbconvert_exporter": "python",
   "pygments_lexer": "ipython2",
   "version": "2.7.12"
  }
 },
 "nbformat": 4,
 "nbformat_minor": 1
}
