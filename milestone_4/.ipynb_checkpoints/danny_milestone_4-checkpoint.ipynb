{
 "cells": [
  {
   "cell_type": "markdown",
   "metadata": {
    "collapsed": true,
    "deletable": true,
    "editable": true
   },
   "source": [
    "### Milestone 4: Deep learning, due Wednesday, April 26, 2017\n",
    "\n",
    "For this milestone you will (finally) use deep learning to predict movie genres. You will train one small network from scratch on the posters only, and compare this one to a pre-trained network that you fine tune. [Here](https://keras.io/getting-started/faq/#how-can-i-use-pre-trained-models-in-keras) is a description of how to use pretrained models in Keras.\n",
    "\n",
    "You can try different architectures, initializations, parameter settings, optimization methods, etc. Be adventurous and explore deep learning! It can be fun to combine the features learned by the deep learning model with a SVM, or incorporate meta data into your deep learning model. \n",
    "\n",
    "**Note:** Be mindful of the longer training times for deep models. Not only for training time, but also for the parameter tuning efforts. You need time to develop a feel for the different parameters and which settings work, which normalization you want to use, which model architecture you choose, etc. \n",
    "\n",
    "It is great that we have GPUs via AWS to speed up the actual computation time, but you need to be mindful of your AWS credits. The GPU instances are not cheap and can accumulate costs rather quickly. Think about your model first and do some quick dry runs with a larger learning rate or large batch size on your local machine. \n",
    "\n",
    "The notebook to submit this week should at least include:\n",
    "\n",
    "- Complete description of the deep network you trained from scratch, including parameter settings, performance, features learned, etc. \n",
    "- Complete description of the pre-trained network that you fine tuned, including parameter settings, performance, features learned, etc. \n",
    "- Discussion of the results, how much improvement you gained with fine tuning, etc. \n",
    "- Discussion of at least one additional exploratory idea you pursued"
   ]
  },
  {
   "cell_type": "code",
   "execution_count": 1,
   "metadata": {
    "collapsed": false,
    "deletable": true,
    "editable": true
   },
   "outputs": [],
   "source": [
    "import urllib2\n",
    "import PIL\n",
    "import os\n",
    "import numpy as np\n",
    "\n",
    "# for image manipulation. Easier to do \n",
    "# here than with Keras, as per\n",
    "# https://piazza.com/class/ivlbdd3nigy3um?cid=818\n",
    "#!sudo pip install Image\n",
    "import PIL.Image as Image\n",
    "import pandas as pd\n",
    "import matplotlib.pyplot as plt\n",
    "%matplotlib inline"
   ]
  },
  {
   "cell_type": "code",
   "execution_count": 2,
   "metadata": {
    "collapsed": false,
    "deletable": true,
    "editable": true
   },
   "outputs": [
    {
     "name": "stderr",
     "output_type": "stream",
     "text": [
      "Using TensorFlow backend.\n"
     ]
    }
   ],
   "source": [
    "import keras\n",
    "from keras import backend as K\n",
    "from keras.models import Sequential\n",
    "from keras.optimizers import SGD\n",
    "from keras.layers import Dense, Activation, Conv2D, MaxPooling2D, Flatten"
   ]
  },
  {
   "cell_type": "markdown",
   "metadata": {
    "deletable": true,
    "editable": true
   },
   "source": [
    "## Step One: Extracting Movies From URL "
   ]
  },
  {
   "cell_type": "code",
   "execution_count": 3,
   "metadata": {
    "collapsed": false,
    "deletable": true,
    "editable": true
   },
   "outputs": [],
   "source": [
    "# train = pd.read_csv(\"train_full.csv\")\n",
    "# train.drop(\"Unnamed: 0\", axis=1, inplace=True)\n",
    "# print \"Train shape:\", train.shape\n",
    "# train.head(1)"
   ]
  },
  {
   "cell_type": "code",
   "execution_count": 4,
   "metadata": {
    "collapsed": false,
    "deletable": true,
    "editable": true
   },
   "outputs": [
    {
     "name": "stdout",
     "output_type": "stream",
     "text": [
      "train_thinned shape: (540, 29)\n"
     ]
    },
    {
     "data": {
      "text/html": [
       "<div>\n",
       "<table border=\"1\" class=\"dataframe\">\n",
       "  <thead>\n",
       "    <tr style=\"text-align: right;\">\n",
       "      <th></th>\n",
       "      <th>10402</th>\n",
       "      <th>10749</th>\n",
       "      <th>10751</th>\n",
       "      <th>10752</th>\n",
       "      <th>12</th>\n",
       "      <th>14</th>\n",
       "      <th>16</th>\n",
       "      <th>18</th>\n",
       "      <th>27</th>\n",
       "      <th>28</th>\n",
       "      <th>...</th>\n",
       "      <th>lead actors</th>\n",
       "      <th>movie_id</th>\n",
       "      <th>overview</th>\n",
       "      <th>popularity</th>\n",
       "      <th>poster_path</th>\n",
       "      <th>release_date</th>\n",
       "      <th>title</th>\n",
       "      <th>video</th>\n",
       "      <th>vote_average</th>\n",
       "      <th>vote_count</th>\n",
       "    </tr>\n",
       "  </thead>\n",
       "  <tbody>\n",
       "    <tr>\n",
       "      <th>0</th>\n",
       "      <td>0</td>\n",
       "      <td>0</td>\n",
       "      <td>1</td>\n",
       "      <td>0</td>\n",
       "      <td>0</td>\n",
       "      <td>0</td>\n",
       "      <td>1</td>\n",
       "      <td>0</td>\n",
       "      <td>0</td>\n",
       "      <td>0</td>\n",
       "      <td>...</td>\n",
       "      <td>[u'Alec Baldwin', u'Miles Bakshi', u'Jimmy Kim...</td>\n",
       "      <td>295693</td>\n",
       "      <td>A story about how a new baby's arrival impacts...</td>\n",
       "      <td>305.881041</td>\n",
       "      <td>/unPB1iyEeTBcKiLg8W083rlViFH.jpg</td>\n",
       "      <td>2017-03-23</td>\n",
       "      <td>The Boss Baby</td>\n",
       "      <td>False</td>\n",
       "      <td>5.7</td>\n",
       "      <td>510</td>\n",
       "    </tr>\n",
       "  </tbody>\n",
       "</table>\n",
       "<p>1 rows × 29 columns</p>\n",
       "</div>"
      ],
      "text/plain": [
       "   10402  10749  10751  10752  12  14  16  18  27  28    ...      \\\n",
       "0      0      0      1      0   0   0   1   0   0   0    ...       \n",
       "\n",
       "                                         lead actors  movie_id  \\\n",
       "0  [u'Alec Baldwin', u'Miles Bakshi', u'Jimmy Kim...    295693   \n",
       "\n",
       "                                            overview  popularity  \\\n",
       "0  A story about how a new baby's arrival impacts...  305.881041   \n",
       "\n",
       "                        poster_path  release_date          title  video  \\\n",
       "0  /unPB1iyEeTBcKiLg8W083rlViFH.jpg    2017-03-23  The Boss Baby  False   \n",
       "\n",
       "  vote_average vote_count  \n",
       "0          5.7        510  \n",
       "\n",
       "[1 rows x 29 columns]"
      ]
     },
     "execution_count": 4,
     "metadata": {},
     "output_type": "execute_result"
    }
   ],
   "source": [
    "train_thinned = pd.read_csv(\"train.csv\")\n",
    "train_thinned.drop(\"Unnamed: 0\", axis=1, inplace=True)\n",
    "print \"train_thinned shape:\", train_thinned.shape\n",
    "train_thinned.head(1)"
   ]
  },
  {
   "cell_type": "markdown",
   "metadata": {
    "deletable": true,
    "editable": true
   },
   "source": [
    "## Important. \n",
    "\n",
    "The line below aliases the DF that we want to work with as `curr_df`. When we decide later on to use the full training set instead of just `train_thinned`, all we need to do is set it in the cell below and re-run the code. This will prevent us from having to find/replace all instances of the past dataframe."
   ]
  },
  {
   "cell_type": "code",
   "execution_count": 5,
   "metadata": {
    "collapsed": true,
    "deletable": true,
    "editable": true
   },
   "outputs": [],
   "source": [
    "curr_df = train_thinned"
   ]
  },
  {
   "cell_type": "code",
   "execution_count": 6,
   "metadata": {
    "collapsed": false,
    "deletable": true,
    "editable": true
   },
   "outputs": [],
   "source": [
    "## Helper that downloads web images \n",
    "## Takes in the poster path and the id of the movie \n",
    "## Saves the movie as a jpg as the unique id of the movie \n",
    "## In the images folder.\n",
    "def download_web_image(poster_path, movie_id):\n",
    "    # given that we're going to resize our images to be 32x32\n",
    "    # or something else really small, let's download really small images \n",
    "    # to start\n",
    "    base_url = \"https://image.tmdb.org/t/p/w92/\" \n",
    "    \n",
    "    request = urllib2.Request(base_url + poster_path)\n",
    "    img = urllib2.urlopen(request).read()\n",
    "    image_name= \"images/\" + str(movie_id) + \".jpg\"\n",
    "    \n",
    "    with open(image_name, 'w') as f: \n",
    "        f.write(img)"
   ]
  },
  {
   "cell_type": "code",
   "execution_count": 7,
   "metadata": {
    "collapsed": false,
    "deletable": true,
    "editable": true
   },
   "outputs": [
    {
     "name": "stdout",
     "output_type": "stream",
     "text": [
      "If you actually want to download posters, you'll need to turn the `1` above into a `0`. This code doesn't run by default in the notebook so that you don't accidentally download hundreds of images.\n"
     ]
    }
   ],
   "source": [
    "### iterate through all of the images in the thinned dataset, saving locally \n",
    "if 1:\n",
    "    print \"If you actually want to download posters, you'll need to turn the `1` above into a `0`. This code doesn't run by default in the notebook so that you don't accidentally download hundreds of images.\"\n",
    "else:\n",
    "    for index, row in curr_df.iterrows():\n",
    "        movie_id = row[\"movie_id\"]\n",
    "        poster_path = row[\"poster_path\"] \n",
    "#         download_web_image(poster_path, movie_id)"
   ]
  },
  {
   "cell_type": "code",
   "execution_count": 8,
   "metadata": {
    "collapsed": false,
    "deletable": true,
    "editable": true,
    "scrolled": true
   },
   "outputs": [],
   "source": [
    "img_rows, img_cols = 299, 299\n",
    "\n",
    "# convert each normal poster to a 32x32 grayscale poster\n",
    "for img_name in os.listdir(\"images/\"):\n",
    "    ## This line added to avoid hidden files on mac (Stephen)\n",
    "    if not img_name.startswith('.'):\n",
    "        # read in an image and convert to greyscale\n",
    "        im = Image.open(\"images/\" + img_name).convert(\"L\")\n",
    "        out = im.resize((img_rows, img_cols))\n",
    "        out.save(\"nn_ready_images/\" + img_name)"
   ]
  },
  {
   "cell_type": "markdown",
   "metadata": {
    "deletable": true,
    "editable": true
   },
   "source": [
    "# 1. Building a CNN from Scratch"
   ]
  },
  {
   "cell_type": "markdown",
   "metadata": {
    "deletable": true,
    "editable": true
   },
   "source": [
    "### Data Wrangling"
   ]
  },
  {
   "cell_type": "code",
   "execution_count": 9,
   "metadata": {
    "collapsed": true,
    "deletable": true,
    "editable": true
   },
   "outputs": [],
   "source": [
    "# number of labels in our output\n",
    "n_labels = 17"
   ]
  },
  {
   "cell_type": "code",
   "execution_count": 10,
   "metadata": {
    "collapsed": false,
    "deletable": true,
    "editable": true
   },
   "outputs": [],
   "source": [
    "# now we need training and testing data. in the current state,\n",
    "# we have a bunch of greyscale images named by their movie ids.\n",
    "# to get the data, we can first just split all the movie ids (X) in the\n",
    "# dataframe intro train and test sets, and then grab their multilabel\n",
    "# matrices (y)\n",
    "m_ids = curr_df.movie_id.values\n",
    "\n",
    "# shuffle the ids to get a random sample\n",
    "np.random.shuffle(m_ids)\n",
    "\n",
    "import math\n",
    "train_size = int(math.floor(.7 * len(m_ids)))\n",
    "\n",
    "# get the movie_ids (each of which has an image in \"nn_images_ready/\"\n",
    "# which is ready to be put through the neural net\n",
    "train_ids = m_ids[:train_size]\n",
    "test_ids = m_ids[train_size:]"
   ]
  },
  {
   "cell_type": "code",
   "execution_count": 11,
   "metadata": {
    "collapsed": false,
    "deletable": true,
    "editable": true
   },
   "outputs": [
    {
     "name": "stdout",
     "output_type": "stream",
     "text": [
      "y_train shape: (378, 17)\n",
      "y_test shape: (162, 17)\n"
     ]
    }
   ],
   "source": [
    "# these are the column names of the multilabel matrix\n",
    "label_names = curr_df.columns[:n_labels]\n",
    "\n",
    "y_train = np.array([curr_df[curr_df.movie_id == movie_id][label_names].values[0] for movie_id in train_ids])\n",
    "y_test  = np.array([curr_df[curr_df.movie_id == movie_id][label_names].values[0] for movie_id in test_ids])\n",
    "\n",
    "# should be (num_samples, num_labels)\n",
    "print \"y_train shape:\", y_train.shape\n",
    "print \"y_test shape:\", y_test.shape"
   ]
  },
  {
   "cell_type": "code",
   "execution_count": 12,
   "metadata": {
    "collapsed": true,
    "deletable": true,
    "editable": true
   },
   "outputs": [],
   "source": [
    "# smaller batch size means noisier gradient, but more updates per epoch\n",
    "batch_size = 512\n",
    "\n",
    "# number of iterations over the complete training data\n",
    "epochs = 30"
   ]
  },
  {
   "cell_type": "code",
   "execution_count": 13,
   "metadata": {
    "collapsed": false,
    "deletable": true,
    "editable": true
   },
   "outputs": [],
   "source": [
    "# load image matrices into memory\n",
    "x_train = np.array([np.asarray(Image.open(\"nn_ready_images/\" + str(m_id) + \".jpg\")) for m_id in train_ids])\n",
    "x_test =  np.array([np.asarray(Image.open(\"nn_ready_images/\" + str(m_id) + \".jpg\")) for m_id in test_ids])"
   ]
  },
  {
   "cell_type": "code",
   "execution_count": 14,
   "metadata": {
    "collapsed": false,
    "deletable": true,
    "editable": true
   },
   "outputs": [
    {
     "name": "stdout",
     "output_type": "stream",
     "text": [
      "x_train shape: (378, 299, 299)\n",
      "x_test shape: (162, 299, 299)\n"
     ]
    }
   ],
   "source": [
    "# output should be (num_images, img_height, img_width)\n",
    "print \"x_train shape:\", x_train.shape\n",
    "print \"x_test shape:\", x_test.shape"
   ]
  },
  {
   "cell_type": "code",
   "execution_count": 15,
   "metadata": {
    "collapsed": false,
    "deletable": true,
    "editable": true
   },
   "outputs": [
    {
     "name": "stdout",
     "output_type": "stream",
     "text": [
      "x_train shape: (378, 299, 299, 1)\n",
      "378 train samples\n",
      "162 test samples\n"
     ]
    }
   ],
   "source": [
    "# code borrowed from Keras_CNN lab\n",
    "\n",
    "# now we need to reshape x_train and x_test so that they work with CNNs\n",
    "# Following the example in \"labs/Keras_CNN.ipynb\", this needs to be an array \n",
    "# of images with shape determined by the backend, including the depth dimension,\n",
    "# which is 1 for greyscale\n",
    "\n",
    "# x_train is of shape n_samples x 32 x 32\n",
    "# for a CNN we want to keep the image shape\n",
    "# need to explicitly tell keras that it is a gray value image\n",
    "# so each image is 32x32x1 not 32x32x3\n",
    "if K.image_data_format() == 'channels_first':\n",
    "    x_train = x_train.reshape(x_train.shape[0], 1, img_rows, img_cols)\n",
    "    x_test = x_test.reshape(x_test.shape[0], 1, img_rows, img_cols)\n",
    "    input_shape = (1, img_rows, img_cols)\n",
    "else:\n",
    "    x_train = x_train.reshape(x_train.shape[0], img_rows, img_cols, 1)\n",
    "    x_test = x_test.reshape(x_test.shape[0], img_rows, img_cols, 1)\n",
    "    input_shape = (img_rows, img_cols, 1)\n",
    "    \n",
    "# normalize image values to [0,1]\n",
    "x_train = x_train.astype('float32')\n",
    "x_test = x_test.astype('float32')\n",
    "x_train /= 255\n",
    "x_test /= 25\n",
    "\n",
    "print \"x_train shape:\", x_train.shape\n",
    "print x_train.shape[0], \"train samples\"\n",
    "print x_test.shape[0], \"test samples\""
   ]
  },
  {
   "cell_type": "markdown",
   "metadata": {
    "deletable": true,
    "editable": true
   },
   "source": [
    "### Model Architecture"
   ]
  },
  {
   "cell_type": "code",
   "execution_count": 16,
   "metadata": {
    "collapsed": true,
    "deletable": true,
    "editable": true
   },
   "outputs": [],
   "source": [
    "# Wrapper for our CNN from scratch\n",
    "# We treat the number of layers, filter size, kernel size, and activation function as \n",
    "# 'parameters' that we can \"tune\"\n",
    "\n",
    "def CNN_from_scratch(n_layers, filters, kernels, activation_function):\n",
    "    # create an empty network model\n",
    "    model = Sequential()\n",
    "    \n",
    "    for i in n_layers:\n",
    "        # define the input layer to the CNN\n",
    "        # input shape is a tuple of the # rows, # cols, and # channels (1 for grayscale)\n",
    "        # the first parameter to Conv2D is the number of filters we want to convolve\n",
    "        # over the input images\n",
    "\n",
    "        model.add(Conv2D(filters[i], kernel_size=kernels[i], \n",
    "                         activation=activation_function, input_shape=input_shape))\n",
    "\n",
    "        # create a max pooling layer\n",
    "        model.add(MaxPooling2D(pool_size=(2, 2)))\n",
    "\n",
    "    # flatten for fully connected classification layer\n",
    "    model.add(Flatten())\n",
    "\n",
    "    # note that the 10 is the number of classes we have\n",
    "    # the classes are mutually exclusive so softmax is a good choice\n",
    "    # --- fully connected layer ---\n",
    "    model.add(Dense(64, activation='relu'))\n",
    "\n",
    "    # recommended by: https://github.com/fchollet/keras/issues/761\n",
    "    # uses a sigmoid activation rather than softmax, which apparently\n",
    "    # gives us a label vector back\n",
    "    model.add(Dense(n_labels, activation='sigmoid'))\n",
    "\n",
    "    # prints out a summary of the model architecture\n",
    "    model.summary()\n",
    "\n",
    "    # the setup is our basic categorical crossentropy with stochastic gradient decent\n",
    "    # we also specify that we want to evaluate our model in terms of accuracy\n",
    "    sgd = SGD(lr=0.1, momentum=0.9)\n",
    "\n",
    "    # TODO: why are we using binary crossentropy?\n",
    "    # I'm not sure, but it works much better than\n",
    "    # categorical crossentropy.\n",
    "    model.compile(loss='binary_crossentropy',\n",
    "                  optimizer=sgd,\n",
    "                  metrics=['accuracy'])\n",
    "\n",
    "    # this is now the actual training\n",
    "    # in addition to the training data we provide validation data\n",
    "    # this data is used to calculate the performance of the model over all the epochs\n",
    "    # this is useful to determine when training should stop\n",
    "    # in our case we just use it to monitor the evolution of the model over the training epochs\n",
    "    # if we use the validation data to determine when to stop the training or which model to save, we \n",
    "    # should not use the test data, but a separate validation set. \n",
    "    history = model.fit(x_train, y_train,\n",
    "                        batch_size=batch_size,\n",
    "                        epochs=epochs,\n",
    "                        verbose=1,\n",
    "                        validation_data=(x_test, y_test))\n",
    "    \n",
    "    # once training is complete, let's see how well we have done\n",
    "    score = model.evaluate(x_test, y_test, verbose=0)\n",
    "    print('Test loss:', score[0])\n",
    "    print('Test accuracy:', score[1])\n",
    "\n",
    "    return score"
   ]
  },
  {
   "cell_type": "code",
   "execution_count": 17,
   "metadata": {
    "collapsed": false,
    "deletable": true,
    "editable": true,
    "scrolled": true
   },
   "outputs": [
    {
     "name": "stdout",
     "output_type": "stream",
     "text": [
      "_________________________________________________________________\n",
      "Layer (type)                 Output Shape              Param #   \n",
      "=================================================================\n",
      "conv2d_1 (Conv2D)            (None, 297, 297, 8)       80        \n",
      "_________________________________________________________________\n",
      "max_pooling2d_1 (MaxPooling2 (None, 148, 148, 8)       0         \n",
      "_________________________________________________________________\n",
      "flatten_1 (Flatten)          (None, 175232)            0         \n",
      "_________________________________________________________________\n",
      "dense_1 (Dense)              (None, 64)                11214912  \n",
      "_________________________________________________________________\n",
      "dense_2 (Dense)              (None, 17)                1105      \n",
      "=================================================================\n",
      "Total params: 11,216,097.0\n",
      "Trainable params: 11,216,097.0\n",
      "Non-trainable params: 0.0\n",
      "_________________________________________________________________\n",
      "Train on 378 samples, validate on 162 samples\n",
      "Epoch 1/30\n",
      "378/378 [==============================] - 5s - loss: 0.6845 - acc: 0.5805 - val_loss: 1.9425 - val_acc: 0.7484\n",
      "Epoch 2/30\n",
      "378/378 [==============================] - 0s - loss: 0.4945 - acc: 0.7666 - val_loss: 1.7769 - val_acc: 0.8293\n",
      "Epoch 3/30\n",
      "378/378 [==============================] - 0s - loss: 0.4608 - acc: 0.8265 - val_loss: 1.7719 - val_acc: 0.8192\n",
      "Epoch 4/30\n",
      "378/378 [==============================] - 0s - loss: 0.4484 - acc: 0.8192 - val_loss: 0.9617 - val_acc: 0.8264\n",
      "Epoch 5/30\n",
      "378/378 [==============================] - 0s - loss: 0.5557 - acc: 0.8263 - val_loss: 2.4338 - val_acc: 0.8083\n",
      "Epoch 6/30\n",
      "378/378 [==============================] - 0s - loss: 0.7916 - acc: 0.8181 - val_loss: 3.4458 - val_acc: 0.7259\n",
      "Epoch 7/30\n",
      "378/378 [==============================] - 0s - loss: 1.0573 - acc: 0.7289 - val_loss: 2.0087 - val_acc: 0.7415\n",
      "Epoch 8/30\n",
      "378/378 [==============================] - 0s - loss: 0.6371 - acc: 0.7753 - val_loss: 0.7097 - val_acc: 0.7208\n",
      "Epoch 9/30\n",
      "378/378 [==============================] - 0s - loss: 0.6518 - acc: 0.7491 - val_loss: 1.6099 - val_acc: 0.7342\n",
      "Epoch 10/30\n",
      "378/378 [==============================] - 0s - loss: 0.5974 - acc: 0.7490 - val_loss: 2.4174 - val_acc: 0.7342\n",
      "Epoch 11/30\n",
      "378/378 [==============================] - 0s - loss: 0.6142 - acc: 0.7490 - val_loss: 0.9457 - val_acc: 0.7462\n",
      "Epoch 12/30\n",
      "378/378 [==============================] - 0s - loss: 0.5526 - acc: 0.7381 - val_loss: 0.5704 - val_acc: 0.7778\n",
      "Epoch 13/30\n",
      "378/378 [==============================] - 0s - loss: 0.4961 - acc: 0.7880 - val_loss: 1.1215 - val_acc: 0.7778\n",
      "Epoch 14/30\n",
      "378/378 [==============================] - 0s - loss: 0.4871 - acc: 0.7879 - val_loss: 0.4968 - val_acc: 0.8039\n",
      "Epoch 15/30\n",
      "378/378 [==============================] - 0s - loss: 0.4222 - acc: 0.8181 - val_loss: 0.4687 - val_acc: 0.8148\n",
      "Epoch 16/30\n",
      "378/378 [==============================] - 0s - loss: 0.4180 - acc: 0.8061 - val_loss: 0.4449 - val_acc: 0.8257\n",
      "Epoch 17/30\n",
      "378/378 [==============================] - 0s - loss: 0.4190 - acc: 0.8148 - val_loss: 0.5062 - val_acc: 0.8239\n",
      "Epoch 18/30\n",
      "378/378 [==============================] - 0s - loss: 0.4452 - acc: 0.8190 - val_loss: 0.5132 - val_acc: 0.8217\n",
      "Epoch 19/30\n",
      "378/378 [==============================] - 0s - loss: 0.5897 - acc: 0.8265 - val_loss: 0.5034 - val_acc: 0.8068\n",
      "Epoch 20/30\n",
      "378/378 [==============================] - 0s - loss: 0.4832 - acc: 0.8265 - val_loss: 0.4698 - val_acc: 0.8257\n",
      "Epoch 21/30\n",
      "378/378 [==============================] - 0s - loss: 0.5413 - acc: 0.8265 - val_loss: 0.4852 - val_acc: 0.8007\n",
      "Epoch 22/30\n",
      "378/378 [==============================] - 0s - loss: 0.4630 - acc: 0.8262 - val_loss: 0.5221 - val_acc: 0.7643\n",
      "Epoch 23/30\n",
      "378/378 [==============================] - 0s - loss: 0.4631 - acc: 0.7979 - val_loss: 0.5534 - val_acc: 0.7407\n",
      "Epoch 24/30\n",
      "378/378 [==============================] - 0s - loss: 0.4885 - acc: 0.7969 - val_loss: 0.5770 - val_acc: 0.7233\n",
      "Epoch 25/30\n",
      "378/378 [==============================] - 0s - loss: 0.5016 - acc: 0.7874 - val_loss: 0.5986 - val_acc: 0.7179\n",
      "Epoch 26/30\n",
      "378/378 [==============================] - 0s - loss: 0.4979 - acc: 0.7901 - val_loss: 0.6334 - val_acc: 0.7146\n",
      "Epoch 27/30\n",
      "378/378 [==============================] - 0s - loss: 0.4836 - acc: 0.7965 - val_loss: 0.7089 - val_acc: 0.7182\n",
      "Epoch 28/30\n",
      "378/378 [==============================] - 0s - loss: 0.4684 - acc: 0.8185 - val_loss: 0.9086 - val_acc: 0.7175\n",
      "Epoch 29/30\n",
      "378/378 [==============================] - 0s - loss: 0.4621 - acc: 0.8268 - val_loss: 1.7969 - val_acc: 0.7019\n",
      "Epoch 30/30\n",
      "378/378 [==============================] - 0s - loss: 0.4612 - acc: 0.8243 - val_loss: 1.4782 - val_acc: 0.7284\n",
      "('Test loss:', 1.4781560471028456)\n",
      "('Test accuracy:', 0.72839509263450719)\n",
      "_________________________________________________________________\n",
      "Layer (type)                 Output Shape              Param #   \n",
      "=================================================================\n",
      "conv2d_2 (Conv2D)            (None, 297, 297, 8)       80        \n",
      "_________________________________________________________________\n",
      "max_pooling2d_2 (MaxPooling2 (None, 148, 148, 8)       0         \n",
      "_________________________________________________________________\n",
      "conv2d_3 (Conv2D)            (None, 146, 146, 16)      1168      \n",
      "_________________________________________________________________\n",
      "max_pooling2d_3 (MaxPooling2 (None, 73, 73, 16)        0         \n",
      "_________________________________________________________________\n",
      "flatten_2 (Flatten)          (None, 85264)             0         \n",
      "_________________________________________________________________\n",
      "dense_3 (Dense)              (None, 64)                5456960   \n",
      "_________________________________________________________________\n",
      "dense_4 (Dense)              (None, 17)                1105      \n",
      "=================================================================\n",
      "Total params: 5,459,313.0\n",
      "Trainable params: 5,459,313.0\n",
      "Non-trainable params: 0.0\n",
      "_________________________________________________________________\n",
      "Train on 378 samples, validate on 162 samples\n",
      "Epoch 1/30\n",
      "378/378 [==============================] - 2s - loss: 0.7100 - acc: 0.4122 - val_loss: 0.6942 - val_acc: 0.7269\n",
      "Epoch 2/30\n",
      "378/378 [==============================] - 1s - loss: 0.6565 - acc: 0.7280 - val_loss: 1.1712 - val_acc: 0.7662\n",
      "Epoch 3/30\n",
      "378/378 [==============================] - 1s - loss: 0.5911 - acc: 0.7616 - val_loss: 1.7760 - val_acc: 0.7691\n",
      "Epoch 4/30\n",
      "378/378 [==============================] - 1s - loss: 0.5147 - acc: 0.7631 - val_loss: 1.7546 - val_acc: 0.8235\n",
      "Epoch 5/30\n",
      "378/378 [==============================] - 1s - loss: 0.4789 - acc: 0.8189 - val_loss: 1.8640 - val_acc: 0.8290\n",
      "Epoch 6/30\n",
      "378/378 [==============================] - 1s - loss: 0.4764 - acc: 0.8265 - val_loss: 1.5983 - val_acc: 0.8065\n",
      "Epoch 7/30\n",
      "378/378 [==============================] - 1s - loss: 0.4319 - acc: 0.8108 - val_loss: 1.0454 - val_acc: 0.7988\n",
      "Epoch 8/30\n",
      "378/378 [==============================] - 1s - loss: 0.4496 - acc: 0.8106 - val_loss: 1.0847 - val_acc: 0.7988\n",
      "Epoch 9/30\n",
      "378/378 [==============================] - 1s - loss: 0.4280 - acc: 0.8106 - val_loss: 1.2285 - val_acc: 0.7988\n",
      "Epoch 10/30\n",
      "378/378 [==============================] - 1s - loss: 0.4414 - acc: 0.8106 - val_loss: 0.6946 - val_acc: 0.8007\n",
      "Epoch 11/30\n",
      "378/378 [==============================] - 1s - loss: 0.4149 - acc: 0.8106 - val_loss: 0.4919 - val_acc: 0.7981\n",
      "Epoch 12/30\n",
      "378/378 [==============================] - 1s - loss: 0.4148 - acc: 0.8168 - val_loss: 0.5341 - val_acc: 0.7974\n",
      "Epoch 13/30\n",
      "378/378 [==============================] - 1s - loss: 0.4124 - acc: 0.8086 - val_loss: 0.5705 - val_acc: 0.8123\n",
      "Epoch 14/30\n",
      "378/378 [==============================] - 1s - loss: 0.4161 - acc: 0.8265 - val_loss: 0.5235 - val_acc: 0.8293\n",
      "Epoch 15/30\n",
      "378/378 [==============================] - 1s - loss: 0.4059 - acc: 0.8265 - val_loss: 0.5071 - val_acc: 0.8286\n",
      "Epoch 16/30\n",
      "378/378 [==============================] - 1s - loss: 0.4070 - acc: 0.8265 - val_loss: 0.6252 - val_acc: 0.8054\n",
      "Epoch 17/30\n",
      "378/378 [==============================] - 1s - loss: 0.4063 - acc: 0.8265 - val_loss: 0.6514 - val_acc: 0.8021\n",
      "Epoch 18/30\n",
      "378/378 [==============================] - 1s - loss: 0.4025 - acc: 0.8266 - val_loss: 0.5941 - val_acc: 0.8083\n",
      "Epoch 19/30\n",
      "378/378 [==============================] - 1s - loss: 0.4099 - acc: 0.8178 - val_loss: 0.7568 - val_acc: 0.8083\n",
      "Epoch 20/30\n",
      "378/378 [==============================] - 1s - loss: 0.4101 - acc: 0.8263 - val_loss: 0.6526 - val_acc: 0.8079\n",
      "Epoch 21/30\n",
      "378/378 [==============================] - 1s - loss: 0.3973 - acc: 0.8265 - val_loss: 0.5250 - val_acc: 0.8032\n",
      "Epoch 22/30\n",
      "378/378 [==============================] - 1s - loss: 0.4138 - acc: 0.8256 - val_loss: 0.6484 - val_acc: 0.8203\n",
      "Epoch 23/30\n",
      "378/378 [==============================] - 1s - loss: 0.4135 - acc: 0.8257 - val_loss: 0.5828 - val_acc: 0.8203\n",
      "Epoch 24/30\n",
      "378/378 [==============================] - 1s - loss: 0.4090 - acc: 0.8259 - val_loss: 0.4524 - val_acc: 0.8126\n",
      "Epoch 25/30\n",
      "378/378 [==============================] - 1s - loss: 0.4089 - acc: 0.8266 - val_loss: 0.4431 - val_acc: 0.8170\n",
      "Epoch 26/30\n",
      "378/378 [==============================] - 1s - loss: 0.3972 - acc: 0.8265 - val_loss: 0.4617 - val_acc: 0.8250\n",
      "Epoch 27/30\n",
      "378/378 [==============================] - 1s - loss: 0.4035 - acc: 0.8265 - val_loss: 0.4444 - val_acc: 0.8199\n",
      "Epoch 28/30\n",
      "378/378 [==============================] - 1s - loss: 0.3986 - acc: 0.8265 - val_loss: 0.4179 - val_acc: 0.8148\n",
      "Epoch 29/30\n",
      "378/378 [==============================] - 1s - loss: 0.4004 - acc: 0.8265 - val_loss: 0.4192 - val_acc: 0.8108\n",
      "Epoch 30/30\n",
      "378/378 [==============================] - 1s - loss: 0.3973 - acc: 0.8266 - val_loss: 0.4349 - val_acc: 0.8112\n",
      "('Test loss:', 0.4348837740627336)\n",
      "('Test accuracy:', 0.8111837484218456)\n",
      "_________________________________________________________________\n",
      "Layer (type)                 Output Shape              Param #   \n",
      "=================================================================\n",
      "conv2d_4 (Conv2D)            (None, 297, 297, 8)       80        \n",
      "_________________________________________________________________\n",
      "max_pooling2d_4 (MaxPooling2 (None, 148, 148, 8)       0         \n",
      "_________________________________________________________________\n",
      "conv2d_5 (Conv2D)            (None, 146, 146, 16)      1168      \n",
      "_________________________________________________________________\n",
      "max_pooling2d_5 (MaxPooling2 (None, 73, 73, 16)        0         \n",
      "_________________________________________________________________\n",
      "conv2d_6 (Conv2D)            (None, 71, 71, 32)        4640      \n",
      "_________________________________________________________________\n",
      "max_pooling2d_6 (MaxPooling2 (None, 35, 35, 32)        0         \n",
      "_________________________________________________________________\n",
      "flatten_3 (Flatten)          (None, 39200)             0         \n",
      "_________________________________________________________________\n",
      "dense_5 (Dense)              (None, 64)                2508864   \n",
      "_________________________________________________________________\n",
      "dense_6 (Dense)              (None, 17)                1105      \n",
      "=================================================================\n",
      "Total params: 2,515,857.0\n",
      "Trainable params: 2,515,857.0\n",
      "Non-trainable params: 0.0\n",
      "_________________________________________________________________\n",
      "Train on 378 samples, validate on 162 samples\n",
      "Epoch 1/30\n",
      "378/378 [==============================] - 2s - loss: 0.6876 - acc: 0.6284 - val_loss: 0.5882 - val_acc: 0.7219\n",
      "Epoch 2/30\n",
      "378/378 [==============================] - 1s - loss: 0.6309 - acc: 0.7236 - val_loss: 1.1398 - val_acc: 0.7796\n",
      "Epoch 3/30\n",
      "378/378 [==============================] - 1s - loss: 0.5301 - acc: 0.7815 - val_loss: 2.3000 - val_acc: 0.7810\n",
      "Epoch 4/30\n",
      "378/378 [==============================] - 1s - loss: 0.4946 - acc: 0.7826 - val_loss: 1.9997 - val_acc: 0.8293\n",
      "Epoch 5/30\n",
      "378/378 [==============================] - 1s - loss: 0.4654 - acc: 0.8271 - val_loss: 1.5741 - val_acc: 0.8003\n",
      "Epoch 6/30\n",
      "378/378 [==============================] - 1s - loss: 0.4229 - acc: 0.8111 - val_loss: 1.0692 - val_acc: 0.7861\n",
      "Epoch 7/30\n",
      "378/378 [==============================] - 1s - loss: 0.4302 - acc: 0.8030 - val_loss: 0.8917 - val_acc: 0.7847\n",
      "Epoch 8/30\n",
      "378/378 [==============================] - 1s - loss: 0.4409 - acc: 0.8035 - val_loss: 0.9047 - val_acc: 0.8032\n",
      "Epoch 9/30\n",
      "378/378 [==============================] - 1s - loss: 0.4288 - acc: 0.8109 - val_loss: 1.0446 - val_acc: 0.8250\n",
      "Epoch 10/30\n",
      "378/378 [==============================] - 1s - loss: 0.4169 - acc: 0.8262 - val_loss: 1.1421 - val_acc: 0.8293\n",
      "Epoch 11/30\n",
      "378/378 [==============================] - 1s - loss: 0.4155 - acc: 0.8265 - val_loss: 1.0062 - val_acc: 0.8293\n",
      "Epoch 12/30\n",
      "378/378 [==============================] - 1s - loss: 0.4070 - acc: 0.8265 - val_loss: 0.7407 - val_acc: 0.8275\n",
      "Epoch 13/30\n",
      "378/378 [==============================] - 1s - loss: 0.4007 - acc: 0.8265 - val_loss: 0.5922 - val_acc: 0.8250\n",
      "Epoch 14/30\n",
      "378/378 [==============================] - 1s - loss: 0.4033 - acc: 0.8265 - val_loss: 0.5353 - val_acc: 0.8137\n",
      "Epoch 15/30\n",
      "378/378 [==============================] - 1s - loss: 0.4029 - acc: 0.8210 - val_loss: 0.5241 - val_acc: 0.8090\n",
      "Epoch 16/30\n",
      "378/378 [==============================] - 1s - loss: 0.4020 - acc: 0.8181 - val_loss: 0.5161 - val_acc: 0.8112\n",
      "Epoch 17/30\n",
      "378/378 [==============================] - 1s - loss: 0.4029 - acc: 0.8181 - val_loss: 0.4979 - val_acc: 0.8232\n",
      "Epoch 18/30\n",
      "378/378 [==============================] - 1s - loss: 0.4009 - acc: 0.8265 - val_loss: 0.4729 - val_acc: 0.8290\n",
      "Epoch 19/30\n",
      "378/378 [==============================] - 1s - loss: 0.3974 - acc: 0.8265 - val_loss: 0.4541 - val_acc: 0.8293\n",
      "Epoch 20/30\n",
      "378/378 [==============================] - 1s - loss: 0.3973 - acc: 0.8265 - val_loss: 0.4500 - val_acc: 0.8293\n",
      "Epoch 21/30\n",
      "378/378 [==============================] - 1s - loss: 0.3973 - acc: 0.8265 - val_loss: 0.4592 - val_acc: 0.8293\n",
      "Epoch 22/30\n",
      "378/378 [==============================] - 1s - loss: 0.3961 - acc: 0.8265 - val_loss: 0.4723 - val_acc: 0.8293\n",
      "Epoch 23/30\n",
      "378/378 [==============================] - 1s - loss: 0.3969 - acc: 0.8265 - val_loss: 0.4766 - val_acc: 0.8293\n",
      "Epoch 24/30\n",
      "378/378 [==============================] - 1s - loss: 0.3976 - acc: 0.8265 - val_loss: 0.4690 - val_acc: 0.8293\n",
      "Epoch 25/30\n",
      "378/378 [==============================] - 1s - loss: 0.3965 - acc: 0.8265 - val_loss: 0.4583 - val_acc: 0.8293\n",
      "Epoch 26/30\n",
      "378/378 [==============================] - 1s - loss: 0.3963 - acc: 0.8265 - val_loss: 0.4547 - val_acc: 0.8293\n",
      "Epoch 27/30\n",
      "378/378 [==============================] - 1s - loss: 0.3966 - acc: 0.8265 - val_loss: 0.4616 - val_acc: 0.8293\n",
      "Epoch 28/30\n",
      "378/378 [==============================] - 1s - loss: 0.3956 - acc: 0.8265 - val_loss: 0.4740 - val_acc: 0.8293\n",
      "Epoch 29/30\n",
      "378/378 [==============================] - 1s - loss: 0.3953 - acc: 0.8265 - val_loss: 0.4813 - val_acc: 0.8293\n",
      "Epoch 30/30\n",
      "378/378 [==============================] - 1s - loss: 0.3956 - acc: 0.8265 - val_loss: 0.4776 - val_acc: 0.8290\n",
      "('Test loss:', 0.477556124145602)\n",
      "('Test accuracy:', 0.82897606160905624)\n",
      "_________________________________________________________________\n",
      "Layer (type)                 Output Shape              Param #   \n",
      "=================================================================\n",
      "conv2d_7 (Conv2D)            (None, 297, 297, 8)       80        \n",
      "_________________________________________________________________\n",
      "max_pooling2d_7 (MaxPooling2 (None, 148, 148, 8)       0         \n",
      "_________________________________________________________________\n",
      "conv2d_8 (Conv2D)            (None, 146, 146, 16)      1168      \n",
      "_________________________________________________________________\n",
      "max_pooling2d_8 (MaxPooling2 (None, 73, 73, 16)        0         \n",
      "_________________________________________________________________\n",
      "conv2d_9 (Conv2D)            (None, 71, 71, 32)        4640      \n",
      "_________________________________________________________________\n",
      "max_pooling2d_9 (MaxPooling2 (None, 35, 35, 32)        0         \n",
      "_________________________________________________________________\n",
      "conv2d_10 (Conv2D)           (None, 33, 33, 64)        18496     \n",
      "_________________________________________________________________\n",
      "max_pooling2d_10 (MaxPooling (None, 16, 16, 64)        0         \n",
      "_________________________________________________________________\n",
      "flatten_4 (Flatten)          (None, 16384)             0         \n",
      "_________________________________________________________________\n",
      "dense_7 (Dense)              (None, 64)                1048640   \n",
      "_________________________________________________________________\n",
      "dense_8 (Dense)              (None, 17)                1105      \n",
      "=================================================================\n",
      "Total params: 1,074,129.0\n",
      "Trainable params: 1,074,129.0\n",
      "Non-trainable params: 0.0\n",
      "_________________________________________________________________\n",
      "Train on 378 samples, validate on 162 samples\n",
      "Epoch 1/30\n",
      "378/378 [==============================] - 2s - loss: 0.6955 - acc: 0.4904 - val_loss: 0.6355 - val_acc: 0.6064\n",
      "Epoch 2/30\n",
      "378/378 [==============================] - 1s - loss: 0.6768 - acc: 0.6365 - val_loss: 0.5910 - val_acc: 0.7135\n",
      "Epoch 3/30\n",
      "378/378 [==============================] - 1s - loss: 0.6496 - acc: 0.7369 - val_loss: 0.7596 - val_acc: 0.7197\n",
      "Epoch 4/30\n",
      "378/378 [==============================] - 1s - loss: 0.6025 - acc: 0.7418 - val_loss: 1.3504 - val_acc: 0.7447\n",
      "Epoch 5/30\n",
      "378/378 [==============================] - 1s - loss: 0.5273 - acc: 0.7524 - val_loss: 1.9289 - val_acc: 0.7495\n",
      "Epoch 6/30\n",
      "378/378 [==============================] - 1s - loss: 0.4965 - acc: 0.7569 - val_loss: 1.7862 - val_acc: 0.8036\n",
      "Epoch 7/30\n",
      "378/378 [==============================] - 1s - loss: 0.4956 - acc: 0.8170 - val_loss: 1.6471 - val_acc: 0.8221\n",
      "Epoch 8/30\n",
      "378/378 [==============================] - 1s - loss: 0.4415 - acc: 0.8189 - val_loss: 1.2504 - val_acc: 0.8275\n",
      "Epoch 9/30\n",
      "378/378 [==============================] - 1s - loss: 0.4217 - acc: 0.8217 - val_loss: 1.1822 - val_acc: 0.8054\n",
      "Epoch 10/30\n",
      "378/378 [==============================] - 1s - loss: 0.4438 - acc: 0.8109 - val_loss: 1.1855 - val_acc: 0.8054\n",
      "Epoch 11/30\n",
      "378/378 [==============================] - 1s - loss: 0.4464 - acc: 0.8109 - val_loss: 1.2805 - val_acc: 0.8054\n",
      "Epoch 12/30\n",
      "378/378 [==============================] - 1s - loss: 0.4359 - acc: 0.8109 - val_loss: 1.3565 - val_acc: 0.8054\n",
      "Epoch 13/30\n",
      "378/378 [==============================] - 1s - loss: 0.4272 - acc: 0.8109 - val_loss: 1.2724 - val_acc: 0.8054\n",
      "Epoch 14/30\n",
      "378/378 [==============================] - 1s - loss: 0.4191 - acc: 0.8109 - val_loss: 1.0805 - val_acc: 0.8293\n",
      "Epoch 15/30\n",
      "378/378 [==============================] - 1s - loss: 0.4092 - acc: 0.8265 - val_loss: 0.9054 - val_acc: 0.8293\n",
      "Epoch 16/30\n",
      "378/378 [==============================] - 1s - loss: 0.4028 - acc: 0.8265 - val_loss: 0.7608 - val_acc: 0.8293\n",
      "Epoch 17/30\n",
      "378/378 [==============================] - 1s - loss: 0.4015 - acc: 0.8265 - val_loss: 0.6645 - val_acc: 0.8293\n",
      "Epoch 18/30\n",
      "378/378 [==============================] - 1s - loss: 0.4030 - acc: 0.8265 - val_loss: 0.6100 - val_acc: 0.8217\n",
      "Epoch 19/30\n",
      "378/378 [==============================] - 1s - loss: 0.4044 - acc: 0.8265 - val_loss: 0.5785 - val_acc: 0.8195\n",
      "Epoch 20/30\n",
      "378/378 [==============================] - 1s - loss: 0.4046 - acc: 0.8192 - val_loss: 0.5562 - val_acc: 0.8195\n",
      "Epoch 21/30\n",
      "378/378 [==============================] - 1s - loss: 0.4036 - acc: 0.8190 - val_loss: 0.5371 - val_acc: 0.8195\n",
      "Epoch 22/30\n",
      "378/378 [==============================] - 1s - loss: 0.4018 - acc: 0.8189 - val_loss: 0.5187 - val_acc: 0.8195\n",
      "Epoch 23/30\n",
      "378/378 [==============================] - 1s - loss: 0.3996 - acc: 0.8266 - val_loss: 0.5015 - val_acc: 0.8272\n",
      "Epoch 24/30\n",
      "378/378 [==============================] - 1s - loss: 0.3975 - acc: 0.8265 - val_loss: 0.4868 - val_acc: 0.8293\n",
      "Epoch 25/30\n",
      "378/378 [==============================] - 1s - loss: 0.3960 - acc: 0.8265 - val_loss: 0.4758 - val_acc: 0.8293\n",
      "Epoch 26/30\n",
      "378/378 [==============================] - 1s - loss: 0.3954 - acc: 0.8265 - val_loss: 0.4686 - val_acc: 0.8293\n",
      "Epoch 27/30\n",
      "378/378 [==============================] - 1s - loss: 0.3956 - acc: 0.8265 - val_loss: 0.4642 - val_acc: 0.8293\n",
      "Epoch 28/30\n",
      "378/378 [==============================] - 1s - loss: 0.3962 - acc: 0.8265 - val_loss: 0.4615 - val_acc: 0.8293\n",
      "Epoch 29/30\n",
      "378/378 [==============================] - 1s - loss: 0.3969 - acc: 0.8265 - val_loss: 0.4595 - val_acc: 0.8293\n",
      "Epoch 30/30\n",
      "378/378 [==============================] - 1s - loss: 0.3972 - acc: 0.8265 - val_loss: 0.4577 - val_acc: 0.8293\n",
      "('Test loss:', 0.45766427855432767)\n",
      "('Test accuracy:', 0.82933917604846719)\n",
      "_________________________________________________________________\n",
      "Layer (type)                 Output Shape              Param #   \n",
      "=================================================================\n",
      "conv2d_11 (Conv2D)           (None, 297, 297, 8)       80        \n",
      "_________________________________________________________________\n",
      "max_pooling2d_11 (MaxPooling (None, 148, 148, 8)       0         \n",
      "_________________________________________________________________\n",
      "conv2d_12 (Conv2D)           (None, 146, 146, 16)      1168      \n",
      "_________________________________________________________________\n",
      "max_pooling2d_12 (MaxPooling (None, 73, 73, 16)        0         \n",
      "_________________________________________________________________\n",
      "conv2d_13 (Conv2D)           (None, 71, 71, 32)        4640      \n",
      "_________________________________________________________________\n",
      "max_pooling2d_13 (MaxPooling (None, 35, 35, 32)        0         \n",
      "_________________________________________________________________\n",
      "conv2d_14 (Conv2D)           (None, 33, 33, 64)        18496     \n",
      "_________________________________________________________________\n",
      "max_pooling2d_14 (MaxPooling (None, 16, 16, 64)        0         \n",
      "_________________________________________________________________\n",
      "conv2d_15 (Conv2D)           (None, 14, 14, 128)       73856     \n",
      "_________________________________________________________________\n",
      "max_pooling2d_15 (MaxPooling (None, 7, 7, 128)         0         \n",
      "_________________________________________________________________\n",
      "flatten_5 (Flatten)          (None, 6272)              0         \n",
      "_________________________________________________________________\n",
      "dense_9 (Dense)              (None, 64)                401472    \n",
      "_________________________________________________________________\n",
      "dense_10 (Dense)             (None, 17)                1105      \n",
      "=================================================================\n",
      "Total params: 500,817.0\n",
      "Trainable params: 500,817.0\n",
      "Non-trainable params: 0.0\n",
      "_________________________________________________________________\n",
      "Train on 378 samples, validate on 162 samples\n",
      "Epoch 1/30\n",
      "378/378 [==============================] - 1s - loss: 0.6921 - acc: 0.6066 - val_loss: 0.6803 - val_acc: 0.6402\n",
      "Epoch 2/30\n",
      "378/378 [==============================] - 1s - loss: 0.6900 - acc: 0.6743 - val_loss: 0.6694 - val_acc: 0.6725\n",
      "Epoch 3/30\n",
      "378/378 [==============================] - 1s - loss: 0.6860 - acc: 0.7059 - val_loss: 0.6540 - val_acc: 0.6899\n",
      "Epoch 4/30\n",
      "378/378 [==============================] - 1s - loss: 0.6803 - acc: 0.7182 - val_loss: 0.6338 - val_acc: 0.7110\n",
      "Epoch 5/30\n",
      "378/378 [==============================] - 1s - loss: 0.6723 - acc: 0.7188 - val_loss: 0.6084 - val_acc: 0.7157\n",
      "Epoch 6/30\n",
      "378/378 [==============================] - 1s - loss: 0.6607 - acc: 0.7193 - val_loss: 0.5789 - val_acc: 0.7164\n",
      "Epoch 7/30\n",
      "378/378 [==============================] - 1s - loss: 0.6435 - acc: 0.7188 - val_loss: 0.5565 - val_acc: 0.7168\n",
      "Epoch 8/30\n",
      "378/378 [==============================] - 1s - loss: 0.6168 - acc: 0.7183 - val_loss: 0.5933 - val_acc: 0.7168\n",
      "Epoch 9/30\n",
      "378/378 [==============================] - 1s - loss: 0.5760 - acc: 0.7182 - val_loss: 0.8239 - val_acc: 0.7168\n",
      "Epoch 10/30\n",
      "378/378 [==============================] - 1s - loss: 0.5270 - acc: 0.7182 - val_loss: 1.2729 - val_acc: 0.7215\n",
      "Epoch 11/30\n",
      "378/378 [==============================] - 1s - loss: 0.5071 - acc: 0.7652 - val_loss: 1.4433 - val_acc: 0.8072\n",
      "Epoch 12/30\n",
      "378/378 [==============================] - 1s - loss: 0.4941 - acc: 0.8181 - val_loss: 1.2551 - val_acc: 0.8076\n",
      "Epoch 13/30\n",
      "378/378 [==============================] - 1s - loss: 0.4451 - acc: 0.8181 - val_loss: 0.9479 - val_acc: 0.8083\n",
      "Epoch 14/30\n",
      "378/378 [==============================] - 1s - loss: 0.4164 - acc: 0.8181 - val_loss: 0.7453 - val_acc: 0.8279\n",
      "Epoch 15/30\n",
      "378/378 [==============================] - 1s - loss: 0.4116 - acc: 0.8265 - val_loss: 0.6502 - val_acc: 0.8275\n",
      "Epoch 16/30\n",
      "378/378 [==============================] - 1s - loss: 0.4127 - acc: 0.8266 - val_loss: 0.6113 - val_acc: 0.8224\n",
      "Epoch 17/30\n",
      "378/378 [==============================] - 1s - loss: 0.4116 - acc: 0.8246 - val_loss: 0.5991 - val_acc: 0.8282\n",
      "Epoch 18/30\n",
      "378/378 [==============================] - 1s - loss: 0.4085 - acc: 0.8265 - val_loss: 0.5972 - val_acc: 0.8293\n",
      "Epoch 19/30\n",
      "378/378 [==============================] - 1s - loss: 0.4055 - acc: 0.8265 - val_loss: 0.5950 - val_acc: 0.8293\n",
      "Epoch 20/30\n",
      "378/378 [==============================] - 1s - loss: 0.4037 - acc: 0.8265 - val_loss: 0.5849 - val_acc: 0.8293\n",
      "Epoch 21/30\n",
      "378/378 [==============================] - 1s - loss: 0.4029 - acc: 0.8265 - val_loss: 0.5648 - val_acc: 0.8293\n",
      "Epoch 22/30\n",
      "378/378 [==============================] - 1s - loss: 0.4024 - acc: 0.8265 - val_loss: 0.5386 - val_acc: 0.8293\n",
      "Epoch 23/30\n",
      "378/378 [==============================] - 1s - loss: 0.4016 - acc: 0.8265 - val_loss: 0.5122 - val_acc: 0.8293\n",
      "Epoch 24/30\n",
      "378/378 [==============================] - 1s - loss: 0.4009 - acc: 0.8265 - val_loss: 0.4896 - val_acc: 0.8086\n",
      "Epoch 25/30\n",
      "378/378 [==============================] - 1s - loss: 0.4004 - acc: 0.8189 - val_loss: 0.4725 - val_acc: 0.8083\n",
      "Epoch 26/30\n",
      "378/378 [==============================] - 1s - loss: 0.4003 - acc: 0.8181 - val_loss: 0.4608 - val_acc: 0.8083\n",
      "Epoch 27/30\n",
      "378/378 [==============================] - 1s - loss: 0.4001 - acc: 0.8181 - val_loss: 0.4534 - val_acc: 0.8083\n",
      "Epoch 28/30\n",
      "378/378 [==============================] - 1s - loss: 0.3996 - acc: 0.8181 - val_loss: 0.4493 - val_acc: 0.8105\n",
      "Epoch 29/30\n",
      "378/378 [==============================] - 1s - loss: 0.3989 - acc: 0.8265 - val_loss: 0.4474 - val_acc: 0.8290\n",
      "Epoch 30/30\n",
      "378/378 [==============================] - 1s - loss: 0.3981 - acc: 0.8265 - val_loss: 0.4471 - val_acc: 0.8293\n",
      "('Test loss:', 0.44713792646372758)\n",
      "('Test accuracy:', 0.82933917604846719)\n",
      "_________________________________________________________________\n",
      "Layer (type)                 Output Shape              Param #   \n",
      "=================================================================\n",
      "conv2d_16 (Conv2D)           (None, 297, 297, 8)       80        \n",
      "_________________________________________________________________\n",
      "max_pooling2d_16 (MaxPooling (None, 148, 148, 8)       0         \n",
      "_________________________________________________________________\n",
      "conv2d_17 (Conv2D)           (None, 146, 146, 16)      1168      \n",
      "_________________________________________________________________\n",
      "max_pooling2d_17 (MaxPooling (None, 73, 73, 16)        0         \n",
      "_________________________________________________________________\n",
      "conv2d_18 (Conv2D)           (None, 71, 71, 32)        4640      \n",
      "_________________________________________________________________\n",
      "max_pooling2d_18 (MaxPooling (None, 35, 35, 32)        0         \n",
      "_________________________________________________________________\n",
      "conv2d_19 (Conv2D)           (None, 33, 33, 64)        18496     \n",
      "_________________________________________________________________\n",
      "max_pooling2d_19 (MaxPooling (None, 16, 16, 64)        0         \n",
      "_________________________________________________________________\n",
      "conv2d_20 (Conv2D)           (None, 14, 14, 128)       73856     \n",
      "_________________________________________________________________\n",
      "max_pooling2d_20 (MaxPooling (None, 7, 7, 128)         0         \n",
      "_________________________________________________________________\n",
      "conv2d_21 (Conv2D)           (None, 5, 5, 256)         295168    \n",
      "_________________________________________________________________\n",
      "max_pooling2d_21 (MaxPooling (None, 2, 2, 256)         0         \n",
      "_________________________________________________________________\n",
      "flatten_6 (Flatten)          (None, 1024)              0         \n",
      "_________________________________________________________________\n",
      "dense_11 (Dense)             (None, 64)                65600     \n",
      "_________________________________________________________________\n",
      "dense_12 (Dense)             (None, 17)                1105      \n",
      "=================================================================\n",
      "Total params: 460,113.0\n",
      "Trainable params: 460,113.0\n",
      "Non-trainable params: 0.0\n",
      "_________________________________________________________________\n",
      "Train on 378 samples, validate on 162 samples\n",
      "Epoch 1/30\n",
      "378/378 [==============================] - 2s - loss: 0.6934 - acc: 0.5126 - val_loss: 0.6800 - val_acc: 0.5824\n",
      "Epoch 2/30\n",
      "378/378 [==============================] - 1s - loss: 0.6886 - acc: 0.5741 - val_loss: 0.6432 - val_acc: 0.6111\n",
      "Epoch 3/30\n",
      "378/378 [==============================] - 1s - loss: 0.6810 - acc: 0.6410 - val_loss: 0.6085 - val_acc: 0.6656\n",
      "Epoch 4/30\n",
      "378/378 [==============================] - 1s - loss: 0.6712 - acc: 0.6704 - val_loss: 0.5820 - val_acc: 0.6678\n",
      "Epoch 5/30\n",
      "378/378 [==============================] - 1s - loss: 0.6575 - acc: 0.6906 - val_loss: 0.5896 - val_acc: 0.6678\n",
      "Epoch 6/30\n",
      "378/378 [==============================] - 1s - loss: 0.6366 - acc: 0.7017 - val_loss: 0.7045 - val_acc: 0.6681\n",
      "Epoch 7/30\n",
      "378/378 [==============================] - 1s - loss: 0.6029 - acc: 0.7158 - val_loss: 1.0942 - val_acc: 0.6903\n",
      "Epoch 8/30\n",
      "378/378 [==============================] - 1s - loss: 0.5513 - acc: 0.7617 - val_loss: 1.8323 - val_acc: 0.7716\n",
      "Epoch 9/30\n",
      "378/378 [==============================] - 1s - loss: 0.5143 - acc: 0.7728 - val_loss: 1.9472 - val_acc: 0.7774\n",
      "Epoch 10/30\n",
      "378/378 [==============================] - 1s - loss: 0.5036 - acc: 0.7823 - val_loss: 1.7940 - val_acc: 0.8293\n",
      "Epoch 11/30\n",
      "378/378 [==============================] - 1s - loss: 0.4463 - acc: 0.8265 - val_loss: 1.6752 - val_acc: 0.8123\n",
      "Epoch 12/30\n",
      "378/378 [==============================] - 1s - loss: 0.4273 - acc: 0.8252 - val_loss: 1.3680 - val_acc: 0.8007\n",
      "Epoch 13/30\n",
      "378/378 [==============================] - 1s - loss: 0.4374 - acc: 0.8176 - val_loss: 1.2807 - val_acc: 0.8112\n",
      "Epoch 14/30\n",
      "378/378 [==============================] - 1s - loss: 0.4400 - acc: 0.8192 - val_loss: 1.2867 - val_acc: 0.8195\n",
      "Epoch 15/30\n",
      "378/378 [==============================] - 1s - loss: 0.4291 - acc: 0.8190 - val_loss: 1.3573 - val_acc: 0.8199\n",
      "Epoch 16/30\n",
      "378/378 [==============================] - 1s - loss: 0.4183 - acc: 0.8190 - val_loss: 1.4208 - val_acc: 0.8199\n",
      "Epoch 17/30\n",
      "378/378 [==============================] - 1s - loss: 0.4159 - acc: 0.8218 - val_loss: 1.4178 - val_acc: 0.8290\n",
      "Epoch 18/30\n",
      "378/378 [==============================] - 1s - loss: 0.4141 - acc: 0.8263 - val_loss: 1.3193 - val_acc: 0.8123\n",
      "Epoch 19/30\n",
      "378/378 [==============================] - 1s - loss: 0.4080 - acc: 0.8224 - val_loss: 1.1383 - val_acc: 0.8166\n",
      "Epoch 20/30\n",
      "378/378 [==============================] - 1s - loss: 0.4052 - acc: 0.8251 - val_loss: 0.9982 - val_acc: 0.8286\n",
      "Epoch 21/30\n",
      "378/378 [==============================] - 1s - loss: 0.4054 - acc: 0.8265 - val_loss: 0.9598 - val_acc: 0.8293\n",
      "Epoch 22/30\n",
      "378/378 [==============================] - 1s - loss: 0.4036 - acc: 0.8265 - val_loss: 1.0000 - val_acc: 0.8293\n",
      "Epoch 23/30\n",
      "378/378 [==============================] - 1s - loss: 0.4005 - acc: 0.8265 - val_loss: 1.0698 - val_acc: 0.8293\n",
      "Epoch 24/30\n",
      "378/378 [==============================] - 1s - loss: 0.3994 - acc: 0.8265 - val_loss: 1.1088 - val_acc: 0.8293\n",
      "Epoch 25/30\n",
      "378/378 [==============================] - 1s - loss: 0.4003 - acc: 0.8265 - val_loss: 1.0805 - val_acc: 0.8293\n",
      "Epoch 26/30\n",
      "378/378 [==============================] - 1s - loss: 0.4001 - acc: 0.8265 - val_loss: 0.9927 - val_acc: 0.8293\n",
      "Epoch 27/30\n",
      "378/378 [==============================] - 1s - loss: 0.3985 - acc: 0.8265 - val_loss: 0.8874 - val_acc: 0.8293\n",
      "Epoch 28/30\n",
      "378/378 [==============================] - 1s - loss: 0.3977 - acc: 0.8265 - val_loss: 0.8097 - val_acc: 0.8293\n",
      "Epoch 29/30\n",
      "378/378 [==============================] - 1s - loss: 0.3981 - acc: 0.8265 - val_loss: 0.7732 - val_acc: 0.8293\n",
      "Epoch 30/30\n",
      "378/378 [==============================] - 1s - loss: 0.3982 - acc: 0.8265 - val_loss: 0.7731 - val_acc: 0.8293\n",
      "('Test loss:', 0.77307350326467439)\n",
      "('Test accuracy:', 0.82933917604846719)\n"
     ]
    }
   ],
   "source": [
    "# training the CNN from scratch, save test loss\n",
    "# uses 64x64 images\n",
    "\n",
    "model_losses = []\n",
    "model_accuracies = []\n",
    "\n",
    "# use 1 layer\n",
    "results = CNN_from_scratch(n_layers=range(1), filters=[8], \n",
    "                           kernels=[(3, 3)], activation_function='relu')\n",
    "model_losses.append(results[0])\n",
    "model_accuracies.append(results[1])\n",
    "\n",
    "# add 2nd layer\n",
    "results = CNN_from_scratch(n_layers=range(2), filters=[8, 16], \n",
    "                           kernels=[(3, 3), (3, 3)], activation_function='relu')\n",
    "model_losses.append(results[0])\n",
    "model_accuracies.append(results[1])\n",
    "\n",
    "# add 3rd layer\n",
    "results = CNN_from_scratch(n_layers=range(3), filters=[8, 16, 32], \n",
    "                           kernels=[(3, 3), (3, 3), (3, 3)], activation_function='relu')\n",
    "model_losses.append(results[0])\n",
    "model_accuracies.append(results[1])\n",
    "\n",
    "# add 4th layer\n",
    "results = CNN_from_scratch(n_layers=range(4), filters=[8, 16, 32, 64], \n",
    "                           kernels=[(3, 3), (3, 3), (3, 3), (3, 3)], activation_function='relu')\n",
    "model_losses.append(results[0])\n",
    "model_accuracies.append(results[1])\n",
    "\n",
    "# add 5th layer\n",
    "results = CNN_from_scratch(n_layers=range(5), filters=[8, 16, 32, 64, 128], \n",
    "                           kernels=[(3, 3), (3, 3), (3, 3), (3, 3), (3, 3)], activation_function='relu')\n",
    "model_losses.append(results[0])\n",
    "model_accuracies.append(results[1])\n",
    "\n",
    "# add 6th layer\n",
    "results = CNN_from_scratch(n_layers=range(6), filters=[8, 16, 32, 64, 128, 256], \n",
    "                           kernels=[(3, 3), (3, 3), (3, 3), (3, 3), (3, 3), (3, 3)], activation_function='relu')\n",
    "model_losses.append(results[0])\n",
    "model_accuracies.append(results[1])"
   ]
  },
  {
   "cell_type": "code",
   "execution_count": 18,
   "metadata": {
    "collapsed": false,
    "deletable": true,
    "editable": true
   },
   "outputs": [
    {
     "data": {
      "text/plain": [
       "[1.4781560471028456,\n",
       " 0.4348837740627336,\n",
       " 0.477556124145602,\n",
       " 0.45766427855432767,\n",
       " 0.44713792646372758,\n",
       " 0.77307350326467439]"
      ]
     },
     "execution_count": 18,
     "metadata": {},
     "output_type": "execute_result"
    }
   ],
   "source": [
    "model_losses"
   ]
  },
  {
   "cell_type": "code",
   "execution_count": 19,
   "metadata": {
    "collapsed": false,
    "deletable": true,
    "editable": true
   },
   "outputs": [
    {
     "data": {
      "text/plain": [
       "[0.72839509263450719,\n",
       " 0.8111837484218456,\n",
       " 0.82897606160905624,\n",
       " 0.82933917604846719,\n",
       " 0.82933917604846719,\n",
       " 0.82933917604846719]"
      ]
     },
     "execution_count": 19,
     "metadata": {},
     "output_type": "execute_result"
    }
   ],
   "source": [
    "model_accuracies"
   ]
  },
  {
   "cell_type": "code",
   "execution_count": 20,
   "metadata": {
    "collapsed": true,
    "deletable": true,
    "editable": true
   },
   "outputs": [],
   "source": [
    "if False:\n",
    "    print 'reassigned'\n",
    "    model_losses_299 = model_losses[:]\n",
    "    model_accuracies_299 = model_accuracies[:]"
   ]
  },
  {
   "cell_type": "code",
   "execution_count": 21,
   "metadata": {
    "collapsed": false,
    "deletable": true,
    "editable": true
   },
   "outputs": [
    {
     "data": {
      "text/plain": [
       "[1.4781560471028456,\n",
       " 0.4348837740627336,\n",
       " 0.477556124145602,\n",
       " 0.45766427855432767,\n",
       " 0.44713792646372758,\n",
       " 0.77307350326467439]"
      ]
     },
     "execution_count": 21,
     "metadata": {},
     "output_type": "execute_result"
    }
   ],
   "source": [
    "model_losses_299"
   ]
  },
  {
   "cell_type": "code",
   "execution_count": 22,
   "metadata": {
    "collapsed": false,
    "deletable": true,
    "editable": true
   },
   "outputs": [
    {
     "data": {
      "text/plain": [
       "[0.72839509263450719,\n",
       " 0.8111837484218456,\n",
       " 0.82897606160905624,\n",
       " 0.82933917604846719,\n",
       " 0.82933917604846719,\n",
       " 0.82933917604846719]"
      ]
     },
     "execution_count": 22,
     "metadata": {},
     "output_type": "execute_result"
    }
   ],
   "source": [
    "model_accuracies_299"
   ]
  },
  {
   "cell_type": "code",
   "execution_count": 45,
   "metadata": {
    "collapsed": false,
    "deletable": true,
    "editable": true
   },
   "outputs": [],
   "source": [
    "if False:\n",
    "    print 'reassigned'\n",
    "    model_losses_64 = model_losses[:]\n",
    "    model_accuracies_64 = model_accuracies[:]"
   ]
  },
  {
   "cell_type": "code",
   "execution_count": 46,
   "metadata": {
    "collapsed": false,
    "deletable": true,
    "editable": true
   },
   "outputs": [
    {
     "data": {
      "text/plain": [
       "[0.57086285985546348,\n",
       " 0.64759598911544425,\n",
       " 0.65746877664401204,\n",
       " 1.0032658753571686]"
      ]
     },
     "execution_count": 46,
     "metadata": {},
     "output_type": "execute_result"
    }
   ],
   "source": [
    "model_losses_64"
   ]
  },
  {
   "cell_type": "code",
   "execution_count": 47,
   "metadata": {
    "collapsed": false,
    "deletable": true,
    "editable": true
   },
   "outputs": [
    {
     "data": {
      "text/plain": [
       "[0.83006536960601807,\n",
       " 0.82933916427471022,\n",
       " 0.82207697556342607,\n",
       " 0.82933917604846719]"
      ]
     },
     "execution_count": 47,
     "metadata": {},
     "output_type": "execute_result"
    }
   ],
   "source": [
    "model_accuracies_64"
   ]
  },
  {
   "cell_type": "markdown",
   "metadata": {
    "deletable": true,
    "editable": true
   },
   "source": [
    "# Tuning our CNN from Scratch\n",
    "\n",
    "Per this quora answer: https://www.quora.com/How-can-I-decide-the-kernel-size-output-maps-and-layers-of-CNN\n",
    "\n",
    "### On Kernels\n",
    "- For kernel size, in general, smaller + deeper kernels are better\n",
    "- Deeper networks are generally better (more layers), at the cost of more data required and increased learning complexity\n",
    "\n",
    "### On batch\n",
    "- batch size should be a few hundred\n",
    "\n",
    "### On Filters\n",
    "- initially should use fewer filters and gradually increase and monitor the error rate to see how it is varying\n",
    "- very small filter sizes will capture very fine details of the image, bigger filters will leave out minute details in the image\n",
    "- common kernel sizes are 3x3, 5x5, and 7x7\n",
    "- "
   ]
  },
  {
   "cell_type": "code",
   "execution_count": 127,
   "metadata": {
    "collapsed": false,
    "deletable": true,
    "editable": true
   },
   "outputs": [
    {
     "name": "stdout",
     "output_type": "stream",
     "text": [
      "_________________________________________________________________\n",
      "Layer (type)                 Output Shape              Param #   \n",
      "=================================================================\n",
      "conv2d_178 (Conv2D)          (None, 298, 298, 8)       80        \n",
      "_________________________________________________________________\n",
      "max_pooling2d_81 (MaxPooling (None, 149, 149, 8)       0         \n",
      "_________________________________________________________________\n",
      "flatten_11 (Flatten)         (None, 177608)            0         \n",
      "_________________________________________________________________\n",
      "dense_23 (Dense)             (None, 64)                11366976  \n",
      "_________________________________________________________________\n",
      "dense_24 (Dense)             (None, 17)                1105      \n",
      "=================================================================\n",
      "Total params: 11,368,161\n",
      "Trainable params: 11,368,161\n",
      "Non-trainable params: 0\n",
      "_________________________________________________________________\n"
     ]
    }
   ],
   "source": [
    "\n",
    "# create an empty network model\n",
    "model = Sequential()\n",
    "\n",
    "# define the input layer to the CNN\n",
    "# input shape is a tuple of the # rows, # cols, and # channels (1 for grayscale)\n",
    "# the first parameter to Conv2D is the number of filters we want to convolve\n",
    "# over the input images\n",
    "model.add(Conv2D(8, kernel_size=(3, 3), activation='relu', input_shape=input_shape))\n",
    "\n",
    "# create a max pooling layer\n",
    "model.add(MaxPooling2D(pool_size=(2, 2)))\n",
    "\n",
    "# add another convolution layer\n",
    "# we could double the number of filters as max pool made the \n",
    "# feature maps much smaller, but we're not doing this to improve runtime\n",
    "#model.add(Conv2D(32, kernel_size=(3, 3), activation='relu'))\n",
    "\n",
    "# create a max pooling layer\n",
    "#model.add(MaxPooling2D(pool_size=(2, 2)))\n",
    "\n",
    "# ================\n",
    "\n",
    "#model.add(Conv2D(64, kernel_size=(3, 3), activation='relu'))\n",
    "\n",
    "# create a max pooling layer\n",
    "#model.add(MaxPooling2D(pool_size=(2, 2)))\n",
    "\n",
    "# ================\n",
    "\n",
    "#model.add(Conv2D(128, kernel_size=(3, 3), activation='relu'))\n",
    "\n",
    "# create a max pooling layer\n",
    "#model.add(MaxPooling2D(pool_size=(2, 2)))\n",
    "\n",
    "# ================\n",
    "\n",
    "# flatten for fully connected classification layer\n",
    "model.add(Flatten())\n",
    "\n",
    "# note that the 10 is the number of classes we have\n",
    "# the classes are mutually exclusive so softmax is a good choice\n",
    "# --- fully connected layer ---\n",
    "model.add(Dense(64, activation='relu'))\n",
    "\n",
    "# recommended by: https://github.com/fchollet/keras/issues/761\n",
    "# uses a sigmoid activation rather than softmax, which apparently\n",
    "# gives us a label vector back\n",
    "model.add(Dense(n_labels, activation='sigmoid'))\n",
    "\n",
    "# prints out a summary of the model architecture\n",
    "model.summary()"
   ]
  },
  {
   "cell_type": "markdown",
   "metadata": {
    "deletable": true,
    "editable": true
   },
   "source": [
    "### Compile the model\n",
    "\n",
    "Let's use a large learning rate (0.1) while we're working locally"
   ]
  },
  {
   "cell_type": "code",
   "execution_count": 114,
   "metadata": {
    "collapsed": false,
    "deletable": true,
    "editable": true
   },
   "outputs": [],
   "source": [
    "# the setup is our basic categorical crossentropy with stochastic gradient decent\n",
    "# we also specify that we want to evaluate our model in terms of accuracy\n",
    "sgd = SGD(lr=0.1, momentum=0.9)\n",
    "\n",
    "# TODO: why are we using binary crossentropy?\n",
    "# I'm not sure, but it works much better than\n",
    "# categorical crossentropy.\n",
    "model.compile(loss='binary_crossentropy',\n",
    "              optimizer=sgd,\n",
    "              metrics=['accuracy'])"
   ]
  },
  {
   "cell_type": "markdown",
   "metadata": {
    "deletable": true,
    "editable": true
   },
   "source": [
    "### Train the model"
   ]
  },
  {
   "cell_type": "code",
   "execution_count": 115,
   "metadata": {
    "collapsed": false,
    "deletable": true,
    "editable": true
   },
   "outputs": [
    {
     "name": "stdout",
     "output_type": "stream",
     "text": [
      "Train on 378 samples, validate on 162 samples\n",
      "Epoch 1/30\n",
      "378/378 [==============================] - 4s - loss: 0.6852 - acc: 0.5451 - val_loss: 0.6490 - val_acc: 0.6576\n",
      "Epoch 2/30\n",
      "378/378 [==============================] - 1s - loss: 0.6668 - acc: 0.6754 - val_loss: 0.5985 - val_acc: 0.7407\n",
      "Epoch 3/30\n",
      "378/378 [==============================] - 1s - loss: 0.6336 - acc: 0.7557 - val_loss: 0.7085 - val_acc: 0.7709\n",
      "Epoch 4/30\n",
      "378/378 [==============================] - 1s - loss: 0.5840 - acc: 0.7859 - val_loss: 1.0175 - val_acc: 0.7869\n",
      "Epoch 5/30\n",
      "378/378 [==============================] - 2s - loss: 0.5180 - acc: 0.7943 - val_loss: 1.4440 - val_acc: 0.8152\n",
      "Epoch 6/30\n",
      "378/378 [==============================] - 2s - loss: 0.4668 - acc: 0.8184 - val_loss: 1.7369 - val_acc: 0.8195\n",
      "Epoch 7/30\n",
      "378/378 [==============================] - 1s - loss: 0.4661 - acc: 0.8220 - val_loss: 1.9386 - val_acc: 0.8290\n",
      "Epoch 8/30\n",
      "378/378 [==============================] - 1s - loss: 0.4865 - acc: 0.8262 - val_loss: 1.8826 - val_acc: 0.8159\n",
      "Epoch 9/30\n",
      "378/378 [==============================] - 1s - loss: 0.4777 - acc: 0.8195 - val_loss: 1.5855 - val_acc: 0.8094\n",
      "Epoch 10/30\n",
      "378/378 [==============================] - 1s - loss: 0.4366 - acc: 0.8139 - val_loss: 1.2203 - val_acc: 0.8086\n",
      "Epoch 11/30\n",
      "378/378 [==============================] - 1s - loss: 0.4202 - acc: 0.8179 - val_loss: 1.1088 - val_acc: 0.8072\n",
      "Epoch 12/30\n",
      "378/378 [==============================] - 1s - loss: 0.4318 - acc: 0.8139 - val_loss: 1.0234 - val_acc: 0.8043\n",
      "Epoch 13/30\n",
      "378/378 [==============================] - 2s - loss: 0.4458 - acc: 0.8156 - val_loss: 1.0413 - val_acc: 0.8177\n",
      "Epoch 14/30\n",
      "378/378 [==============================] - 1s - loss: 0.4454 - acc: 0.8190 - val_loss: 1.1768 - val_acc: 0.8203\n",
      "Epoch 15/30\n",
      "378/378 [==============================] - 1s - loss: 0.4326 - acc: 0.8190 - val_loss: 1.3839 - val_acc: 0.8199\n",
      "Epoch 16/30\n",
      "378/378 [==============================] - 1s - loss: 0.4206 - acc: 0.8190 - val_loss: 1.5298 - val_acc: 0.8188\n",
      "Epoch 17/30\n",
      "378/378 [==============================] - 1s - loss: 0.4183 - acc: 0.8189 - val_loss: 1.5118 - val_acc: 0.8152\n",
      "Epoch 18/30\n",
      "378/378 [==============================] - 1s - loss: 0.4183 - acc: 0.8181 - val_loss: 1.4624 - val_acc: 0.8246\n",
      "Epoch 19/30\n",
      "378/378 [==============================] - 1s - loss: 0.4133 - acc: 0.8246 - val_loss: 1.3472 - val_acc: 0.8272\n",
      "Epoch 20/30\n",
      "378/378 [==============================] - 2s - loss: 0.4059 - acc: 0.8263 - val_loss: 1.1761 - val_acc: 0.8297\n",
      "Epoch 21/30\n",
      "378/378 [==============================] - 2s - loss: 0.4021 - acc: 0.8263 - val_loss: 1.0171 - val_acc: 0.8293\n",
      "Epoch 22/30\n",
      "378/378 [==============================] - 2s - loss: 0.4031 - acc: 0.8262 - val_loss: 0.9077 - val_acc: 0.8293\n",
      "Epoch 23/30\n",
      "378/378 [==============================] - 2s - loss: 0.4047 - acc: 0.8265 - val_loss: 0.8656 - val_acc: 0.8293\n",
      "Epoch 24/30\n",
      "378/378 [==============================] - 2s - loss: 0.4041 - acc: 0.8265 - val_loss: 0.8764 - val_acc: 0.8293\n",
      "Epoch 25/30\n",
      "378/378 [==============================] - 2s - loss: 0.4017 - acc: 0.8265 - val_loss: 0.9206 - val_acc: 0.8293\n",
      "Epoch 26/30\n",
      "378/378 [==============================] - 3s - loss: 0.3997 - acc: 0.8265 - val_loss: 0.9727 - val_acc: 0.8293\n",
      "Epoch 27/30\n",
      "378/378 [==============================] - 3s - loss: 0.3998 - acc: 0.8265 - val_loss: 1.0011 - val_acc: 0.8290\n",
      "Epoch 28/30\n",
      "378/378 [==============================] - 3s - loss: 0.4009 - acc: 0.8265 - val_loss: 0.9816 - val_acc: 0.8228\n",
      "Epoch 29/30\n",
      "378/378 [==============================] - 3s - loss: 0.4007 - acc: 0.8266 - val_loss: 0.9155 - val_acc: 0.8217\n",
      "Epoch 30/30\n",
      "378/378 [==============================] - 3s - loss: 0.3989 - acc: 0.8217 - val_loss: 0.8285 - val_acc: 0.8210\n"
     ]
    }
   ],
   "source": [
    "# this is now the actual training\n",
    "# in addition to the training data we provide validation data\n",
    "# this data is used to calculate the performance of the model over all the epochs\n",
    "# this is useful to determine when training should stop\n",
    "# in our case we just use it to monitor the evolution of the model over the training epochs\n",
    "# if we use the validation data to determine when to stop the training or which model to save, we \n",
    "# should not use the test data, but a separate validation set. \n",
    "history = model.fit(x_train, y_train,\n",
    "                    batch_size=batch_size,\n",
    "                    epochs=epochs,\n",
    "                    verbose=1,\n",
    "                    validation_data=(x_test, y_test))"
   ]
  },
  {
   "cell_type": "code",
   "execution_count": 116,
   "metadata": {
    "collapsed": false,
    "deletable": true,
    "editable": true
   },
   "outputs": [
    {
     "name": "stdout",
     "output_type": "stream",
     "text": [
      "('Test loss:', 0.82848376771550125)\n",
      "('Test accuracy:', 0.82098762635831479)\n"
     ]
    }
   ],
   "source": [
    "# once training is complete, let's see how well we have done\n",
    "score = model.evaluate(x_test, y_test, verbose=0)\n",
    "print('Test loss:', score[0])\n",
    "print('Test accuracy:', score[1])"
   ]
  },
  {
   "cell_type": "code",
   "execution_count": 84,
   "metadata": {
    "collapsed": false,
    "deletable": true,
    "editable": true
   },
   "outputs": [
    {
     "data": {
      "text/plain": [
       "<matplotlib.text.Text at 0x13896cd10>"
      ]
     },
     "execution_count": 84,
     "metadata": {},
     "output_type": "execute_result"
    },
    {
     "data": {
      "image/png": "[encoded data removed]",
      "text/plain": [
       "<matplotlib.figure.Figure at 0x137f447d0>"
      ]
     },
     "metadata": {},
     "output_type": "display_data"
    }
   ],
   "source": [
    "# here is a visualization of the training process\n",
    "# typically we gain a lot in the beginning and then\n",
    "# training slows down\n",
    "plt.figure(figsize=(8, 6))\n",
    "plt.plot(history.history['acc'])\n",
    "plt.title(\"Accuracy as a function of epochs\")\n",
    "plt.xlabel(\"epoch\")\n",
    "plt.ylabel(\"accuracy\")"
   ]
  },
  {
   "cell_type": "markdown",
   "metadata": {
    "deletable": true,
    "editable": true
   },
   "source": [
    "# ToDos for #1\n",
    "1. Binary Categorization?\n",
    "2. Accuracy?\n",
    "3. Last layer for doing multilabel (is sigmoid correct?)"
   ]
  },
  {
   "cell_type": "markdown",
   "metadata": {
    "deletable": true,
    "editable": true
   },
   "source": [
    "# 2. Fine tuning a pre-trained model"
   ]
  },
  {
   "cell_type": "code",
   "execution_count": 21,
   "metadata": {
    "collapsed": false,
    "deletable": true,
    "editable": true
   },
   "outputs": [],
   "source": [
    "from keras.applications.inception_v3 import InceptionV3\n",
    "from keras.preprocessing import image\n",
    "from keras.models import Model\n",
    "from keras.layers import Dense, GlobalAveragePooling2D\n",
    "from keras import backend as K"
   ]
  },
  {
   "cell_type": "markdown",
   "metadata": {
    "deletable": true,
    "editable": true
   },
   "source": [
    "### Convert Images to Format for InceptionV3 "
   ]
  },
  {
   "cell_type": "code",
   "execution_count": 22,
   "metadata": {
    "collapsed": false,
    "deletable": true,
    "editable": true
   },
   "outputs": [],
   "source": [
    "### Because inception takes in a 299 x 299 RGB image, we need to download them as such \n",
    "img_rows, img_cols = 299, 299\n",
    "\n",
    "# convert each normal poster to a 299x299 poster\n",
    "for img_name in os.listdir(\"images/\"):\n",
    "    if not img_name.startswith('.'):\n",
    "        # read in an image, do not convert to greyscale \n",
    "        im = Image.open(\"images/\" + img_name)\n",
    "        out = im.resize((img_rows, img_cols))\n",
    "        ## save to the inception images folder \n",
    "        out.save(\"inception_ready_images/\" + img_name)"
   ]
  },
  {
   "cell_type": "code",
   "execution_count": 23,
   "metadata": {
    "collapsed": true,
    "deletable": true,
    "editable": true
   },
   "outputs": [],
   "source": [
    "# load image matrices into memory\n",
    "x_train = np.array([np.asarray(Image.open(\"inception_ready_images/\" + str(m_id) + \".jpg\")) for m_id in train_ids])\n",
    "x_test =  np.array([np.asarray(Image.open(\"inception_ready_images/\" + str(m_id) + \".jpg\")) for m_id in test_ids])"
   ]
  },
  {
   "cell_type": "code",
   "execution_count": 24,
   "metadata": {
    "collapsed": false,
    "deletable": true,
    "editable": true
   },
   "outputs": [
    {
     "data": {
      "text/plain": [
       "(378, 299, 299, 3)"
      ]
     },
     "execution_count": 24,
     "metadata": {},
     "output_type": "execute_result"
    }
   ],
   "source": [
    "## Our data is of the format that we can use for inception \n",
    "x_train.shape"
   ]
  },
  {
   "cell_type": "code",
   "execution_count": 25,
   "metadata": {
    "collapsed": false,
    "deletable": true,
    "editable": true
   },
   "outputs": [
    {
     "data": {
      "text/plain": [
       "(162, 299, 299, 3)"
      ]
     },
     "execution_count": 25,
     "metadata": {},
     "output_type": "execute_result"
    }
   ],
   "source": [
    "x_test.shape"
   ]
  },
  {
   "cell_type": "code",
   "execution_count": 26,
   "metadata": {
    "collapsed": false,
    "deletable": true,
    "editable": true
   },
   "outputs": [
    {
     "data": {
      "text/plain": [
       "numpy.ndarray"
      ]
     },
     "execution_count": 26,
     "metadata": {},
     "output_type": "execute_result"
    }
   ],
   "source": [
    "type(y_train)"
   ]
  },
  {
   "cell_type": "code",
   "execution_count": 27,
   "metadata": {
    "collapsed": false,
    "deletable": true,
    "editable": true
   },
   "outputs": [],
   "source": [
    "## convert data into tuple of training data\n",
    "## model.fit_generator takes a tuple \n",
    "training = (x_train, y_train)\n",
    "\n",
    "test = (x_test, y_test)\n"
   ]
  },
  {
   "cell_type": "code",
   "execution_count": 28,
   "metadata": {
    "collapsed": false,
    "deletable": true,
    "editable": true
   },
   "outputs": [
    {
     "name": "stdout",
     "output_type": "stream",
     "text": [
      "Downloading data from https://github.com/fchollet/deep-learning-models/releases/download/v0.5/inception_v3_weights_tf_dim_ordering_tf_kernels_notop.h5\n"
     ]
    }
   ],
   "source": [
    "# create the base pre-trained model\n",
    "base_model = InceptionV3(weights= 'imagenet', include_top=False)"
   ]
  },
  {
   "cell_type": "code",
   "execution_count": 29,
   "metadata": {
    "collapsed": true,
    "deletable": true,
    "editable": true
   },
   "outputs": [],
   "source": [
    "# add a global spatial average pooling layer\n",
    "x = base_model.output\n",
    "x = GlobalAveragePooling2D()(x)\n",
    "# let's add a fully-connected layer\n",
    "x = Dense(1024, activation='relu')(x)\n",
    "# and a logistic layer -- let's say we have 200 classes\n",
    "predictions = Dense(200, activation='softmax')(x)"
   ]
  },
  {
   "cell_type": "code",
   "execution_count": 30,
   "metadata": {
    "collapsed": true,
    "deletable": true,
    "editable": true
   },
   "outputs": [],
   "source": [
    "# this is the model we will train\n",
    "model = Model(inputs=base_model.input, outputs=predictions)\n",
    "\n",
    "# first: train only the top layers (which were randomly initialized)\n",
    "# i.e. freeze all convolutional InceptionV3 layers\n",
    "for layer in base_model.layers:\n",
    "    layer.trainable = False\n",
    "\n",
    "# compile the model (should be done *after* setting layers to non-trainable)\n",
    "model.compile(optimizer='rmsprop', loss='categorical_crossentropy')\n",
    "\n",
    "# train the model on the new data for a few epochs\n",
    "# model.fit_generator(x_train, y_train,\n",
    "#                     batch_size=batch_size,\n",
    "#                     epochs=epochs,\n",
    "#                     verbose=1,\n",
    "#                     validation_data=(x_test, y_test))"
   ]
  },
  {
   "cell_type": "code",
   "execution_count": 31,
   "metadata": {
    "collapsed": false,
    "deletable": true,
    "editable": true
   },
   "outputs": [
    {
     "ename": "ValueError",
     "evalue": "Error when checking model target: expected dense_4 to have shape (None, 200) but got array with shape (378, 17)",
     "output_type": "error",
     "traceback": [
      "\u001b[0;31m---------------------------------------------------------------------------\u001b[0m",
      "\u001b[0;31mValueError\u001b[0m                                Traceback (most recent call last)",
      "\u001b[0;32m<ipython-input-31-316763a6d756>\u001b[0m in \u001b[0;36m<module>\u001b[0;34m()\u001b[0m\n\u001b[0;32m----> 1\u001b[0;31m \u001b[0mmodel\u001b[0m\u001b[0;34m.\u001b[0m\u001b[0mfit\u001b[0m\u001b[0;34m(\u001b[0m\u001b[0mx_train\u001b[0m\u001b[0;34m,\u001b[0m \u001b[0my_train\u001b[0m\u001b[0;34m)\u001b[0m\u001b[0;34m\u001b[0m\u001b[0m\n\u001b[0m",
      "\u001b[0;32m/Users/dzhuang/Applications/anaconda/lib/python2.7/site-packages/keras/engine/training.pyc\u001b[0m in \u001b[0;36mfit\u001b[0;34m(self, x, y, batch_size, epochs, verbose, callbacks, validation_split, validation_data, shuffle, class_weight, sample_weight, initial_epoch, **kwargs)\u001b[0m\n\u001b[1;32m   1404\u001b[0m             \u001b[0mclass_weight\u001b[0m\u001b[0;34m=\u001b[0m\u001b[0mclass_weight\u001b[0m\u001b[0;34m,\u001b[0m\u001b[0;34m\u001b[0m\u001b[0m\n\u001b[1;32m   1405\u001b[0m             \u001b[0mcheck_batch_axis\u001b[0m\u001b[0;34m=\u001b[0m\u001b[0mFalse\u001b[0m\u001b[0;34m,\u001b[0m\u001b[0;34m\u001b[0m\u001b[0m\n\u001b[0;32m-> 1406\u001b[0;31m             batch_size=batch_size)\n\u001b[0m\u001b[1;32m   1407\u001b[0m         \u001b[0;31m# prepare validation data\u001b[0m\u001b[0;34m\u001b[0m\u001b[0;34m\u001b[0m\u001b[0m\n\u001b[1;32m   1408\u001b[0m         \u001b[0;32mif\u001b[0m \u001b[0mvalidation_data\u001b[0m\u001b[0;34m:\u001b[0m\u001b[0;34m\u001b[0m\u001b[0m\n",
      "\u001b[0;32m/Users/dzhuang/Applications/anaconda/lib/python2.7/site-packages/keras/engine/training.pyc\u001b[0m in \u001b[0;36m_standardize_user_data\u001b[0;34m(self, x, y, sample_weight, class_weight, check_batch_axis, batch_size)\u001b[0m\n\u001b[1;32m   1298\u001b[0m                                     \u001b[0moutput_shapes\u001b[0m\u001b[0;34m,\u001b[0m\u001b[0;34m\u001b[0m\u001b[0m\n\u001b[1;32m   1299\u001b[0m                                     \u001b[0mcheck_batch_axis\u001b[0m\u001b[0;34m=\u001b[0m\u001b[0mFalse\u001b[0m\u001b[0;34m,\u001b[0m\u001b[0;34m\u001b[0m\u001b[0m\n\u001b[0;32m-> 1300\u001b[0;31m                                     exception_prefix='model target')\n\u001b[0m\u001b[1;32m   1301\u001b[0m         sample_weights = _standardize_sample_weights(sample_weight,\n\u001b[1;32m   1302\u001b[0m                                                      self._feed_output_names)\n",
      "\u001b[0;32m/Users/dzhuang/Applications/anaconda/lib/python2.7/site-packages/keras/engine/training.pyc\u001b[0m in \u001b[0;36m_standardize_input_data\u001b[0;34m(data, names, shapes, check_batch_axis, exception_prefix)\u001b[0m\n\u001b[1;32m    131\u001b[0m                             \u001b[0;34m' to have shape '\u001b[0m \u001b[0;34m+\u001b[0m \u001b[0mstr\u001b[0m\u001b[0;34m(\u001b[0m\u001b[0mshapes\u001b[0m\u001b[0;34m[\u001b[0m\u001b[0mi\u001b[0m\u001b[0;34m]\u001b[0m\u001b[0;34m)\u001b[0m \u001b[0;34m+\u001b[0m\u001b[0;34m\u001b[0m\u001b[0m\n\u001b[1;32m    132\u001b[0m                             \u001b[0;34m' but got array with shape '\u001b[0m \u001b[0;34m+\u001b[0m\u001b[0;34m\u001b[0m\u001b[0m\n\u001b[0;32m--> 133\u001b[0;31m                             str(array.shape))\n\u001b[0m\u001b[1;32m    134\u001b[0m     \u001b[0;32mreturn\u001b[0m \u001b[0marrays\u001b[0m\u001b[0;34m\u001b[0m\u001b[0m\n\u001b[1;32m    135\u001b[0m \u001b[0;34m\u001b[0m\u001b[0m\n",
      "\u001b[0;31mValueError\u001b[0m: Error when checking model target: expected dense_4 to have shape (None, 200) but got array with shape (378, 17)"
     ]
    }
   ],
   "source": [
    "model.fit(x_train, y_train)"
   ]
  },
  {
   "cell_type": "code",
   "execution_count": null,
   "metadata": {
    "collapsed": true,
    "deletable": true,
    "editable": true
   },
   "outputs": [],
   "source": [
    "# at this point, the top layers are well trained and we can start fine-tuning\n",
    "# convolutional layers from inception V3. We will freeze the bottom N layers\n",
    "# and train the remaining top layers.\n",
    "\n",
    "# let's visualize layer names and layer indices to see how many layers\n",
    "# we should freeze:\n",
    "for i, layer in enumerate(base_model.layers):\n",
    "   print(i, layer.name)\n",
    "\n",
    "# we chose to train the top 2 inception blocks, i.e. we will freeze\n",
    "# the first 172 layers and unfreeze the rest:\n",
    "for layer in model.layers[:172]:\n",
    "   layer.trainable = False\n",
    "for layer in model.layers[172:]:\n",
    "   layer.trainable = True\n",
    "\n",
    "# we need to recompile the model for these modifications to take effect\n",
    "# we use SGD with a low learning rate\n",
    "from keras.optimizers import SGD\n",
    "model.compile(optimizer=SGD(lr=0.0001, momentum=0.9), loss='categorical_crossentropy')\n",
    "\n",
    "# we train our model again (this time fine-tuning the top 2 inception blocks\n",
    "# alongside the top Dense layers\n",
    "model.fit_generator(...)"
   ]
  },
  {
   "cell_type": "markdown",
   "metadata": {
    "deletable": true,
    "editable": true
   },
   "source": [
    "# 3. Discussion of the results, how much improvement you gained with fine tuning, etc. "
   ]
  },
  {
   "cell_type": "markdown",
   "metadata": {
    "deletable": true,
    "editable": true
   },
   "source": [
    "# 4. Discussion of at least one additional exploratory idea you pursued "
   ]
  }
 ],
 "metadata": {
  "kernelspec": {
   "display_name": "Python 2",
   "language": "python",
   "name": "python2"
  },
  "language_info": {
   "codemirror_mode": {
    "name": "ipython",
    "version": 2
   },
   "file_extension": ".py",
   "mimetype": "text/x-python",
   "name": "python",
   "nbconvert_exporter": "python",
   "pygments_lexer": "ipython2",
   "version": "2.7.12"
  }
 },
 "nbformat": 4,
 "nbformat_minor": 1
}
